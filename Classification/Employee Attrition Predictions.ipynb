{
  "cells": [
    {
      "cell_type": "markdown",
      "metadata": {
        "id": "view-in-github",
        "colab_type": "text"
      },
      "source": [
        "<a href=\"https://colab.research.google.com/github/KehEatCode/Projects/blob/main/Employee%20Attrition%20Predictions.ipynb\" target=\"_parent\"><img src=\"https://colab.research.google.com/assets/colab-badge.svg\" alt=\"Open In Colab\"/></a>"
      ]
    },
    {
      "cell_type": "markdown",
      "id": "537713f4",
      "metadata": {
        "id": "537713f4"
      },
      "source": [
        "--------------------------------------------------------------\n",
        "# **Employee Attrition Prediction**\n",
        "--------------------------------------------------------------"
      ]
    },
    {
      "cell_type": "markdown",
      "id": "38be1373",
      "metadata": {
        "id": "38be1373"
      },
      "source": [
        "---------------------\n",
        "## **Context**\n",
        "---------------------\n",
        "\n",
        "McCurr Healthcare Consultancy is an MNC that has thousands of employees spread out across the globe. The company believes in hiring the best talent available and retaining them for as long as possible. A huge amount of resources is spent on retaining existing employees through various initiatives. The Head of People Operations wants to bring down the cost of retaining employees. For this, he proposes limiting the incentives to only those employees who are at risk of attrition. As a recently hired Data Scientist in the People Operations Department, you have been asked to identify patterns in characteristics of employees who leave the organization. Also, you have to use this information to predict if an employee is at risk of attrition. This information will be used to target them with incentives.\n",
        "\n",
        "----------------------\n",
        "## **Objective**  \n",
        "----------------------\n",
        "\n",
        "* To identify the different factors that drive attrition\n",
        "* To build a model to predict if an employee will attrite or not\n",
        "\n",
        "------------------------------------\n",
        "## **Dataset Description**\n",
        "------------------------------------\n",
        "\n",
        "The data contains information on employees' demographic details, work-related metrics, and attrition flag.\n",
        "\n",
        "* **EmployeeNumber** - Unique Employee Identifier\n",
        "* **Attrition** - Did the employee attrite or not?\n",
        "* **Age** - Age of the employee\n",
        "* **BusinessTravel** - Travel commitments for the job\n",
        "* **DailyRate** - Data description not available**\n",
        "* **Department** - Employee's Department\n",
        "* **DistanceFromHome** - Distance from work to home (in KM)\n",
        "* **Education** - Employee's Education. 1-Below College, 2-College, 3-Bachelor, 4-Master, 5-Doctor\n",
        "* **EducationField** - Field of Education\n",
        "* **EnvironmentSatisfaction** - 1-Low, 2-Medium, 3-High, 4-Very High\n",
        "* **Gender** - Employee's gender\n",
        "* **HourlyRate** - Data description not available\n",
        "* **JobInvolvement** - 1-Low, 2-Medium, 3-High, 4-Very High\n",
        "* **JobLevel** - Level of job (1 to 5)\n",
        "* **JobRole** - Job Roles\n",
        "* **JobSatisfaction** - 1-Low, 2-Medium, 3-High, 4-Very High\n",
        "* **MaritalStatus** - Marital Status\n",
        "* **MonthlyIncome** - Monthly Salary\n",
        "* **MonthlyRate** - Data description not available\n",
        "* **NumCompaniesWorked** - Number of companies worked at\n",
        "* **Over18** - Whether the employee is over 18 years of age?\n",
        "* **OverTime** - Whether the employee is doing overtime?\n",
        "* **PercentSalaryHike** - The percentage increase in the salary last year\n",
        "* **PerformanceRating** - 1-Low, 2-Good, 3-Excellent, 4-Outstanding\n",
        "* **RelationshipSatisfaction** - 1-Low, 2-Medium, 3-High, 4-Very High\n",
        "* **StandardHours** - Standard Hours\n",
        "* **StockOptionLevel** - Stock Option Level\n",
        "* **TotalWorkingYears** - Total years worked\n",
        "* **TrainingTimesLastYear** - Number of training attended last year\n",
        "* **WorkLifeBalance** - 1-Low, 2-Good, 3-Excellent, 4-Outstanding\n",
        "* **YearsAtCompany** - Years at Company\n",
        "* **YearsInCurrentRole** - Years in the current role\n",
        "* **YearsSinceLastPromotion** - Years since the last promotion\n",
        "* **YearsWithCurrManager** - Years with the current manager\n"
      ]
    },
    {
      "cell_type": "markdown",
      "id": "47ba338f",
      "metadata": {
        "id": "47ba338f"
      },
      "source": [
        "## **Importing the required libraries and overview of the dataset**"
      ]
    },
    {
      "cell_type": "code",
      "execution_count": 1,
      "id": "331ebd6d",
      "metadata": {
        "id": "331ebd6d"
      },
      "outputs": [],
      "source": [
        "import pandas as pd\n",
        "\n",
        "import numpy as np\n",
        "\n",
        "import matplotlib.pyplot as plt\n",
        "\n",
        "import seaborn as sns\n",
        "\n",
        "# To scale the data using z-score \n",
        "from sklearn.preprocessing import StandardScaler\n",
        "\n",
        "from sklearn.model_selection import train_test_split\n",
        "\n",
        "# Algorithms to use\n",
        "from sklearn.discriminant_analysis import LinearDiscriminantAnalysis\n",
        "\n",
        "from sklearn.discriminant_analysis import QuadraticDiscriminantAnalysis\n",
        "\n",
        "from sklearn.linear_model import LogisticRegression\n",
        "\n",
        "from sklearn.neighbors import KNeighborsClassifier\n",
        "\n",
        "# Metrics to evaluate the model\n",
        "from sklearn.metrics import confusion_matrix, classification_report, precision_recall_curve\n",
        "\n",
        "# For tuning the model\n",
        "from sklearn.model_selection import GridSearchCV\n",
        "\n",
        "# To ignore warnings\n",
        "import warnings\n",
        "warnings.filterwarnings(\"ignore\")"
      ]
    },
    {
      "cell_type": "markdown",
      "id": "578f571d",
      "metadata": {
        "id": "578f571d"
      },
      "source": [
        "### **Loading the dataset**"
      ]
    },
    {
      "cell_type": "code",
      "source": [
        "from google.colab import files\n",
        "upload = files.upload()"
      ],
      "metadata": {
        "colab": {
          "base_uri": "https://localhost:8080/",
          "height": 74
        },
        "id": "0-jSb9u8hu_N",
        "outputId": "578e415b-5f6c-457a-fbe5-c3fae9750bc9"
      },
      "id": "0-jSb9u8hu_N",
      "execution_count": 2,
      "outputs": [
        {
          "output_type": "display_data",
          "data": {
            "text/plain": [
              "<IPython.core.display.HTML object>"
            ],
            "text/html": [
              "\n",
              "     <input type=\"file\" id=\"files-02a2126e-b9ab-4d0a-be07-1e0770b2386c\" name=\"files[]\" multiple disabled\n",
              "        style=\"border:none\" />\n",
              "     <output id=\"result-02a2126e-b9ab-4d0a-be07-1e0770b2386c\">\n",
              "      Upload widget is only available when the cell has been executed in the\n",
              "      current browser session. Please rerun this cell to enable.\n",
              "      </output>\n",
              "      <script>// Copyright 2017 Google LLC\n",
              "//\n",
              "// Licensed under the Apache License, Version 2.0 (the \"License\");\n",
              "// you may not use this file except in compliance with the License.\n",
              "// You may obtain a copy of the License at\n",
              "//\n",
              "//      http://www.apache.org/licenses/LICENSE-2.0\n",
              "//\n",
              "// Unless required by applicable law or agreed to in writing, software\n",
              "// distributed under the License is distributed on an \"AS IS\" BASIS,\n",
              "// WITHOUT WARRANTIES OR CONDITIONS OF ANY KIND, either express or implied.\n",
              "// See the License for the specific language governing permissions and\n",
              "// limitations under the License.\n",
              "\n",
              "/**\n",
              " * @fileoverview Helpers for google.colab Python module.\n",
              " */\n",
              "(function(scope) {\n",
              "function span(text, styleAttributes = {}) {\n",
              "  const element = document.createElement('span');\n",
              "  element.textContent = text;\n",
              "  for (const key of Object.keys(styleAttributes)) {\n",
              "    element.style[key] = styleAttributes[key];\n",
              "  }\n",
              "  return element;\n",
              "}\n",
              "\n",
              "// Max number of bytes which will be uploaded at a time.\n",
              "const MAX_PAYLOAD_SIZE = 100 * 1024;\n",
              "\n",
              "function _uploadFiles(inputId, outputId) {\n",
              "  const steps = uploadFilesStep(inputId, outputId);\n",
              "  const outputElement = document.getElementById(outputId);\n",
              "  // Cache steps on the outputElement to make it available for the next call\n",
              "  // to uploadFilesContinue from Python.\n",
              "  outputElement.steps = steps;\n",
              "\n",
              "  return _uploadFilesContinue(outputId);\n",
              "}\n",
              "\n",
              "// This is roughly an async generator (not supported in the browser yet),\n",
              "// where there are multiple asynchronous steps and the Python side is going\n",
              "// to poll for completion of each step.\n",
              "// This uses a Promise to block the python side on completion of each step,\n",
              "// then passes the result of the previous step as the input to the next step.\n",
              "function _uploadFilesContinue(outputId) {\n",
              "  const outputElement = document.getElementById(outputId);\n",
              "  const steps = outputElement.steps;\n",
              "\n",
              "  const next = steps.next(outputElement.lastPromiseValue);\n",
              "  return Promise.resolve(next.value.promise).then((value) => {\n",
              "    // Cache the last promise value to make it available to the next\n",
              "    // step of the generator.\n",
              "    outputElement.lastPromiseValue = value;\n",
              "    return next.value.response;\n",
              "  });\n",
              "}\n",
              "\n",
              "/**\n",
              " * Generator function which is called between each async step of the upload\n",
              " * process.\n",
              " * @param {string} inputId Element ID of the input file picker element.\n",
              " * @param {string} outputId Element ID of the output display.\n",
              " * @return {!Iterable<!Object>} Iterable of next steps.\n",
              " */\n",
              "function* uploadFilesStep(inputId, outputId) {\n",
              "  const inputElement = document.getElementById(inputId);\n",
              "  inputElement.disabled = false;\n",
              "\n",
              "  const outputElement = document.getElementById(outputId);\n",
              "  outputElement.innerHTML = '';\n",
              "\n",
              "  const pickedPromise = new Promise((resolve) => {\n",
              "    inputElement.addEventListener('change', (e) => {\n",
              "      resolve(e.target.files);\n",
              "    });\n",
              "  });\n",
              "\n",
              "  const cancel = document.createElement('button');\n",
              "  inputElement.parentElement.appendChild(cancel);\n",
              "  cancel.textContent = 'Cancel upload';\n",
              "  const cancelPromise = new Promise((resolve) => {\n",
              "    cancel.onclick = () => {\n",
              "      resolve(null);\n",
              "    };\n",
              "  });\n",
              "\n",
              "  // Wait for the user to pick the files.\n",
              "  const files = yield {\n",
              "    promise: Promise.race([pickedPromise, cancelPromise]),\n",
              "    response: {\n",
              "      action: 'starting',\n",
              "    }\n",
              "  };\n",
              "\n",
              "  cancel.remove();\n",
              "\n",
              "  // Disable the input element since further picks are not allowed.\n",
              "  inputElement.disabled = true;\n",
              "\n",
              "  if (!files) {\n",
              "    return {\n",
              "      response: {\n",
              "        action: 'complete',\n",
              "      }\n",
              "    };\n",
              "  }\n",
              "\n",
              "  for (const file of files) {\n",
              "    const li = document.createElement('li');\n",
              "    li.append(span(file.name, {fontWeight: 'bold'}));\n",
              "    li.append(span(\n",
              "        `(${file.type || 'n/a'}) - ${file.size} bytes, ` +\n",
              "        `last modified: ${\n",
              "            file.lastModifiedDate ? file.lastModifiedDate.toLocaleDateString() :\n",
              "                                    'n/a'} - `));\n",
              "    const percent = span('0% done');\n",
              "    li.appendChild(percent);\n",
              "\n",
              "    outputElement.appendChild(li);\n",
              "\n",
              "    const fileDataPromise = new Promise((resolve) => {\n",
              "      const reader = new FileReader();\n",
              "      reader.onload = (e) => {\n",
              "        resolve(e.target.result);\n",
              "      };\n",
              "      reader.readAsArrayBuffer(file);\n",
              "    });\n",
              "    // Wait for the data to be ready.\n",
              "    let fileData = yield {\n",
              "      promise: fileDataPromise,\n",
              "      response: {\n",
              "        action: 'continue',\n",
              "      }\n",
              "    };\n",
              "\n",
              "    // Use a chunked sending to avoid message size limits. See b/62115660.\n",
              "    let position = 0;\n",
              "    do {\n",
              "      const length = Math.min(fileData.byteLength - position, MAX_PAYLOAD_SIZE);\n",
              "      const chunk = new Uint8Array(fileData, position, length);\n",
              "      position += length;\n",
              "\n",
              "      const base64 = btoa(String.fromCharCode.apply(null, chunk));\n",
              "      yield {\n",
              "        response: {\n",
              "          action: 'append',\n",
              "          file: file.name,\n",
              "          data: base64,\n",
              "        },\n",
              "      };\n",
              "\n",
              "      let percentDone = fileData.byteLength === 0 ?\n",
              "          100 :\n",
              "          Math.round((position / fileData.byteLength) * 100);\n",
              "      percent.textContent = `${percentDone}% done`;\n",
              "\n",
              "    } while (position < fileData.byteLength);\n",
              "  }\n",
              "\n",
              "  // All done.\n",
              "  yield {\n",
              "    response: {\n",
              "      action: 'complete',\n",
              "    }\n",
              "  };\n",
              "}\n",
              "\n",
              "scope.google = scope.google || {};\n",
              "scope.google.colab = scope.google.colab || {};\n",
              "scope.google.colab._files = {\n",
              "  _uploadFiles,\n",
              "  _uploadFilesContinue,\n",
              "};\n",
              "})(self);\n",
              "</script> "
            ]
          },
          "metadata": {}
        },
        {
          "output_type": "stream",
          "name": "stdout",
          "text": [
            "Saving HR_Employee_Attrition_Dataset.xlsx to HR_Employee_Attrition_Dataset.xlsx\n"
          ]
        }
      ]
    },
    {
      "cell_type": "code",
      "execution_count": 3,
      "id": "c63a0b34",
      "metadata": {
        "id": "c63a0b34"
      },
      "outputs": [],
      "source": [
        "# Reading the dataset\n",
        "df = pd.read_excel('HR_Employee_Attrition_Dataset.xlsx')"
      ]
    },
    {
      "cell_type": "code",
      "execution_count": 4,
      "id": "68a91ddd",
      "metadata": {
        "colab": {
          "base_uri": "https://localhost:8080/",
          "height": 369
        },
        "id": "68a91ddd",
        "outputId": "be1a5150-b67a-4235-9f6f-01081e42c401"
      },
      "outputs": [
        {
          "output_type": "execute_result",
          "data": {
            "text/plain": [
              "   EmployeeNumber Attrition  Age     BusinessTravel  DailyRate  \\\n",
              "0               1       Yes   41      Travel_Rarely       1102   \n",
              "1               2        No   49  Travel_Frequently        279   \n",
              "2               3       Yes   37      Travel_Rarely       1373   \n",
              "3               4        No   33  Travel_Frequently       1392   \n",
              "4               5        No   27      Travel_Rarely        591   \n",
              "\n",
              "               Department  DistanceFromHome  Education EducationField  \\\n",
              "0                   Sales                 1          2  Life Sciences   \n",
              "1  Research & Development                 8          1  Life Sciences   \n",
              "2  Research & Development                 2          2          Other   \n",
              "3  Research & Development                 3          4  Life Sciences   \n",
              "4  Research & Development                 2          1        Medical   \n",
              "\n",
              "   EnvironmentSatisfaction  ... RelationshipSatisfaction  StandardHours  \\\n",
              "0                        2  ...                        1             80   \n",
              "1                        3  ...                        4             80   \n",
              "2                        4  ...                        2             80   \n",
              "3                        4  ...                        3             80   \n",
              "4                        1  ...                        4             80   \n",
              "\n",
              "   StockOptionLevel  TotalWorkingYears TrainingTimesLastYear  WorkLifeBalance  \\\n",
              "0                 0                  8                     0                1   \n",
              "1                 1                 10                     3                3   \n",
              "2                 0                  7                     3                3   \n",
              "3                 0                  8                     3                3   \n",
              "4                 1                  6                     3                3   \n",
              "\n",
              "  YearsAtCompany  YearsInCurrentRole  YearsSinceLastPromotion  \\\n",
              "0              6                   4                        0   \n",
              "1             10                   7                        1   \n",
              "2              0                   0                        0   \n",
              "3              8                   7                        3   \n",
              "4              2                   2                        2   \n",
              "\n",
              "   YearsWithCurrManager  \n",
              "0                     5  \n",
              "1                     7  \n",
              "2                     0  \n",
              "3                     0  \n",
              "4                     2  \n",
              "\n",
              "[5 rows x 34 columns]"
            ],
            "text/html": [
              "\n",
              "  <div id=\"df-a25ca90f-b29b-4d61-adf7-4b325e8c5145\">\n",
              "    <div class=\"colab-df-container\">\n",
              "      <div>\n",
              "<style scoped>\n",
              "    .dataframe tbody tr th:only-of-type {\n",
              "        vertical-align: middle;\n",
              "    }\n",
              "\n",
              "    .dataframe tbody tr th {\n",
              "        vertical-align: top;\n",
              "    }\n",
              "\n",
              "    .dataframe thead th {\n",
              "        text-align: right;\n",
              "    }\n",
              "</style>\n",
              "<table border=\"1\" class=\"dataframe\">\n",
              "  <thead>\n",
              "    <tr style=\"text-align: right;\">\n",
              "      <th></th>\n",
              "      <th>EmployeeNumber</th>\n",
              "      <th>Attrition</th>\n",
              "      <th>Age</th>\n",
              "      <th>BusinessTravel</th>\n",
              "      <th>DailyRate</th>\n",
              "      <th>Department</th>\n",
              "      <th>DistanceFromHome</th>\n",
              "      <th>Education</th>\n",
              "      <th>EducationField</th>\n",
              "      <th>EnvironmentSatisfaction</th>\n",
              "      <th>...</th>\n",
              "      <th>RelationshipSatisfaction</th>\n",
              "      <th>StandardHours</th>\n",
              "      <th>StockOptionLevel</th>\n",
              "      <th>TotalWorkingYears</th>\n",
              "      <th>TrainingTimesLastYear</th>\n",
              "      <th>WorkLifeBalance</th>\n",
              "      <th>YearsAtCompany</th>\n",
              "      <th>YearsInCurrentRole</th>\n",
              "      <th>YearsSinceLastPromotion</th>\n",
              "      <th>YearsWithCurrManager</th>\n",
              "    </tr>\n",
              "  </thead>\n",
              "  <tbody>\n",
              "    <tr>\n",
              "      <th>0</th>\n",
              "      <td>1</td>\n",
              "      <td>Yes</td>\n",
              "      <td>41</td>\n",
              "      <td>Travel_Rarely</td>\n",
              "      <td>1102</td>\n",
              "      <td>Sales</td>\n",
              "      <td>1</td>\n",
              "      <td>2</td>\n",
              "      <td>Life Sciences</td>\n",
              "      <td>2</td>\n",
              "      <td>...</td>\n",
              "      <td>1</td>\n",
              "      <td>80</td>\n",
              "      <td>0</td>\n",
              "      <td>8</td>\n",
              "      <td>0</td>\n",
              "      <td>1</td>\n",
              "      <td>6</td>\n",
              "      <td>4</td>\n",
              "      <td>0</td>\n",
              "      <td>5</td>\n",
              "    </tr>\n",
              "    <tr>\n",
              "      <th>1</th>\n",
              "      <td>2</td>\n",
              "      <td>No</td>\n",
              "      <td>49</td>\n",
              "      <td>Travel_Frequently</td>\n",
              "      <td>279</td>\n",
              "      <td>Research &amp; Development</td>\n",
              "      <td>8</td>\n",
              "      <td>1</td>\n",
              "      <td>Life Sciences</td>\n",
              "      <td>3</td>\n",
              "      <td>...</td>\n",
              "      <td>4</td>\n",
              "      <td>80</td>\n",
              "      <td>1</td>\n",
              "      <td>10</td>\n",
              "      <td>3</td>\n",
              "      <td>3</td>\n",
              "      <td>10</td>\n",
              "      <td>7</td>\n",
              "      <td>1</td>\n",
              "      <td>7</td>\n",
              "    </tr>\n",
              "    <tr>\n",
              "      <th>2</th>\n",
              "      <td>3</td>\n",
              "      <td>Yes</td>\n",
              "      <td>37</td>\n",
              "      <td>Travel_Rarely</td>\n",
              "      <td>1373</td>\n",
              "      <td>Research &amp; Development</td>\n",
              "      <td>2</td>\n",
              "      <td>2</td>\n",
              "      <td>Other</td>\n",
              "      <td>4</td>\n",
              "      <td>...</td>\n",
              "      <td>2</td>\n",
              "      <td>80</td>\n",
              "      <td>0</td>\n",
              "      <td>7</td>\n",
              "      <td>3</td>\n",
              "      <td>3</td>\n",
              "      <td>0</td>\n",
              "      <td>0</td>\n",
              "      <td>0</td>\n",
              "      <td>0</td>\n",
              "    </tr>\n",
              "    <tr>\n",
              "      <th>3</th>\n",
              "      <td>4</td>\n",
              "      <td>No</td>\n",
              "      <td>33</td>\n",
              "      <td>Travel_Frequently</td>\n",
              "      <td>1392</td>\n",
              "      <td>Research &amp; Development</td>\n",
              "      <td>3</td>\n",
              "      <td>4</td>\n",
              "      <td>Life Sciences</td>\n",
              "      <td>4</td>\n",
              "      <td>...</td>\n",
              "      <td>3</td>\n",
              "      <td>80</td>\n",
              "      <td>0</td>\n",
              "      <td>8</td>\n",
              "      <td>3</td>\n",
              "      <td>3</td>\n",
              "      <td>8</td>\n",
              "      <td>7</td>\n",
              "      <td>3</td>\n",
              "      <td>0</td>\n",
              "    </tr>\n",
              "    <tr>\n",
              "      <th>4</th>\n",
              "      <td>5</td>\n",
              "      <td>No</td>\n",
              "      <td>27</td>\n",
              "      <td>Travel_Rarely</td>\n",
              "      <td>591</td>\n",
              "      <td>Research &amp; Development</td>\n",
              "      <td>2</td>\n",
              "      <td>1</td>\n",
              "      <td>Medical</td>\n",
              "      <td>1</td>\n",
              "      <td>...</td>\n",
              "      <td>4</td>\n",
              "      <td>80</td>\n",
              "      <td>1</td>\n",
              "      <td>6</td>\n",
              "      <td>3</td>\n",
              "      <td>3</td>\n",
              "      <td>2</td>\n",
              "      <td>2</td>\n",
              "      <td>2</td>\n",
              "      <td>2</td>\n",
              "    </tr>\n",
              "  </tbody>\n",
              "</table>\n",
              "<p>5 rows × 34 columns</p>\n",
              "</div>\n",
              "      <button class=\"colab-df-convert\" onclick=\"convertToInteractive('df-a25ca90f-b29b-4d61-adf7-4b325e8c5145')\"\n",
              "              title=\"Convert this dataframe to an interactive table.\"\n",
              "              style=\"display:none;\">\n",
              "        \n",
              "  <svg xmlns=\"http://www.w3.org/2000/svg\" height=\"24px\"viewBox=\"0 0 24 24\"\n",
              "       width=\"24px\">\n",
              "    <path d=\"M0 0h24v24H0V0z\" fill=\"none\"/>\n",
              "    <path d=\"M18.56 5.44l.94 2.06.94-2.06 2.06-.94-2.06-.94-.94-2.06-.94 2.06-2.06.94zm-11 1L8.5 8.5l.94-2.06 2.06-.94-2.06-.94L8.5 2.5l-.94 2.06-2.06.94zm10 10l.94 2.06.94-2.06 2.06-.94-2.06-.94-.94-2.06-.94 2.06-2.06.94z\"/><path d=\"M17.41 7.96l-1.37-1.37c-.4-.4-.92-.59-1.43-.59-.52 0-1.04.2-1.43.59L10.3 9.45l-7.72 7.72c-.78.78-.78 2.05 0 2.83L4 21.41c.39.39.9.59 1.41.59.51 0 1.02-.2 1.41-.59l7.78-7.78 2.81-2.81c.8-.78.8-2.07 0-2.86zM5.41 20L4 18.59l7.72-7.72 1.47 1.35L5.41 20z\"/>\n",
              "  </svg>\n",
              "      </button>\n",
              "      \n",
              "  <style>\n",
              "    .colab-df-container {\n",
              "      display:flex;\n",
              "      flex-wrap:wrap;\n",
              "      gap: 12px;\n",
              "    }\n",
              "\n",
              "    .colab-df-convert {\n",
              "      background-color: #E8F0FE;\n",
              "      border: none;\n",
              "      border-radius: 50%;\n",
              "      cursor: pointer;\n",
              "      display: none;\n",
              "      fill: #1967D2;\n",
              "      height: 32px;\n",
              "      padding: 0 0 0 0;\n",
              "      width: 32px;\n",
              "    }\n",
              "\n",
              "    .colab-df-convert:hover {\n",
              "      background-color: #E2EBFA;\n",
              "      box-shadow: 0px 1px 2px rgba(60, 64, 67, 0.3), 0px 1px 3px 1px rgba(60, 64, 67, 0.15);\n",
              "      fill: #174EA6;\n",
              "    }\n",
              "\n",
              "    [theme=dark] .colab-df-convert {\n",
              "      background-color: #3B4455;\n",
              "      fill: #D2E3FC;\n",
              "    }\n",
              "\n",
              "    [theme=dark] .colab-df-convert:hover {\n",
              "      background-color: #434B5C;\n",
              "      box-shadow: 0px 1px 3px 1px rgba(0, 0, 0, 0.15);\n",
              "      filter: drop-shadow(0px 1px 2px rgba(0, 0, 0, 0.3));\n",
              "      fill: #FFFFFF;\n",
              "    }\n",
              "  </style>\n",
              "\n",
              "      <script>\n",
              "        const buttonEl =\n",
              "          document.querySelector('#df-a25ca90f-b29b-4d61-adf7-4b325e8c5145 button.colab-df-convert');\n",
              "        buttonEl.style.display =\n",
              "          google.colab.kernel.accessAllowed ? 'block' : 'none';\n",
              "\n",
              "        async function convertToInteractive(key) {\n",
              "          const element = document.querySelector('#df-a25ca90f-b29b-4d61-adf7-4b325e8c5145');\n",
              "          const dataTable =\n",
              "            await google.colab.kernel.invokeFunction('convertToInteractive',\n",
              "                                                     [key], {});\n",
              "          if (!dataTable) return;\n",
              "\n",
              "          const docLinkHtml = 'Like what you see? Visit the ' +\n",
              "            '<a target=\"_blank\" href=https://colab.research.google.com/notebooks/data_table.ipynb>data table notebook</a>'\n",
              "            + ' to learn more about interactive tables.';\n",
              "          element.innerHTML = '';\n",
              "          dataTable['output_type'] = 'display_data';\n",
              "          await google.colab.output.renderOutput(dataTable, element);\n",
              "          const docLink = document.createElement('div');\n",
              "          docLink.innerHTML = docLinkHtml;\n",
              "          element.appendChild(docLink);\n",
              "        }\n",
              "      </script>\n",
              "    </div>\n",
              "  </div>\n",
              "  "
            ]
          },
          "metadata": {},
          "execution_count": 4
        }
      ],
      "source": [
        "df.head()"
      ]
    },
    {
      "cell_type": "markdown",
      "id": "62788dda",
      "metadata": {
        "id": "62788dda"
      },
      "source": [
        "### **Checking the info of the data**"
      ]
    },
    {
      "cell_type": "code",
      "execution_count": 5,
      "id": "70990ff5",
      "metadata": {
        "colab": {
          "base_uri": "https://localhost:8080/"
        },
        "id": "70990ff5",
        "outputId": "3552b55d-0df7-4c83-d069-5e1221c931e7"
      },
      "outputs": [
        {
          "output_type": "stream",
          "name": "stdout",
          "text": [
            "<class 'pandas.core.frame.DataFrame'>\n",
            "RangeIndex: 2940 entries, 0 to 2939\n",
            "Data columns (total 34 columns):\n",
            " #   Column                    Non-Null Count  Dtype \n",
            "---  ------                    --------------  ----- \n",
            " 0   EmployeeNumber            2940 non-null   int64 \n",
            " 1   Attrition                 2940 non-null   object\n",
            " 2   Age                       2940 non-null   int64 \n",
            " 3   BusinessTravel            2940 non-null   object\n",
            " 4   DailyRate                 2940 non-null   int64 \n",
            " 5   Department                2940 non-null   object\n",
            " 6   DistanceFromHome          2940 non-null   int64 \n",
            " 7   Education                 2940 non-null   int64 \n",
            " 8   EducationField            2940 non-null   object\n",
            " 9   EnvironmentSatisfaction   2940 non-null   int64 \n",
            " 10  Gender                    2940 non-null   object\n",
            " 11  HourlyRate                2940 non-null   int64 \n",
            " 12  JobInvolvement            2940 non-null   int64 \n",
            " 13  JobLevel                  2940 non-null   int64 \n",
            " 14  JobRole                   2940 non-null   object\n",
            " 15  JobSatisfaction           2940 non-null   int64 \n",
            " 16  MaritalStatus             2940 non-null   object\n",
            " 17  MonthlyIncome             2940 non-null   int64 \n",
            " 18  MonthlyRate               2940 non-null   int64 \n",
            " 19  NumCompaniesWorked        2940 non-null   int64 \n",
            " 20  Over18                    2940 non-null   object\n",
            " 21  OverTime                  2940 non-null   object\n",
            " 22  PercentSalaryHike         2940 non-null   int64 \n",
            " 23  PerformanceRating         2940 non-null   int64 \n",
            " 24  RelationshipSatisfaction  2940 non-null   int64 \n",
            " 25  StandardHours             2940 non-null   int64 \n",
            " 26  StockOptionLevel          2940 non-null   int64 \n",
            " 27  TotalWorkingYears         2940 non-null   int64 \n",
            " 28  TrainingTimesLastYear     2940 non-null   int64 \n",
            " 29  WorkLifeBalance           2940 non-null   int64 \n",
            " 30  YearsAtCompany            2940 non-null   int64 \n",
            " 31  YearsInCurrentRole        2940 non-null   int64 \n",
            " 32  YearsSinceLastPromotion   2940 non-null   int64 \n",
            " 33  YearsWithCurrManager      2940 non-null   int64 \n",
            "dtypes: int64(25), object(9)\n",
            "memory usage: 781.1+ KB\n"
          ]
        }
      ],
      "source": [
        "df.info()"
      ]
    },
    {
      "cell_type": "markdown",
      "id": "8e55832c",
      "metadata": {
        "id": "8e55832c"
      },
      "source": [
        "**Observations:**\n",
        "\n",
        "- There are **2940 observations and 34 columns** in the data.\n",
        "- All the column have 2940 non-null values, i.e., there are **no missing values** in the data."
      ]
    },
    {
      "cell_type": "markdown",
      "id": "e50ee602",
      "metadata": {
        "id": "e50ee602"
      },
      "source": [
        "**Let's check the number of unique values in each column.** "
      ]
    },
    {
      "cell_type": "code",
      "execution_count": 6,
      "id": "c4b4851e",
      "metadata": {
        "colab": {
          "base_uri": "https://localhost:8080/"
        },
        "id": "c4b4851e",
        "outputId": "088146ed-5f54-4ce8-b8b3-f24a0cea3402"
      },
      "outputs": [
        {
          "output_type": "execute_result",
          "data": {
            "text/plain": [
              "EmployeeNumber              2940\n",
              "Attrition                      2\n",
              "Age                           43\n",
              "BusinessTravel                 3\n",
              "DailyRate                    886\n",
              "Department                     3\n",
              "DistanceFromHome              29\n",
              "Education                      5\n",
              "EducationField                 6\n",
              "EnvironmentSatisfaction        4\n",
              "Gender                         2\n",
              "HourlyRate                    71\n",
              "JobInvolvement                 4\n",
              "JobLevel                       5\n",
              "JobRole                        9\n",
              "JobSatisfaction                4\n",
              "MaritalStatus                  3\n",
              "MonthlyIncome               1349\n",
              "MonthlyRate                 1427\n",
              "NumCompaniesWorked            10\n",
              "Over18                         1\n",
              "OverTime                       2\n",
              "PercentSalaryHike             15\n",
              "PerformanceRating              2\n",
              "RelationshipSatisfaction       4\n",
              "StandardHours                  1\n",
              "StockOptionLevel               4\n",
              "TotalWorkingYears             40\n",
              "TrainingTimesLastYear          7\n",
              "WorkLifeBalance                4\n",
              "YearsAtCompany                37\n",
              "YearsInCurrentRole            19\n",
              "YearsSinceLastPromotion       16\n",
              "YearsWithCurrManager          18\n",
              "dtype: int64"
            ]
          },
          "metadata": {},
          "execution_count": 6
        }
      ],
      "source": [
        "# Checking the number of unique values in each column\n",
        "df.nunique()"
      ]
    },
    {
      "cell_type": "markdown",
      "id": "83693407",
      "metadata": {
        "id": "83693407"
      },
      "source": [
        "**Observations:**\n",
        "\n",
        "- Employee number is an identifier which is unique for each employee. We can drop this column as it would not add any value to our analysis.\n",
        "- Over18 and StandardHours have only 1 unique value. We can drop these columns as they will not add any value to our analysis.\n",
        "- On the basis of number of unique values in each column and the data description, we can identify the continuous and categorical columns in the data.\n",
        "\n",
        "Let's drop the columns mentioned above and define lists for numerical and categorical columns to explore them separately."
      ]
    },
    {
      "cell_type": "code",
      "execution_count": 7,
      "id": "0e4a68b1",
      "metadata": {
        "id": "0e4a68b1"
      },
      "outputs": [],
      "source": [
        "# Dropping the columns \n",
        "df = df.drop(['EmployeeNumber', 'Over18', 'StandardHours'], axis = 1)"
      ]
    },
    {
      "cell_type": "code",
      "execution_count": 8,
      "id": "a177b88f",
      "metadata": {
        "id": "a177b88f"
      },
      "outputs": [],
      "source": [
        "# Creating numerical columns\n",
        "num_cols = ['DailyRate', 'Age', 'DistanceFromHome', 'MonthlyIncome', 'MonthlyRate', 'PercentSalaryHike', 'TotalWorkingYears',\n",
        "          'YearsAtCompany', 'NumCompaniesWorked', 'HourlyRate',\n",
        "          'YearsInCurrentRole', 'YearsSinceLastPromotion', 'YearsWithCurrManager', 'TrainingTimesLastYear']\n",
        "\n",
        "# Creating categorical variables \n",
        "cat_cols = ['Attrition', 'OverTime', 'BusinessTravel', 'Department', 'Education', 'EducationField', 'JobSatisfaction', \n",
        "            'EnvironmentSatisfaction', 'WorkLifeBalance', 'StockOptionLevel', 'Gender', 'PerformanceRating', 'JobInvolvement',\n",
        "            'JobLevel', 'JobRole', 'MaritalStatus', 'RelationshipSatisfaction']"
      ]
    },
    {
      "cell_type": "markdown",
      "id": "0b3dd509",
      "metadata": {
        "id": "0b3dd509"
      },
      "source": [
        "## Exploratory Data Analysis"
      ]
    },
    {
      "cell_type": "markdown",
      "id": "a43675d1",
      "metadata": {
        "id": "a43675d1"
      },
      "source": [
        "### **Univariate analysis of numerical columns**"
      ]
    },
    {
      "cell_type": "code",
      "execution_count": 9,
      "id": "a8dbde76",
      "metadata": {
        "colab": {
          "base_uri": "https://localhost:8080/",
          "height": 488
        },
        "id": "a8dbde76",
        "outputId": "ccbf335b-05e7-4cce-f054-185544c12aa4",
        "scrolled": false
      },
      "outputs": [
        {
          "output_type": "execute_result",
          "data": {
            "text/plain": [
              "                          count          mean          std     min     25%  \\\n",
              "DailyRate                2940.0    802.485714   403.440447   102.0   465.0   \n",
              "Age                      2940.0     36.923810     9.133819    18.0    30.0   \n",
              "DistanceFromHome         2940.0      9.192517     8.105485     1.0     2.0   \n",
              "MonthlyIncome            2940.0   6502.931293  4707.155770  1009.0  2911.0   \n",
              "MonthlyRate              2940.0  14313.103401  7116.575021  2094.0  8045.0   \n",
              "PercentSalaryHike        2940.0     15.209524     3.659315    11.0    12.0   \n",
              "TotalWorkingYears        2940.0     11.279592     7.779458     0.0     6.0   \n",
              "YearsAtCompany           2940.0      7.008163     6.125483     0.0     3.0   \n",
              "NumCompaniesWorked       2940.0      2.693197     2.497584     0.0     1.0   \n",
              "HourlyRate               2940.0     65.891156    20.325969    30.0    48.0   \n",
              "YearsInCurrentRole       2940.0      4.229252     3.622521     0.0     2.0   \n",
              "YearsSinceLastPromotion  2940.0      2.187755     3.221882     0.0     0.0   \n",
              "YearsWithCurrManager     2940.0      4.123129     3.567529     0.0     2.0   \n",
              "TrainingTimesLastYear    2940.0      2.799320     1.289051     0.0     2.0   \n",
              "\n",
              "                             50%      75%      max  \n",
              "DailyRate                  802.0   1157.0   1499.0  \n",
              "Age                         36.0     43.0     60.0  \n",
              "DistanceFromHome             7.0     14.0     29.0  \n",
              "MonthlyIncome             4919.0   8380.0  19999.0  \n",
              "MonthlyRate              14235.5  20462.0  26999.0  \n",
              "PercentSalaryHike           14.0     18.0     25.0  \n",
              "TotalWorkingYears           10.0     15.0     40.0  \n",
              "YearsAtCompany               5.0      9.0     40.0  \n",
              "NumCompaniesWorked           2.0      4.0      9.0  \n",
              "HourlyRate                  66.0     84.0    100.0  \n",
              "YearsInCurrentRole           3.0      7.0     18.0  \n",
              "YearsSinceLastPromotion      1.0      3.0     15.0  \n",
              "YearsWithCurrManager         3.0      7.0     17.0  \n",
              "TrainingTimesLastYear        3.0      3.0      6.0  "
            ],
            "text/html": [
              "\n",
              "  <div id=\"df-975a579f-7a92-4751-acd5-cbb3a82c7f31\">\n",
              "    <div class=\"colab-df-container\">\n",
              "      <div>\n",
              "<style scoped>\n",
              "    .dataframe tbody tr th:only-of-type {\n",
              "        vertical-align: middle;\n",
              "    }\n",
              "\n",
              "    .dataframe tbody tr th {\n",
              "        vertical-align: top;\n",
              "    }\n",
              "\n",
              "    .dataframe thead th {\n",
              "        text-align: right;\n",
              "    }\n",
              "</style>\n",
              "<table border=\"1\" class=\"dataframe\">\n",
              "  <thead>\n",
              "    <tr style=\"text-align: right;\">\n",
              "      <th></th>\n",
              "      <th>count</th>\n",
              "      <th>mean</th>\n",
              "      <th>std</th>\n",
              "      <th>min</th>\n",
              "      <th>25%</th>\n",
              "      <th>50%</th>\n",
              "      <th>75%</th>\n",
              "      <th>max</th>\n",
              "    </tr>\n",
              "  </thead>\n",
              "  <tbody>\n",
              "    <tr>\n",
              "      <th>DailyRate</th>\n",
              "      <td>2940.0</td>\n",
              "      <td>802.485714</td>\n",
              "      <td>403.440447</td>\n",
              "      <td>102.0</td>\n",
              "      <td>465.0</td>\n",
              "      <td>802.0</td>\n",
              "      <td>1157.0</td>\n",
              "      <td>1499.0</td>\n",
              "    </tr>\n",
              "    <tr>\n",
              "      <th>Age</th>\n",
              "      <td>2940.0</td>\n",
              "      <td>36.923810</td>\n",
              "      <td>9.133819</td>\n",
              "      <td>18.0</td>\n",
              "      <td>30.0</td>\n",
              "      <td>36.0</td>\n",
              "      <td>43.0</td>\n",
              "      <td>60.0</td>\n",
              "    </tr>\n",
              "    <tr>\n",
              "      <th>DistanceFromHome</th>\n",
              "      <td>2940.0</td>\n",
              "      <td>9.192517</td>\n",
              "      <td>8.105485</td>\n",
              "      <td>1.0</td>\n",
              "      <td>2.0</td>\n",
              "      <td>7.0</td>\n",
              "      <td>14.0</td>\n",
              "      <td>29.0</td>\n",
              "    </tr>\n",
              "    <tr>\n",
              "      <th>MonthlyIncome</th>\n",
              "      <td>2940.0</td>\n",
              "      <td>6502.931293</td>\n",
              "      <td>4707.155770</td>\n",
              "      <td>1009.0</td>\n",
              "      <td>2911.0</td>\n",
              "      <td>4919.0</td>\n",
              "      <td>8380.0</td>\n",
              "      <td>19999.0</td>\n",
              "    </tr>\n",
              "    <tr>\n",
              "      <th>MonthlyRate</th>\n",
              "      <td>2940.0</td>\n",
              "      <td>14313.103401</td>\n",
              "      <td>7116.575021</td>\n",
              "      <td>2094.0</td>\n",
              "      <td>8045.0</td>\n",
              "      <td>14235.5</td>\n",
              "      <td>20462.0</td>\n",
              "      <td>26999.0</td>\n",
              "    </tr>\n",
              "    <tr>\n",
              "      <th>PercentSalaryHike</th>\n",
              "      <td>2940.0</td>\n",
              "      <td>15.209524</td>\n",
              "      <td>3.659315</td>\n",
              "      <td>11.0</td>\n",
              "      <td>12.0</td>\n",
              "      <td>14.0</td>\n",
              "      <td>18.0</td>\n",
              "      <td>25.0</td>\n",
              "    </tr>\n",
              "    <tr>\n",
              "      <th>TotalWorkingYears</th>\n",
              "      <td>2940.0</td>\n",
              "      <td>11.279592</td>\n",
              "      <td>7.779458</td>\n",
              "      <td>0.0</td>\n",
              "      <td>6.0</td>\n",
              "      <td>10.0</td>\n",
              "      <td>15.0</td>\n",
              "      <td>40.0</td>\n",
              "    </tr>\n",
              "    <tr>\n",
              "      <th>YearsAtCompany</th>\n",
              "      <td>2940.0</td>\n",
              "      <td>7.008163</td>\n",
              "      <td>6.125483</td>\n",
              "      <td>0.0</td>\n",
              "      <td>3.0</td>\n",
              "      <td>5.0</td>\n",
              "      <td>9.0</td>\n",
              "      <td>40.0</td>\n",
              "    </tr>\n",
              "    <tr>\n",
              "      <th>NumCompaniesWorked</th>\n",
              "      <td>2940.0</td>\n",
              "      <td>2.693197</td>\n",
              "      <td>2.497584</td>\n",
              "      <td>0.0</td>\n",
              "      <td>1.0</td>\n",
              "      <td>2.0</td>\n",
              "      <td>4.0</td>\n",
              "      <td>9.0</td>\n",
              "    </tr>\n",
              "    <tr>\n",
              "      <th>HourlyRate</th>\n",
              "      <td>2940.0</td>\n",
              "      <td>65.891156</td>\n",
              "      <td>20.325969</td>\n",
              "      <td>30.0</td>\n",
              "      <td>48.0</td>\n",
              "      <td>66.0</td>\n",
              "      <td>84.0</td>\n",
              "      <td>100.0</td>\n",
              "    </tr>\n",
              "    <tr>\n",
              "      <th>YearsInCurrentRole</th>\n",
              "      <td>2940.0</td>\n",
              "      <td>4.229252</td>\n",
              "      <td>3.622521</td>\n",
              "      <td>0.0</td>\n",
              "      <td>2.0</td>\n",
              "      <td>3.0</td>\n",
              "      <td>7.0</td>\n",
              "      <td>18.0</td>\n",
              "    </tr>\n",
              "    <tr>\n",
              "      <th>YearsSinceLastPromotion</th>\n",
              "      <td>2940.0</td>\n",
              "      <td>2.187755</td>\n",
              "      <td>3.221882</td>\n",
              "      <td>0.0</td>\n",
              "      <td>0.0</td>\n",
              "      <td>1.0</td>\n",
              "      <td>3.0</td>\n",
              "      <td>15.0</td>\n",
              "    </tr>\n",
              "    <tr>\n",
              "      <th>YearsWithCurrManager</th>\n",
              "      <td>2940.0</td>\n",
              "      <td>4.123129</td>\n",
              "      <td>3.567529</td>\n",
              "      <td>0.0</td>\n",
              "      <td>2.0</td>\n",
              "      <td>3.0</td>\n",
              "      <td>7.0</td>\n",
              "      <td>17.0</td>\n",
              "    </tr>\n",
              "    <tr>\n",
              "      <th>TrainingTimesLastYear</th>\n",
              "      <td>2940.0</td>\n",
              "      <td>2.799320</td>\n",
              "      <td>1.289051</td>\n",
              "      <td>0.0</td>\n",
              "      <td>2.0</td>\n",
              "      <td>3.0</td>\n",
              "      <td>3.0</td>\n",
              "      <td>6.0</td>\n",
              "    </tr>\n",
              "  </tbody>\n",
              "</table>\n",
              "</div>\n",
              "      <button class=\"colab-df-convert\" onclick=\"convertToInteractive('df-975a579f-7a92-4751-acd5-cbb3a82c7f31')\"\n",
              "              title=\"Convert this dataframe to an interactive table.\"\n",
              "              style=\"display:none;\">\n",
              "        \n",
              "  <svg xmlns=\"http://www.w3.org/2000/svg\" height=\"24px\"viewBox=\"0 0 24 24\"\n",
              "       width=\"24px\">\n",
              "    <path d=\"M0 0h24v24H0V0z\" fill=\"none\"/>\n",
              "    <path d=\"M18.56 5.44l.94 2.06.94-2.06 2.06-.94-2.06-.94-.94-2.06-.94 2.06-2.06.94zm-11 1L8.5 8.5l.94-2.06 2.06-.94-2.06-.94L8.5 2.5l-.94 2.06-2.06.94zm10 10l.94 2.06.94-2.06 2.06-.94-2.06-.94-.94-2.06-.94 2.06-2.06.94z\"/><path d=\"M17.41 7.96l-1.37-1.37c-.4-.4-.92-.59-1.43-.59-.52 0-1.04.2-1.43.59L10.3 9.45l-7.72 7.72c-.78.78-.78 2.05 0 2.83L4 21.41c.39.39.9.59 1.41.59.51 0 1.02-.2 1.41-.59l7.78-7.78 2.81-2.81c.8-.78.8-2.07 0-2.86zM5.41 20L4 18.59l7.72-7.72 1.47 1.35L5.41 20z\"/>\n",
              "  </svg>\n",
              "      </button>\n",
              "      \n",
              "  <style>\n",
              "    .colab-df-container {\n",
              "      display:flex;\n",
              "      flex-wrap:wrap;\n",
              "      gap: 12px;\n",
              "    }\n",
              "\n",
              "    .colab-df-convert {\n",
              "      background-color: #E8F0FE;\n",
              "      border: none;\n",
              "      border-radius: 50%;\n",
              "      cursor: pointer;\n",
              "      display: none;\n",
              "      fill: #1967D2;\n",
              "      height: 32px;\n",
              "      padding: 0 0 0 0;\n",
              "      width: 32px;\n",
              "    }\n",
              "\n",
              "    .colab-df-convert:hover {\n",
              "      background-color: #E2EBFA;\n",
              "      box-shadow: 0px 1px 2px rgba(60, 64, 67, 0.3), 0px 1px 3px 1px rgba(60, 64, 67, 0.15);\n",
              "      fill: #174EA6;\n",
              "    }\n",
              "\n",
              "    [theme=dark] .colab-df-convert {\n",
              "      background-color: #3B4455;\n",
              "      fill: #D2E3FC;\n",
              "    }\n",
              "\n",
              "    [theme=dark] .colab-df-convert:hover {\n",
              "      background-color: #434B5C;\n",
              "      box-shadow: 0px 1px 3px 1px rgba(0, 0, 0, 0.15);\n",
              "      filter: drop-shadow(0px 1px 2px rgba(0, 0, 0, 0.3));\n",
              "      fill: #FFFFFF;\n",
              "    }\n",
              "  </style>\n",
              "\n",
              "      <script>\n",
              "        const buttonEl =\n",
              "          document.querySelector('#df-975a579f-7a92-4751-acd5-cbb3a82c7f31 button.colab-df-convert');\n",
              "        buttonEl.style.display =\n",
              "          google.colab.kernel.accessAllowed ? 'block' : 'none';\n",
              "\n",
              "        async function convertToInteractive(key) {\n",
              "          const element = document.querySelector('#df-975a579f-7a92-4751-acd5-cbb3a82c7f31');\n",
              "          const dataTable =\n",
              "            await google.colab.kernel.invokeFunction('convertToInteractive',\n",
              "                                                     [key], {});\n",
              "          if (!dataTable) return;\n",
              "\n",
              "          const docLinkHtml = 'Like what you see? Visit the ' +\n",
              "            '<a target=\"_blank\" href=https://colab.research.google.com/notebooks/data_table.ipynb>data table notebook</a>'\n",
              "            + ' to learn more about interactive tables.';\n",
              "          element.innerHTML = '';\n",
              "          dataTable['output_type'] = 'display_data';\n",
              "          await google.colab.output.renderOutput(dataTable, element);\n",
              "          const docLink = document.createElement('div');\n",
              "          docLink.innerHTML = docLinkHtml;\n",
              "          element.appendChild(docLink);\n",
              "        }\n",
              "      </script>\n",
              "    </div>\n",
              "  </div>\n",
              "  "
            ]
          },
          "metadata": {},
          "execution_count": 9
        }
      ],
      "source": [
        "# Checking summary statistics\n",
        "df[num_cols].describe().T"
      ]
    },
    {
      "cell_type": "markdown",
      "id": "bc90f110",
      "metadata": {
        "id": "bc90f110"
      },
      "source": [
        "**Observations:**\n",
        "\n",
        "- **Average employee age is around 37 years**. It has a high range, from 18 years to 60, indicating good age diversity in the organization.\n",
        "- **At least 50% of the employees live within a 7 KM radius** of the organization. However, there are some extreme values, given that the maximum value is 29 km.\n",
        "- **The average monthly income of an employee is USD 6500.** It has a high range of values from 1K-20K USD, which is to be expected for any organization's income distribution. There is a big difference between the 3rd quartile value (around USD 8400) and the maximum value (nearly USD 20000), showing that the **company's highest earners have a disproportionately large income** in comparison to the rest of the employees. Again, this is fairly common in most organizations.\n",
        "- **The average salary hike of an employee is around 15%.** At least 50% of employees got a salary hike of 14% or less, with the maximum salary hike being 25%.\n",
        "- The average number of years an employee is associated with the company is 7. \n",
        "- **On average, the number of years since an employee got a promotion is ~2.19**. The majority of employees have been promoted since the last year."
      ]
    },
    {
      "cell_type": "markdown",
      "id": "8487b044",
      "metadata": {
        "id": "8487b044"
      },
      "source": [
        "Let's explore these variables in some more depth by observing their distributions."
      ]
    },
    {
      "cell_type": "code",
      "execution_count": 10,
      "id": "7a236dbc",
      "metadata": {
        "colab": {
          "base_uri": "https://localhost:8080/",
          "height": 825
        },
        "id": "7a236dbc",
        "outputId": "dcbbfe45-f533-4a94-9326-ae17fcd292a9"
      },
      "outputs": [
        {
          "output_type": "display_data",
          "data": {
            "text/plain": [
              "<Figure size 1008x1008 with 16 Axes>"
            ],
            "image/png": "[encoded data removed]"
          },
          "metadata": {
            "needs_background": "light"
          }
        }
      ],
      "source": [
        "# Creating histograms\n",
        "df[num_cols].hist(figsize = (14, 14))\n",
        "\n",
        "plt.show()"
      ]
    },
    {
      "cell_type": "markdown",
      "id": "133f6134",
      "metadata": {
        "id": "133f6134"
      },
      "source": [
        "**Observations:**\n",
        "\n",
        "- **The age distribution is close to a normal distribution**, with the majority of employees between the ages of 25 and 50.\n",
        "- **DistanceFromHome also has a right-skewed distribution**, meaning most employees live close to work but there are a few that live further away.\n",
        "- **MonthlyIncome and TotalWorkingYears are skewed to the right**, indicating that the majority of workers are in entry / mid-level positions in the organization.\n",
        "- **The percentage salary hike is skewed to the right**, which means employees are mostly getting lower percentage salary increaseS.\n",
        "- **The YearsAtCompany variable distribution shows a good proportion of workers with 10+ years**, indicating a significant number of loyal employees at the organization. \n",
        "- **The YearsInCurrentRole distribution has three peaks at 0, 2, and 7.** There are a few employees that have even stayed in the same role for 15 years and more.\n",
        "- **The YearsSinceLastPromotion variable distribution indicates that some employees have not received a promotion in 10-15 years and are still working in the organization.** These employees are assumed to be high work-experience employees in upper-management roles, such as co-founders, C-suite employees, etc.\n",
        "- The distributions of DailyRate, HourlyRate, and MonthlyRate appear to be uniform and do not provide much information. It could be that the daily rate refers to the income earned per extra day worked while the hourly rate could refer to the same concept applied for extra hours worked per day. Since these rates tend to be broadly similar for multiple employees in the same department, that explains the uniform distribution they show."
      ]
    },
    {
      "cell_type": "markdown",
      "id": "4a32b322",
      "metadata": {
        "id": "4a32b322"
      },
      "source": [
        "### **Univariate analysis for categorical variables**"
      ]
    },
    {
      "cell_type": "code",
      "execution_count": 11,
      "id": "03df3bab",
      "metadata": {
        "colab": {
          "base_uri": "https://localhost:8080/"
        },
        "id": "03df3bab",
        "outputId": "95560e03-aa3e-4253-a526-b1c3e8b85fec"
      },
      "outputs": [
        {
          "output_type": "stream",
          "name": "stdout",
          "text": [
            "No     0.838776\n",
            "Yes    0.161224\n",
            "Name: Attrition, dtype: float64\n",
            "****************************************\n",
            "No     0.717007\n",
            "Yes    0.282993\n",
            "Name: OverTime, dtype: float64\n",
            "****************************************\n",
            "Travel_Rarely        0.709524\n",
            "Travel_Frequently    0.188435\n",
            "Non-Travel           0.102041\n",
            "Name: BusinessTravel, dtype: float64\n",
            "****************************************\n",
            "Research & Development    0.653741\n",
            "Sales                     0.303401\n",
            "Human Resources           0.042857\n",
            "Name: Department, dtype: float64\n",
            "****************************************\n",
            "3    0.389116\n",
            "4    0.270748\n",
            "2    0.191837\n",
            "1    0.115646\n",
            "5    0.032653\n",
            "Name: Education, dtype: float64\n",
            "****************************************\n",
            "Life Sciences       0.412245\n",
            "Medical             0.315646\n",
            "Marketing           0.108163\n",
            "Technical Degree    0.089796\n",
            "Other               0.055782\n",
            "Human Resources     0.018367\n",
            "Name: EducationField, dtype: float64\n",
            "****************************************\n",
            "4    0.312245\n",
            "3    0.300680\n",
            "1    0.196599\n",
            "2    0.190476\n",
            "Name: JobSatisfaction, dtype: float64\n",
            "****************************************\n",
            "3    0.308163\n",
            "4    0.303401\n",
            "2    0.195238\n",
            "1    0.193197\n",
            "Name: EnvironmentSatisfaction, dtype: float64\n",
            "****************************************\n",
            "3    0.607483\n",
            "2    0.234014\n",
            "4    0.104082\n",
            "1    0.054422\n",
            "Name: WorkLifeBalance, dtype: float64\n",
            "****************************************\n",
            "0    0.429252\n",
            "1    0.405442\n",
            "2    0.107483\n",
            "3    0.057823\n",
            "Name: StockOptionLevel, dtype: float64\n",
            "****************************************\n",
            "Male      0.6\n",
            "Female    0.4\n",
            "Name: Gender, dtype: float64\n",
            "****************************************\n",
            "3    0.846259\n",
            "4    0.153741\n",
            "Name: PerformanceRating, dtype: float64\n",
            "****************************************\n",
            "3    0.590476\n",
            "2    0.255102\n",
            "4    0.097959\n",
            "1    0.056463\n",
            "Name: JobInvolvement, dtype: float64\n",
            "****************************************\n",
            "1    0.369388\n",
            "2    0.363265\n",
            "3    0.148299\n",
            "4    0.072109\n",
            "5    0.046939\n",
            "Name: JobLevel, dtype: float64\n",
            "****************************************\n",
            "Sales Executive              0.221769\n",
            "Research Scientist           0.198639\n",
            "Laboratory Technician        0.176190\n",
            "Manufacturing Director       0.098639\n",
            "Healthcare Representative    0.089116\n",
            "Manager                      0.069388\n",
            "Sales Representative         0.056463\n",
            "Research Director            0.054422\n",
            "Human Resources              0.035374\n",
            "Name: JobRole, dtype: float64\n",
            "****************************************\n",
            "Married     0.457823\n",
            "Single      0.319728\n",
            "Divorced    0.222449\n",
            "Name: MaritalStatus, dtype: float64\n",
            "****************************************\n",
            "3    0.312245\n",
            "4    0.293878\n",
            "2    0.206122\n",
            "1    0.187755\n",
            "Name: RelationshipSatisfaction, dtype: float64\n",
            "****************************************\n"
          ]
        }
      ],
      "source": [
        "for i in cat_cols:\n",
        "    print(df[i].value_counts(normalize = True))  # cat_cols is categorical column\n",
        "    \n",
        "    print('*' * 40)"
      ]
    },
    {
      "cell_type": "markdown",
      "id": "23a61160",
      "metadata": {
        "id": "23a61160"
      },
      "source": [
        "**Observations:**\n",
        "\n",
        "- **The employee attrition rate is 16%.**\n",
        "- **Around 28% of the employees are working overtime.** This number appears to be on the higher side and might indicate a stressed employee's work-life.\n",
        "- 71% of the employees have traveled rarely, while around 19% have to travel frequently.\n",
        "- Around 73% of the employees come from an educational background in the Life Sciences and Medical fields. \n",
        "- Over 65% of employees work in the Research & Development department of the organization.\n",
        "- **Nearly 40% of the employees have low (1) or medium (2) job satisfaction** and environment satisfaction in the organization, indicating that the morale of the company appears to be somewhat low.\n",
        "- **Over 30% of the employees show low (1) to medium (2) job involvement.** \n",
        "- Over 80% of the employees either have none or very less stock options. \n",
        "- **In terms of performance ratings, none of the employees have been rated lower than 3 (excellent).** About 85% of employees have a performance rating equal to 3 (excellent), while the remaining have a rating of 4 (outstanding). This could either mean that the majority of employees are top performers, or the more likely scenario is that the organization could be highly lenient with its performance appraisal process."
      ]
    },
    {
      "cell_type": "markdown",
      "id": "be2df4e2",
      "metadata": {
        "id": "be2df4e2"
      },
      "source": [
        "### **Bivariate and Multivariate analysis**"
      ]
    },
    {
      "cell_type": "markdown",
      "id": "1bd92b2b",
      "metadata": {
        "id": "1bd92b2b"
      },
      "source": [
        "**We have analyzed different categorical and numerical variables. Let's now check how does attrition rate is related with other categorical variables**"
      ]
    },
    {
      "cell_type": "code",
      "execution_count": 12,
      "id": "e1d688e5",
      "metadata": {
        "colab": {
          "base_uri": "https://localhost:8080/",
          "height": 1000
        },
        "id": "e1d688e5",
        "outputId": "07ca98fa-75c8-49bd-89ff-87c4f85ff6bf",
        "scrolled": false
      },
      "outputs": [
        {
          "output_type": "display_data",
          "data": {
            "text/plain": [
              "<Figure size 576x288 with 1 Axes>"
            ],
            "image/png": "[encoded data removed]"
          },
          "metadata": {
            "needs_background": "light"
          }
        },
        {
          "output_type": "display_data",
          "data": {
            "text/plain": [
              "<Figure size 576x288 with 1 Axes>"
            ],
            "image/png": "[encoded data removed]"
          },
          "metadata": {
            "needs_background": "light"
          }
        },
        {
          "output_type": "display_data",
          "data": {
            "text/plain": [
              "<Figure size 576x288 with 1 Axes>"
            ],
            "image/png": "[encoded data removed]"
          },
          "metadata": {
            "needs_background": "light"
          }
        },
        {
          "output_type": "display_data",
          "data": {
            "text/plain": [
              "<Figure size 576x288 with 1 Axes>"
            ],
            "image/png": "[encoded data removed]"
          },
          "metadata": {
            "needs_background": "light"
          }
        },
        {
          "output_type": "display_data",
          "data": {
            "text/plain": [
              "<Figure size 576x288 with 1 Axes>"
            ],
            "image/png": "[encoded data removed]"
          },
          "metadata": {
            "needs_background": "light"
          }
        },
        {
          "output_type": "display_data",
          "data": {
            "text/plain": [
              "<Figure size 576x288 with 1 Axes>"
            ],
            "image/png": "[encoded data removed]"
          },
          "metadata": {
            "needs_background": "light"
          }
        },
        {
          "output_type": "display_data",
          "data": {
            "text/plain": [
              "<Figure size 576x288 with 1 Axes>"
            ],
            "image/png": "[encoded data removed]"
          },
          "metadata": {
            "needs_background": "light"
          }
        },
        {
          "output_type": "display_data",
          "data": {
            "text/plain": [
              "<Figure size 576x288 with 1 Axes>"
            ],
            "image/png": "[encoded data removed]"
          },
          "metadata": {
            "needs_background": "light"
          }
        },
        {
          "output_type": "display_data",
          "data": {
            "text/plain": [
              "<Figure size 576x288 with 1 Axes>"
            ],
            "image/png": "[encoded data removed]"
          },
          "metadata": {
            "needs_background": "light"
          }
        },
        {
          "output_type": "display_data",
          "data": {
            "text/plain": [
              "<Figure size 576x288 with 1 Axes>"
            ],
            "image/png": "[encoded data removed]"
          },
          "metadata": {
            "needs_background": "light"
          }
        },
        {
          "output_type": "display_data",
          "data": {
            "text/plain": [
              "<Figure size 576x288 with 1 Axes>"
            ],
            "image/png": "[encoded data removed]"
          },
          "metadata": {
            "needs_background": "light"
          }
        },
        {
          "output_type": "display_data",
          "data": {
            "text/plain": [
              "<Figure size 576x288 with 1 Axes>"
            ],
            "image/png": "[encoded data removed]"
          },
          "metadata": {
            "needs_background": "light"
          }
        },
        {
          "output_type": "display_data",
          "data": {
            "text/plain": [
              "<Figure size 576x288 with 1 Axes>"
            ],
            "image/png": "[encoded data removed]"
          },
          "metadata": {
            "needs_background": "light"
          }
        },
        {
          "output_type": "display_data",
          "data": {
            "text/plain": [
              "<Figure size 576x288 with 1 Axes>"
            ],
            "image/png": "[encoded data removed]"
          },
          "metadata": {
            "needs_background": "light"
          }
        },
        {
          "output_type": "display_data",
          "data": {
            "text/plain": [
              "<Figure size 576x288 with 1 Axes>"
            ],
            "image/png": "[encoded data removed]"
          },
          "metadata": {
            "needs_background": "light"
          }
        },
        {
          "output_type": "display_data",
          "data": {
            "text/plain": [
              "<Figure size 576x288 with 1 Axes>"
            ],
            "image/png": "[encoded data removed]"
          },
          "metadata": {
            "needs_background": "light"
          }
        }
      ],
      "source": [
        "for i in cat_cols:\n",
        "    if i != 'Attrition':\n",
        "        (pd.crosstab(df[i], df['Attrition'], normalize = 'index')*100).plot(kind = 'bar', figsize = (8, 4), stacked = True) # crosstab(row, column, normalize='index'-->percentage)\n",
        "        plt.ylabel('Percentage Attrition %')"
      ]
    },
    {
      "cell_type": "markdown",
      "id": "7397ceb8",
      "metadata": {
        "id": "7397ceb8"
      },
      "source": [
        "**Observations:**\n",
        "    \n",
        "- **Employees working overtime have more than a 30% chance of attrition**, which is very high compared to the 10% chance of attrition for employees who do not work extra hours.\n",
        "- As seen earlier, the majority of employees work for the R&D department. The chance of attrition there is ~15%\n",
        "- **Employees working as sales representatives have an attrition rate of around 40%** while HRs and Technicians have an attrition rate of around 25%. The sales and HR departments have higher attrition rates in comparison to an academic department like Research & Development, an observation that makes intuitive sense keeping in mind the differences in those job profiles. The high-pressure and incentive-based nature of Sales and Marketing roles may be contributing to their higher attrition rates.\n",
        "- **The lower the employee's job involvement, the higher their attrition chances appear to be, with 1-rated JobInvolvement employees attriting at 35%.** The reason for this could be that employees with lower job involvement might feel left out or less valued and have already started to explore new options, leading to a higher attrition rate.\n",
        "- **Employees at a lower job level also attrite more,** with 1-rated JobLevel employees showing a nearly 25% chance of attrition. These may be young employees who tend to explore more options in the initial stages of their careers. \n",
        "- **A low work-life balance rating leads employees to attrite**; ~30% of those in the 1-rated category show attrition."
      ]
    },
    {
      "cell_type": "markdown",
      "id": "823e1e01",
      "metadata": {
        "id": "823e1e01"
      },
      "source": [
        "**Let's check the relationship between attrition and Numerical variables**"
      ]
    },
    {
      "cell_type": "code",
      "execution_count": 13,
      "id": "9e4d714a",
      "metadata": {
        "colab": {
          "base_uri": "https://localhost:8080/",
          "height": 207
        },
        "id": "9e4d714a",
        "outputId": "e297cb54-4901-4404-894f-61574a2a4734"
      },
      "outputs": [
        {
          "output_type": "execute_result",
          "data": {
            "text/plain": [
              "            DailyRate        Age  DistanceFromHome  MonthlyIncome  \\\n",
              "Attrition                                                           \n",
              "No         812.504461  37.561233          8.915653    6832.739659   \n",
              "Yes        750.362869  33.607595         10.632911    4787.092827   \n",
              "\n",
              "            MonthlyRate  PercentSalaryHike  TotalWorkingYears  YearsAtCompany  \\\n",
              "Attrition                                                                       \n",
              "No         14265.779400          15.231144          11.862936        7.369019   \n",
              "Yes        14559.308017          15.097046           8.244726        5.130802   \n",
              "\n",
              "           NumCompaniesWorked  HourlyRate  YearsInCurrentRole  \\\n",
              "Attrition                                                       \n",
              "No                   2.645580   65.952149            4.484185   \n",
              "Yes                  2.940928   65.573840            2.902954   \n",
              "\n",
              "           YearsSinceLastPromotion  YearsWithCurrManager  \\\n",
              "Attrition                                                  \n",
              "No                        2.234388              4.367397   \n",
              "Yes                       1.945148              2.852321   \n",
              "\n",
              "           TrainingTimesLastYear  \n",
              "Attrition                         \n",
              "No                      2.832928  \n",
              "Yes                     2.624473  "
            ],
            "text/html": [
              "\n",
              "  <div id=\"df-c35f16a8-2d85-4cc1-b55a-7bf4d9626c5f\">\n",
              "    <div class=\"colab-df-container\">\n",
              "      <div>\n",
              "<style scoped>\n",
              "    .dataframe tbody tr th:only-of-type {\n",
              "        vertical-align: middle;\n",
              "    }\n",
              "\n",
              "    .dataframe tbody tr th {\n",
              "        vertical-align: top;\n",
              "    }\n",
              "\n",
              "    .dataframe thead th {\n",
              "        text-align: right;\n",
              "    }\n",
              "</style>\n",
              "<table border=\"1\" class=\"dataframe\">\n",
              "  <thead>\n",
              "    <tr style=\"text-align: right;\">\n",
              "      <th></th>\n",
              "      <th>DailyRate</th>\n",
              "      <th>Age</th>\n",
              "      <th>DistanceFromHome</th>\n",
              "      <th>MonthlyIncome</th>\n",
              "      <th>MonthlyRate</th>\n",
              "      <th>PercentSalaryHike</th>\n",
              "      <th>TotalWorkingYears</th>\n",
              "      <th>YearsAtCompany</th>\n",
              "      <th>NumCompaniesWorked</th>\n",
              "      <th>HourlyRate</th>\n",
              "      <th>YearsInCurrentRole</th>\n",
              "      <th>YearsSinceLastPromotion</th>\n",
              "      <th>YearsWithCurrManager</th>\n",
              "      <th>TrainingTimesLastYear</th>\n",
              "    </tr>\n",
              "    <tr>\n",
              "      <th>Attrition</th>\n",
              "      <th></th>\n",
              "      <th></th>\n",
              "      <th></th>\n",
              "      <th></th>\n",
              "      <th></th>\n",
              "      <th></th>\n",
              "      <th></th>\n",
              "      <th></th>\n",
              "      <th></th>\n",
              "      <th></th>\n",
              "      <th></th>\n",
              "      <th></th>\n",
              "      <th></th>\n",
              "      <th></th>\n",
              "    </tr>\n",
              "  </thead>\n",
              "  <tbody>\n",
              "    <tr>\n",
              "      <th>No</th>\n",
              "      <td>812.504461</td>\n",
              "      <td>37.561233</td>\n",
              "      <td>8.915653</td>\n",
              "      <td>6832.739659</td>\n",
              "      <td>14265.779400</td>\n",
              "      <td>15.231144</td>\n",
              "      <td>11.862936</td>\n",
              "      <td>7.369019</td>\n",
              "      <td>2.645580</td>\n",
              "      <td>65.952149</td>\n",
              "      <td>4.484185</td>\n",
              "      <td>2.234388</td>\n",
              "      <td>4.367397</td>\n",
              "      <td>2.832928</td>\n",
              "    </tr>\n",
              "    <tr>\n",
              "      <th>Yes</th>\n",
              "      <td>750.362869</td>\n",
              "      <td>33.607595</td>\n",
              "      <td>10.632911</td>\n",
              "      <td>4787.092827</td>\n",
              "      <td>14559.308017</td>\n",
              "      <td>15.097046</td>\n",
              "      <td>8.244726</td>\n",
              "      <td>5.130802</td>\n",
              "      <td>2.940928</td>\n",
              "      <td>65.573840</td>\n",
              "      <td>2.902954</td>\n",
              "      <td>1.945148</td>\n",
              "      <td>2.852321</td>\n",
              "      <td>2.624473</td>\n",
              "    </tr>\n",
              "  </tbody>\n",
              "</table>\n",
              "</div>\n",
              "      <button class=\"colab-df-convert\" onclick=\"convertToInteractive('df-c35f16a8-2d85-4cc1-b55a-7bf4d9626c5f')\"\n",
              "              title=\"Convert this dataframe to an interactive table.\"\n",
              "              style=\"display:none;\">\n",
              "        \n",
              "  <svg xmlns=\"http://www.w3.org/2000/svg\" height=\"24px\"viewBox=\"0 0 24 24\"\n",
              "       width=\"24px\">\n",
              "    <path d=\"M0 0h24v24H0V0z\" fill=\"none\"/>\n",
              "    <path d=\"M18.56 5.44l.94 2.06.94-2.06 2.06-.94-2.06-.94-.94-2.06-.94 2.06-2.06.94zm-11 1L8.5 8.5l.94-2.06 2.06-.94-2.06-.94L8.5 2.5l-.94 2.06-2.06.94zm10 10l.94 2.06.94-2.06 2.06-.94-2.06-.94-.94-2.06-.94 2.06-2.06.94z\"/><path d=\"M17.41 7.96l-1.37-1.37c-.4-.4-.92-.59-1.43-.59-.52 0-1.04.2-1.43.59L10.3 9.45l-7.72 7.72c-.78.78-.78 2.05 0 2.83L4 21.41c.39.39.9.59 1.41.59.51 0 1.02-.2 1.41-.59l7.78-7.78 2.81-2.81c.8-.78.8-2.07 0-2.86zM5.41 20L4 18.59l7.72-7.72 1.47 1.35L5.41 20z\"/>\n",
              "  </svg>\n",
              "      </button>\n",
              "      \n",
              "  <style>\n",
              "    .colab-df-container {\n",
              "      display:flex;\n",
              "      flex-wrap:wrap;\n",
              "      gap: 12px;\n",
              "    }\n",
              "\n",
              "    .colab-df-convert {\n",
              "      background-color: #E8F0FE;\n",
              "      border: none;\n",
              "      border-radius: 50%;\n",
              "      cursor: pointer;\n",
              "      display: none;\n",
              "      fill: #1967D2;\n",
              "      height: 32px;\n",
              "      padding: 0 0 0 0;\n",
              "      width: 32px;\n",
              "    }\n",
              "\n",
              "    .colab-df-convert:hover {\n",
              "      background-color: #E2EBFA;\n",
              "      box-shadow: 0px 1px 2px rgba(60, 64, 67, 0.3), 0px 1px 3px 1px rgba(60, 64, 67, 0.15);\n",
              "      fill: #174EA6;\n",
              "    }\n",
              "\n",
              "    [theme=dark] .colab-df-convert {\n",
              "      background-color: #3B4455;\n",
              "      fill: #D2E3FC;\n",
              "    }\n",
              "\n",
              "    [theme=dark] .colab-df-convert:hover {\n",
              "      background-color: #434B5C;\n",
              "      box-shadow: 0px 1px 3px 1px rgba(0, 0, 0, 0.15);\n",
              "      filter: drop-shadow(0px 1px 2px rgba(0, 0, 0, 0.3));\n",
              "      fill: #FFFFFF;\n",
              "    }\n",
              "  </style>\n",
              "\n",
              "      <script>\n",
              "        const buttonEl =\n",
              "          document.querySelector('#df-c35f16a8-2d85-4cc1-b55a-7bf4d9626c5f button.colab-df-convert');\n",
              "        buttonEl.style.display =\n",
              "          google.colab.kernel.accessAllowed ? 'block' : 'none';\n",
              "\n",
              "        async function convertToInteractive(key) {\n",
              "          const element = document.querySelector('#df-c35f16a8-2d85-4cc1-b55a-7bf4d9626c5f');\n",
              "          const dataTable =\n",
              "            await google.colab.kernel.invokeFunction('convertToInteractive',\n",
              "                                                     [key], {});\n",
              "          if (!dataTable) return;\n",
              "\n",
              "          const docLinkHtml = 'Like what you see? Visit the ' +\n",
              "            '<a target=\"_blank\" href=https://colab.research.google.com/notebooks/data_table.ipynb>data table notebook</a>'\n",
              "            + ' to learn more about interactive tables.';\n",
              "          element.innerHTML = '';\n",
              "          dataTable['output_type'] = 'display_data';\n",
              "          await google.colab.output.renderOutput(dataTable, element);\n",
              "          const docLink = document.createElement('div');\n",
              "          docLink.innerHTML = docLinkHtml;\n",
              "          element.appendChild(docLink);\n",
              "        }\n",
              "      </script>\n",
              "    </div>\n",
              "  </div>\n",
              "  "
            ]
          },
          "metadata": {},
          "execution_count": 13
        }
      ],
      "source": [
        "# The mean of numerical variables grouped by attrition\n",
        "df.groupby(['Attrition'])[num_cols].mean() #group by can be divided into 1 or more rows and cols"
      ]
    },
    {
      "cell_type": "markdown",
      "id": "348913f2",
      "metadata": {
        "id": "348913f2"
      },
      "source": [
        "**Observations:**\n",
        "\n",
        "- **Employees attriting the company have a nearly 30% lower average income and 30% lesser work experience than those who are not.** These could be the employees looking to explore new options and/or increase their salary with a company switch. \n",
        "- **Employees showing attrition also tend to live 16% further from the office than those who are not**. The longer commute to and from work could mean they have to spend more time/money every day, and this could be leading to job dissatisfaction and wanting to leave the organization."
      ]
    },
    {
      "cell_type": "markdown",
      "id": "20fd91ce",
      "metadata": {
        "id": "20fd91ce"
      },
      "source": [
        "**We have found out what kind of employees are leaving the company more.**\n",
        "\n",
        "### **Let's check the relationship between different numerical variables**"
      ]
    },
    {
      "cell_type": "code",
      "execution_count": 14,
      "id": "49b0b062",
      "metadata": {
        "colab": {
          "base_uri": "https://localhost:8080/",
          "height": 619
        },
        "id": "49b0b062",
        "outputId": "bbd59d7c-3d74-480c-8a23-5f96fbce83c0"
      },
      "outputs": [
        {
          "output_type": "execute_result",
          "data": {
            "text/plain": [
              "<matplotlib.axes._subplots.AxesSubplot at 0x7fa8ec011590>"
            ]
          },
          "metadata": {},
          "execution_count": 14
        },
        {
          "output_type": "display_data",
          "data": {
            "text/plain": [
              "<Figure size 1080x576 with 2 Axes>"
            ],
            "image/png": "[encoded data removed]"
          },
          "metadata": {
            "needs_background": "light"
          }
        }
      ],
      "source": [
        "# Plotting the correlation between numerical variables\n",
        "plt.figure(figsize = (15, 8))\n",
        "\n",
        "sns.heatmap(df[num_cols].corr(), annot = True, fmt = '0.2f', cmap = 'YlGnBu') #color types"
      ]
    },
    {
      "cell_type": "markdown",
      "id": "6063fdd4",
      "metadata": {
        "id": "6063fdd4"
      },
      "source": [
        "**Observations:**\n",
        "\n",
        "- **Total work experience, monthly income, years at the company, and years with the current managers are highly correlated with each other, and with employee age** which is easy to understand as these variables show an increase with age for most employees. \n",
        "- Years at the company and years in the current role are correlated with years since the last promotion which means that the company is not giving promotions at the right time."
      ]
    },
    {
      "cell_type": "markdown",
      "id": "77229ef8",
      "metadata": {
        "id": "77229ef8"
      },
      "source": [
        "### <a id='link1'>Summary of EDA</a>\n",
        "\n",
        "**Data Description:**\n",
        "\n",
        "* There are **2940 observations and 34 columns** in the data.\n",
        "* All the columns have 2940 non-null values, i.e., **there are no missing values** in the data.\n",
        "* An **employee number is an identifier** that is unique for each employee. We can **drop this column** as it would not add any value to our analysis.\n",
        "* **Over18 and StandardHours have only 1 unique value. We can drop these columns** as they will not add any value to our analysis.\n",
        "* On the basis of the number of unique values in each column and the data description, we can **identify the continuous and categorical columns** in the data.\n",
        "\n",
        "**Data Cleaning:**\n",
        "\n",
        "* **The independent variables in this dataset have different scales**. When features have different scales from each other, there is a chance that a higher weightage will be given to features that have a higher magnitude, and they will dominate over other features whose magnitude changes may be smaller but whose percentage changes may be just as significant or even larger. **This will impact the performance of our machine learning algorithm**, and we do not want our algorithm to be biased towards one feature.\n",
        "* The solution to this issue is **Feature Scaling**, i.e., scaling the dataset so as to give every transformed variable a comparable scale.\n",
        "* In this problem, we will use the **Standard Scaler** method, which centers and scales the dataset using the Z-Score. It standardizes features by subtracting the mean and scaling it to have unit variance.\n",
        "\n",
        "\n",
        "**Observations from EDA:**\n",
        "\n",
        "* The average employee age is around 37 years. It has a high range, from 18 years to 60, indicating good age diversity in the organization.\n",
        "* At least 50% of the employees live within a 7 KM radius of the organization. However, there are some extreme values, given that the maximum value is 29 km.\n",
        "* The average monthly income of an employee is USD 6500. It has a high range of values from 1K-20K USD, which is to be expected for any organization's income distribution. There is a big difference between the 3rd quartile value (around USD 8400) and the maximum value (nearly USD 20000), showing that the company's highest earners have a disproportionately large income in comparison to the rest of the employees. Again, this is fairly common in most organizations.\n",
        "* The average salary hike of an employee is around 15%. At least 50% of employees got a salary hike of 14% or less, with the maximum salary hike being 25%.\n",
        "* The average number of years an employee is associated with the company is 7.\n",
        "* On average, the number of years since an employee got a promotion is ~2.19. The majority of employees have been promoted since the last year.\n",
        "* The age distribution is close to a normal distribution, with the majority of employees between the ages of 25 and 50.\n",
        "* DistanceFromHome also has a right-skewed distribution, meaning most employees live close to work but there are a few that live further away.\n",
        "* MonthlyIncome and TotalWorkingYears are skewed to the right, indicating that the majority of workers are in entry / mid-level positions in the organization.\n",
        "* The percentage salary hike is skewed to the right, which means employees are mostly getting lower percentage salary increases.\n",
        "* The YearsAtCompany variable distribution shows a good proportion of workers with 10+ years, indicating a significant number of loyal employees at the organization.\n",
        "* The YearsInCurrentRole distribution has three peaks at 0, 2, and 7. There are a few employees that have ever stayed in the same role for 15 years and more.\n",
        "* The YearsSinceLastPromotion variable distribution indicates that some employees have not received a promotion in 10-15 years and are still working in the organization. These employees are assumed to be high work-experience employees in upper-management roles, such as co-founders, C-suite employees, etc.\n",
        "* The distributions of DailyRate, HourlyRate, and MonthlyRate appear to be uniform and do not provide much information. It could be that the daily rate refers to the income earned per extra day worked while the hourly rate could refer to the same concept applied for extra hours worked per day. Since these rates tend to be broadly similar for multiple employees in the same department, that explains the uniform distribution they show.\n",
        "* The employee attrition rate is 16%.\n",
        "* Around 28% of the employees are working overtime. This number appears to be on the higher side and might indicate a stressed employee's work-life. Employees working overtime have more than a 30% chance of attrition, which is very high compared to the 10% chance of attrition for employees who do not work extra hours.\n",
        "* 71% of the employees have traveled rarely, while around 19% have to travel frequently.\n",
        "* Around 73% of the employees come from an educational background in the Life Sciences and Medical fields.\n",
        "* Over 65% of employees work in the Research & Development department of the organization. The chance of attrition there is ~15%.\n",
        "* Nearly 40% of the employees have low (1) or medium (2) job satisfaction and environment satisfaction in the organization, indicating that the morale of the company appears to be somewhat low.\n",
        "* Over 30% of the employees show low (1) to medium (2) job involvement.\n",
        "* Over 80% of the employees either have none or very less stock options.\n",
        "* In terms of performance ratings, none of the employees have been rated lower than 3 (excellent). About 85% of employees have a performance rating equal to 3 (excellent), while the remaining have a rating of 4 (outstanding). This could either mean that the majority of employees are top performers, or the more likely scenario is that the organization could be highly lenient with its performance appraisal process.\n",
        "* Employees working as sales representatives have an attrition rate of around 40% while HRs and Technicians have an attrition rate of around 25%. The sales and HR departments have higher attrition rates in comparison to an academic department like Research & Development, an observation that makes intuitive sense keeping in mind the differences in those job profiles. The high-pressure and incentive-based nature of Sales and Marketing roles may be contributing to their higher attrition rates.\n",
        "* The lower the employee's job involvement, the higher their attrition chances appear to be, with 1-rated JobInvolvement employees attriting at 35%. The reason for this could be that employees with lower job involvement might feel left out or less valued and have already started to explore new options, leading to a higher attrition rate.\n",
        "* Employees at a lower job level also attrite more, with 1-rated JobLevel employees showing a nearly 25% chance of attrition. These may be young employees who tend to explore more options in the initial stages of their careers.\n",
        "* A low work-life balance rating leads employees to attrite; ~30% of those in the 1-rated category show attrition.\n",
        "* Employees attriting the company have a nearly 30% lower average income and 30% lesser work experience than those who are not. These could be the employees looking to explore new options and/or increase their salary with a company switch.\n",
        "* Employees showing attrition also tend to live 16% further from the office than those who are not. The longer commute to and from work could mean they have to spend more time/money every day, and this could be leading to job dissatisfaction and wanting to leave the organization.\n",
        "* Total work experience, monthly income, years at the company, and years with the current managers are highly correlated with each other, and with employee age which is easy to understand as these variables show an increase with age for most employees.\n",
        "* Years at the company and years in the current role are correlated with years since the last promotion which means that the company is not giving promotions at the right time."
      ]
    },
    {
      "cell_type": "markdown",
      "id": "d5176fd1",
      "metadata": {
        "id": "d5176fd1"
      },
      "source": [
        "## **Model Building - Approach**\n",
        "\n",
        "1. Prepare the data for modeling.\n",
        "2. Partition the data into train and test sets.\n",
        "3. Build the model on the train data.\n",
        "4. Tune the model if required.\n",
        "5. Test the data on the test set."
      ]
    },
    {
      "cell_type": "markdown",
      "id": "675e44b1",
      "metadata": {
        "id": "675e44b1"
      },
      "source": [
        "###  **Preparing data for modeling**"
      ]
    },
    {
      "cell_type": "markdown",
      "id": "137f6df7",
      "metadata": {
        "id": "137f6df7"
      },
      "source": [
        "**Creating dummy variables for categorical Variables**"
      ]
    },
    {
      "cell_type": "code",
      "execution_count": 15,
      "id": "86fcb61e",
      "metadata": {
        "id": "86fcb61e"
      },
      "outputs": [],
      "source": [
        "# Creating the list of columns for which we need to create the dummy variables\n",
        "to_get_dummies_for = ['BusinessTravel', 'Department', 'Education', 'EducationField', 'EnvironmentSatisfaction', 'Gender', 'JobInvolvement', 'JobLevel', 'JobRole', 'MaritalStatus']\n",
        "\n",
        "# Creating dummy variables\n",
        "df = pd.get_dummies(data = df, columns = to_get_dummies_for, drop_first = True)      \n",
        "\n",
        "# Mapping overtime and attrition\n",
        "dict_OverTime = {'Yes': 1, 'No': 0}\n",
        "dict_attrition = {'Yes': 1, 'No': 0}\n",
        "\n",
        "df['OverTime'] = df.OverTime.map(dict_OverTime)\n",
        "df['Attrition'] = df.Attrition.map(dict_attrition)"
      ]
    },
    {
      "cell_type": "markdown",
      "id": "587bece6",
      "metadata": {
        "id": "587bece6"
      },
      "source": [
        "**Separating the independent variables (X) and the dependent variable (Y)**"
      ]
    },
    {
      "cell_type": "code",
      "execution_count": 16,
      "id": "6997c77a",
      "metadata": {
        "id": "6997c77a"
      },
      "outputs": [],
      "source": [
        "# Separating the target variable and other variables\n",
        "Y = df.Attrition\n",
        "X = df.drop(columns = ['Attrition'])"
      ]
    },
    {
      "cell_type": "code",
      "execution_count": 17,
      "id": "9f1ef724",
      "metadata": {
        "id": "9f1ef724"
      },
      "outputs": [],
      "source": [
        "# Scaling the data\n",
        "sc = StandardScaler()\n",
        "\n",
        "X_scaled = sc.fit_transform(X)\n",
        "\n",
        "X_scaled = pd.DataFrame(X_scaled, columns = X.columns)"
      ]
    },
    {
      "cell_type": "markdown",
      "id": "f75d460f",
      "metadata": {
        "id": "f75d460f"
      },
      "source": [
        "### **Splitting the data into 70% train and 30% test sets**"
      ]
    },
    {
      "cell_type": "code",
      "execution_count": 18,
      "id": "7e8bae8d",
      "metadata": {
        "id": "7e8bae8d"
      },
      "outputs": [],
      "source": [
        "# Splitting the data\n",
        "x_train, x_test, y_train, y_test = train_test_split(X_scaled, Y, test_size = 0.3, random_state = 1, stratify = Y)"
      ]
    },
    {
      "cell_type": "markdown",
      "id": "dab97a7d",
      "metadata": {
        "id": "dab97a7d"
      },
      "source": [
        "\n",
        "\n",
        "**The model can make two types of wrong predictions:**\n",
        "\n",
        "1. Predicting an employee will attrite when the employee doesn't attrite\n",
        "2. Predicting an employee will not attrite when the employee actually attrites\n",
        "\n",
        "**The importance of this case:**\n",
        "\n",
        "* **Predicting that the employee will not attrite but the employee attrites**, i.e., losing out on a valuable employee or asset. This would be considered a major miss for any employee attrition predictor and is hence the more important case of wrong predictions.\n",
        "\n",
        "**How to reduce this loss i.e the need to reduce False Negatives?**\n",
        "* **The company would want the Recall to be maximized**, the greater the Recall, the higher the chances of minimizing false negatives. Hence, the focus should be on increasing the Recall (minimizing the false negatives) or, in other words, identifying the true positives (i.e. Class 1) very well, so that the company can provide incentives to control the attrition rate especially, for top-performers. This would help in optimizing the overall project cost towards retaining the best talent."
      ]
    },
    {
      "cell_type": "markdown",
      "id": "0f3177ea",
      "metadata": {
        "id": "0f3177ea"
      },
      "source": [
        "Also, let's create a function to calculate and print the classification report and the confusion matrix so that we don't have to rewrite the same code repeatedly for each model."
      ]
    },
    {
      "cell_type": "code",
      "execution_count": 19,
      "id": "93af4477",
      "metadata": {
        "id": "93af4477"
      },
      "outputs": [],
      "source": [
        "def metrics_score(actual, predicted):\n",
        "\n",
        "    print(classification_report(actual, predicted))\n",
        "\n",
        "    cm = confusion_matrix(actual, predicted)\n",
        "\n",
        "    plt.figure(figsize = (8, 5))\n",
        "\n",
        "    sns.heatmap(cm, annot = True, fmt = '.2f', xticklabels = ['Not Attrite', 'Attrite'], yticklabels = ['Not Attrite', 'Attrite'])\n",
        "\n",
        "    plt.ylabel('Actual')\n",
        "\n",
        "    plt.xlabel('Predicted')\n",
        "    \n",
        "    plt.show()"
      ]
    },
    {
      "cell_type": "markdown",
      "id": "474e0cc1",
      "metadata": {
        "id": "474e0cc1"
      },
      "source": [
        "### **Building the model**\n",
        "\n",
        "We will be building 2 different models:\n",
        "- **Logistic Regression**\n",
        "- **K-Nearest Neighbors (K-NN)**"
      ]
    },
    {
      "cell_type": "markdown",
      "id": "13e22180",
      "metadata": {
        "id": "13e22180"
      },
      "source": [
        "### **Logistic Regression**"
      ]
    },
    {
      "cell_type": "code",
      "execution_count": 20,
      "id": "25010ac1",
      "metadata": {
        "id": "25010ac1",
        "outputId": "0ae7421c-c7fa-44b6-a03f-a467609c8fe9",
        "colab": {
          "base_uri": "https://localhost:8080/"
        }
      },
      "outputs": [
        {
          "output_type": "execute_result",
          "data": {
            "text/plain": [
              "LogisticRegression()"
            ]
          },
          "metadata": {},
          "execution_count": 20
        }
      ],
      "source": [
        "# Fitting the logistic regression model\n",
        "lg = LogisticRegression()\n",
        "\n",
        "lg.fit(x_train,y_train)"
      ]
    },
    {
      "cell_type": "markdown",
      "id": "b55292fb",
      "metadata": {
        "id": "b55292fb"
      },
      "source": [
        "**Checking the model performance**"
      ]
    },
    {
      "cell_type": "code",
      "execution_count": 21,
      "id": "c9684d5b",
      "metadata": {
        "id": "c9684d5b",
        "outputId": "ba2c80bc-dbbe-4462-bb1b-9bd29811006c",
        "colab": {
          "base_uri": "https://localhost:8080/",
          "height": 495
        }
      },
      "outputs": [
        {
          "output_type": "stream",
          "name": "stdout",
          "text": [
            "              precision    recall  f1-score   support\n",
            "\n",
            "           0       0.91      0.98      0.94      1726\n",
            "           1       0.81      0.50      0.62       332\n",
            "\n",
            "    accuracy                           0.90      2058\n",
            "   macro avg       0.86      0.74      0.78      2058\n",
            "weighted avg       0.89      0.90      0.89      2058\n",
            "\n"
          ]
        },
        {
          "output_type": "display_data",
          "data": {
            "text/plain": [
              "<Figure size 576x360 with 2 Axes>"
            ],
            "image/png": "[encoded data removed]"
          },
          "metadata": {
            "needs_background": "light"
          }
        }
      ],
      "source": [
        "# Checking the performance on the training data\n",
        "y_pred_train = lg.predict(x_train)\n",
        "\n",
        "metrics_score(y_train, y_pred_train)"
      ]
    },
    {
      "cell_type": "code",
      "execution_count": 22,
      "id": "87399011",
      "metadata": {
        "id": "87399011",
        "outputId": "7fd2de85-1676-4311-9431-43e212d7795f",
        "colab": {
          "base_uri": "https://localhost:8080/",
          "height": 495
        }
      },
      "outputs": [
        {
          "output_type": "stream",
          "name": "stdout",
          "text": [
            "              precision    recall  f1-score   support\n",
            "\n",
            "           0       0.90      0.97      0.94       740\n",
            "           1       0.76      0.46      0.58       142\n",
            "\n",
            "    accuracy                           0.89       882\n",
            "   macro avg       0.83      0.72      0.76       882\n",
            "weighted avg       0.88      0.89      0.88       882\n",
            "\n"
          ]
        },
        {
          "output_type": "display_data",
          "data": {
            "text/plain": [
              "<Figure size 576x360 with 2 Axes>"
            ],
            "image/png": "[encoded data removed]"
          },
          "metadata": {
            "needs_background": "light"
          }
        }
      ],
      "source": [
        "# Checking the performance on the test dataset\n",
        "y_pred_test = lg.predict(x_test)\n",
        "metrics_score(y_test, y_pred_test)"
      ]
    },
    {
      "cell_type": "markdown",
      "id": "a091c375",
      "metadata": {
        "id": "a091c375"
      },
      "source": [
        "**Observations:**\n",
        "- **We are getting an accuracy of about 90%** on the train and the test datasets.\n",
        "- However, **the recall for this model is only around 50% for class 1 on the train data and 46% on the test data.**\n",
        "- As the recall is low, which means this model have higher false negative. **This model will not perform well** in differentiating out employees who have a high chance of attriting the company, meaning it will eventually not help in reducing the attrition rate. \n",
        "- As we can see from the Confusion Matrix, **this model is not good at identifying employees who are at risk of attrition.**"
      ]
    },
    {
      "cell_type": "markdown",
      "id": "17674bef",
      "metadata": {
        "id": "17674bef"
      },
      "source": [
        "**Let's check the coefficients and find which variables are leading to attrition and which can help to reduce the attrition.**"
      ]
    },
    {
      "cell_type": "code",
      "execution_count": 23,
      "id": "d3b26635",
      "metadata": {
        "id": "d3b26635",
        "outputId": "a2bba411-c0e2-4fcd-a96e-56c120af4300",
        "colab": {
          "base_uri": "https://localhost:8080/",
          "height": 1000
        }
      },
      "outputs": [
        {
          "output_type": "execute_result",
          "data": {
            "text/plain": [
              "                                          0\n",
              "OverTime                           0.958034\n",
              "BusinessTravel_Travel_Frequently   0.716046\n",
              "MaritalStatus_Single               0.618145\n",
              "YearsSinceLastPromotion            0.552935\n",
              "YearsAtCompany                     0.523238\n",
              "NumCompaniesWorked                 0.501137\n",
              "Department_Sales                   0.483346\n",
              "Department_Research & Development  0.482820\n",
              "BusinessTravel_Travel_Rarely       0.441384\n",
              "DistanceFromHome                   0.384346\n",
              "JobRole_Sales Executive            0.383153\n",
              "MaritalStatus_Married              0.288340\n",
              "JobRole_Human Resources            0.282114\n",
              "JobLevel_5                         0.269649\n",
              "JobRole_Laboratory Technician      0.177910\n",
              "JobRole_Sales Representative       0.173305\n",
              "Gender_Male                        0.165803\n",
              "Education_3                        0.158748\n",
              "Education_2                        0.131061\n",
              "Education_4                        0.113254\n",
              "JobRole_Manufacturing Director     0.112275\n",
              "Education_5                        0.092054\n",
              "EducationField_Technical Degree    0.083282\n",
              "MonthlyRate                        0.059920\n",
              "HourlyRate                         0.048010\n",
              "JobLevel_3                         0.007039\n",
              "EducationField_Marketing          -0.013725\n",
              "JobRole_Manager                   -0.032051\n",
              "PerformanceRating                 -0.032545\n",
              "PercentSalaryHike                 -0.074595\n",
              "DailyRate                         -0.095750\n",
              "StockOptionLevel                  -0.107451\n",
              "EducationField_Other              -0.138263\n",
              "JobLevel_4                        -0.161223\n",
              "WorkLifeBalance                   -0.212611\n",
              "JobRole_Research Scientist        -0.233311\n",
              "TrainingTimesLastYear             -0.240552\n",
              "Age                               -0.275176\n",
              "RelationshipSatisfaction          -0.312201\n",
              "EducationField_Life Sciences      -0.319031\n",
              "EducationField_Medical            -0.354189\n",
              "JobRole_Research Director         -0.359223\n",
              "JobSatisfaction                   -0.373627\n",
              "YearsWithCurrManager              -0.382881\n",
              "YearsInCurrentRole                -0.438966\n",
              "EnvironmentSatisfaction_2         -0.444969\n",
              "JobInvolvement_2                  -0.485360\n",
              "TotalWorkingYears                 -0.497228\n",
              "EnvironmentSatisfaction_3         -0.501917\n",
              "MonthlyIncome                     -0.599868\n",
              "JobInvolvement_4                  -0.641244\n",
              "EnvironmentSatisfaction_4         -0.651612\n",
              "JobLevel_2                        -0.714008\n",
              "JobInvolvement_3                  -0.750455"
            ],
            "text/html": [
              "\n",
              "  <div id=\"df-3e2029af-c4a5-42ba-aa2e-22e700656b49\">\n",
              "    <div class=\"colab-df-container\">\n",
              "      <div>\n",
              "<style scoped>\n",
              "    .dataframe tbody tr th:only-of-type {\n",
              "        vertical-align: middle;\n",
              "    }\n",
              "\n",
              "    .dataframe tbody tr th {\n",
              "        vertical-align: top;\n",
              "    }\n",
              "\n",
              "    .dataframe thead th {\n",
              "        text-align: right;\n",
              "    }\n",
              "</style>\n",
              "<table border=\"1\" class=\"dataframe\">\n",
              "  <thead>\n",
              "    <tr style=\"text-align: right;\">\n",
              "      <th></th>\n",
              "      <th>0</th>\n",
              "    </tr>\n",
              "  </thead>\n",
              "  <tbody>\n",
              "    <tr>\n",
              "      <th>OverTime</th>\n",
              "      <td>0.958034</td>\n",
              "    </tr>\n",
              "    <tr>\n",
              "      <th>BusinessTravel_Travel_Frequently</th>\n",
              "      <td>0.716046</td>\n",
              "    </tr>\n",
              "    <tr>\n",
              "      <th>MaritalStatus_Single</th>\n",
              "      <td>0.618145</td>\n",
              "    </tr>\n",
              "    <tr>\n",
              "      <th>YearsSinceLastPromotion</th>\n",
              "      <td>0.552935</td>\n",
              "    </tr>\n",
              "    <tr>\n",
              "      <th>YearsAtCompany</th>\n",
              "      <td>0.523238</td>\n",
              "    </tr>\n",
              "    <tr>\n",
              "      <th>NumCompaniesWorked</th>\n",
              "      <td>0.501137</td>\n",
              "    </tr>\n",
              "    <tr>\n",
              "      <th>Department_Sales</th>\n",
              "      <td>0.483346</td>\n",
              "    </tr>\n",
              "    <tr>\n",
              "      <th>Department_Research &amp; Development</th>\n",
              "      <td>0.482820</td>\n",
              "    </tr>\n",
              "    <tr>\n",
              "      <th>BusinessTravel_Travel_Rarely</th>\n",
              "      <td>0.441384</td>\n",
              "    </tr>\n",
              "    <tr>\n",
              "      <th>DistanceFromHome</th>\n",
              "      <td>0.384346</td>\n",
              "    </tr>\n",
              "    <tr>\n",
              "      <th>JobRole_Sales Executive</th>\n",
              "      <td>0.383153</td>\n",
              "    </tr>\n",
              "    <tr>\n",
              "      <th>MaritalStatus_Married</th>\n",
              "      <td>0.288340</td>\n",
              "    </tr>\n",
              "    <tr>\n",
              "      <th>JobRole_Human Resources</th>\n",
              "      <td>0.282114</td>\n",
              "    </tr>\n",
              "    <tr>\n",
              "      <th>JobLevel_5</th>\n",
              "      <td>0.269649</td>\n",
              "    </tr>\n",
              "    <tr>\n",
              "      <th>JobRole_Laboratory Technician</th>\n",
              "      <td>0.177910</td>\n",
              "    </tr>\n",
              "    <tr>\n",
              "      <th>JobRole_Sales Representative</th>\n",
              "      <td>0.173305</td>\n",
              "    </tr>\n",
              "    <tr>\n",
              "      <th>Gender_Male</th>\n",
              "      <td>0.165803</td>\n",
              "    </tr>\n",
              "    <tr>\n",
              "      <th>Education_3</th>\n",
              "      <td>0.158748</td>\n",
              "    </tr>\n",
              "    <tr>\n",
              "      <th>Education_2</th>\n",
              "      <td>0.131061</td>\n",
              "    </tr>\n",
              "    <tr>\n",
              "      <th>Education_4</th>\n",
              "      <td>0.113254</td>\n",
              "    </tr>\n",
              "    <tr>\n",
              "      <th>JobRole_Manufacturing Director</th>\n",
              "      <td>0.112275</td>\n",
              "    </tr>\n",
              "    <tr>\n",
              "      <th>Education_5</th>\n",
              "      <td>0.092054</td>\n",
              "    </tr>\n",
              "    <tr>\n",
              "      <th>EducationField_Technical Degree</th>\n",
              "      <td>0.083282</td>\n",
              "    </tr>\n",
              "    <tr>\n",
              "      <th>MonthlyRate</th>\n",
              "      <td>0.059920</td>\n",
              "    </tr>\n",
              "    <tr>\n",
              "      <th>HourlyRate</th>\n",
              "      <td>0.048010</td>\n",
              "    </tr>\n",
              "    <tr>\n",
              "      <th>JobLevel_3</th>\n",
              "      <td>0.007039</td>\n",
              "    </tr>\n",
              "    <tr>\n",
              "      <th>EducationField_Marketing</th>\n",
              "      <td>-0.013725</td>\n",
              "    </tr>\n",
              "    <tr>\n",
              "      <th>JobRole_Manager</th>\n",
              "      <td>-0.032051</td>\n",
              "    </tr>\n",
              "    <tr>\n",
              "      <th>PerformanceRating</th>\n",
              "      <td>-0.032545</td>\n",
              "    </tr>\n",
              "    <tr>\n",
              "      <th>PercentSalaryHike</th>\n",
              "      <td>-0.074595</td>\n",
              "    </tr>\n",
              "    <tr>\n",
              "      <th>DailyRate</th>\n",
              "      <td>-0.095750</td>\n",
              "    </tr>\n",
              "    <tr>\n",
              "      <th>StockOptionLevel</th>\n",
              "      <td>-0.107451</td>\n",
              "    </tr>\n",
              "    <tr>\n",
              "      <th>EducationField_Other</th>\n",
              "      <td>-0.138263</td>\n",
              "    </tr>\n",
              "    <tr>\n",
              "      <th>JobLevel_4</th>\n",
              "      <td>-0.161223</td>\n",
              "    </tr>\n",
              "    <tr>\n",
              "      <th>WorkLifeBalance</th>\n",
              "      <td>-0.212611</td>\n",
              "    </tr>\n",
              "    <tr>\n",
              "      <th>JobRole_Research Scientist</th>\n",
              "      <td>-0.233311</td>\n",
              "    </tr>\n",
              "    <tr>\n",
              "      <th>TrainingTimesLastYear</th>\n",
              "      <td>-0.240552</td>\n",
              "    </tr>\n",
              "    <tr>\n",
              "      <th>Age</th>\n",
              "      <td>-0.275176</td>\n",
              "    </tr>\n",
              "    <tr>\n",
              "      <th>RelationshipSatisfaction</th>\n",
              "      <td>-0.312201</td>\n",
              "    </tr>\n",
              "    <tr>\n",
              "      <th>EducationField_Life Sciences</th>\n",
              "      <td>-0.319031</td>\n",
              "    </tr>\n",
              "    <tr>\n",
              "      <th>EducationField_Medical</th>\n",
              "      <td>-0.354189</td>\n",
              "    </tr>\n",
              "    <tr>\n",
              "      <th>JobRole_Research Director</th>\n",
              "      <td>-0.359223</td>\n",
              "    </tr>\n",
              "    <tr>\n",
              "      <th>JobSatisfaction</th>\n",
              "      <td>-0.373627</td>\n",
              "    </tr>\n",
              "    <tr>\n",
              "      <th>YearsWithCurrManager</th>\n",
              "      <td>-0.382881</td>\n",
              "    </tr>\n",
              "    <tr>\n",
              "      <th>YearsInCurrentRole</th>\n",
              "      <td>-0.438966</td>\n",
              "    </tr>\n",
              "    <tr>\n",
              "      <th>EnvironmentSatisfaction_2</th>\n",
              "      <td>-0.444969</td>\n",
              "    </tr>\n",
              "    <tr>\n",
              "      <th>JobInvolvement_2</th>\n",
              "      <td>-0.485360</td>\n",
              "    </tr>\n",
              "    <tr>\n",
              "      <th>TotalWorkingYears</th>\n",
              "      <td>-0.497228</td>\n",
              "    </tr>\n",
              "    <tr>\n",
              "      <th>EnvironmentSatisfaction_3</th>\n",
              "      <td>-0.501917</td>\n",
              "    </tr>\n",
              "    <tr>\n",
              "      <th>MonthlyIncome</th>\n",
              "      <td>-0.599868</td>\n",
              "    </tr>\n",
              "    <tr>\n",
              "      <th>JobInvolvement_4</th>\n",
              "      <td>-0.641244</td>\n",
              "    </tr>\n",
              "    <tr>\n",
              "      <th>EnvironmentSatisfaction_4</th>\n",
              "      <td>-0.651612</td>\n",
              "    </tr>\n",
              "    <tr>\n",
              "      <th>JobLevel_2</th>\n",
              "      <td>-0.714008</td>\n",
              "    </tr>\n",
              "    <tr>\n",
              "      <th>JobInvolvement_3</th>\n",
              "      <td>-0.750455</td>\n",
              "    </tr>\n",
              "  </tbody>\n",
              "</table>\n",
              "</div>\n",
              "      <button class=\"colab-df-convert\" onclick=\"convertToInteractive('df-3e2029af-c4a5-42ba-aa2e-22e700656b49')\"\n",
              "              title=\"Convert this dataframe to an interactive table.\"\n",
              "              style=\"display:none;\">\n",
              "        \n",
              "  <svg xmlns=\"http://www.w3.org/2000/svg\" height=\"24px\"viewBox=\"0 0 24 24\"\n",
              "       width=\"24px\">\n",
              "    <path d=\"M0 0h24v24H0V0z\" fill=\"none\"/>\n",
              "    <path d=\"M18.56 5.44l.94 2.06.94-2.06 2.06-.94-2.06-.94-.94-2.06-.94 2.06-2.06.94zm-11 1L8.5 8.5l.94-2.06 2.06-.94-2.06-.94L8.5 2.5l-.94 2.06-2.06.94zm10 10l.94 2.06.94-2.06 2.06-.94-2.06-.94-.94-2.06-.94 2.06-2.06.94z\"/><path d=\"M17.41 7.96l-1.37-1.37c-.4-.4-.92-.59-1.43-.59-.52 0-1.04.2-1.43.59L10.3 9.45l-7.72 7.72c-.78.78-.78 2.05 0 2.83L4 21.41c.39.39.9.59 1.41.59.51 0 1.02-.2 1.41-.59l7.78-7.78 2.81-2.81c.8-.78.8-2.07 0-2.86zM5.41 20L4 18.59l7.72-7.72 1.47 1.35L5.41 20z\"/>\n",
              "  </svg>\n",
              "      </button>\n",
              "      \n",
              "  <style>\n",
              "    .colab-df-container {\n",
              "      display:flex;\n",
              "      flex-wrap:wrap;\n",
              "      gap: 12px;\n",
              "    }\n",
              "\n",
              "    .colab-df-convert {\n",
              "      background-color: #E8F0FE;\n",
              "      border: none;\n",
              "      border-radius: 50%;\n",
              "      cursor: pointer;\n",
              "      display: none;\n",
              "      fill: #1967D2;\n",
              "      height: 32px;\n",
              "      padding: 0 0 0 0;\n",
              "      width: 32px;\n",
              "    }\n",
              "\n",
              "    .colab-df-convert:hover {\n",
              "      background-color: #E2EBFA;\n",
              "      box-shadow: 0px 1px 2px rgba(60, 64, 67, 0.3), 0px 1px 3px 1px rgba(60, 64, 67, 0.15);\n",
              "      fill: #174EA6;\n",
              "    }\n",
              "\n",
              "    [theme=dark] .colab-df-convert {\n",
              "      background-color: #3B4455;\n",
              "      fill: #D2E3FC;\n",
              "    }\n",
              "\n",
              "    [theme=dark] .colab-df-convert:hover {\n",
              "      background-color: #434B5C;\n",
              "      box-shadow: 0px 1px 3px 1px rgba(0, 0, 0, 0.15);\n",
              "      filter: drop-shadow(0px 1px 2px rgba(0, 0, 0, 0.3));\n",
              "      fill: #FFFFFF;\n",
              "    }\n",
              "  </style>\n",
              "\n",
              "      <script>\n",
              "        const buttonEl =\n",
              "          document.querySelector('#df-3e2029af-c4a5-42ba-aa2e-22e700656b49 button.colab-df-convert');\n",
              "        buttonEl.style.display =\n",
              "          google.colab.kernel.accessAllowed ? 'block' : 'none';\n",
              "\n",
              "        async function convertToInteractive(key) {\n",
              "          const element = document.querySelector('#df-3e2029af-c4a5-42ba-aa2e-22e700656b49');\n",
              "          const dataTable =\n",
              "            await google.colab.kernel.invokeFunction('convertToInteractive',\n",
              "                                                     [key], {});\n",
              "          if (!dataTable) return;\n",
              "\n",
              "          const docLinkHtml = 'Like what you see? Visit the ' +\n",
              "            '<a target=\"_blank\" href=https://colab.research.google.com/notebooks/data_table.ipynb>data table notebook</a>'\n",
              "            + ' to learn more about interactive tables.';\n",
              "          element.innerHTML = '';\n",
              "          dataTable['output_type'] = 'display_data';\n",
              "          await google.colab.output.renderOutput(dataTable, element);\n",
              "          const docLink = document.createElement('div');\n",
              "          docLink.innerHTML = docLinkHtml;\n",
              "          element.appendChild(docLink);\n",
              "        }\n",
              "      </script>\n",
              "    </div>\n",
              "  </div>\n",
              "  "
            ]
          },
          "metadata": {},
          "execution_count": 23
        }
      ],
      "source": [
        "# Printing the coefficients of logistic regression\n",
        "cols = X.columns\n",
        "\n",
        "coef_lg = lg.coef_ \n",
        "\n",
        "pd.DataFrame(coef_lg,columns = cols).T.sort_values(by = 0, ascending = False)"
      ]
    },
    {
      "cell_type": "markdown",
      "id": "6b56ff9f",
      "metadata": {
        "id": "6b56ff9f"
      },
      "source": [
        "**Observations:**\n",
        "\n",
        "\n",
        "**Features which positively affect on the attrition rate are:**\n",
        "- OverTime\t\n",
        "- BusinessTravel_Travel_Frequently\t\n",
        "- Department_Research & Development\t\n",
        "- JobRole_Sales Executive\t\n",
        "- MaritalStatus_Single\t\n",
        "- Department_Sales\t\n",
        "- NumCompaniesWorked\t\n",
        "- YearsSinceLastPromotion\n",
        "- JobLevel_5\t\n",
        "- BusinessTravel_Travel_Rarely\n",
        "- DistanceFromHome\n",
        "- YearsAtCompany\t\n",
        "- JobRole_Human Resources\t\n",
        "- JobRole_Sales Representative\n",
        "\n",
        "**Features which negatively affect on the attrition rate are:**\n",
        "- MonthlyIncome\t\n",
        "- JobInvolvement_3\t\n",
        "- JobLevel_2\t\n",
        "- EnvironmentSatisfaction_4\t\n",
        "- JobInvolvement_4\t\n",
        "- JobInvolvement_2\t\n",
        "- EnvironmentSatisfaction_3\t\n",
        "- EducationField_Life Sciences\t\n",
        "- EnvironmentSatisfaction_2\t\n",
        "- YearsWithCurrManager\t\n",
        "- JobRole_Research Director\t\n",
        "- TotalWorkingYears\t\n",
        "- JobSatisfaction\t\n",
        "\n",
        "**The coefficients that positively and negatively affect the attrition rate seem to be quite similar for logistic regression and LDA. This means they are capturing the same pattern and giving nearly the same conclusions from the dataset.**"
      ]
    },
    {
      "cell_type": "markdown",
      "id": "9889cd8a",
      "metadata": {
        "id": "9889cd8a"
      },
      "source": [
        "The coefficients of the logistic regression model give us the log of odds, which is hard to interpret in the real world. We can convert the log of odds into odds by taking its exponential."
      ]
    },
    {
      "cell_type": "code",
      "execution_count": 24,
      "id": "51c6111b",
      "metadata": {
        "id": "51c6111b",
        "outputId": "fef4b635-dbf3-4b47-c4f2-0e3c14f58252",
        "colab": {
          "base_uri": "https://localhost:8080/",
          "height": 1000
        }
      },
      "outputs": [
        {
          "output_type": "execute_result",
          "data": {
            "text/plain": [
              "                                       odds\n",
              "OverTime                           2.606567\n",
              "BusinessTravel_Travel_Frequently   2.046326\n",
              "MaritalStatus_Single               1.855483\n",
              "YearsSinceLastPromotion            1.738348\n",
              "YearsAtCompany                     1.687483\n",
              "NumCompaniesWorked                 1.650597\n",
              "Department_Sales                   1.621491\n",
              "Department_Research & Development  1.620638\n",
              "BusinessTravel_Travel_Rarely       1.554858\n",
              "DistanceFromHome                   1.468653\n",
              "JobRole_Sales Executive            1.466903\n",
              "MaritalStatus_Married              1.334210\n",
              "JobRole_Human Resources            1.325929\n",
              "JobLevel_5                         1.309504\n",
              "JobRole_Laboratory Technician      1.194718\n",
              "JobRole_Sales Representative       1.189229\n",
              "Gender_Male                        1.180341\n",
              "Education_3                        1.172042\n",
              "Education_2                        1.140037\n",
              "Education_4                        1.119916\n",
              "JobRole_Manufacturing Director     1.118820\n",
              "Education_5                        1.096424\n",
              "EducationField_Technical Degree    1.086849\n",
              "MonthlyRate                        1.061752\n",
              "HourlyRate                         1.049181\n",
              "JobLevel_3                         1.007064\n",
              "EducationField_Marketing           0.986369\n",
              "JobRole_Manager                    0.968457\n",
              "PerformanceRating                  0.967979\n",
              "PercentSalaryHike                  0.928119\n",
              "DailyRate                          0.908691\n",
              "StockOptionLevel                   0.898120\n",
              "EducationField_Other               0.870870\n",
              "JobLevel_4                         0.851102\n",
              "WorkLifeBalance                    0.808470\n",
              "JobRole_Research Scientist         0.791907\n",
              "TrainingTimesLastYear              0.786194\n",
              "Age                                0.759438\n",
              "RelationshipSatisfaction           0.731835\n",
              "EducationField_Life Sciences       0.726853\n",
              "EducationField_Medical             0.701742\n",
              "JobRole_Research Director          0.698219\n",
              "JobSatisfaction                    0.688234\n",
              "YearsWithCurrManager               0.681894\n",
              "YearsInCurrentRole                 0.644703\n",
              "EnvironmentSatisfaction_2          0.640844\n",
              "JobInvolvement_2                   0.615475\n",
              "TotalWorkingYears                  0.608214\n",
              "EnvironmentSatisfaction_3          0.605369\n",
              "MonthlyIncome                      0.548884\n",
              "JobInvolvement_4                   0.526637\n",
              "EnvironmentSatisfaction_4          0.521205\n",
              "JobLevel_2                         0.489678\n",
              "JobInvolvement_3                   0.472151"
            ],
            "text/html": [
              "\n",
              "  <div id=\"df-c1f41e21-3aaa-4c0d-aa84-fcccabd25430\">\n",
              "    <div class=\"colab-df-container\">\n",
              "      <div>\n",
              "<style scoped>\n",
              "    .dataframe tbody tr th:only-of-type {\n",
              "        vertical-align: middle;\n",
              "    }\n",
              "\n",
              "    .dataframe tbody tr th {\n",
              "        vertical-align: top;\n",
              "    }\n",
              "\n",
              "    .dataframe thead th {\n",
              "        text-align: right;\n",
              "    }\n",
              "</style>\n",
              "<table border=\"1\" class=\"dataframe\">\n",
              "  <thead>\n",
              "    <tr style=\"text-align: right;\">\n",
              "      <th></th>\n",
              "      <th>odds</th>\n",
              "    </tr>\n",
              "  </thead>\n",
              "  <tbody>\n",
              "    <tr>\n",
              "      <th>OverTime</th>\n",
              "      <td>2.606567</td>\n",
              "    </tr>\n",
              "    <tr>\n",
              "      <th>BusinessTravel_Travel_Frequently</th>\n",
              "      <td>2.046326</td>\n",
              "    </tr>\n",
              "    <tr>\n",
              "      <th>MaritalStatus_Single</th>\n",
              "      <td>1.855483</td>\n",
              "    </tr>\n",
              "    <tr>\n",
              "      <th>YearsSinceLastPromotion</th>\n",
              "      <td>1.738348</td>\n",
              "    </tr>\n",
              "    <tr>\n",
              "      <th>YearsAtCompany</th>\n",
              "      <td>1.687483</td>\n",
              "    </tr>\n",
              "    <tr>\n",
              "      <th>NumCompaniesWorked</th>\n",
              "      <td>1.650597</td>\n",
              "    </tr>\n",
              "    <tr>\n",
              "      <th>Department_Sales</th>\n",
              "      <td>1.621491</td>\n",
              "    </tr>\n",
              "    <tr>\n",
              "      <th>Department_Research &amp; Development</th>\n",
              "      <td>1.620638</td>\n",
              "    </tr>\n",
              "    <tr>\n",
              "      <th>BusinessTravel_Travel_Rarely</th>\n",
              "      <td>1.554858</td>\n",
              "    </tr>\n",
              "    <tr>\n",
              "      <th>DistanceFromHome</th>\n",
              "      <td>1.468653</td>\n",
              "    </tr>\n",
              "    <tr>\n",
              "      <th>JobRole_Sales Executive</th>\n",
              "      <td>1.466903</td>\n",
              "    </tr>\n",
              "    <tr>\n",
              "      <th>MaritalStatus_Married</th>\n",
              "      <td>1.334210</td>\n",
              "    </tr>\n",
              "    <tr>\n",
              "      <th>JobRole_Human Resources</th>\n",
              "      <td>1.325929</td>\n",
              "    </tr>\n",
              "    <tr>\n",
              "      <th>JobLevel_5</th>\n",
              "      <td>1.309504</td>\n",
              "    </tr>\n",
              "    <tr>\n",
              "      <th>JobRole_Laboratory Technician</th>\n",
              "      <td>1.194718</td>\n",
              "    </tr>\n",
              "    <tr>\n",
              "      <th>JobRole_Sales Representative</th>\n",
              "      <td>1.189229</td>\n",
              "    </tr>\n",
              "    <tr>\n",
              "      <th>Gender_Male</th>\n",
              "      <td>1.180341</td>\n",
              "    </tr>\n",
              "    <tr>\n",
              "      <th>Education_3</th>\n",
              "      <td>1.172042</td>\n",
              "    </tr>\n",
              "    <tr>\n",
              "      <th>Education_2</th>\n",
              "      <td>1.140037</td>\n",
              "    </tr>\n",
              "    <tr>\n",
              "      <th>Education_4</th>\n",
              "      <td>1.119916</td>\n",
              "    </tr>\n",
              "    <tr>\n",
              "      <th>JobRole_Manufacturing Director</th>\n",
              "      <td>1.118820</td>\n",
              "    </tr>\n",
              "    <tr>\n",
              "      <th>Education_5</th>\n",
              "      <td>1.096424</td>\n",
              "    </tr>\n",
              "    <tr>\n",
              "      <th>EducationField_Technical Degree</th>\n",
              "      <td>1.086849</td>\n",
              "    </tr>\n",
              "    <tr>\n",
              "      <th>MonthlyRate</th>\n",
              "      <td>1.061752</td>\n",
              "    </tr>\n",
              "    <tr>\n",
              "      <th>HourlyRate</th>\n",
              "      <td>1.049181</td>\n",
              "    </tr>\n",
              "    <tr>\n",
              "      <th>JobLevel_3</th>\n",
              "      <td>1.007064</td>\n",
              "    </tr>\n",
              "    <tr>\n",
              "      <th>EducationField_Marketing</th>\n",
              "      <td>0.986369</td>\n",
              "    </tr>\n",
              "    <tr>\n",
              "      <th>JobRole_Manager</th>\n",
              "      <td>0.968457</td>\n",
              "    </tr>\n",
              "    <tr>\n",
              "      <th>PerformanceRating</th>\n",
              "      <td>0.967979</td>\n",
              "    </tr>\n",
              "    <tr>\n",
              "      <th>PercentSalaryHike</th>\n",
              "      <td>0.928119</td>\n",
              "    </tr>\n",
              "    <tr>\n",
              "      <th>DailyRate</th>\n",
              "      <td>0.908691</td>\n",
              "    </tr>\n",
              "    <tr>\n",
              "      <th>StockOptionLevel</th>\n",
              "      <td>0.898120</td>\n",
              "    </tr>\n",
              "    <tr>\n",
              "      <th>EducationField_Other</th>\n",
              "      <td>0.870870</td>\n",
              "    </tr>\n",
              "    <tr>\n",
              "      <th>JobLevel_4</th>\n",
              "      <td>0.851102</td>\n",
              "    </tr>\n",
              "    <tr>\n",
              "      <th>WorkLifeBalance</th>\n",
              "      <td>0.808470</td>\n",
              "    </tr>\n",
              "    <tr>\n",
              "      <th>JobRole_Research Scientist</th>\n",
              "      <td>0.791907</td>\n",
              "    </tr>\n",
              "    <tr>\n",
              "      <th>TrainingTimesLastYear</th>\n",
              "      <td>0.786194</td>\n",
              "    </tr>\n",
              "    <tr>\n",
              "      <th>Age</th>\n",
              "      <td>0.759438</td>\n",
              "    </tr>\n",
              "    <tr>\n",
              "      <th>RelationshipSatisfaction</th>\n",
              "      <td>0.731835</td>\n",
              "    </tr>\n",
              "    <tr>\n",
              "      <th>EducationField_Life Sciences</th>\n",
              "      <td>0.726853</td>\n",
              "    </tr>\n",
              "    <tr>\n",
              "      <th>EducationField_Medical</th>\n",
              "      <td>0.701742</td>\n",
              "    </tr>\n",
              "    <tr>\n",
              "      <th>JobRole_Research Director</th>\n",
              "      <td>0.698219</td>\n",
              "    </tr>\n",
              "    <tr>\n",
              "      <th>JobSatisfaction</th>\n",
              "      <td>0.688234</td>\n",
              "    </tr>\n",
              "    <tr>\n",
              "      <th>YearsWithCurrManager</th>\n",
              "      <td>0.681894</td>\n",
              "    </tr>\n",
              "    <tr>\n",
              "      <th>YearsInCurrentRole</th>\n",
              "      <td>0.644703</td>\n",
              "    </tr>\n",
              "    <tr>\n",
              "      <th>EnvironmentSatisfaction_2</th>\n",
              "      <td>0.640844</td>\n",
              "    </tr>\n",
              "    <tr>\n",
              "      <th>JobInvolvement_2</th>\n",
              "      <td>0.615475</td>\n",
              "    </tr>\n",
              "    <tr>\n",
              "      <th>TotalWorkingYears</th>\n",
              "      <td>0.608214</td>\n",
              "    </tr>\n",
              "    <tr>\n",
              "      <th>EnvironmentSatisfaction_3</th>\n",
              "      <td>0.605369</td>\n",
              "    </tr>\n",
              "    <tr>\n",
              "      <th>MonthlyIncome</th>\n",
              "      <td>0.548884</td>\n",
              "    </tr>\n",
              "    <tr>\n",
              "      <th>JobInvolvement_4</th>\n",
              "      <td>0.526637</td>\n",
              "    </tr>\n",
              "    <tr>\n",
              "      <th>EnvironmentSatisfaction_4</th>\n",
              "      <td>0.521205</td>\n",
              "    </tr>\n",
              "    <tr>\n",
              "      <th>JobLevel_2</th>\n",
              "      <td>0.489678</td>\n",
              "    </tr>\n",
              "    <tr>\n",
              "      <th>JobInvolvement_3</th>\n",
              "      <td>0.472151</td>\n",
              "    </tr>\n",
              "  </tbody>\n",
              "</table>\n",
              "</div>\n",
              "      <button class=\"colab-df-convert\" onclick=\"convertToInteractive('df-c1f41e21-3aaa-4c0d-aa84-fcccabd25430')\"\n",
              "              title=\"Convert this dataframe to an interactive table.\"\n",
              "              style=\"display:none;\">\n",
              "        \n",
              "  <svg xmlns=\"http://www.w3.org/2000/svg\" height=\"24px\"viewBox=\"0 0 24 24\"\n",
              "       width=\"24px\">\n",
              "    <path d=\"M0 0h24v24H0V0z\" fill=\"none\"/>\n",
              "    <path d=\"M18.56 5.44l.94 2.06.94-2.06 2.06-.94-2.06-.94-.94-2.06-.94 2.06-2.06.94zm-11 1L8.5 8.5l.94-2.06 2.06-.94-2.06-.94L8.5 2.5l-.94 2.06-2.06.94zm10 10l.94 2.06.94-2.06 2.06-.94-2.06-.94-.94-2.06-.94 2.06-2.06.94z\"/><path d=\"M17.41 7.96l-1.37-1.37c-.4-.4-.92-.59-1.43-.59-.52 0-1.04.2-1.43.59L10.3 9.45l-7.72 7.72c-.78.78-.78 2.05 0 2.83L4 21.41c.39.39.9.59 1.41.59.51 0 1.02-.2 1.41-.59l7.78-7.78 2.81-2.81c.8-.78.8-2.07 0-2.86zM5.41 20L4 18.59l7.72-7.72 1.47 1.35L5.41 20z\"/>\n",
              "  </svg>\n",
              "      </button>\n",
              "      \n",
              "  <style>\n",
              "    .colab-df-container {\n",
              "      display:flex;\n",
              "      flex-wrap:wrap;\n",
              "      gap: 12px;\n",
              "    }\n",
              "\n",
              "    .colab-df-convert {\n",
              "      background-color: #E8F0FE;\n",
              "      border: none;\n",
              "      border-radius: 50%;\n",
              "      cursor: pointer;\n",
              "      display: none;\n",
              "      fill: #1967D2;\n",
              "      height: 32px;\n",
              "      padding: 0 0 0 0;\n",
              "      width: 32px;\n",
              "    }\n",
              "\n",
              "    .colab-df-convert:hover {\n",
              "      background-color: #E2EBFA;\n",
              "      box-shadow: 0px 1px 2px rgba(60, 64, 67, 0.3), 0px 1px 3px 1px rgba(60, 64, 67, 0.15);\n",
              "      fill: #174EA6;\n",
              "    }\n",
              "\n",
              "    [theme=dark] .colab-df-convert {\n",
              "      background-color: #3B4455;\n",
              "      fill: #D2E3FC;\n",
              "    }\n",
              "\n",
              "    [theme=dark] .colab-df-convert:hover {\n",
              "      background-color: #434B5C;\n",
              "      box-shadow: 0px 1px 3px 1px rgba(0, 0, 0, 0.15);\n",
              "      filter: drop-shadow(0px 1px 2px rgba(0, 0, 0, 0.3));\n",
              "      fill: #FFFFFF;\n",
              "    }\n",
              "  </style>\n",
              "\n",
              "      <script>\n",
              "        const buttonEl =\n",
              "          document.querySelector('#df-c1f41e21-3aaa-4c0d-aa84-fcccabd25430 button.colab-df-convert');\n",
              "        buttonEl.style.display =\n",
              "          google.colab.kernel.accessAllowed ? 'block' : 'none';\n",
              "\n",
              "        async function convertToInteractive(key) {\n",
              "          const element = document.querySelector('#df-c1f41e21-3aaa-4c0d-aa84-fcccabd25430');\n",
              "          const dataTable =\n",
              "            await google.colab.kernel.invokeFunction('convertToInteractive',\n",
              "                                                     [key], {});\n",
              "          if (!dataTable) return;\n",
              "\n",
              "          const docLinkHtml = 'Like what you see? Visit the ' +\n",
              "            '<a target=\"_blank\" href=https://colab.research.google.com/notebooks/data_table.ipynb>data table notebook</a>'\n",
              "            + ' to learn more about interactive tables.';\n",
              "          element.innerHTML = '';\n",
              "          dataTable['output_type'] = 'display_data';\n",
              "          await google.colab.output.renderOutput(dataTable, element);\n",
              "          const docLink = document.createElement('div');\n",
              "          docLink.innerHTML = docLinkHtml;\n",
              "          element.appendChild(docLink);\n",
              "        }\n",
              "      </script>\n",
              "    </div>\n",
              "  </div>\n",
              "  "
            ]
          },
          "metadata": {},
          "execution_count": 24
        }
      ],
      "source": [
        "odds = np.exp(lg.coef_[0]) # Finding the odds； np.exp()计算输入数组中e^x的每个值\n",
        "\n",
        "# Adding the odds to a DataFrame and sorting the values\n",
        "pd.DataFrame(odds, x_train.columns, columns = ['odds']).sort_values(by = 'odds', ascending = False) "
      ]
    },
    {
      "cell_type": "markdown",
      "id": "8e9f814f",
      "metadata": {
        "id": "8e9f814f"
      },
      "source": [
        "**Observations:**\n",
        "\n",
        "- The odds of an employee working overtime to attrite are **2.6 times** the odds of one who is not working overtime, probably because working overtime is not sustainable for an extended duration for any employee, and may lead to burnout and job dissatisfaction.\n",
        "- The odds of an employee traveling frequently to attrite are **double** the odds of an employee who doesn't travel as often.\n",
        "- The odds of single employees attriting are about **1.85 times (85% higher than)** the odds of an employee with another marital status."
      ]
    },
    {
      "cell_type": "markdown",
      "id": "6648ecda",
      "metadata": {
        "id": "6648ecda"
      },
      "source": [
        "**The Precision-Recall Curve for Logistic Regression**"
      ]
    },
    {
      "cell_type": "code",
      "execution_count": 25,
      "id": "d30bd485",
      "metadata": {
        "id": "d30bd485",
        "outputId": "d0ec6fb1-560f-4e01-db83-07ad877de8fa",
        "colab": {
          "base_uri": "https://localhost:8080/",
          "height": 446
        }
      },
      "outputs": [
        {
          "output_type": "display_data",
          "data": {
            "text/plain": [
              "<Figure size 720x504 with 1 Axes>"
            ],
            "image/png": "[encoded data removed]"
          },
          "metadata": {
            "needs_background": "light"
          }
        }
      ],
      "source": [
        "y_scores_lg = lg.predict_proba(x_train) # predict_proba gives the probability of each observation belonging to each class\n",
        "\n",
        "\n",
        "precisions_lg, recalls_lg, thresholds_lg = precision_recall_curve(y_train, y_scores_lg[:, 1])\n",
        "\n",
        "# Plot values of precisions, recalls, and thresholds\n",
        "plt.figure(figsize = (10, 7))\n",
        "\n",
        "plt.plot(thresholds_lg, precisions_lg[:-1], 'b--', label = 'precision')\n",
        "\n",
        "plt.plot(thresholds_lg, recalls_lg[:-1], 'g--', label = 'recall')\n",
        "\n",
        "plt.xlabel('Threshold')\n",
        "\n",
        "plt.legend(loc = 'upper left')\n",
        "\n",
        "plt.ylim([0, 1])\n",
        "\n",
        "plt.show()"
      ]
    },
    {
      "cell_type": "markdown",
      "id": "56ac99fc",
      "metadata": {
        "id": "56ac99fc"
      },
      "source": [
        "**Observation:**\n",
        "- We can see that the precision and the recall are balanced for a threshold of about **0.35**.\n",
        "\n",
        "**Let's find out the performance of the model at this threshold.**"
      ]
    },
    {
      "cell_type": "code",
      "execution_count": 26,
      "id": "5406cc11",
      "metadata": {
        "id": "5406cc11",
        "outputId": "215fcad4-798b-4884-e431-8bb3d4e929c1",
        "colab": {
          "base_uri": "https://localhost:8080/",
          "height": 497
        }
      },
      "outputs": [
        {
          "output_type": "stream",
          "name": "stdout",
          "text": [
            "              precision    recall  f1-score   support\n",
            "\n",
            "           0       0.93      0.93      0.93      1726\n",
            "           1       0.65      0.64      0.64       332\n",
            "\n",
            "    accuracy                           0.89      2058\n",
            "   macro avg       0.79      0.79      0.79      2058\n",
            "weighted avg       0.89      0.89      0.89      2058\n",
            "\n"
          ]
        },
        {
          "output_type": "display_data",
          "data": {
            "text/plain": [
              "<Figure size 576x360 with 2 Axes>"
            ],
            "image/png": "[encoded data removed]"
          },
          "metadata": {
            "needs_background": "light"
          }
        }
      ],
      "source": [
        "optimal_threshold1 = .35\n",
        "\n",
        "y_pred_train = lg.predict_proba(x_train)\n",
        "\n",
        "metrics_score(y_train, y_pred_train[:, 1] > optimal_threshold1)"
      ]
    },
    {
      "cell_type": "markdown",
      "id": "9ec67b5c",
      "metadata": {
        "id": "9ec67b5c"
      },
      "source": [
        "**Observations:**\n",
        "\n",
        "- **The model performance has improved. The recall has increased significantly for class 1.**\n",
        "- Let's check the performance on the test data."
      ]
    },
    {
      "cell_type": "code",
      "execution_count": 27,
      "id": "422f6828",
      "metadata": {
        "id": "422f6828",
        "outputId": "34a518e3-664f-4111-f481-c108418e0e2d",
        "colab": {
          "base_uri": "https://localhost:8080/",
          "height": 495
        }
      },
      "outputs": [
        {
          "output_type": "stream",
          "name": "stdout",
          "text": [
            "              precision    recall  f1-score   support\n",
            "\n",
            "           0       0.93      0.93      0.93       740\n",
            "           1       0.62      0.63      0.63       142\n",
            "\n",
            "    accuracy                           0.88       882\n",
            "   macro avg       0.78      0.78      0.78       882\n",
            "weighted avg       0.88      0.88      0.88       882\n",
            "\n"
          ]
        },
        {
          "output_type": "display_data",
          "data": {
            "text/plain": [
              "<Figure size 576x360 with 2 Axes>"
            ],
            "image/png": "[encoded data removed]"
          },
          "metadata": {
            "needs_background": "light"
          }
        }
      ],
      "source": [
        "optimal_threshold1 = .35\n",
        "\n",
        "y_pred_test = lg.predict_proba(x_test)\n",
        "\n",
        "metrics_score(y_test, y_pred_test[:, 1] > optimal_threshold1)"
      ]
    },
    {
      "cell_type": "markdown",
      "id": "bb7911d8",
      "metadata": {
        "id": "bb7911d8"
      },
      "source": [
        "**Observations:**\n",
        "\n",
        "- The model is giving a **similar performance on the test and the train datasets**, i.e., the model is giving a generalized performance.\n",
        "- **The recall of the test data has increased** while at the same time, the precision has decreased slightly, which is to be expected while adjusting the threshold.\n",
        "- The average recall and precision for the model are good but let's see if we can get even better performance using other algorithms. "
      ]
    },
    {
      "cell_type": "markdown",
      "id": "831289a3",
      "metadata": {
        "id": "831289a3"
      },
      "source": [
        "### **K-Nearest Neighbors (K-NN)**"
      ]
    },
    {
      "cell_type": "code",
      "execution_count": 28,
      "id": "3268e18b",
      "metadata": {
        "colab": {
          "base_uri": "https://localhost:8080/"
        },
        "id": "3268e18b",
        "outputId": "7e25927c-2a50-4cc3-8032-a08c1f19ab80"
      },
      "outputs": [
        {
          "output_type": "execute_result",
          "data": {
            "text/plain": [
              "{1: [0.0, 0.08300970873786404],\n",
              " 2: [0.05479951397326853, 0.14579288025889972],\n",
              " 3: [0.06674767112191171, 0.17014563106796124],\n",
              " 4: [0.11725394896719323, 0.15517799352750808],\n",
              " 5: [0.111624139327663, 0.155663430420712],\n",
              " 6: [0.12764277035236943, 0.15825242718446608],\n",
              " 7: [0.12363304981773995, 0.14741100323624598],\n",
              " 8: [0.13633049817739978, 0.15177993527508093],\n",
              " 9: [0.13205751316322398, 0.14676375404530745],\n",
              " 10: [0.13924665856622115, 0.15299352750809062],\n",
              " 11: [0.13673552045362497, 0.14247572815533982],\n",
              " 12: [0.1418185500202511, 0.14700647249190946],\n",
              " 13: [0.1388213851761847, 0.14692556634304213],\n",
              " 14: [0.1439854191980559, 0.15857605177993533]}"
            ]
          },
          "metadata": {},
          "execution_count": 28
        }
      ],
      "source": [
        "knn = KNeighborsClassifier()\n",
        "\n",
        "# We select the optimal value of K for which the error rate is the least in the validation data\n",
        "# Let us loop over a few values of K to determine the optimal value of K\n",
        "\n",
        "train_error = []\n",
        "\n",
        "test_error = []\n",
        "\n",
        "knn_many_split = {}\n",
        "\n",
        "error_df_knn = pd.DataFrame()\n",
        "\n",
        "features = X.columns\n",
        "\n",
        "for k in range(1, 15):\n",
        "    train_error = []\n",
        "    \n",
        "    test_error = []\n",
        "    \n",
        "    lista = []\n",
        "    \n",
        "    knn = KNeighborsClassifier(n_neighbors = k)\n",
        "    \n",
        "    for i in range(30):\n",
        "        x_train_new, x_val, y_train_new, y_val = train_test_split(x_train, y_train, test_size = 0.20)\n",
        "    \n",
        "        # Fitting K-NN on the training data\n",
        "        knn.fit(x_train_new, y_train_new)\n",
        "        \n",
        "        # Calculating error on the training data and the validation data\n",
        "        train_error.append(1 - knn.score(x_train_new, y_train_new)) \n",
        "        \n",
        "        test_error.append(1 - knn.score(x_val, y_val))\n",
        "    \n",
        "    lista.append(sum(train_error)/len(train_error))\n",
        "    \n",
        "    lista.append(sum(test_error)/len(test_error))\n",
        "    \n",
        "    knn_many_split[k] = lista\n",
        "\n",
        "knn_many_split"
      ]
    },
    {
      "cell_type": "code",
      "execution_count": 29,
      "id": "207e2382",
      "metadata": {
        "colab": {
          "base_uri": "https://localhost:8080/",
          "height": 374
        },
        "id": "207e2382",
        "outputId": "4b7b1da5-9704-4a60-ad0f-cddad00ba4a6"
      },
      "outputs": [
        {
          "output_type": "display_data",
          "data": {
            "text/plain": [
              "<Figure size 720x432 with 1 Axes>"
            ],
            "image/png": "[encoded data removed]"
          },
          "metadata": {
            "needs_background": "light"
          }
        }
      ],
      "source": [
        "kltest = []\n",
        "\n",
        "vltest = []\n",
        "\n",
        "for k, v in knn_many_split.items():\n",
        "    kltest.append(k)\n",
        "    \n",
        "    vltest.append(knn_many_split[k][1])\n",
        "\n",
        "kltrain = []\n",
        "\n",
        "vltrain = []\n",
        "\n",
        "for k, v in knn_many_split.items():\n",
        "    kltrain.append(k)\n",
        "    \n",
        "    vltrain.append(knn_many_split[k][0])\n",
        "\n",
        "# Plotting K vs Error\n",
        "plt.figure(figsize = (10, 6))\n",
        "\n",
        "plt.plot(kltest, vltest, label = 'test' )\n",
        "\n",
        "plt.plot(kltrain, vltrain, label = 'train')\n",
        "\n",
        "plt.legend()\n",
        "\n",
        "plt.show()"
      ]
    },
    {
      "cell_type": "markdown",
      "id": "c945f42b",
      "metadata": {
        "id": "c945f42b"
      },
      "source": [
        "**Observations:**\n",
        "- We can see that the test error (error on the validation data) is more or less similar for K greater than or equal to 5. But the training error keeps increasing with increasing K.\n",
        "- This implies that we would get a lower train and test error if we choose K = 5. Also, if we choose a higher value of K, the model would get biased due to the imbalance in the dataset.\n",
        "- So, let's fit the K-NN model with **K=5** on the entire training set."
      ]
    },
    {
      "cell_type": "code",
      "execution_count": 30,
      "id": "1a7baa42",
      "metadata": {
        "id": "1a7baa42"
      },
      "outputs": [],
      "source": [
        "# Define K-NN model\n",
        "knn = KNeighborsClassifier(n_neighbors = 5)"
      ]
    },
    {
      "cell_type": "code",
      "execution_count": 31,
      "id": "3af87fdc",
      "metadata": {
        "colab": {
          "base_uri": "https://localhost:8080/"
        },
        "id": "3af87fdc",
        "outputId": "3f4ba6f5-f97c-490d-b940-9a6f29fea64f"
      },
      "outputs": [
        {
          "output_type": "execute_result",
          "data": {
            "text/plain": [
              "KNeighborsClassifier()"
            ]
          },
          "metadata": {},
          "execution_count": 31
        }
      ],
      "source": [
        "# Fitting data to the K-NN model\n",
        "knn.fit(x_train,y_train)"
      ]
    },
    {
      "cell_type": "code",
      "execution_count": 32,
      "id": "09d40218",
      "metadata": {
        "colab": {
          "base_uri": "https://localhost:8080/",
          "height": 495
        },
        "id": "09d40218",
        "outputId": "c43ce369-c888-4b98-8cfd-c228d3990008"
      },
      "outputs": [
        {
          "output_type": "stream",
          "name": "stdout",
          "text": [
            "              precision    recall  f1-score   support\n",
            "\n",
            "           0       0.90      0.98      0.94      1726\n",
            "           1       0.80      0.43      0.56       332\n",
            "\n",
            "    accuracy                           0.89      2058\n",
            "   macro avg       0.85      0.70      0.75      2058\n",
            "weighted avg       0.88      0.89      0.88      2058\n",
            "\n"
          ]
        },
        {
          "output_type": "display_data",
          "data": {
            "text/plain": [
              "<Figure size 576x360 with 2 Axes>"
            ],
            "image/png": "[encoded data removed]"
          },
          "metadata": {
            "needs_background": "light"
          }
        }
      ],
      "source": [
        "# Checking the performance of K-NN model on the training data\n",
        "y_pred_train_knn = knn.predict(x_train)\n",
        "\n",
        "metrics_score(y_train, y_pred_train_knn)"
      ]
    },
    {
      "cell_type": "code",
      "execution_count": 33,
      "id": "dddf6a44",
      "metadata": {
        "colab": {
          "base_uri": "https://localhost:8080/",
          "height": 495
        },
        "id": "dddf6a44",
        "outputId": "b8fd5773-5297-45c0-b462-71efe49399b0"
      },
      "outputs": [
        {
          "output_type": "stream",
          "name": "stdout",
          "text": [
            "              precision    recall  f1-score   support\n",
            "\n",
            "           0       0.88      0.97      0.92       740\n",
            "           1       0.67      0.32      0.43       142\n",
            "\n",
            "    accuracy                           0.87       882\n",
            "   macro avg       0.78      0.64      0.68       882\n",
            "weighted avg       0.85      0.87      0.84       882\n",
            "\n"
          ]
        },
        {
          "output_type": "display_data",
          "data": {
            "text/plain": [
              "<Figure size 576x360 with 2 Axes>"
            ],
            "image/png": "[encoded data removed]"
          },
          "metadata": {
            "needs_background": "light"
          }
        }
      ],
      "source": [
        "# Checking the performance of K-NN model on the testing data\n",
        "y_pred_test_knn = knn.predict(x_test)\n",
        "\n",
        "metrics_score(y_test, y_pred_test_knn)"
      ]
    },
    {
      "cell_type": "markdown",
      "id": "d4e37bae",
      "metadata": {
        "id": "d4e37bae"
      },
      "source": [
        "**Observation:**\n",
        "- The model shows there is an imbalanced problem in the datasets. \n",
        "- Both precision and recall are pretty low in this model, which means this model have higher false negative and false positive. \n",
        "- Even though it gives a slightly better performance on the train in comparison to the test data but the overall performance is not good. Let's see if we can improve on that."
      ]
    },
    {
      "cell_type": "markdown",
      "id": "3d6bb20a",
      "metadata": {
        "id": "3d6bb20a"
      },
      "source": [
        "### **Using GridSearchCV for Hyperparameter tuning of the model**"
      ]
    },
    {
      "cell_type": "markdown",
      "id": "9b47b564",
      "metadata": {
        "id": "9b47b564"
      },
      "source": [
        "* Hyperparameter tuning is tricky in the sense that there is no direct way to calculate how a change in the hyperparameter value will reduce the loss of your model, so we usually resort to experimentation.\n",
        "* **Grid search** is a model tuning technique that attempts to compute the optimum values of hyperparameters.\n",
        "* It is an exhaustive search that is performed on specific parameter values of a model.\n",
        "* The parameters of the estimator/model used to apply these methods are optimized by cross-validated grid-search over a parameter grid."
      ]
    },
    {
      "cell_type": "markdown",
      "id": "727551d2",
      "metadata": {
        "id": "727551d2"
      },
      "source": [
        "- **n_neighbors**\n",
        "\n",
        "    - Number of neighbors to use.\n",
        "\n",
        "\n",
        "- **weights={'uniform', 'distance'}**\n",
        "    - uniform : uniform weights. All points in each neighborhood are weighted equally.\n",
        "    - distance : weight points by the inverse of their distance. In this case, the closest neighbors of a query point will have a greater influence than neighbors that are further away.\n",
        "\n",
        "\n",
        "- **p**\n",
        "    - When p = 1, this is equivalent to using Manhattan_distance (L1), and Euclidean_distance (L2) is used for p = 2."
      ]
    },
    {
      "cell_type": "code",
      "execution_count": 34,
      "id": "89b7abf5",
      "metadata": {
        "colab": {
          "base_uri": "https://localhost:8080/"
        },
        "id": "89b7abf5",
        "outputId": "fd8be78a-bcaf-4362-d10d-012616b48440"
      },
      "outputs": [
        {
          "output_type": "stream",
          "name": "stdout",
          "text": [
            "KNeighborsClassifier(n_neighbors=4, p=1, weights='distance')\n"
          ]
        }
      ],
      "source": [
        "params_knn = {'n_neighbors': np.arange(3, 15), 'weights': ['uniform', 'distance'], 'p': [1, 2]}\n",
        "\n",
        "grid_knn = GridSearchCV(estimator = knn, param_grid = params_knn, scoring = 'recall', cv = 10)\n",
        "\n",
        "model_knn = grid_knn.fit(x_train,y_train)\n",
        "\n",
        "knn_estimator = model_knn.best_estimator_\n",
        "\n",
        "print(knn_estimator)"
      ]
    },
    {
      "cell_type": "markdown",
      "id": "7b6ff2da",
      "metadata": {
        "id": "7b6ff2da"
      },
      "source": [
        "- We have found the best hyperparameters for the K-NN classifier. Let's use these parameters to build the new K-NN model and find the recall of that model."
      ]
    },
    {
      "cell_type": "code",
      "execution_count": 35,
      "id": "fefef19b",
      "metadata": {
        "colab": {
          "base_uri": "https://localhost:8080/"
        },
        "id": "fefef19b",
        "outputId": "359c78ad-72f0-40cd-cde3-b163030f1f43"
      },
      "outputs": [
        {
          "output_type": "execute_result",
          "data": {
            "text/plain": [
              "KNeighborsClassifier(n_neighbors=4, p=1, weights='distance')"
            ]
          },
          "metadata": {},
          "execution_count": 35
        }
      ],
      "source": [
        "# Fit the best estimator on the training data\n",
        "knn_estimator.fit(x_train, y_train)"
      ]
    },
    {
      "cell_type": "code",
      "execution_count": 36,
      "id": "f1b43195",
      "metadata": {
        "colab": {
          "base_uri": "https://localhost:8080/",
          "height": 495
        },
        "id": "f1b43195",
        "outputId": "6d1f2b94-5662-42e8-d7d4-f3c36b1ec02f"
      },
      "outputs": [
        {
          "output_type": "stream",
          "name": "stdout",
          "text": [
            "              precision    recall  f1-score   support\n",
            "\n",
            "           0       1.00      1.00      1.00      1726\n",
            "           1       1.00      1.00      1.00       332\n",
            "\n",
            "    accuracy                           1.00      2058\n",
            "   macro avg       1.00      1.00      1.00      2058\n",
            "weighted avg       1.00      1.00      1.00      2058\n",
            "\n"
          ]
        },
        {
          "output_type": "display_data",
          "data": {
            "text/plain": [
              "<Figure size 576x360 with 2 Axes>"
            ],
            "image/png": "[encoded data removed]"
          },
          "metadata": {
            "needs_background": "light"
          }
        }
      ],
      "source": [
        "y_pred_train_knn_estimator = knn_estimator.predict(x_train)\n",
        "\n",
        "metrics_score(y_train, y_pred_train_knn_estimator)"
      ]
    },
    {
      "cell_type": "code",
      "execution_count": 37,
      "id": "e68927b2",
      "metadata": {
        "colab": {
          "base_uri": "https://localhost:8080/",
          "height": 495
        },
        "id": "e68927b2",
        "outputId": "eed2477f-f86b-4e31-fb59-12ee9e89d14c"
      },
      "outputs": [
        {
          "output_type": "stream",
          "name": "stdout",
          "text": [
            "              precision    recall  f1-score   support\n",
            "\n",
            "           0       0.97      0.97      0.97       740\n",
            "           1       0.86      0.83      0.84       142\n",
            "\n",
            "    accuracy                           0.95       882\n",
            "   macro avg       0.91      0.90      0.91       882\n",
            "weighted avg       0.95      0.95      0.95       882\n",
            "\n"
          ]
        },
        {
          "output_type": "display_data",
          "data": {
            "text/plain": [
              "<Figure size 576x360 with 2 Axes>"
            ],
            "image/png": "[encoded data removed]"
          },
          "metadata": {
            "needs_background": "light"
          }
        }
      ],
      "source": [
        "y_pred_test_knn_estimator = knn_estimator.predict(x_test)\n",
        "\n",
        "metrics_score(y_test, y_pred_test_knn_estimator)"
      ]
    },
    {
      "cell_type": "markdown",
      "id": "e7db61ca",
      "metadata": {
        "id": "e7db61ca"
      },
      "source": [
        "**Observations:**\n",
        "\n",
        "- This model seems to be overfitting but **the results have significantly improved** in comparison to previous models.\n",
        "- **Test recall and precision have significantly increased** by tuning the K-NN classifier.\n",
        "- This appears to be a high-performing model that the company can use to control the attrition rate. There is about an **83% chance** that the model will detect employees who are likely to leave the company, and the company can take the appropriate action."
      ]
    },
    {
      "cell_type": "markdown",
      "id": "32ec8fcc",
      "metadata": {
        "id": "32ec8fcc"
      },
      "source": [
        "## **Building the model**\n",
        "\n",
        "We will be building 2 additional models:\n",
        "- **Linear Discriminant Analysis (LDA)**\n",
        "- **Quadratic Discriminant Analysis (QDA)**"
      ]
    },
    {
      "cell_type": "markdown",
      "id": "49e06bc8",
      "metadata": {
        "id": "49e06bc8"
      },
      "source": [
        "### **Linear Discriminant Analysis**"
      ]
    },
    {
      "cell_type": "markdown",
      "id": "7c8a5c1f",
      "metadata": {
        "id": "7c8a5c1f"
      },
      "source": [
        "Linear discriminant analysis (LDA) is generally used to classify patterns between two classes; however, it can be extended to classify multiple patterns. LDA assumes that all classes are linearly separable and according to this, multiple linear discrimination functions representing several hyperplanes in the feature space are created to distinguish between the classes. If there are two classes, then the LDA draws one hyperplane and projects the data onto this hyperplane in such a way as to maximize the separation of the two categories. This hyperplane is created according to two criteria considered simultaneously:\n",
        "\n",
        "- Maximizing the distance between the means of two classes.\n",
        "- Minimizing the variation between each category."
      ]
    },
    {
      "cell_type": "code",
      "execution_count": 38,
      "id": "654e6ed2",
      "metadata": {
        "id": "654e6ed2",
        "outputId": "436bfe53-f026-4a10-ac9c-82e8ee2f7997",
        "colab": {
          "base_uri": "https://localhost:8080/"
        }
      },
      "outputs": [
        {
          "output_type": "execute_result",
          "data": {
            "text/plain": [
              "LinearDiscriminantAnalysis()"
            ]
          },
          "metadata": {},
          "execution_count": 38
        }
      ],
      "source": [
        "# Fitting the LDA model\n",
        "lda = LinearDiscriminantAnalysis()\n",
        "\n",
        "lda.fit(x_train, y_train)"
      ]
    },
    {
      "cell_type": "markdown",
      "id": "05c852d6",
      "metadata": {
        "id": "05c852d6"
      },
      "source": [
        "**Checking Model Performance**"
      ]
    },
    {
      "cell_type": "code",
      "execution_count": 39,
      "id": "9854f0ad",
      "metadata": {
        "id": "9854f0ad",
        "outputId": "cacfc732-7b12-46d8-d966-1eef9015d9ea",
        "colab": {
          "base_uri": "https://localhost:8080/",
          "height": 495
        }
      },
      "outputs": [
        {
          "output_type": "stream",
          "name": "stdout",
          "text": [
            "              precision    recall  f1-score   support\n",
            "\n",
            "           0       0.91      0.98      0.94      1726\n",
            "           1       0.80      0.52      0.63       332\n",
            "\n",
            "    accuracy                           0.90      2058\n",
            "   macro avg       0.86      0.75      0.78      2058\n",
            "weighted avg       0.89      0.90      0.89      2058\n",
            "\n"
          ]
        },
        {
          "output_type": "display_data",
          "data": {
            "text/plain": [
              "<Figure size 576x360 with 2 Axes>"
            ],
            "image/png": "[encoded data removed]"
          },
          "metadata": {
            "needs_background": "light"
          }
        }
      ],
      "source": [
        "# Checking model performance of LDA\n",
        "y_pred_train_lda = lda.predict(x_train)\n",
        "\n",
        "metrics_score(y_train, y_pred_train_lda)"
      ]
    },
    {
      "cell_type": "markdown",
      "id": "835b3613",
      "metadata": {
        "id": "835b3613"
      },
      "source": [
        "- This model have a high recall in training data, which means model will predict that an employee would not attrite but the employee attrites\n",
        "- The reported average includes the macro average which averages the unweighted mean per label, and the weighted average which averages the support-weighted mean per label.\n",
        "- In classification, the class of interest is considered the positive class. Here, the class of interest is 1, i.e., identifying the employees at risk of attrition.\n",
        "\n",
        "**Reading the confusion matrix (clockwise from top left):**\n",
        "\n",
        "* True Negative (Actual = 0, Predicted = 0): Model predicts that an employee would not attrite and the employee does not attrite \n",
        "\n",
        "* False Positive (Actual = 0, Predicted = 1): Model predicts that an employee would attrite but the employee does not attrite\n",
        "\n",
        "* True Positive (Actual = 1, Predicted = 1): Model predicts that an employee would attrite and the employee actually attrites\n",
        "\n",
        "* False Negative (Actual = 1, Predicted = 0): Model predicts that an employee would not attrite but the employee attrites"
      ]
    },
    {
      "cell_type": "markdown",
      "id": "e1bd7372",
      "metadata": {
        "id": "e1bd7372"
      },
      "source": [
        "**Observations:**\n",
        "\n",
        "- The model is performing well in terms of accuracy.\n",
        "- The recall for class 1 is quite low, which implies that this model will not perform well in differentiating the employees who have a high chance of leaving the company, and hence this model would not help reduce the attrition rate. \n",
        "- The model is giving a decent average recall. A recall of ~0.75 suggests that there is a 25% (1 - 0.75) chance that the model will predict that a person is going to leave even though he/she would not, and the company would waste their time and energy on these employees who are not at risk of attrition."
      ]
    },
    {
      "cell_type": "markdown",
      "id": "33cc1cac",
      "metadata": {
        "id": "33cc1cac"
      },
      "source": [
        "We have built the LDA model. **Now, let's check the coefficients and find which variables are leading to attrition and which can help to reduce the attrition.**"
      ]
    },
    {
      "cell_type": "code",
      "execution_count": 40,
      "id": "f6cad220",
      "metadata": {
        "id": "f6cad220",
        "outputId": "5945797f-540a-4161-9cd0-33c2746d5b7b",
        "colab": {
          "base_uri": "https://localhost:8080/",
          "height": 1000
        }
      },
      "outputs": [
        {
          "output_type": "execute_result",
          "data": {
            "text/plain": [
              "                                          0\n",
              "OverTime                           1.041698\n",
              "Department_Research & Development  0.795546\n",
              "Department_Sales                   0.649234\n",
              "BusinessTravel_Travel_Frequently   0.583047\n",
              "MaritalStatus_Single               0.565419\n",
              "NumCompaniesWorked                 0.456036\n",
              "JobRole_Sales Executive            0.406011\n",
              "YearsSinceLastPromotion            0.353791\n",
              "YearsAtCompany                     0.351596\n",
              "JobRole_Human Resources            0.342187\n",
              "JobRole_Sales Representative       0.335370\n",
              "DistanceFromHome                   0.331483\n",
              "BusinessTravel_Travel_Rarely       0.283220\n",
              "JobLevel_5                         0.274886\n",
              "Education_3                        0.230501\n",
              "Education_2                        0.198261\n",
              "MaritalStatus_Married              0.182050\n",
              "Education_4                        0.173300\n",
              "JobRole_Laboratory Technician      0.148185\n",
              "JobRole_Manager                    0.144605\n",
              "Gender_Male                        0.128920\n",
              "JobLevel_4                         0.127368\n",
              "Education_5                        0.084847\n",
              "JobRole_Manufacturing Director     0.059837\n",
              "MonthlyRate                        0.030803\n",
              "JobLevel_3                         0.013900\n",
              "JobRole_Research Director          0.010330\n",
              "PerformanceRating                 -0.025318\n",
              "HourlyRate                        -0.045710\n",
              "PercentSalaryHike                 -0.059350\n",
              "EducationField_Technical Degree   -0.061963\n",
              "DailyRate                         -0.063601\n",
              "StockOptionLevel                  -0.102784\n",
              "WorkLifeBalance                   -0.175842\n",
              "TrainingTimesLastYear             -0.202162\n",
              "EducationField_Marketing          -0.220459\n",
              "JobRole_Research Scientist        -0.252660\n",
              "YearsWithCurrManager              -0.270493\n",
              "RelationshipSatisfaction          -0.274757\n",
              "YearsInCurrentRole                -0.290026\n",
              "EducationField_Other              -0.323048\n",
              "TotalWorkingYears                 -0.332565\n",
              "Age                               -0.345372\n",
              "JobSatisfaction                   -0.358574\n",
              "EnvironmentSatisfaction_2         -0.508781\n",
              "EnvironmentSatisfaction_3         -0.562208\n",
              "JobLevel_2                        -0.604475\n",
              "EducationField_Life Sciences      -0.614948\n",
              "EnvironmentSatisfaction_4         -0.622288\n",
              "EducationField_Medical            -0.648146\n",
              "JobInvolvement_2                  -0.732200\n",
              "MonthlyIncome                     -0.745046\n",
              "JobInvolvement_4                  -0.779225\n",
              "JobInvolvement_3                  -1.055171"
            ],
            "text/html": [
              "\n",
              "  <div id=\"df-c8cbc363-4412-4f5f-80c3-2e3c3eb757c2\">\n",
              "    <div class=\"colab-df-container\">\n",
              "      <div>\n",
              "<style scoped>\n",
              "    .dataframe tbody tr th:only-of-type {\n",
              "        vertical-align: middle;\n",
              "    }\n",
              "\n",
              "    .dataframe tbody tr th {\n",
              "        vertical-align: top;\n",
              "    }\n",
              "\n",
              "    .dataframe thead th {\n",
              "        text-align: right;\n",
              "    }\n",
              "</style>\n",
              "<table border=\"1\" class=\"dataframe\">\n",
              "  <thead>\n",
              "    <tr style=\"text-align: right;\">\n",
              "      <th></th>\n",
              "      <th>0</th>\n",
              "    </tr>\n",
              "  </thead>\n",
              "  <tbody>\n",
              "    <tr>\n",
              "      <th>OverTime</th>\n",
              "      <td>1.041698</td>\n",
              "    </tr>\n",
              "    <tr>\n",
              "      <th>Department_Research &amp; Development</th>\n",
              "      <td>0.795546</td>\n",
              "    </tr>\n",
              "    <tr>\n",
              "      <th>Department_Sales</th>\n",
              "      <td>0.649234</td>\n",
              "    </tr>\n",
              "    <tr>\n",
              "      <th>BusinessTravel_Travel_Frequently</th>\n",
              "      <td>0.583047</td>\n",
              "    </tr>\n",
              "    <tr>\n",
              "      <th>MaritalStatus_Single</th>\n",
              "      <td>0.565419</td>\n",
              "    </tr>\n",
              "    <tr>\n",
              "      <th>NumCompaniesWorked</th>\n",
              "      <td>0.456036</td>\n",
              "    </tr>\n",
              "    <tr>\n",
              "      <th>JobRole_Sales Executive</th>\n",
              "      <td>0.406011</td>\n",
              "    </tr>\n",
              "    <tr>\n",
              "      <th>YearsSinceLastPromotion</th>\n",
              "      <td>0.353791</td>\n",
              "    </tr>\n",
              "    <tr>\n",
              "      <th>YearsAtCompany</th>\n",
              "      <td>0.351596</td>\n",
              "    </tr>\n",
              "    <tr>\n",
              "      <th>JobRole_Human Resources</th>\n",
              "      <td>0.342187</td>\n",
              "    </tr>\n",
              "    <tr>\n",
              "      <th>JobRole_Sales Representative</th>\n",
              "      <td>0.335370</td>\n",
              "    </tr>\n",
              "    <tr>\n",
              "      <th>DistanceFromHome</th>\n",
              "      <td>0.331483</td>\n",
              "    </tr>\n",
              "    <tr>\n",
              "      <th>BusinessTravel_Travel_Rarely</th>\n",
              "      <td>0.283220</td>\n",
              "    </tr>\n",
              "    <tr>\n",
              "      <th>JobLevel_5</th>\n",
              "      <td>0.274886</td>\n",
              "    </tr>\n",
              "    <tr>\n",
              "      <th>Education_3</th>\n",
              "      <td>0.230501</td>\n",
              "    </tr>\n",
              "    <tr>\n",
              "      <th>Education_2</th>\n",
              "      <td>0.198261</td>\n",
              "    </tr>\n",
              "    <tr>\n",
              "      <th>MaritalStatus_Married</th>\n",
              "      <td>0.182050</td>\n",
              "    </tr>\n",
              "    <tr>\n",
              "      <th>Education_4</th>\n",
              "      <td>0.173300</td>\n",
              "    </tr>\n",
              "    <tr>\n",
              "      <th>JobRole_Laboratory Technician</th>\n",
              "      <td>0.148185</td>\n",
              "    </tr>\n",
              "    <tr>\n",
              "      <th>JobRole_Manager</th>\n",
              "      <td>0.144605</td>\n",
              "    </tr>\n",
              "    <tr>\n",
              "      <th>Gender_Male</th>\n",
              "      <td>0.128920</td>\n",
              "    </tr>\n",
              "    <tr>\n",
              "      <th>JobLevel_4</th>\n",
              "      <td>0.127368</td>\n",
              "    </tr>\n",
              "    <tr>\n",
              "      <th>Education_5</th>\n",
              "      <td>0.084847</td>\n",
              "    </tr>\n",
              "    <tr>\n",
              "      <th>JobRole_Manufacturing Director</th>\n",
              "      <td>0.059837</td>\n",
              "    </tr>\n",
              "    <tr>\n",
              "      <th>MonthlyRate</th>\n",
              "      <td>0.030803</td>\n",
              "    </tr>\n",
              "    <tr>\n",
              "      <th>JobLevel_3</th>\n",
              "      <td>0.013900</td>\n",
              "    </tr>\n",
              "    <tr>\n",
              "      <th>JobRole_Research Director</th>\n",
              "      <td>0.010330</td>\n",
              "    </tr>\n",
              "    <tr>\n",
              "      <th>PerformanceRating</th>\n",
              "      <td>-0.025318</td>\n",
              "    </tr>\n",
              "    <tr>\n",
              "      <th>HourlyRate</th>\n",
              "      <td>-0.045710</td>\n",
              "    </tr>\n",
              "    <tr>\n",
              "      <th>PercentSalaryHike</th>\n",
              "      <td>-0.059350</td>\n",
              "    </tr>\n",
              "    <tr>\n",
              "      <th>EducationField_Technical Degree</th>\n",
              "      <td>-0.061963</td>\n",
              "    </tr>\n",
              "    <tr>\n",
              "      <th>DailyRate</th>\n",
              "      <td>-0.063601</td>\n",
              "    </tr>\n",
              "    <tr>\n",
              "      <th>StockOptionLevel</th>\n",
              "      <td>-0.102784</td>\n",
              "    </tr>\n",
              "    <tr>\n",
              "      <th>WorkLifeBalance</th>\n",
              "      <td>-0.175842</td>\n",
              "    </tr>\n",
              "    <tr>\n",
              "      <th>TrainingTimesLastYear</th>\n",
              "      <td>-0.202162</td>\n",
              "    </tr>\n",
              "    <tr>\n",
              "      <th>EducationField_Marketing</th>\n",
              "      <td>-0.220459</td>\n",
              "    </tr>\n",
              "    <tr>\n",
              "      <th>JobRole_Research Scientist</th>\n",
              "      <td>-0.252660</td>\n",
              "    </tr>\n",
              "    <tr>\n",
              "      <th>YearsWithCurrManager</th>\n",
              "      <td>-0.270493</td>\n",
              "    </tr>\n",
              "    <tr>\n",
              "      <th>RelationshipSatisfaction</th>\n",
              "      <td>-0.274757</td>\n",
              "    </tr>\n",
              "    <tr>\n",
              "      <th>YearsInCurrentRole</th>\n",
              "      <td>-0.290026</td>\n",
              "    </tr>\n",
              "    <tr>\n",
              "      <th>EducationField_Other</th>\n",
              "      <td>-0.323048</td>\n",
              "    </tr>\n",
              "    <tr>\n",
              "      <th>TotalWorkingYears</th>\n",
              "      <td>-0.332565</td>\n",
              "    </tr>\n",
              "    <tr>\n",
              "      <th>Age</th>\n",
              "      <td>-0.345372</td>\n",
              "    </tr>\n",
              "    <tr>\n",
              "      <th>JobSatisfaction</th>\n",
              "      <td>-0.358574</td>\n",
              "    </tr>\n",
              "    <tr>\n",
              "      <th>EnvironmentSatisfaction_2</th>\n",
              "      <td>-0.508781</td>\n",
              "    </tr>\n",
              "    <tr>\n",
              "      <th>EnvironmentSatisfaction_3</th>\n",
              "      <td>-0.562208</td>\n",
              "    </tr>\n",
              "    <tr>\n",
              "      <th>JobLevel_2</th>\n",
              "      <td>-0.604475</td>\n",
              "    </tr>\n",
              "    <tr>\n",
              "      <th>EducationField_Life Sciences</th>\n",
              "      <td>-0.614948</td>\n",
              "    </tr>\n",
              "    <tr>\n",
              "      <th>EnvironmentSatisfaction_4</th>\n",
              "      <td>-0.622288</td>\n",
              "    </tr>\n",
              "    <tr>\n",
              "      <th>EducationField_Medical</th>\n",
              "      <td>-0.648146</td>\n",
              "    </tr>\n",
              "    <tr>\n",
              "      <th>JobInvolvement_2</th>\n",
              "      <td>-0.732200</td>\n",
              "    </tr>\n",
              "    <tr>\n",
              "      <th>MonthlyIncome</th>\n",
              "      <td>-0.745046</td>\n",
              "    </tr>\n",
              "    <tr>\n",
              "      <th>JobInvolvement_4</th>\n",
              "      <td>-0.779225</td>\n",
              "    </tr>\n",
              "    <tr>\n",
              "      <th>JobInvolvement_3</th>\n",
              "      <td>-1.055171</td>\n",
              "    </tr>\n",
              "  </tbody>\n",
              "</table>\n",
              "</div>\n",
              "      <button class=\"colab-df-convert\" onclick=\"convertToInteractive('df-c8cbc363-4412-4f5f-80c3-2e3c3eb757c2')\"\n",
              "              title=\"Convert this dataframe to an interactive table.\"\n",
              "              style=\"display:none;\">\n",
              "        \n",
              "  <svg xmlns=\"http://www.w3.org/2000/svg\" height=\"24px\"viewBox=\"0 0 24 24\"\n",
              "       width=\"24px\">\n",
              "    <path d=\"M0 0h24v24H0V0z\" fill=\"none\"/>\n",
              "    <path d=\"M18.56 5.44l.94 2.06.94-2.06 2.06-.94-2.06-.94-.94-2.06-.94 2.06-2.06.94zm-11 1L8.5 8.5l.94-2.06 2.06-.94-2.06-.94L8.5 2.5l-.94 2.06-2.06.94zm10 10l.94 2.06.94-2.06 2.06-.94-2.06-.94-.94-2.06-.94 2.06-2.06.94z\"/><path d=\"M17.41 7.96l-1.37-1.37c-.4-.4-.92-.59-1.43-.59-.52 0-1.04.2-1.43.59L10.3 9.45l-7.72 7.72c-.78.78-.78 2.05 0 2.83L4 21.41c.39.39.9.59 1.41.59.51 0 1.02-.2 1.41-.59l7.78-7.78 2.81-2.81c.8-.78.8-2.07 0-2.86zM5.41 20L4 18.59l7.72-7.72 1.47 1.35L5.41 20z\"/>\n",
              "  </svg>\n",
              "      </button>\n",
              "      \n",
              "  <style>\n",
              "    .colab-df-container {\n",
              "      display:flex;\n",
              "      flex-wrap:wrap;\n",
              "      gap: 12px;\n",
              "    }\n",
              "\n",
              "    .colab-df-convert {\n",
              "      background-color: #E8F0FE;\n",
              "      border: none;\n",
              "      border-radius: 50%;\n",
              "      cursor: pointer;\n",
              "      display: none;\n",
              "      fill: #1967D2;\n",
              "      height: 32px;\n",
              "      padding: 0 0 0 0;\n",
              "      width: 32px;\n",
              "    }\n",
              "\n",
              "    .colab-df-convert:hover {\n",
              "      background-color: #E2EBFA;\n",
              "      box-shadow: 0px 1px 2px rgba(60, 64, 67, 0.3), 0px 1px 3px 1px rgba(60, 64, 67, 0.15);\n",
              "      fill: #174EA6;\n",
              "    }\n",
              "\n",
              "    [theme=dark] .colab-df-convert {\n",
              "      background-color: #3B4455;\n",
              "      fill: #D2E3FC;\n",
              "    }\n",
              "\n",
              "    [theme=dark] .colab-df-convert:hover {\n",
              "      background-color: #434B5C;\n",
              "      box-shadow: 0px 1px 3px 1px rgba(0, 0, 0, 0.15);\n",
              "      filter: drop-shadow(0px 1px 2px rgba(0, 0, 0, 0.3));\n",
              "      fill: #FFFFFF;\n",
              "    }\n",
              "  </style>\n",
              "\n",
              "      <script>\n",
              "        const buttonEl =\n",
              "          document.querySelector('#df-c8cbc363-4412-4f5f-80c3-2e3c3eb757c2 button.colab-df-convert');\n",
              "        buttonEl.style.display =\n",
              "          google.colab.kernel.accessAllowed ? 'block' : 'none';\n",
              "\n",
              "        async function convertToInteractive(key) {\n",
              "          const element = document.querySelector('#df-c8cbc363-4412-4f5f-80c3-2e3c3eb757c2');\n",
              "          const dataTable =\n",
              "            await google.colab.kernel.invokeFunction('convertToInteractive',\n",
              "                                                     [key], {});\n",
              "          if (!dataTable) return;\n",
              "\n",
              "          const docLinkHtml = 'Like what you see? Visit the ' +\n",
              "            '<a target=\"_blank\" href=https://colab.research.google.com/notebooks/data_table.ipynb>data table notebook</a>'\n",
              "            + ' to learn more about interactive tables.';\n",
              "          element.innerHTML = '';\n",
              "          dataTable['output_type'] = 'display_data';\n",
              "          await google.colab.output.renderOutput(dataTable, element);\n",
              "          const docLink = document.createElement('div');\n",
              "          docLink.innerHTML = docLinkHtml;\n",
              "          element.appendChild(docLink);\n",
              "        }\n",
              "      </script>\n",
              "    </div>\n",
              "  </div>\n",
              "  "
            ]
          },
          "metadata": {},
          "execution_count": 40
        }
      ],
      "source": [
        "# Creating the list of column names\n",
        "cols = X.columns\n",
        "\n",
        "# Saving coefficients of LDA model\n",
        "coef_lda = lda.coef_\n",
        "\n",
        "# Printing the cofficients of LDA\n",
        "pd.DataFrame(coef_lda, columns = cols).T.sort_values(by = 0, ascending = False)"
      ]
    },
    {
      "cell_type": "markdown",
      "id": "bc67b18a",
      "metadata": {
        "id": "bc67b18a"
      },
      "source": [
        "**Some features which positively affect the Attrition rate are:**\n",
        "- OverTime\n",
        "- Department_Research & Development \n",
        "- BusinessTravel_Travel_Frequently\n",
        "- Department_Sales\n",
        "- MaritalStatus_Single \n",
        "- BusinessTravel_Travel_Rarely\n",
        "- NumCompaniesWorked\n",
        "- YearsSinceLastPromotion\t\n",
        "- JobRole_Human Resources\t\n",
        "- JobRole_Sales Executive\t\n",
        "- YearsAtCompany\n",
        "- DistanceFromHome\n",
        "\n",
        "**Some features which negatively affect the Attrition rate are:**\n",
        "- JobInvolvement_3\n",
        "- EducationField_Life Sciences\t\n",
        "- JobInvolvement_2\n",
        "- MonthlyIncome\n",
        "- EducationField_Medical\t\n",
        "- JobInvolvement_4\t\n",
        "- JobLevel_2\n",
        "- EnvironmentSatisfaction_4\t\n",
        "- EnvironmentSatisfaction_3\n",
        "- EnvironmentSatisfaction_2\t\n",
        "- JobSatisfaction\t"
      ]
    },
    {
      "cell_type": "markdown",
      "id": "01ed1a9b",
      "metadata": {
        "id": "01ed1a9b"
      },
      "source": [
        "**Observations:**\n",
        "\n",
        "- Based on the LDA model, **Overtime is the most important feature** in detecting whether an employee would attrite or not.\n",
        "- **This model also suggests that attrition is dependent on the employee's department.** Belonging to Sales or HR is shown to have a higher attrition rate, which is understood, but the model also seems to suggest that belonging to R&D contributes to a higher attrition rate, which is counter-intuitive. This could be because more than 65% of the employees are working in R&D, so the absolute number of employees who attrite from the company working in R&D will be significant even with a lower percentage. This is an example of Simpson's paradox and is evidence that a more powerful non-linear model may be necessary to accurately map the relationship between Department_Research & Development and the target variable. \n",
        "- **Business traveling is an important variable in predicting the attrition rate.** Employees who either travel a lot or travel rarely have a higher attrition rate. This could be because those who travel often might feel overworked and dissatisfied with their role, whereas employees traveling rarely (in an organization where nearly 90% of all employees are traveling) could be a sign of them feeling undervalued and disinterested, and hence attriting more.\n",
        "- **The number of companies the employee has worked for in the past also appears to impact the likelihood of attrition**. The greater the number, the higher the chance the employee will attrite. This suggests that employees who have worked for a higher number of companies may probably not stay loyal and may continue switching companies.\n",
        "- Other features which appear to affect the chances of attrition are the number of years at the current company and the distance from home, both with positive correlations to attrition likelihood.\n",
        "- The Job Involvement features being negatively correlated with attrition signify that **employees who are more involved in their jobs tend to attrite less.** This could probably be because a high degree of job involvement might make employees feel they are more important to the company, and hence discourage them from attrition.\n",
        "- The model also captures the **inverse relationship between income and attrition** suggesting attrition rates can be controlled by increasing employee salary.\n",
        "-  **Employees who are satisfied with the environment and the culture of the organization show a lower chance of attrition**, a conclusion that makes sense since a good work environment is likely to keep employees happy and prevent them from attriting.\n",
        "- **Employees with higher total work experience and a good position in the organization are also less likely to attrite**, probably because working at the organization for several years and/or occupying a good position, tends to promote job stability and discourages volatility."
      ]
    },
    {
      "cell_type": "markdown",
      "id": "ff052e81",
      "metadata": {
        "id": "ff052e81"
      },
      "source": [
        "### **Precision-Recall Curve for LDA**\n",
        "\n",
        "**The Precision-Recall curve summarizes the trade-off between the precision and the recall for a predictive model using different probability thresholds.**"
      ]
    },
    {
      "cell_type": "code",
      "execution_count": 41,
      "id": "6c01cdf1",
      "metadata": {
        "id": "6c01cdf1",
        "outputId": "f0981c4b-939b-4620-8750-2fc478533c37",
        "colab": {
          "base_uri": "https://localhost:8080/",
          "height": 446
        }
      },
      "outputs": [
        {
          "output_type": "display_data",
          "data": {
            "text/plain": [
              "<Figure size 720x504 with 1 Axes>"
            ],
            "image/png": "[encoded data removed]"
          },
          "metadata": {
            "needs_background": "light"
          }
        }
      ],
      "source": [
        "y_scores_lda = lda.predict_proba(x_train) # predict_proba gives the probability of each observation belonging to each class\n",
        "\n",
        "precisions_lda, recalls_lda, thresholds_lda = precision_recall_curve(y_train, y_scores_lda[:, 1])\n",
        "\n",
        "# Plot values of precisions, recalls, and thresholds\n",
        "plt.figure(figsize = (10, 7))\n",
        "\n",
        "plt.plot(thresholds_lda, precisions_lda[:-1], 'b--', label = 'precision')\n",
        "\n",
        "plt.plot(thresholds_lda, recalls_lda[:-1], 'g--', label = 'recall')\n",
        "\n",
        "plt.xlabel('Threshold')\n",
        "\n",
        "plt.legend(loc = 'upper left')\n",
        "\n",
        "plt.ylim([0, 1])\n",
        "\n",
        "plt.show()"
      ]
    },
    {
      "cell_type": "markdown",
      "id": "d9e24e24",
      "metadata": {
        "id": "d9e24e24"
      },
      "source": [
        "**Observation:**\n",
        "\n",
        "- We can see that the precision and the recall are balanced for a threshold of about ~0.35."
      ]
    },
    {
      "cell_type": "markdown",
      "id": "3c140b26",
      "metadata": {
        "id": "3c140b26"
      },
      "source": [
        "**Let's check the model performance at this threshold**"
      ]
    },
    {
      "cell_type": "code",
      "execution_count": 42,
      "id": "ab4c38af",
      "metadata": {
        "id": "ab4c38af",
        "outputId": "5f483e38-76a3-4f24-bd13-1ba6fca02af8",
        "colab": {
          "base_uri": "https://localhost:8080/",
          "height": 497
        }
      },
      "outputs": [
        {
          "output_type": "stream",
          "name": "stdout",
          "text": [
            "              precision    recall  f1-score   support\n",
            "\n",
            "           0       0.92      0.93      0.93      1726\n",
            "           1       0.63      0.60      0.62       332\n",
            "\n",
            "    accuracy                           0.88      2058\n",
            "   macro avg       0.78      0.77      0.77      2058\n",
            "weighted avg       0.88      0.88      0.88      2058\n",
            "\n"
          ]
        },
        {
          "output_type": "display_data",
          "data": {
            "text/plain": [
              "<Figure size 576x360 with 2 Axes>"
            ],
            "image/png": "[encoded data removed]"
          },
          "metadata": {
            "needs_background": "light"
          }
        }
      ],
      "source": [
        "optimal_threshold1 = .35\n",
        "\n",
        "y_pred_train_lda = lda.predict_proba(x_train)\n",
        "\n",
        "metrics_score(y_train, y_pred_train_lda[:,1] > optimal_threshold1)"
      ]
    },
    {
      "cell_type": "markdown",
      "id": "314c1e1c",
      "metadata": {
        "id": "314c1e1c"
      },
      "source": [
        "**Observations:**\n",
        "\n",
        "- The precision has dropped but **the recall for class 1 has increased to 0.60**; the class and metric of interest here.\n",
        "- **The model is able to identify the majority of employees who are at risk of attrition,** and would hence be a more useful model than the previous iteration with the default threshold.\n",
        "\n",
        "Let's check the model performance on the test data"
      ]
    },
    {
      "cell_type": "code",
      "execution_count": 43,
      "id": "e6b69acc",
      "metadata": {
        "id": "e6b69acc",
        "outputId": "fa034958-3ab8-41c3-a3b5-132c38180199",
        "colab": {
          "base_uri": "https://localhost:8080/",
          "height": 495
        }
      },
      "outputs": [
        {
          "output_type": "stream",
          "name": "stdout",
          "text": [
            "              precision    recall  f1-score   support\n",
            "\n",
            "           0       0.93      0.93      0.93       740\n",
            "           1       0.63      0.61      0.62       142\n",
            "\n",
            "    accuracy                           0.88       882\n",
            "   macro avg       0.78      0.77      0.78       882\n",
            "weighted avg       0.88      0.88      0.88       882\n",
            "\n"
          ]
        },
        {
          "output_type": "display_data",
          "data": {
            "text/plain": [
              "<Figure size 576x360 with 2 Axes>"
            ],
            "image/png": "[encoded data removed]"
          },
          "metadata": {
            "needs_background": "light"
          }
        }
      ],
      "source": [
        "# Checking performance on the test data\n",
        "optimal_threshold1 = .35\n",
        "\n",
        "y_pred_test_lda = lda.predict_proba(x_test)\n",
        "\n",
        "metrics_score(y_test, y_pred_test_lda[:,1] > optimal_threshold1)"
      ]
    },
    {
      "cell_type": "markdown",
      "id": "5e44c0b6",
      "metadata": {
        "id": "5e44c0b6"
      },
      "source": [
        "**Observations:**\n",
        "\n",
        "- The model is giving a **similar performance on the test and the train data**, meaning the model has generalized well.\n",
        "- **The average recall and the precision for the model are good**, but let's see if we can get a better performance using other algorithms. "
      ]
    },
    {
      "cell_type": "markdown",
      "id": "36d40bad",
      "metadata": {
        "id": "36d40bad"
      },
      "source": [
        "### **Quadratic Discriminant Analysis**"
      ]
    },
    {
      "cell_type": "markdown",
      "id": "1acad28b",
      "metadata": {
        "id": "1acad28b"
      },
      "source": [
        "Quadratic discriminant analysis (QDA) is a probabilistic parametric classification technique that represents an evolution of LDA for nonlinear class separations. QDA, like LDA, is based on the hypothesis that the probability density distributions are multivariate normal but, in this case, the dispersion is not the same for all of the categories."
      ]
    },
    {
      "cell_type": "code",
      "execution_count": 44,
      "id": "2d89882c",
      "metadata": {
        "id": "2d89882c",
        "outputId": "8635e761-a12b-42e9-d59b-b5bd573cb9cb",
        "colab": {
          "base_uri": "https://localhost:8080/"
        }
      },
      "outputs": [
        {
          "output_type": "execute_result",
          "data": {
            "text/plain": [
              "QuadraticDiscriminantAnalysis()"
            ]
          },
          "metadata": {},
          "execution_count": 44
        }
      ],
      "source": [
        "# Fitting QDA model\n",
        "qda = QuadraticDiscriminantAnalysis()\n",
        "\n",
        "qda.fit(x_train, y_train)"
      ]
    },
    {
      "cell_type": "code",
      "execution_count": 45,
      "id": "8727e7d7",
      "metadata": {
        "id": "8727e7d7",
        "outputId": "5bef314f-2192-4743-bc8b-a71e79bd3452",
        "colab": {
          "base_uri": "https://localhost:8080/",
          "height": 496
        }
      },
      "outputs": [
        {
          "output_type": "stream",
          "name": "stdout",
          "text": [
            "              precision    recall  f1-score   support\n",
            "\n",
            "           0       0.99      0.18      0.30      1726\n",
            "           1       0.19      0.99      0.32       332\n",
            "\n",
            "    accuracy                           0.31      2058\n",
            "   macro avg       0.59      0.59      0.31      2058\n",
            "weighted avg       0.86      0.31      0.31      2058\n",
            "\n"
          ]
        },
        {
          "output_type": "display_data",
          "data": {
            "text/plain": [
              "<Figure size 576x360 with 2 Axes>"
            ],
            "image/png": "[encoded data removed]"
          },
          "metadata": {
            "needs_background": "light"
          }
        }
      ],
      "source": [
        "# Checking model performance on the training data\n",
        "y_pred_train_qda = qda.predict(x_train)\n",
        "\n",
        "metrics_score(y_train, y_pred_train_qda)"
      ]
    },
    {
      "cell_type": "code",
      "execution_count": 46,
      "id": "bd24c7c4",
      "metadata": {
        "id": "bd24c7c4",
        "outputId": "1fef7ab6-c521-4b95-b2c7-ce4aaf3bae32",
        "colab": {
          "base_uri": "https://localhost:8080/",
          "height": 495
        }
      },
      "outputs": [
        {
          "output_type": "stream",
          "name": "stdout",
          "text": [
            "              precision    recall  f1-score   support\n",
            "\n",
            "           0       0.95      0.17      0.29       740\n",
            "           1       0.18      0.96      0.30       142\n",
            "\n",
            "    accuracy                           0.29       882\n",
            "   macro avg       0.57      0.56      0.29       882\n",
            "weighted avg       0.83      0.29      0.29       882\n",
            "\n"
          ]
        },
        {
          "output_type": "display_data",
          "data": {
            "text/plain": [
              "<Figure size 576x360 with 2 Axes>"
            ],
            "image/png": "[encoded data removed]"
          },
          "metadata": {
            "needs_background": "light"
          }
        }
      ],
      "source": [
        "# Checking performance of the model on the test data\n",
        "y_pred_test_qda = qda.predict(x_test)\n",
        "\n",
        "metrics_score(y_test, y_pred_test_qda)"
      ]
    },
    {
      "cell_type": "markdown",
      "id": "202fd815",
      "metadata": {
        "id": "202fd815"
      },
      "source": [
        "**Observations:**\n",
        "\n",
        "- QDA gives a very high recall for class 1, but the recall for class 0 is very poor, which means model will predict that an employee would not attrite but the employee attrites amd makes the **overall accuracy of the model very low**.\n",
        "- **Due to the precision is high, the model has a high number of false positives**, i.e., the model will predict that the employee would attrite even though he/she would not.\n",
        "- This is not a good model and will not be able to help the company with their objective."
      ]
    },
    {
      "cell_type": "markdown",
      "source": [
        "### **Comparing Model Performances**"
      ],
      "metadata": {
        "id": "qg5tZICSAgRK"
      },
      "id": "qg5tZICSAgRK"
    },
    {
      "cell_type": "code",
      "source": [
        "from sklearn import metrics\n",
        "from sklearn.metrics import confusion_matrix, classification_report,accuracy_score,precision_score,recall_score,f1_score\n"
      ],
      "metadata": {
        "id": "k4hOENqSBRVH"
      },
      "id": "k4hOENqSBRVH",
      "execution_count": 47,
      "outputs": []
    },
    {
      "cell_type": "code",
      "source": [
        "def get_recall_score(model,flag=True,X_train=x_train,X_test=x_test):\n",
        "    '''\n",
        "    model : classifier to predict values of X\n",
        "\n",
        "    '''\n",
        "    a = [] # defining an empty list to store train and test results\n",
        "    pred_train = model.predict(x_train)\n",
        "    pred_test = model.predict(x_test)\n",
        "    train_recall = metrics.recall_score(y_train,pred_train)\n",
        "    test_recall = metrics.recall_score(y_test,pred_test)\n",
        "    a.append(train_recall) # adding train recall to list \n",
        "    a.append(test_recall) # adding test recall to list\n",
        "    \n",
        "    # If the flag is set to True then only the following print statements will be dispayed. The default value is set to True.\n",
        "    if flag == True: \n",
        "        print(\"Recall on training set : \",metrics.recall_score(y_train,pred_train))\n",
        "        print(\"Recall on test set : \",metrics.recall_score(y_test,pred_test))\n",
        "    \n",
        "    return a # returning the list with train and test scores"
      ],
      "metadata": {
        "id": "qzNySDnwAfre"
      },
      "id": "qzNySDnwAfre",
      "execution_count": 48,
      "outputs": []
    },
    {
      "cell_type": "code",
      "source": [
        "##  Function to calculate precision score\n",
        "def get_precision_score(model,flag=True,X_train=x_train,X_test=x_test):\n",
        "    '''\n",
        "    model : classifier to predict values of x\n",
        "\n",
        "    '''\n",
        "    b = []  # defining an empty list to store train and test results\n",
        "    pred_train = model.predict(X_train)\n",
        "    pred_test = model.predict(X_test)\n",
        "    train_precision = metrics.precision_score(y_train,pred_train)\n",
        "    test_precision = metrics.precision_score(y_test,pred_test)\n",
        "    b.append(train_precision) # adding train precision to list\n",
        "    b.append(test_precision) # adding test precision to list\n",
        "    \n",
        "    # If the flag is set to True then only the following print statements will be dispayed. The default value is set to True.\n",
        "    if flag == True: \n",
        "        print(\"Precision on training set : \",metrics.precision_score(y_train,pred_train))\n",
        "        print(\"Precision on test set : \",metrics.precision_score(y_test,pred_test))\n",
        "\n",
        "    return b # returning the list with train and test scores"
      ],
      "metadata": {
        "id": "iXxfwQF2BTM6"
      },
      "id": "iXxfwQF2BTM6",
      "execution_count": 49,
      "outputs": []
    },
    {
      "cell_type": "code",
      "source": [
        "##  Function to calculate accuracy score\n",
        "def get_accuracy_score(model,flag=True,X_train=x_train,X_test=x_test):\n",
        "    '''\n",
        "    model : classifier to predict values of X\n",
        "\n",
        "    '''\n",
        "    c = [] # defining an empty list to store train and test results\n",
        "    train_acc = model.score(X_train,y_train)\n",
        "    test_acc = model.score(X_test,y_test)\n",
        "    c.append(train_acc) # adding train accuracy to list\n",
        "    c.append(test_acc) # adding test accuracy to list\n",
        "    \n",
        "    # If the flag is set to True then only the following print statements will be dispayed. The default value is set to True.\n",
        "    if flag == True:\n",
        "        print(\"Accuracy on training set : \",model.score(X_train,y_train))\n",
        "        print(\"Accuracy on test set : \",model.score(X_test,y_test))\n",
        "    \n",
        "    return c # returning the list with train and test scores"
      ],
      "metadata": {
        "id": "6IapWqa0Bla7"
      },
      "id": "6IapWqa0Bla7",
      "execution_count": 50,
      "outputs": []
    },
    {
      "cell_type": "code",
      "source": [
        "# Make the list of all the model names \n",
        "models = [lg, knn, knn_estimator, lda, qda]\n",
        "\n",
        "\n",
        "# defining empty lists to add train and test results\n",
        "acc_train = []\n",
        "acc_test = []\n",
        "recall_train = []\n",
        "recall_test = []\n",
        "precision_train = []\n",
        "precision_test = []\n",
        "\n",
        "# looping through all the models to get the accuracy,recall and precision scores\n",
        "for model in models:\n",
        "     # accuracy score\n",
        "    j = get_accuracy_score(model,False)\n",
        "    acc_train.append(j[0])\n",
        "    acc_test.append(j[1])\n",
        "\n",
        "    # recall score\n",
        "    k = get_recall_score(model,False)\n",
        "    recall_train.append(k[0])\n",
        "    recall_test.append(k[1])\n",
        "\n",
        "    # precision score\n",
        "    l = get_precision_score(model,False)\n",
        "    precision_train.append(l[0])\n",
        "    precision_test.append(l[1])"
      ],
      "metadata": {
        "id": "bNv_NvlOBrk7"
      },
      "id": "bNv_NvlOBrk7",
      "execution_count": 51,
      "outputs": []
    },
    {
      "cell_type": "code",
      "source": [
        "\n",
        "\n",
        "comparison_frame = pd.DataFrame({'Model':['Logistic Regression', 'KNN', 'Tuned KNN', 'LDA', 'QDA'], \n",
        "                                          'Train_Accuracy': acc_train,\n",
        "                                          'Test_Accuracy': acc_test,\n",
        "                                          'Train_Recall': recall_train,\n",
        "                                          'Test_Recall': recall_test,\n",
        "                                          'Train_Precision': precision_train,\n",
        "                                          'Test_Precision': precision_test}) \n",
        "comparison_frame"
      ],
      "metadata": {
        "colab": {
          "base_uri": "https://localhost:8080/",
          "height": 206
        },
        "id": "9tyN_PB8CQBr",
        "outputId": "3200cc2e-63ce-4129-c5d6-656e6bfccfe7"
      },
      "id": "9tyN_PB8CQBr",
      "execution_count": 52,
      "outputs": [
        {
          "output_type": "execute_result",
          "data": {
            "text/plain": [
              "                 Model  Train_Accuracy  Test_Accuracy  Train_Recall  \\\n",
              "0  Logistic Regression        0.900389       0.890023      0.500000   \n",
              "1                  KNN        0.890671       0.865079      0.430723   \n",
              "2            Tuned KNN        1.000000       0.950113      1.000000   \n",
              "3                  LDA        0.900875       0.884354      0.515060   \n",
              "4                  QDA        0.310982       0.294785      0.993976   \n",
              "\n",
              "   Test_Recall  Train_Precision  Test_Precision  \n",
              "0     0.464789         0.809756        0.758621  \n",
              "1     0.316901         0.798883        0.671642  \n",
              "2     0.830986         1.000000        0.855072  \n",
              "3     0.471831         0.799065        0.712766  \n",
              "4     0.957746         0.189003        0.180851  "
            ],
            "text/html": [
              "\n",
              "  <div id=\"df-4c9c8941-91c2-48e7-873d-e30209ca9b80\">\n",
              "    <div class=\"colab-df-container\">\n",
              "      <div>\n",
              "<style scoped>\n",
              "    .dataframe tbody tr th:only-of-type {\n",
              "        vertical-align: middle;\n",
              "    }\n",
              "\n",
              "    .dataframe tbody tr th {\n",
              "        vertical-align: top;\n",
              "    }\n",
              "\n",
              "    .dataframe thead th {\n",
              "        text-align: right;\n",
              "    }\n",
              "</style>\n",
              "<table border=\"1\" class=\"dataframe\">\n",
              "  <thead>\n",
              "    <tr style=\"text-align: right;\">\n",
              "      <th></th>\n",
              "      <th>Model</th>\n",
              "      <th>Train_Accuracy</th>\n",
              "      <th>Test_Accuracy</th>\n",
              "      <th>Train_Recall</th>\n",
              "      <th>Test_Recall</th>\n",
              "      <th>Train_Precision</th>\n",
              "      <th>Test_Precision</th>\n",
              "    </tr>\n",
              "  </thead>\n",
              "  <tbody>\n",
              "    <tr>\n",
              "      <th>0</th>\n",
              "      <td>Logistic Regression</td>\n",
              "      <td>0.900389</td>\n",
              "      <td>0.890023</td>\n",
              "      <td>0.500000</td>\n",
              "      <td>0.464789</td>\n",
              "      <td>0.809756</td>\n",
              "      <td>0.758621</td>\n",
              "    </tr>\n",
              "    <tr>\n",
              "      <th>1</th>\n",
              "      <td>KNN</td>\n",
              "      <td>0.890671</td>\n",
              "      <td>0.865079</td>\n",
              "      <td>0.430723</td>\n",
              "      <td>0.316901</td>\n",
              "      <td>0.798883</td>\n",
              "      <td>0.671642</td>\n",
              "    </tr>\n",
              "    <tr>\n",
              "      <th>2</th>\n",
              "      <td>Tuned KNN</td>\n",
              "      <td>1.000000</td>\n",
              "      <td>0.950113</td>\n",
              "      <td>1.000000</td>\n",
              "      <td>0.830986</td>\n",
              "      <td>1.000000</td>\n",
              "      <td>0.855072</td>\n",
              "    </tr>\n",
              "    <tr>\n",
              "      <th>3</th>\n",
              "      <td>LDA</td>\n",
              "      <td>0.900875</td>\n",
              "      <td>0.884354</td>\n",
              "      <td>0.515060</td>\n",
              "      <td>0.471831</td>\n",
              "      <td>0.799065</td>\n",
              "      <td>0.712766</td>\n",
              "    </tr>\n",
              "    <tr>\n",
              "      <th>4</th>\n",
              "      <td>QDA</td>\n",
              "      <td>0.310982</td>\n",
              "      <td>0.294785</td>\n",
              "      <td>0.993976</td>\n",
              "      <td>0.957746</td>\n",
              "      <td>0.189003</td>\n",
              "      <td>0.180851</td>\n",
              "    </tr>\n",
              "  </tbody>\n",
              "</table>\n",
              "</div>\n",
              "      <button class=\"colab-df-convert\" onclick=\"convertToInteractive('df-4c9c8941-91c2-48e7-873d-e30209ca9b80')\"\n",
              "              title=\"Convert this dataframe to an interactive table.\"\n",
              "              style=\"display:none;\">\n",
              "        \n",
              "  <svg xmlns=\"http://www.w3.org/2000/svg\" height=\"24px\"viewBox=\"0 0 24 24\"\n",
              "       width=\"24px\">\n",
              "    <path d=\"M0 0h24v24H0V0z\" fill=\"none\"/>\n",
              "    <path d=\"M18.56 5.44l.94 2.06.94-2.06 2.06-.94-2.06-.94-.94-2.06-.94 2.06-2.06.94zm-11 1L8.5 8.5l.94-2.06 2.06-.94-2.06-.94L8.5 2.5l-.94 2.06-2.06.94zm10 10l.94 2.06.94-2.06 2.06-.94-2.06-.94-.94-2.06-.94 2.06-2.06.94z\"/><path d=\"M17.41 7.96l-1.37-1.37c-.4-.4-.92-.59-1.43-.59-.52 0-1.04.2-1.43.59L10.3 9.45l-7.72 7.72c-.78.78-.78 2.05 0 2.83L4 21.41c.39.39.9.59 1.41.59.51 0 1.02-.2 1.41-.59l7.78-7.78 2.81-2.81c.8-.78.8-2.07 0-2.86zM5.41 20L4 18.59l7.72-7.72 1.47 1.35L5.41 20z\"/>\n",
              "  </svg>\n",
              "      </button>\n",
              "      \n",
              "  <style>\n",
              "    .colab-df-container {\n",
              "      display:flex;\n",
              "      flex-wrap:wrap;\n",
              "      gap: 12px;\n",
              "    }\n",
              "\n",
              "    .colab-df-convert {\n",
              "      background-color: #E8F0FE;\n",
              "      border: none;\n",
              "      border-radius: 50%;\n",
              "      cursor: pointer;\n",
              "      display: none;\n",
              "      fill: #1967D2;\n",
              "      height: 32px;\n",
              "      padding: 0 0 0 0;\n",
              "      width: 32px;\n",
              "    }\n",
              "\n",
              "    .colab-df-convert:hover {\n",
              "      background-color: #E2EBFA;\n",
              "      box-shadow: 0px 1px 2px rgba(60, 64, 67, 0.3), 0px 1px 3px 1px rgba(60, 64, 67, 0.15);\n",
              "      fill: #174EA6;\n",
              "    }\n",
              "\n",
              "    [theme=dark] .colab-df-convert {\n",
              "      background-color: #3B4455;\n",
              "      fill: #D2E3FC;\n",
              "    }\n",
              "\n",
              "    [theme=dark] .colab-df-convert:hover {\n",
              "      background-color: #434B5C;\n",
              "      box-shadow: 0px 1px 3px 1px rgba(0, 0, 0, 0.15);\n",
              "      filter: drop-shadow(0px 1px 2px rgba(0, 0, 0, 0.3));\n",
              "      fill: #FFFFFF;\n",
              "    }\n",
              "  </style>\n",
              "\n",
              "      <script>\n",
              "        const buttonEl =\n",
              "          document.querySelector('#df-4c9c8941-91c2-48e7-873d-e30209ca9b80 button.colab-df-convert');\n",
              "        buttonEl.style.display =\n",
              "          google.colab.kernel.accessAllowed ? 'block' : 'none';\n",
              "\n",
              "        async function convertToInteractive(key) {\n",
              "          const element = document.querySelector('#df-4c9c8941-91c2-48e7-873d-e30209ca9b80');\n",
              "          const dataTable =\n",
              "            await google.colab.kernel.invokeFunction('convertToInteractive',\n",
              "                                                     [key], {});\n",
              "          if (!dataTable) return;\n",
              "\n",
              "          const docLinkHtml = 'Like what you see? Visit the ' +\n",
              "            '<a target=\"_blank\" href=https://colab.research.google.com/notebooks/data_table.ipynb>data table notebook</a>'\n",
              "            + ' to learn more about interactive tables.';\n",
              "          element.innerHTML = '';\n",
              "          dataTable['output_type'] = 'display_data';\n",
              "          await google.colab.output.renderOutput(dataTable, element);\n",
              "          const docLink = document.createElement('div');\n",
              "          docLink.innerHTML = docLinkHtml;\n",
              "          element.appendChild(docLink);\n",
              "        }\n",
              "      </script>\n",
              "    </div>\n",
              "  </div>\n",
              "  "
            ]
          },
          "metadata": {},
          "execution_count": 52
        }
      ]
    },
    {
      "cell_type": "markdown",
      "id": "9a4a36a5",
      "metadata": {
        "id": "9a4a36a5"
      },
      "source": [
        "## **Conclusion and Recommendations**"
      ]
    },
    {
      "cell_type": "markdown",
      "id": "fb4a2a83",
      "metadata": {
        "id": "fb4a2a83"
      },
      "source": [
        "### **Conclusions:**\n",
        "\n",
        "- We have tried multiple models and were **able to identify the key factors involved with high attrition** in the organization.\n",
        "- The final model, **a hyperparameter-tuned K-NN classifier**, is overfitting on the training dataset, but **gives the highest recall on the training and the testing datasets.** It may be possible to further try and tune the model, and the HR department can use this model to predict whether an employee is at risk of attrition or not."
      ]
    },
    {
      "cell_type": "markdown",
      "id": "e1dbff8b",
      "metadata": {
        "id": "e1dbff8b"
      },
      "source": [
        "### **Recommendations:**\n",
        "\n",
        "- We saw that **working overtime is the most important driver of attrition.** The organization should manage their work more efficiently so that employees don't have to work overtime and can manage to have a work-life balance, or failing this, the company could provide some additional incentives to employees who are working overtime in order to retain them.\n",
        "- The organization should focus on the employees who are working in **sales and marketing** as **the attrition rate is quite high for these departments.** Perhaps the organization could look into their incentive schemes and try to come up with better ideas to retain these employees. \n",
        "- As observed earlier, **the organization has a lower percentage salary hike and promotions are given less frequently.** The company might be able to focus on giving promotions more frequently or could increase the annual appraisal hike to incentivize employees to stay.\n",
        "- **A higher monthly income might lower the odds of an employee attriting.** The company should make sure that all its employees are compensated at least based on industry standards.\n",
        "- We observed that **approximately 40% of employees have given a poor rating on job satisfaction and environment satisfaction**, possibly contributing to a higher attrition rate. The organization should focus on improving the culture and environment of the organization by coming up with new ideas to make the office environment more open and friendly.\n",
        "- **Distance from home is also an important factor for attrition**. Employees traveling a greater distance to reach the workplace are more likely to attrite. For such employees, the company could provide shuttle facilities so that the commute for such employees gets easier.\n",
        "- The data and the model suggest that **lower job involvement leads to a higher likelihood of attrition**. This might be due to a lack of growth opportunities or a poor management style. A more pro-active, hands-on approach may be required from the managers in the organization.\n",
        "- **Young and relatively new/inexperienced employees tend to show a higher attrition rate.** The organization might be able to keep track of the problems that employees with less experience face in a better manner and come up with better ideas on how the management might help them. This may help create a healthier, more welcoming environment for younger employees.\n",
        "- The organization could come up with a revised CTC plan that includes stock options for a larger proportion of the employees in order to keep them motivated."
      ]
    }
  ],
  "metadata": {
    "colab": {
      "collapsed_sections": [],
      "provenance": [],
      "include_colab_link": true
    },
    "kernelspec": {
      "display_name": "Python 3 (ipykernel)",
      "language": "python",
      "name": "python3"
    },
    "language_info": {
      "codemirror_mode": {
        "name": "ipython",
        "version": 3
      },
      "file_extension": ".py",
      "mimetype": "text/x-python",
      "name": "python",
      "nbconvert_exporter": "python",
      "pygments_lexer": "ipython3",
      "version": "3.9.7"
    }
  },
  "nbformat": 4,
  "nbformat_minor": 5
}
