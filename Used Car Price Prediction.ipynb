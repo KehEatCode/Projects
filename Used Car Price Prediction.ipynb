{
  "cells": [
    {
      "cell_type": "markdown",
      "metadata": {
        "id": "view-in-github",
        "colab_type": "text"
      },
      "source": [
        "<a href=\"https://colab.research.google.com/github/KehEatCode/Projects/blob/main/Used%20Car%20Price%20Prediction.ipynb\" target=\"_parent\"><img src=\"https://colab.research.google.com/assets/colab-badge.svg\" alt=\"Open In Colab\"/></a>"
      ]
    },
    {
      "cell_type": "markdown",
      "metadata": {
        "id": "UlqYJ7oql3o1"
      },
      "source": [
        "# **Used Car Price Prediction**\n",
        "\n",
        "### **Context:**\n",
        "\n",
        " - There is a huge demand for used cars in the Indian Market today. As sales of new cars have slowed down in the recent past the pre-owned car market has continued to grow over the past few years and is now larger than the new car market.Cars4U is a budding tech start-up that aims to find footholes in this market.\n",
        " \n",
        " - In 2018-19,while new car sales were recorded at 3.6million units around 4million second-hand cars were bought and sold There is a slow down in new car sales and that could mean that the demand is shifting towards the pre-owned market.In fact,some car owners replace their old vehicles with pre-owned cars instead of buying a new automobile.\n",
        " \n",
        " - Unlike new cars,where price and supply are fairly deterministic and managed by OEMs(Original Equipment Manufacturer except for dealership level discounts which come into play only in the last stage of the customer journey), the used carmarket is a very different beast,with large uncertainties in both pricing and supply.Several factors,including mileage,brand,model,year,etc.can influence the actual worth of a car.From the perspective of a seller it is not an easy task to set the correct price of a used car.Keeping this in mind,the pricing scheme of these used cars becomes important in order to grow in the market.\n"
      ]
    },
    {
      "cell_type": "markdown",
      "metadata": {
        "id": "xcOelcO5l6aM"
      },
      "source": [
        "### **The objective:**\n",
        "\n",
        " - To build a model to predict the key factors that would influence the used cars price fluctuations. "
      ]
    },
    {
      "cell_type": "markdown",
      "metadata": {
        "id": "J-JZtcBYtOSb"
      },
      "source": [
        "## **Data Dictionary**\n",
        "\n",
        "**S.No.** : Serial Number\n",
        "\n",
        "**Name** : Name of the car which includes Brand name and Model name\n",
        "\n",
        "**Location** : The location in which the car is being sold or is available for purchase (Cities)\n",
        "\n",
        "**Year** : Manufacturing year of the car\n",
        "\n",
        "**Kilometers_driven** : The total kilometers driven in the car by the previous owner(s) in KM\n",
        "\n",
        "**Fuel_Type** : The type of fuel used by the car (Petrol, Diesel, Electric, CNG, LPG)\n",
        "\n",
        "**Transmission** : The type of transmission used by the car (Automatic / Manual)\n",
        "\n",
        "**Owner** : Type of ownership\n",
        "\n",
        "**Mileage** : The standard mileage offered by the car company in kmpl or km/kg\n",
        "\n",
        "**Engine** : The displacement volume of the engine in CC\n",
        "\n",
        "**Power** : The maximum power of the engine in bhp\n",
        "\n",
        "**Seats** : The number of seats in the car\n",
        "\n",
        "**New_Price** : The price of a new car of the same model in INR 100,000\n",
        "\n",
        "**Price** : The price of the used car in INR 100,000 (**Target Variable**)"
      ]
    },
    {
      "cell_type": "markdown",
      "metadata": {
        "id": "rlLoEhsbtOSg"
      },
      "source": [
        "### **Loading libraries**"
      ]
    },
    {
      "cell_type": "code",
      "execution_count": null,
      "metadata": {
        "id": "8J9KZGl9tOSh"
      },
      "outputs": [],
      "source": [
        "# Import required libraries\n",
        "import pandas as pd\n",
        "import numpy as np\n",
        "\n",
        "import matplotlib.pyplot as plt\n",
        "import seaborn as sns\n",
        "\n",
        "# To ignore warnings\n",
        "import warnings\n",
        "warnings.filterwarnings('ignore')\n",
        "\n",
        "# Remove the limit from the number of displayed columns and rows. It helps to see the entire dataframe while printing it\n",
        "pd.set_option(\"display.max_columns\", None)\n",
        "\n"
      ]
    },
    {
      "cell_type": "markdown",
      "metadata": {
        "id": "baG7rS5FtOSh"
      },
      "source": [
        "### **Load the data**"
      ]
    },
    {
      "cell_type": "code",
      "execution_count": null,
      "metadata": {
        "colab": {
          "base_uri": "https://localhost:8080/",
          "height": 74
        },
        "id": "22239HxKplxD",
        "outputId": "2c284758-4026-4397-e5cb-3b097f5d7365"
      },
      "outputs": [
        {
          "output_type": "display_data",
          "data": {
            "text/plain": [
              "<IPython.core.display.HTML object>"
            ],
            "text/html": [
              "\n",
              "     <input type=\"file\" id=\"files-1247998a-3805-4ffa-b76a-ef6b66cb9d80\" name=\"files[]\" multiple disabled\n",
              "        style=\"border:none\" />\n",
              "     <output id=\"result-1247998a-3805-4ffa-b76a-ef6b66cb9d80\">\n",
              "      Upload widget is only available when the cell has been executed in the\n",
              "      current browser session. Please rerun this cell to enable.\n",
              "      </output>\n",
              "      <script>// Copyright 2017 Google LLC\n",
              "//\n",
              "// Licensed under the Apache License, Version 2.0 (the \"License\");\n",
              "// you may not use this file except in compliance with the License.\n",
              "// You may obtain a copy of the License at\n",
              "//\n",
              "//      http://www.apache.org/licenses/LICENSE-2.0\n",
              "//\n",
              "// Unless required by applicable law or agreed to in writing, software\n",
              "// distributed under the License is distributed on an \"AS IS\" BASIS,\n",
              "// WITHOUT WARRANTIES OR CONDITIONS OF ANY KIND, either express or implied.\n",
              "// See the License for the specific language governing permissions and\n",
              "// limitations under the License.\n",
              "\n",
              "/**\n",
              " * @fileoverview Helpers for google.colab Python module.\n",
              " */\n",
              "(function(scope) {\n",
              "function span(text, styleAttributes = {}) {\n",
              "  const element = document.createElement('span');\n",
              "  element.textContent = text;\n",
              "  for (const key of Object.keys(styleAttributes)) {\n",
              "    element.style[key] = styleAttributes[key];\n",
              "  }\n",
              "  return element;\n",
              "}\n",
              "\n",
              "// Max number of bytes which will be uploaded at a time.\n",
              "const MAX_PAYLOAD_SIZE = 100 * 1024;\n",
              "\n",
              "function _uploadFiles(inputId, outputId) {\n",
              "  const steps = uploadFilesStep(inputId, outputId);\n",
              "  const outputElement = document.getElementById(outputId);\n",
              "  // Cache steps on the outputElement to make it available for the next call\n",
              "  // to uploadFilesContinue from Python.\n",
              "  outputElement.steps = steps;\n",
              "\n",
              "  return _uploadFilesContinue(outputId);\n",
              "}\n",
              "\n",
              "// This is roughly an async generator (not supported in the browser yet),\n",
              "// where there are multiple asynchronous steps and the Python side is going\n",
              "// to poll for completion of each step.\n",
              "// This uses a Promise to block the python side on completion of each step,\n",
              "// then passes the result of the previous step as the input to the next step.\n",
              "function _uploadFilesContinue(outputId) {\n",
              "  const outputElement = document.getElementById(outputId);\n",
              "  const steps = outputElement.steps;\n",
              "\n",
              "  const next = steps.next(outputElement.lastPromiseValue);\n",
              "  return Promise.resolve(next.value.promise).then((value) => {\n",
              "    // Cache the last promise value to make it available to the next\n",
              "    // step of the generator.\n",
              "    outputElement.lastPromiseValue = value;\n",
              "    return next.value.response;\n",
              "  });\n",
              "}\n",
              "\n",
              "/**\n",
              " * Generator function which is called between each async step of the upload\n",
              " * process.\n",
              " * @param {string} inputId Element ID of the input file picker element.\n",
              " * @param {string} outputId Element ID of the output display.\n",
              " * @return {!Iterable<!Object>} Iterable of next steps.\n",
              " */\n",
              "function* uploadFilesStep(inputId, outputId) {\n",
              "  const inputElement = document.getElementById(inputId);\n",
              "  inputElement.disabled = false;\n",
              "\n",
              "  const outputElement = document.getElementById(outputId);\n",
              "  outputElement.innerHTML = '';\n",
              "\n",
              "  const pickedPromise = new Promise((resolve) => {\n",
              "    inputElement.addEventListener('change', (e) => {\n",
              "      resolve(e.target.files);\n",
              "    });\n",
              "  });\n",
              "\n",
              "  const cancel = document.createElement('button');\n",
              "  inputElement.parentElement.appendChild(cancel);\n",
              "  cancel.textContent = 'Cancel upload';\n",
              "  const cancelPromise = new Promise((resolve) => {\n",
              "    cancel.onclick = () => {\n",
              "      resolve(null);\n",
              "    };\n",
              "  });\n",
              "\n",
              "  // Wait for the user to pick the files.\n",
              "  const files = yield {\n",
              "    promise: Promise.race([pickedPromise, cancelPromise]),\n",
              "    response: {\n",
              "      action: 'starting',\n",
              "    }\n",
              "  };\n",
              "\n",
              "  cancel.remove();\n",
              "\n",
              "  // Disable the input element since further picks are not allowed.\n",
              "  inputElement.disabled = true;\n",
              "\n",
              "  if (!files) {\n",
              "    return {\n",
              "      response: {\n",
              "        action: 'complete',\n",
              "      }\n",
              "    };\n",
              "  }\n",
              "\n",
              "  for (const file of files) {\n",
              "    const li = document.createElement('li');\n",
              "    li.append(span(file.name, {fontWeight: 'bold'}));\n",
              "    li.append(span(\n",
              "        `(${file.type || 'n/a'}) - ${file.size} bytes, ` +\n",
              "        `last modified: ${\n",
              "            file.lastModifiedDate ? file.lastModifiedDate.toLocaleDateString() :\n",
              "                                    'n/a'} - `));\n",
              "    const percent = span('0% done');\n",
              "    li.appendChild(percent);\n",
              "\n",
              "    outputElement.appendChild(li);\n",
              "\n",
              "    const fileDataPromise = new Promise((resolve) => {\n",
              "      const reader = new FileReader();\n",
              "      reader.onload = (e) => {\n",
              "        resolve(e.target.result);\n",
              "      };\n",
              "      reader.readAsArrayBuffer(file);\n",
              "    });\n",
              "    // Wait for the data to be ready.\n",
              "    let fileData = yield {\n",
              "      promise: fileDataPromise,\n",
              "      response: {\n",
              "        action: 'continue',\n",
              "      }\n",
              "    };\n",
              "\n",
              "    // Use a chunked sending to avoid message size limits. See b/62115660.\n",
              "    let position = 0;\n",
              "    do {\n",
              "      const length = Math.min(fileData.byteLength - position, MAX_PAYLOAD_SIZE);\n",
              "      const chunk = new Uint8Array(fileData, position, length);\n",
              "      position += length;\n",
              "\n",
              "      const base64 = btoa(String.fromCharCode.apply(null, chunk));\n",
              "      yield {\n",
              "        response: {\n",
              "          action: 'append',\n",
              "          file: file.name,\n",
              "          data: base64,\n",
              "        },\n",
              "      };\n",
              "\n",
              "      let percentDone = fileData.byteLength === 0 ?\n",
              "          100 :\n",
              "          Math.round((position / fileData.byteLength) * 100);\n",
              "      percent.textContent = `${percentDone}% done`;\n",
              "\n",
              "    } while (position < fileData.byteLength);\n",
              "  }\n",
              "\n",
              "  // All done.\n",
              "  yield {\n",
              "    response: {\n",
              "      action: 'complete',\n",
              "    }\n",
              "  };\n",
              "}\n",
              "\n",
              "scope.google = scope.google || {};\n",
              "scope.google.colab = scope.google.colab || {};\n",
              "scope.google.colab._files = {\n",
              "  _uploadFiles,\n",
              "  _uploadFilesContinue,\n",
              "};\n",
              "})(self);\n",
              "</script> "
            ]
          },
          "metadata": {}
        },
        {
          "output_type": "stream",
          "name": "stdout",
          "text": [
            "Saving used_cars.csv to used_cars (1).csv\n"
          ]
        }
      ],
      "source": [
        "from google.colab import files\n",
        "upload = files.upload()"
      ]
    },
    {
      "cell_type": "code",
      "execution_count": null,
      "metadata": {
        "id": "flK0muyhtOSi"
      },
      "outputs": [],
      "source": [
        "data = pd.read_csv(\"used_cars.csv\")"
      ]
    },
    {
      "cell_type": "markdown",
      "metadata": {
        "id": "63k9imdMtOSi"
      },
      "source": [
        "### **Understand the data by observing a few rows**"
      ]
    },
    {
      "cell_type": "code",
      "execution_count": null,
      "metadata": {
        "colab": {
          "base_uri": "https://localhost:8080/",
          "height": 354
        },
        "id": "rrVFKlXXtOSi",
        "outputId": "868c3744-a46f-4bf0-d9d6-7a3ffea9c432"
      },
      "outputs": [
        {
          "output_type": "execute_result",
          "data": {
            "text/plain": [
              "   S.No.                              Name    Location  Year  \\\n",
              "0      0            Maruti Wagon R LXI CNG      Mumbai  2010   \n",
              "1      1  Hyundai Creta 1.6 CRDi SX Option        Pune  2015   \n",
              "2      2                      Honda Jazz V     Chennai  2011   \n",
              "3      3                 Maruti Ertiga VDI     Chennai  2012   \n",
              "4      4   Audi A4 New 2.0 TDI Multitronic  Coimbatore  2013   \n",
              "\n",
              "   Kilometers_Driven Fuel_Type Transmission Owner_Type  Mileage  Engine  \\\n",
              "0              72000       CNG       Manual      First    26.60   998.0   \n",
              "1              41000    Diesel       Manual      First    19.67  1582.0   \n",
              "2              46000    Petrol       Manual      First    18.20  1199.0   \n",
              "3              87000    Diesel       Manual      First    20.77  1248.0   \n",
              "4              40670    Diesel    Automatic     Second    15.20  1968.0   \n",
              "\n",
              "    Power  Seats  New_price  Price  \n",
              "0   58.16    5.0        NaN   1.75  \n",
              "1  126.20    5.0        NaN  12.50  \n",
              "2   88.70    5.0       8.61   4.50  \n",
              "3   88.76    7.0        NaN   6.00  \n",
              "4  140.80    5.0        NaN  17.74  "
            ],
            "text/html": [
              "\n",
              "  <div id=\"df-55d4def5-7752-4bfb-a806-e0c69e95f99f\">\n",
              "    <div class=\"colab-df-container\">\n",
              "      <div>\n",
              "<style scoped>\n",
              "    .dataframe tbody tr th:only-of-type {\n",
              "        vertical-align: middle;\n",
              "    }\n",
              "\n",
              "    .dataframe tbody tr th {\n",
              "        vertical-align: top;\n",
              "    }\n",
              "\n",
              "    .dataframe thead th {\n",
              "        text-align: right;\n",
              "    }\n",
              "</style>\n",
              "<table border=\"1\" class=\"dataframe\">\n",
              "  <thead>\n",
              "    <tr style=\"text-align: right;\">\n",
              "      <th></th>\n",
              "      <th>S.No.</th>\n",
              "      <th>Name</th>\n",
              "      <th>Location</th>\n",
              "      <th>Year</th>\n",
              "      <th>Kilometers_Driven</th>\n",
              "      <th>Fuel_Type</th>\n",
              "      <th>Transmission</th>\n",
              "      <th>Owner_Type</th>\n",
              "      <th>Mileage</th>\n",
              "      <th>Engine</th>\n",
              "      <th>Power</th>\n",
              "      <th>Seats</th>\n",
              "      <th>New_price</th>\n",
              "      <th>Price</th>\n",
              "    </tr>\n",
              "  </thead>\n",
              "  <tbody>\n",
              "    <tr>\n",
              "      <th>0</th>\n",
              "      <td>0</td>\n",
              "      <td>Maruti Wagon R LXI CNG</td>\n",
              "      <td>Mumbai</td>\n",
              "      <td>2010</td>\n",
              "      <td>72000</td>\n",
              "      <td>CNG</td>\n",
              "      <td>Manual</td>\n",
              "      <td>First</td>\n",
              "      <td>26.60</td>\n",
              "      <td>998.0</td>\n",
              "      <td>58.16</td>\n",
              "      <td>5.0</td>\n",
              "      <td>NaN</td>\n",
              "      <td>1.75</td>\n",
              "    </tr>\n",
              "    <tr>\n",
              "      <th>1</th>\n",
              "      <td>1</td>\n",
              "      <td>Hyundai Creta 1.6 CRDi SX Option</td>\n",
              "      <td>Pune</td>\n",
              "      <td>2015</td>\n",
              "      <td>41000</td>\n",
              "      <td>Diesel</td>\n",
              "      <td>Manual</td>\n",
              "      <td>First</td>\n",
              "      <td>19.67</td>\n",
              "      <td>1582.0</td>\n",
              "      <td>126.20</td>\n",
              "      <td>5.0</td>\n",
              "      <td>NaN</td>\n",
              "      <td>12.50</td>\n",
              "    </tr>\n",
              "    <tr>\n",
              "      <th>2</th>\n",
              "      <td>2</td>\n",
              "      <td>Honda Jazz V</td>\n",
              "      <td>Chennai</td>\n",
              "      <td>2011</td>\n",
              "      <td>46000</td>\n",
              "      <td>Petrol</td>\n",
              "      <td>Manual</td>\n",
              "      <td>First</td>\n",
              "      <td>18.20</td>\n",
              "      <td>1199.0</td>\n",
              "      <td>88.70</td>\n",
              "      <td>5.0</td>\n",
              "      <td>8.61</td>\n",
              "      <td>4.50</td>\n",
              "    </tr>\n",
              "    <tr>\n",
              "      <th>3</th>\n",
              "      <td>3</td>\n",
              "      <td>Maruti Ertiga VDI</td>\n",
              "      <td>Chennai</td>\n",
              "      <td>2012</td>\n",
              "      <td>87000</td>\n",
              "      <td>Diesel</td>\n",
              "      <td>Manual</td>\n",
              "      <td>First</td>\n",
              "      <td>20.77</td>\n",
              "      <td>1248.0</td>\n",
              "      <td>88.76</td>\n",
              "      <td>7.0</td>\n",
              "      <td>NaN</td>\n",
              "      <td>6.00</td>\n",
              "    </tr>\n",
              "    <tr>\n",
              "      <th>4</th>\n",
              "      <td>4</td>\n",
              "      <td>Audi A4 New 2.0 TDI Multitronic</td>\n",
              "      <td>Coimbatore</td>\n",
              "      <td>2013</td>\n",
              "      <td>40670</td>\n",
              "      <td>Diesel</td>\n",
              "      <td>Automatic</td>\n",
              "      <td>Second</td>\n",
              "      <td>15.20</td>\n",
              "      <td>1968.0</td>\n",
              "      <td>140.80</td>\n",
              "      <td>5.0</td>\n",
              "      <td>NaN</td>\n",
              "      <td>17.74</td>\n",
              "    </tr>\n",
              "  </tbody>\n",
              "</table>\n",
              "</div>\n",
              "      <button class=\"colab-df-convert\" onclick=\"convertToInteractive('df-55d4def5-7752-4bfb-a806-e0c69e95f99f')\"\n",
              "              title=\"Convert this dataframe to an interactive table.\"\n",
              "              style=\"display:none;\">\n",
              "        \n",
              "  <svg xmlns=\"http://www.w3.org/2000/svg\" height=\"24px\"viewBox=\"0 0 24 24\"\n",
              "       width=\"24px\">\n",
              "    <path d=\"M0 0h24v24H0V0z\" fill=\"none\"/>\n",
              "    <path d=\"M18.56 5.44l.94 2.06.94-2.06 2.06-.94-2.06-.94-.94-2.06-.94 2.06-2.06.94zm-11 1L8.5 8.5l.94-2.06 2.06-.94-2.06-.94L8.5 2.5l-.94 2.06-2.06.94zm10 10l.94 2.06.94-2.06 2.06-.94-2.06-.94-.94-2.06-.94 2.06-2.06.94z\"/><path d=\"M17.41 7.96l-1.37-1.37c-.4-.4-.92-.59-1.43-.59-.52 0-1.04.2-1.43.59L10.3 9.45l-7.72 7.72c-.78.78-.78 2.05 0 2.83L4 21.41c.39.39.9.59 1.41.59.51 0 1.02-.2 1.41-.59l7.78-7.78 2.81-2.81c.8-.78.8-2.07 0-2.86zM5.41 20L4 18.59l7.72-7.72 1.47 1.35L5.41 20z\"/>\n",
              "  </svg>\n",
              "      </button>\n",
              "      \n",
              "  <style>\n",
              "    .colab-df-container {\n",
              "      display:flex;\n",
              "      flex-wrap:wrap;\n",
              "      gap: 12px;\n",
              "    }\n",
              "\n",
              "    .colab-df-convert {\n",
              "      background-color: #E8F0FE;\n",
              "      border: none;\n",
              "      border-radius: 50%;\n",
              "      cursor: pointer;\n",
              "      display: none;\n",
              "      fill: #1967D2;\n",
              "      height: 32px;\n",
              "      padding: 0 0 0 0;\n",
              "      width: 32px;\n",
              "    }\n",
              "\n",
              "    .colab-df-convert:hover {\n",
              "      background-color: #E2EBFA;\n",
              "      box-shadow: 0px 1px 2px rgba(60, 64, 67, 0.3), 0px 1px 3px 1px rgba(60, 64, 67, 0.15);\n",
              "      fill: #174EA6;\n",
              "    }\n",
              "\n",
              "    [theme=dark] .colab-df-convert {\n",
              "      background-color: #3B4455;\n",
              "      fill: #D2E3FC;\n",
              "    }\n",
              "\n",
              "    [theme=dark] .colab-df-convert:hover {\n",
              "      background-color: #434B5C;\n",
              "      box-shadow: 0px 1px 3px 1px rgba(0, 0, 0, 0.15);\n",
              "      filter: drop-shadow(0px 1px 2px rgba(0, 0, 0, 0.3));\n",
              "      fill: #FFFFFF;\n",
              "    }\n",
              "  </style>\n",
              "\n",
              "      <script>\n",
              "        const buttonEl =\n",
              "          document.querySelector('#df-55d4def5-7752-4bfb-a806-e0c69e95f99f button.colab-df-convert');\n",
              "        buttonEl.style.display =\n",
              "          google.colab.kernel.accessAllowed ? 'block' : 'none';\n",
              "\n",
              "        async function convertToInteractive(key) {\n",
              "          const element = document.querySelector('#df-55d4def5-7752-4bfb-a806-e0c69e95f99f');\n",
              "          const dataTable =\n",
              "            await google.colab.kernel.invokeFunction('convertToInteractive',\n",
              "                                                     [key], {});\n",
              "          if (!dataTable) return;\n",
              "\n",
              "          const docLinkHtml = 'Like what you see? Visit the ' +\n",
              "            '<a target=\"_blank\" href=https://colab.research.google.com/notebooks/data_table.ipynb>data table notebook</a>'\n",
              "            + ' to learn more about interactive tables.';\n",
              "          element.innerHTML = '';\n",
              "          dataTable['output_type'] = 'display_data';\n",
              "          await google.colab.output.renderOutput(dataTable, element);\n",
              "          const docLink = document.createElement('div');\n",
              "          docLink.innerHTML = docLinkHtml;\n",
              "          element.appendChild(docLink);\n",
              "        }\n",
              "      </script>\n",
              "    </div>\n",
              "  </div>\n",
              "  "
            ]
          },
          "metadata": {},
          "execution_count": 19
        }
      ],
      "source": [
        "# View first 5 rows\n",
        "data.head()"
      ]
    },
    {
      "cell_type": "code",
      "execution_count": null,
      "metadata": {
        "colab": {
          "base_uri": "https://localhost:8080/",
          "height": 441
        },
        "id": "7oeTruANtOSj",
        "outputId": "d98999ef-1d40-4c73-e97e-db1d7ed27c64"
      },
      "outputs": [
        {
          "output_type": "execute_result",
          "data": {
            "text/plain": [
              "      S.No.                                               Name   Location  \\\n",
              "7248   7248                  Volkswagen Vento Diesel Trendline  Hyderabad   \n",
              "7249   7249                             Volkswagen Polo GT TSI     Mumbai   \n",
              "7250   7250                             Nissan Micra Diesel XV    Kolkata   \n",
              "7251   7251                             Volkswagen Polo GT TSI       Pune   \n",
              "7252   7252  Mercedes-Benz E-Class 2009-2013 E 220 CDI Avan...      Kochi   \n",
              "\n",
              "      Year  Kilometers_Driven Fuel_Type Transmission Owner_Type  Mileage  \\\n",
              "7248  2011              89411    Diesel       Manual      First    20.54   \n",
              "7249  2015              59000    Petrol    Automatic      First    17.21   \n",
              "7250  2012              28000    Diesel       Manual      First    23.08   \n",
              "7251  2013              52262    Petrol    Automatic      Third    17.20   \n",
              "7252  2014              72443    Diesel    Automatic      First    10.00   \n",
              "\n",
              "      Engine  Power  Seats  New_price  Price  \n",
              "7248  1598.0  103.6    5.0        NaN    NaN  \n",
              "7249  1197.0  103.6    5.0        NaN    NaN  \n",
              "7250  1461.0   63.1    5.0        NaN    NaN  \n",
              "7251  1197.0  103.6    5.0        NaN    NaN  \n",
              "7252  2148.0  170.0    5.0        NaN    NaN  "
            ],
            "text/html": [
              "\n",
              "  <div id=\"df-a8714a65-9322-466d-8e71-ec0b7262ff79\">\n",
              "    <div class=\"colab-df-container\">\n",
              "      <div>\n",
              "<style scoped>\n",
              "    .dataframe tbody tr th:only-of-type {\n",
              "        vertical-align: middle;\n",
              "    }\n",
              "\n",
              "    .dataframe tbody tr th {\n",
              "        vertical-align: top;\n",
              "    }\n",
              "\n",
              "    .dataframe thead th {\n",
              "        text-align: right;\n",
              "    }\n",
              "</style>\n",
              "<table border=\"1\" class=\"dataframe\">\n",
              "  <thead>\n",
              "    <tr style=\"text-align: right;\">\n",
              "      <th></th>\n",
              "      <th>S.No.</th>\n",
              "      <th>Name</th>\n",
              "      <th>Location</th>\n",
              "      <th>Year</th>\n",
              "      <th>Kilometers_Driven</th>\n",
              "      <th>Fuel_Type</th>\n",
              "      <th>Transmission</th>\n",
              "      <th>Owner_Type</th>\n",
              "      <th>Mileage</th>\n",
              "      <th>Engine</th>\n",
              "      <th>Power</th>\n",
              "      <th>Seats</th>\n",
              "      <th>New_price</th>\n",
              "      <th>Price</th>\n",
              "    </tr>\n",
              "  </thead>\n",
              "  <tbody>\n",
              "    <tr>\n",
              "      <th>7248</th>\n",
              "      <td>7248</td>\n",
              "      <td>Volkswagen Vento Diesel Trendline</td>\n",
              "      <td>Hyderabad</td>\n",
              "      <td>2011</td>\n",
              "      <td>89411</td>\n",
              "      <td>Diesel</td>\n",
              "      <td>Manual</td>\n",
              "      <td>First</td>\n",
              "      <td>20.54</td>\n",
              "      <td>1598.0</td>\n",
              "      <td>103.6</td>\n",
              "      <td>5.0</td>\n",
              "      <td>NaN</td>\n",
              "      <td>NaN</td>\n",
              "    </tr>\n",
              "    <tr>\n",
              "      <th>7249</th>\n",
              "      <td>7249</td>\n",
              "      <td>Volkswagen Polo GT TSI</td>\n",
              "      <td>Mumbai</td>\n",
              "      <td>2015</td>\n",
              "      <td>59000</td>\n",
              "      <td>Petrol</td>\n",
              "      <td>Automatic</td>\n",
              "      <td>First</td>\n",
              "      <td>17.21</td>\n",
              "      <td>1197.0</td>\n",
              "      <td>103.6</td>\n",
              "      <td>5.0</td>\n",
              "      <td>NaN</td>\n",
              "      <td>NaN</td>\n",
              "    </tr>\n",
              "    <tr>\n",
              "      <th>7250</th>\n",
              "      <td>7250</td>\n",
              "      <td>Nissan Micra Diesel XV</td>\n",
              "      <td>Kolkata</td>\n",
              "      <td>2012</td>\n",
              "      <td>28000</td>\n",
              "      <td>Diesel</td>\n",
              "      <td>Manual</td>\n",
              "      <td>First</td>\n",
              "      <td>23.08</td>\n",
              "      <td>1461.0</td>\n",
              "      <td>63.1</td>\n",
              "      <td>5.0</td>\n",
              "      <td>NaN</td>\n",
              "      <td>NaN</td>\n",
              "    </tr>\n",
              "    <tr>\n",
              "      <th>7251</th>\n",
              "      <td>7251</td>\n",
              "      <td>Volkswagen Polo GT TSI</td>\n",
              "      <td>Pune</td>\n",
              "      <td>2013</td>\n",
              "      <td>52262</td>\n",
              "      <td>Petrol</td>\n",
              "      <td>Automatic</td>\n",
              "      <td>Third</td>\n",
              "      <td>17.20</td>\n",
              "      <td>1197.0</td>\n",
              "      <td>103.6</td>\n",
              "      <td>5.0</td>\n",
              "      <td>NaN</td>\n",
              "      <td>NaN</td>\n",
              "    </tr>\n",
              "    <tr>\n",
              "      <th>7252</th>\n",
              "      <td>7252</td>\n",
              "      <td>Mercedes-Benz E-Class 2009-2013 E 220 CDI Avan...</td>\n",
              "      <td>Kochi</td>\n",
              "      <td>2014</td>\n",
              "      <td>72443</td>\n",
              "      <td>Diesel</td>\n",
              "      <td>Automatic</td>\n",
              "      <td>First</td>\n",
              "      <td>10.00</td>\n",
              "      <td>2148.0</td>\n",
              "      <td>170.0</td>\n",
              "      <td>5.0</td>\n",
              "      <td>NaN</td>\n",
              "      <td>NaN</td>\n",
              "    </tr>\n",
              "  </tbody>\n",
              "</table>\n",
              "</div>\n",
              "      <button class=\"colab-df-convert\" onclick=\"convertToInteractive('df-a8714a65-9322-466d-8e71-ec0b7262ff79')\"\n",
              "              title=\"Convert this dataframe to an interactive table.\"\n",
              "              style=\"display:none;\">\n",
              "        \n",
              "  <svg xmlns=\"http://www.w3.org/2000/svg\" height=\"24px\"viewBox=\"0 0 24 24\"\n",
              "       width=\"24px\">\n",
              "    <path d=\"M0 0h24v24H0V0z\" fill=\"none\"/>\n",
              "    <path d=\"M18.56 5.44l.94 2.06.94-2.06 2.06-.94-2.06-.94-.94-2.06-.94 2.06-2.06.94zm-11 1L8.5 8.5l.94-2.06 2.06-.94-2.06-.94L8.5 2.5l-.94 2.06-2.06.94zm10 10l.94 2.06.94-2.06 2.06-.94-2.06-.94-.94-2.06-.94 2.06-2.06.94z\"/><path d=\"M17.41 7.96l-1.37-1.37c-.4-.4-.92-.59-1.43-.59-.52 0-1.04.2-1.43.59L10.3 9.45l-7.72 7.72c-.78.78-.78 2.05 0 2.83L4 21.41c.39.39.9.59 1.41.59.51 0 1.02-.2 1.41-.59l7.78-7.78 2.81-2.81c.8-.78.8-2.07 0-2.86zM5.41 20L4 18.59l7.72-7.72 1.47 1.35L5.41 20z\"/>\n",
              "  </svg>\n",
              "      </button>\n",
              "      \n",
              "  <style>\n",
              "    .colab-df-container {\n",
              "      display:flex;\n",
              "      flex-wrap:wrap;\n",
              "      gap: 12px;\n",
              "    }\n",
              "\n",
              "    .colab-df-convert {\n",
              "      background-color: #E8F0FE;\n",
              "      border: none;\n",
              "      border-radius: 50%;\n",
              "      cursor: pointer;\n",
              "      display: none;\n",
              "      fill: #1967D2;\n",
              "      height: 32px;\n",
              "      padding: 0 0 0 0;\n",
              "      width: 32px;\n",
              "    }\n",
              "\n",
              "    .colab-df-convert:hover {\n",
              "      background-color: #E2EBFA;\n",
              "      box-shadow: 0px 1px 2px rgba(60, 64, 67, 0.3), 0px 1px 3px 1px rgba(60, 64, 67, 0.15);\n",
              "      fill: #174EA6;\n",
              "    }\n",
              "\n",
              "    [theme=dark] .colab-df-convert {\n",
              "      background-color: #3B4455;\n",
              "      fill: #D2E3FC;\n",
              "    }\n",
              "\n",
              "    [theme=dark] .colab-df-convert:hover {\n",
              "      background-color: #434B5C;\n",
              "      box-shadow: 0px 1px 3px 1px rgba(0, 0, 0, 0.15);\n",
              "      filter: drop-shadow(0px 1px 2px rgba(0, 0, 0, 0.3));\n",
              "      fill: #FFFFFF;\n",
              "    }\n",
              "  </style>\n",
              "\n",
              "      <script>\n",
              "        const buttonEl =\n",
              "          document.querySelector('#df-a8714a65-9322-466d-8e71-ec0b7262ff79 button.colab-df-convert');\n",
              "        buttonEl.style.display =\n",
              "          google.colab.kernel.accessAllowed ? 'block' : 'none';\n",
              "\n",
              "        async function convertToInteractive(key) {\n",
              "          const element = document.querySelector('#df-a8714a65-9322-466d-8e71-ec0b7262ff79');\n",
              "          const dataTable =\n",
              "            await google.colab.kernel.invokeFunction('convertToInteractive',\n",
              "                                                     [key], {});\n",
              "          if (!dataTable) return;\n",
              "\n",
              "          const docLinkHtml = 'Like what you see? Visit the ' +\n",
              "            '<a target=\"_blank\" href=https://colab.research.google.com/notebooks/data_table.ipynb>data table notebook</a>'\n",
              "            + ' to learn more about interactive tables.';\n",
              "          element.innerHTML = '';\n",
              "          dataTable['output_type'] = 'display_data';\n",
              "          await google.colab.output.renderOutput(dataTable, element);\n",
              "          const docLink = document.createElement('div');\n",
              "          docLink.innerHTML = docLinkHtml;\n",
              "          element.appendChild(docLink);\n",
              "        }\n",
              "      </script>\n",
              "    </div>\n",
              "  </div>\n",
              "  "
            ]
          },
          "metadata": {},
          "execution_count": 20
        }
      ],
      "source": [
        "# View last 5 rows\n",
        "data.tail()"
      ]
    },
    {
      "cell_type": "markdown",
      "metadata": {
        "id": "T0h9uyJNVL3U"
      },
      "source": [
        "### **Check the data types and and missing values of each column** "
      ]
    },
    {
      "cell_type": "code",
      "execution_count": null,
      "metadata": {
        "colab": {
          "base_uri": "https://localhost:8080/"
        },
        "id": "r1jWwTJiVL3V",
        "outputId": "0b71ecbd-097d-4259-fc03-85e1148fa878"
      },
      "outputs": [
        {
          "output_type": "stream",
          "name": "stdout",
          "text": [
            "<class 'pandas.core.frame.DataFrame'>\n",
            "RangeIndex: 7253 entries, 0 to 7252\n",
            "Data columns (total 14 columns):\n",
            " #   Column             Non-Null Count  Dtype  \n",
            "---  ------             --------------  -----  \n",
            " 0   S.No.              7253 non-null   int64  \n",
            " 1   Name               7253 non-null   object \n",
            " 2   Location           7253 non-null   object \n",
            " 3   Year               7253 non-null   int64  \n",
            " 4   Kilometers_Driven  7253 non-null   int64  \n",
            " 5   Fuel_Type          7253 non-null   object \n",
            " 6   Transmission       7253 non-null   object \n",
            " 7   Owner_Type         7253 non-null   object \n",
            " 8   Mileage            7251 non-null   float64\n",
            " 9   Engine             7207 non-null   float64\n",
            " 10  Power              7078 non-null   float64\n",
            " 11  Seats              7200 non-null   float64\n",
            " 12  New_price          1006 non-null   float64\n",
            " 13  Price              6019 non-null   float64\n",
            "dtypes: float64(6), int64(3), object(5)\n",
            "memory usage: 793.4+ KB\n"
          ]
        }
      ],
      "source": [
        "# Check the datatypes of each column. \n",
        "data.info()"
      ]
    },
    {
      "cell_type": "code",
      "execution_count": null,
      "metadata": {
        "colab": {
          "base_uri": "https://localhost:8080/"
        },
        "id": "7d0y0_sqVL3V",
        "outputId": "ceabd334-7ca8-4d00-f4e6-32e43718d563"
      },
      "outputs": [
        {
          "output_type": "execute_result",
          "data": {
            "text/plain": [
              "S.No.                   0\n",
              "Name                    0\n",
              "Location                0\n",
              "Year                    0\n",
              "Kilometers_Driven       0\n",
              "Fuel_Type               0\n",
              "Transmission            0\n",
              "Owner_Type              0\n",
              "Mileage                 2\n",
              "Engine                 46\n",
              "Power                 175\n",
              "Seats                  53\n",
              "New_price            6247\n",
              "Price                1234\n",
              "dtype: int64"
            ]
          },
          "metadata": {},
          "execution_count": 22
        }
      ],
      "source": [
        "# Check total number of missing values of each column. \n",
        "data.isnull().sum()"
      ]
    },
    {
      "cell_type": "markdown",
      "metadata": {
        "id": "YYEjK2P9VL3V"
      },
      "source": [
        "**Observations and Insights:**\n",
        "* There are 7253 observations and 13 columns in the dataset.\n",
        "* Name, Location, Fuel_Type, Transmission, Owner_Type are of object type while rest of columns are of numeric type.\n",
        "* The variable of Mileage, Engine, Power, Seats, New_price and Price have the missing values in the dataset.  "
      ]
    },
    {
      "cell_type": "markdown",
      "source": [
        "**S.No. looks like an index for the data entry and such a column would not be useful in providing any predictive power for our analysis. Hence, it can be dropped.**"
      ],
      "metadata": {
        "id": "UmBpcUpyUTQM"
      }
    },
    {
      "cell_type": "code",
      "execution_count": null,
      "metadata": {
        "id": "7iOwET4BtOSk"
      },
      "outputs": [],
      "source": [
        "# Remove S.No. column from data. \n",
        "data.drop(['S.No.'], axis=1, inplace=True)"
      ]
    },
    {
      "cell_type": "markdown",
      "metadata": {
        "id": "crnR9cphIrct"
      },
      "source": [
        "## **Exploratory Data Analysis**"
      ]
    },
    {
      "cell_type": "markdown",
      "metadata": {
        "id": "foDG3YDDtOSm"
      },
      "source": [
        "### **Explore the summary statistics of numerical variables**"
      ]
    },
    {
      "cell_type": "code",
      "execution_count": null,
      "metadata": {
        "colab": {
          "base_uri": "https://localhost:8080/",
          "height": 457
        },
        "id": "gRtUSqXptOSm",
        "outputId": "d80d3383-f8dc-47d6-9cb4-00788b89a604",
        "scrolled": true
      },
      "outputs": [
        {
          "output_type": "execute_result",
          "data": {
            "text/plain": [
              "                    count unique                     top  freq          mean  \\\n",
              "Name                 7253   2041  Mahindra XUV500 W8 2WD    55           NaN   \n",
              "Location             7253     11                  Mumbai   949           NaN   \n",
              "Year               7253.0    NaN                     NaN   NaN   2013.365366   \n",
              "Kilometers_Driven  7253.0    NaN                     NaN   NaN  58699.063146   \n",
              "Fuel_Type            7253      5                  Diesel  3852           NaN   \n",
              "Transmission         7253      2                  Manual  5204           NaN   \n",
              "Owner_Type           7253      4                   First  5952           NaN   \n",
              "Mileage            7251.0    NaN                     NaN   NaN      18.14158   \n",
              "Engine             7207.0    NaN                     NaN   NaN    1616.57347   \n",
              "Power              7078.0    NaN                     NaN   NaN    112.765214   \n",
              "Seats              7200.0    NaN                     NaN   NaN      5.280417   \n",
              "New_price          1006.0    NaN                     NaN   NaN     22.779692   \n",
              "Price              6019.0    NaN                     NaN   NaN      9.479468   \n",
              "\n",
              "                            std     min      25%      50%      75%        max  \n",
              "Name                        NaN     NaN      NaN      NaN      NaN        NaN  \n",
              "Location                    NaN     NaN      NaN      NaN      NaN        NaN  \n",
              "Year                   3.254421  1996.0   2011.0   2014.0   2016.0     2019.0  \n",
              "Kilometers_Driven  84427.720583   171.0  34000.0  53416.0  73000.0  6500000.0  \n",
              "Fuel_Type                   NaN     NaN      NaN      NaN      NaN        NaN  \n",
              "Transmission                NaN     NaN      NaN      NaN      NaN        NaN  \n",
              "Owner_Type                  NaN     NaN      NaN      NaN      NaN        NaN  \n",
              "Mileage                4.562197     0.0    15.17    18.16     21.1      33.54  \n",
              "Engine               595.285137    72.0   1198.0   1493.0   1968.0     5998.0  \n",
              "Power                 53.493553    34.2     75.0     94.0    138.1      616.0  \n",
              "Seats                  0.809277     2.0      5.0      5.0      5.0       10.0  \n",
              "New_price             27.759344    3.91    7.885    11.57  26.0425      375.0  \n",
              "Price                 11.187917    0.44      3.5     5.64     9.95      160.0  "
            ],
            "text/html": [
              "\n",
              "  <div id=\"df-090b2ca6-2a08-4597-9ff4-dc9898528a86\">\n",
              "    <div class=\"colab-df-container\">\n",
              "      <div>\n",
              "<style scoped>\n",
              "    .dataframe tbody tr th:only-of-type {\n",
              "        vertical-align: middle;\n",
              "    }\n",
              "\n",
              "    .dataframe tbody tr th {\n",
              "        vertical-align: top;\n",
              "    }\n",
              "\n",
              "    .dataframe thead th {\n",
              "        text-align: right;\n",
              "    }\n",
              "</style>\n",
              "<table border=\"1\" class=\"dataframe\">\n",
              "  <thead>\n",
              "    <tr style=\"text-align: right;\">\n",
              "      <th></th>\n",
              "      <th>count</th>\n",
              "      <th>unique</th>\n",
              "      <th>top</th>\n",
              "      <th>freq</th>\n",
              "      <th>mean</th>\n",
              "      <th>std</th>\n",
              "      <th>min</th>\n",
              "      <th>25%</th>\n",
              "      <th>50%</th>\n",
              "      <th>75%</th>\n",
              "      <th>max</th>\n",
              "    </tr>\n",
              "  </thead>\n",
              "  <tbody>\n",
              "    <tr>\n",
              "      <th>Name</th>\n",
              "      <td>7253</td>\n",
              "      <td>2041</td>\n",
              "      <td>Mahindra XUV500 W8 2WD</td>\n",
              "      <td>55</td>\n",
              "      <td>NaN</td>\n",
              "      <td>NaN</td>\n",
              "      <td>NaN</td>\n",
              "      <td>NaN</td>\n",
              "      <td>NaN</td>\n",
              "      <td>NaN</td>\n",
              "      <td>NaN</td>\n",
              "    </tr>\n",
              "    <tr>\n",
              "      <th>Location</th>\n",
              "      <td>7253</td>\n",
              "      <td>11</td>\n",
              "      <td>Mumbai</td>\n",
              "      <td>949</td>\n",
              "      <td>NaN</td>\n",
              "      <td>NaN</td>\n",
              "      <td>NaN</td>\n",
              "      <td>NaN</td>\n",
              "      <td>NaN</td>\n",
              "      <td>NaN</td>\n",
              "      <td>NaN</td>\n",
              "    </tr>\n",
              "    <tr>\n",
              "      <th>Year</th>\n",
              "      <td>7253.0</td>\n",
              "      <td>NaN</td>\n",
              "      <td>NaN</td>\n",
              "      <td>NaN</td>\n",
              "      <td>2013.365366</td>\n",
              "      <td>3.254421</td>\n",
              "      <td>1996.0</td>\n",
              "      <td>2011.0</td>\n",
              "      <td>2014.0</td>\n",
              "      <td>2016.0</td>\n",
              "      <td>2019.0</td>\n",
              "    </tr>\n",
              "    <tr>\n",
              "      <th>Kilometers_Driven</th>\n",
              "      <td>7253.0</td>\n",
              "      <td>NaN</td>\n",
              "      <td>NaN</td>\n",
              "      <td>NaN</td>\n",
              "      <td>58699.063146</td>\n",
              "      <td>84427.720583</td>\n",
              "      <td>171.0</td>\n",
              "      <td>34000.0</td>\n",
              "      <td>53416.0</td>\n",
              "      <td>73000.0</td>\n",
              "      <td>6500000.0</td>\n",
              "    </tr>\n",
              "    <tr>\n",
              "      <th>Fuel_Type</th>\n",
              "      <td>7253</td>\n",
              "      <td>5</td>\n",
              "      <td>Diesel</td>\n",
              "      <td>3852</td>\n",
              "      <td>NaN</td>\n",
              "      <td>NaN</td>\n",
              "      <td>NaN</td>\n",
              "      <td>NaN</td>\n",
              "      <td>NaN</td>\n",
              "      <td>NaN</td>\n",
              "      <td>NaN</td>\n",
              "    </tr>\n",
              "    <tr>\n",
              "      <th>Transmission</th>\n",
              "      <td>7253</td>\n",
              "      <td>2</td>\n",
              "      <td>Manual</td>\n",
              "      <td>5204</td>\n",
              "      <td>NaN</td>\n",
              "      <td>NaN</td>\n",
              "      <td>NaN</td>\n",
              "      <td>NaN</td>\n",
              "      <td>NaN</td>\n",
              "      <td>NaN</td>\n",
              "      <td>NaN</td>\n",
              "    </tr>\n",
              "    <tr>\n",
              "      <th>Owner_Type</th>\n",
              "      <td>7253</td>\n",
              "      <td>4</td>\n",
              "      <td>First</td>\n",
              "      <td>5952</td>\n",
              "      <td>NaN</td>\n",
              "      <td>NaN</td>\n",
              "      <td>NaN</td>\n",
              "      <td>NaN</td>\n",
              "      <td>NaN</td>\n",
              "      <td>NaN</td>\n",
              "      <td>NaN</td>\n",
              "    </tr>\n",
              "    <tr>\n",
              "      <th>Mileage</th>\n",
              "      <td>7251.0</td>\n",
              "      <td>NaN</td>\n",
              "      <td>NaN</td>\n",
              "      <td>NaN</td>\n",
              "      <td>18.14158</td>\n",
              "      <td>4.562197</td>\n",
              "      <td>0.0</td>\n",
              "      <td>15.17</td>\n",
              "      <td>18.16</td>\n",
              "      <td>21.1</td>\n",
              "      <td>33.54</td>\n",
              "    </tr>\n",
              "    <tr>\n",
              "      <th>Engine</th>\n",
              "      <td>7207.0</td>\n",
              "      <td>NaN</td>\n",
              "      <td>NaN</td>\n",
              "      <td>NaN</td>\n",
              "      <td>1616.57347</td>\n",
              "      <td>595.285137</td>\n",
              "      <td>72.0</td>\n",
              "      <td>1198.0</td>\n",
              "      <td>1493.0</td>\n",
              "      <td>1968.0</td>\n",
              "      <td>5998.0</td>\n",
              "    </tr>\n",
              "    <tr>\n",
              "      <th>Power</th>\n",
              "      <td>7078.0</td>\n",
              "      <td>NaN</td>\n",
              "      <td>NaN</td>\n",
              "      <td>NaN</td>\n",
              "      <td>112.765214</td>\n",
              "      <td>53.493553</td>\n",
              "      <td>34.2</td>\n",
              "      <td>75.0</td>\n",
              "      <td>94.0</td>\n",
              "      <td>138.1</td>\n",
              "      <td>616.0</td>\n",
              "    </tr>\n",
              "    <tr>\n",
              "      <th>Seats</th>\n",
              "      <td>7200.0</td>\n",
              "      <td>NaN</td>\n",
              "      <td>NaN</td>\n",
              "      <td>NaN</td>\n",
              "      <td>5.280417</td>\n",
              "      <td>0.809277</td>\n",
              "      <td>2.0</td>\n",
              "      <td>5.0</td>\n",
              "      <td>5.0</td>\n",
              "      <td>5.0</td>\n",
              "      <td>10.0</td>\n",
              "    </tr>\n",
              "    <tr>\n",
              "      <th>New_price</th>\n",
              "      <td>1006.0</td>\n",
              "      <td>NaN</td>\n",
              "      <td>NaN</td>\n",
              "      <td>NaN</td>\n",
              "      <td>22.779692</td>\n",
              "      <td>27.759344</td>\n",
              "      <td>3.91</td>\n",
              "      <td>7.885</td>\n",
              "      <td>11.57</td>\n",
              "      <td>26.0425</td>\n",
              "      <td>375.0</td>\n",
              "    </tr>\n",
              "    <tr>\n",
              "      <th>Price</th>\n",
              "      <td>6019.0</td>\n",
              "      <td>NaN</td>\n",
              "      <td>NaN</td>\n",
              "      <td>NaN</td>\n",
              "      <td>9.479468</td>\n",
              "      <td>11.187917</td>\n",
              "      <td>0.44</td>\n",
              "      <td>3.5</td>\n",
              "      <td>5.64</td>\n",
              "      <td>9.95</td>\n",
              "      <td>160.0</td>\n",
              "    </tr>\n",
              "  </tbody>\n",
              "</table>\n",
              "</div>\n",
              "      <button class=\"colab-df-convert\" onclick=\"convertToInteractive('df-090b2ca6-2a08-4597-9ff4-dc9898528a86')\"\n",
              "              title=\"Convert this dataframe to an interactive table.\"\n",
              "              style=\"display:none;\">\n",
              "        \n",
              "  <svg xmlns=\"http://www.w3.org/2000/svg\" height=\"24px\"viewBox=\"0 0 24 24\"\n",
              "       width=\"24px\">\n",
              "    <path d=\"M0 0h24v24H0V0z\" fill=\"none\"/>\n",
              "    <path d=\"M18.56 5.44l.94 2.06.94-2.06 2.06-.94-2.06-.94-.94-2.06-.94 2.06-2.06.94zm-11 1L8.5 8.5l.94-2.06 2.06-.94-2.06-.94L8.5 2.5l-.94 2.06-2.06.94zm10 10l.94 2.06.94-2.06 2.06-.94-2.06-.94-.94-2.06-.94 2.06-2.06.94z\"/><path d=\"M17.41 7.96l-1.37-1.37c-.4-.4-.92-.59-1.43-.59-.52 0-1.04.2-1.43.59L10.3 9.45l-7.72 7.72c-.78.78-.78 2.05 0 2.83L4 21.41c.39.39.9.59 1.41.59.51 0 1.02-.2 1.41-.59l7.78-7.78 2.81-2.81c.8-.78.8-2.07 0-2.86zM5.41 20L4 18.59l7.72-7.72 1.47 1.35L5.41 20z\"/>\n",
              "  </svg>\n",
              "      </button>\n",
              "      \n",
              "  <style>\n",
              "    .colab-df-container {\n",
              "      display:flex;\n",
              "      flex-wrap:wrap;\n",
              "      gap: 12px;\n",
              "    }\n",
              "\n",
              "    .colab-df-convert {\n",
              "      background-color: #E8F0FE;\n",
              "      border: none;\n",
              "      border-radius: 50%;\n",
              "      cursor: pointer;\n",
              "      display: none;\n",
              "      fill: #1967D2;\n",
              "      height: 32px;\n",
              "      padding: 0 0 0 0;\n",
              "      width: 32px;\n",
              "    }\n",
              "\n",
              "    .colab-df-convert:hover {\n",
              "      background-color: #E2EBFA;\n",
              "      box-shadow: 0px 1px 2px rgba(60, 64, 67, 0.3), 0px 1px 3px 1px rgba(60, 64, 67, 0.15);\n",
              "      fill: #174EA6;\n",
              "    }\n",
              "\n",
              "    [theme=dark] .colab-df-convert {\n",
              "      background-color: #3B4455;\n",
              "      fill: #D2E3FC;\n",
              "    }\n",
              "\n",
              "    [theme=dark] .colab-df-convert:hover {\n",
              "      background-color: #434B5C;\n",
              "      box-shadow: 0px 1px 3px 1px rgba(0, 0, 0, 0.15);\n",
              "      filter: drop-shadow(0px 1px 2px rgba(0, 0, 0, 0.3));\n",
              "      fill: #FFFFFF;\n",
              "    }\n",
              "  </style>\n",
              "\n",
              "      <script>\n",
              "        const buttonEl =\n",
              "          document.querySelector('#df-090b2ca6-2a08-4597-9ff4-dc9898528a86 button.colab-df-convert');\n",
              "        buttonEl.style.display =\n",
              "          google.colab.kernel.accessAllowed ? 'block' : 'none';\n",
              "\n",
              "        async function convertToInteractive(key) {\n",
              "          const element = document.querySelector('#df-090b2ca6-2a08-4597-9ff4-dc9898528a86');\n",
              "          const dataTable =\n",
              "            await google.colab.kernel.invokeFunction('convertToInteractive',\n",
              "                                                     [key], {});\n",
              "          if (!dataTable) return;\n",
              "\n",
              "          const docLinkHtml = 'Like what you see? Visit the ' +\n",
              "            '<a target=\"_blank\" href=https://colab.research.google.com/notebooks/data_table.ipynb>data table notebook</a>'\n",
              "            + ' to learn more about interactive tables.';\n",
              "          element.innerHTML = '';\n",
              "          dataTable['output_type'] = 'display_data';\n",
              "          await google.colab.output.renderOutput(dataTable, element);\n",
              "          const docLink = document.createElement('div');\n",
              "          docLink.innerHTML = docLinkHtml;\n",
              "          element.appendChild(docLink);\n",
              "        }\n",
              "      </script>\n",
              "    </div>\n",
              "  </div>\n",
              "  "
            ]
          },
          "metadata": {},
          "execution_count": 24
        }
      ],
      "source": [
        "# Explore basic summary statistics of numeric variables. Hint: Use describe() method.\n",
        "data.describe(include='all').T"
      ]
    },
    {
      "cell_type": "markdown",
      "metadata": {
        "id": "L_1gUwvctOSm"
      },
      "source": [
        "**Observations and Insights:**\n",
        "\n",
        "* There are 7253 observation in the datasets.\n",
        "* The average year of production of cars is in 2013.\n",
        "* The total average kilometers driven in the car by the previous owners is 58699 km. It has a large range of values from 171km to 65,000,000km. This value may includes outliers. We will observe it later. At least 75% of cars have been driven 73000km. \n",
        "* The average displacement volumn of the engine is 1616 CC. This value has a large range from 72CC to 5998CC. At least 75% of displacement volumn of the engine is 1968. This value may contains outliers. We will take it look later.\n",
        "* The average maximum power of the engine is 112bhp. This value ranges from 34 to 616. It may contains outliers as well.\n",
        "* The average price of a new car of the same model is 2M INR (33K CAD), it ranges from 390K INR （6K CAD） to 37.5M INR (635K CAD). At least 50% new car price with the same model is 18K CAD.\n",
        "* The average price of the used car is 900K INR (15K CAD)."
      ]
    },
    {
      "cell_type": "markdown",
      "metadata": {
        "id": "FE62g5aoVL3W"
      },
      "source": [
        "### **Explore the summary statistics of all categorical variables and the number of unique observations in each category**"
      ]
    },
    {
      "cell_type": "code",
      "source": [
        "cols = data.select_dtypes(['object']).columns.tolist()"
      ],
      "metadata": {
        "id": "baTv_o-0ZchN"
      },
      "execution_count": null,
      "outputs": []
    },
    {
      "cell_type": "code",
      "source": [
        "for i in cols:\n",
        "    data[i] = data[i].astype('category')"
      ],
      "metadata": {
        "id": "B2Yq1ScNZi8n"
      },
      "execution_count": null,
      "outputs": []
    },
    {
      "cell_type": "code",
      "execution_count": null,
      "metadata": {
        "id": "SKOwkEHItOSm",
        "colab": {
          "base_uri": "https://localhost:8080/",
          "height": 206
        },
        "outputId": "a78c03be-e963-475c-ada2-01d83b16e391"
      },
      "outputs": [
        {
          "output_type": "execute_result",
          "data": {
            "text/plain": [
              "             count unique                     top  freq\n",
              "Name          7253   2041  Mahindra XUV500 W8 2WD    55\n",
              "Location      7253     11                  Mumbai   949\n",
              "Fuel_Type     7253      5                  Diesel  3852\n",
              "Transmission  7253      2                  Manual  5204\n",
              "Owner_Type    7253      4                   First  5952"
            ],
            "text/html": [
              "\n",
              "  <div id=\"df-cf2af2e7-5b13-46a8-9b22-3a07d47eba38\">\n",
              "    <div class=\"colab-df-container\">\n",
              "      <div>\n",
              "<style scoped>\n",
              "    .dataframe tbody tr th:only-of-type {\n",
              "        vertical-align: middle;\n",
              "    }\n",
              "\n",
              "    .dataframe tbody tr th {\n",
              "        vertical-align: top;\n",
              "    }\n",
              "\n",
              "    .dataframe thead th {\n",
              "        text-align: right;\n",
              "    }\n",
              "</style>\n",
              "<table border=\"1\" class=\"dataframe\">\n",
              "  <thead>\n",
              "    <tr style=\"text-align: right;\">\n",
              "      <th></th>\n",
              "      <th>count</th>\n",
              "      <th>unique</th>\n",
              "      <th>top</th>\n",
              "      <th>freq</th>\n",
              "    </tr>\n",
              "  </thead>\n",
              "  <tbody>\n",
              "    <tr>\n",
              "      <th>Name</th>\n",
              "      <td>7253</td>\n",
              "      <td>2041</td>\n",
              "      <td>Mahindra XUV500 W8 2WD</td>\n",
              "      <td>55</td>\n",
              "    </tr>\n",
              "    <tr>\n",
              "      <th>Location</th>\n",
              "      <td>7253</td>\n",
              "      <td>11</td>\n",
              "      <td>Mumbai</td>\n",
              "      <td>949</td>\n",
              "    </tr>\n",
              "    <tr>\n",
              "      <th>Fuel_Type</th>\n",
              "      <td>7253</td>\n",
              "      <td>5</td>\n",
              "      <td>Diesel</td>\n",
              "      <td>3852</td>\n",
              "    </tr>\n",
              "    <tr>\n",
              "      <th>Transmission</th>\n",
              "      <td>7253</td>\n",
              "      <td>2</td>\n",
              "      <td>Manual</td>\n",
              "      <td>5204</td>\n",
              "    </tr>\n",
              "    <tr>\n",
              "      <th>Owner_Type</th>\n",
              "      <td>7253</td>\n",
              "      <td>4</td>\n",
              "      <td>First</td>\n",
              "      <td>5952</td>\n",
              "    </tr>\n",
              "  </tbody>\n",
              "</table>\n",
              "</div>\n",
              "      <button class=\"colab-df-convert\" onclick=\"convertToInteractive('df-cf2af2e7-5b13-46a8-9b22-3a07d47eba38')\"\n",
              "              title=\"Convert this dataframe to an interactive table.\"\n",
              "              style=\"display:none;\">\n",
              "        \n",
              "  <svg xmlns=\"http://www.w3.org/2000/svg\" height=\"24px\"viewBox=\"0 0 24 24\"\n",
              "       width=\"24px\">\n",
              "    <path d=\"M0 0h24v24H0V0z\" fill=\"none\"/>\n",
              "    <path d=\"M18.56 5.44l.94 2.06.94-2.06 2.06-.94-2.06-.94-.94-2.06-.94 2.06-2.06.94zm-11 1L8.5 8.5l.94-2.06 2.06-.94-2.06-.94L8.5 2.5l-.94 2.06-2.06.94zm10 10l.94 2.06.94-2.06 2.06-.94-2.06-.94-.94-2.06-.94 2.06-2.06.94z\"/><path d=\"M17.41 7.96l-1.37-1.37c-.4-.4-.92-.59-1.43-.59-.52 0-1.04.2-1.43.59L10.3 9.45l-7.72 7.72c-.78.78-.78 2.05 0 2.83L4 21.41c.39.39.9.59 1.41.59.51 0 1.02-.2 1.41-.59l7.78-7.78 2.81-2.81c.8-.78.8-2.07 0-2.86zM5.41 20L4 18.59l7.72-7.72 1.47 1.35L5.41 20z\"/>\n",
              "  </svg>\n",
              "      </button>\n",
              "      \n",
              "  <style>\n",
              "    .colab-df-container {\n",
              "      display:flex;\n",
              "      flex-wrap:wrap;\n",
              "      gap: 12px;\n",
              "    }\n",
              "\n",
              "    .colab-df-convert {\n",
              "      background-color: #E8F0FE;\n",
              "      border: none;\n",
              "      border-radius: 50%;\n",
              "      cursor: pointer;\n",
              "      display: none;\n",
              "      fill: #1967D2;\n",
              "      height: 32px;\n",
              "      padding: 0 0 0 0;\n",
              "      width: 32px;\n",
              "    }\n",
              "\n",
              "    .colab-df-convert:hover {\n",
              "      background-color: #E2EBFA;\n",
              "      box-shadow: 0px 1px 2px rgba(60, 64, 67, 0.3), 0px 1px 3px 1px rgba(60, 64, 67, 0.15);\n",
              "      fill: #174EA6;\n",
              "    }\n",
              "\n",
              "    [theme=dark] .colab-df-convert {\n",
              "      background-color: #3B4455;\n",
              "      fill: #D2E3FC;\n",
              "    }\n",
              "\n",
              "    [theme=dark] .colab-df-convert:hover {\n",
              "      background-color: #434B5C;\n",
              "      box-shadow: 0px 1px 3px 1px rgba(0, 0, 0, 0.15);\n",
              "      filter: drop-shadow(0px 1px 2px rgba(0, 0, 0, 0.3));\n",
              "      fill: #FFFFFF;\n",
              "    }\n",
              "  </style>\n",
              "\n",
              "      <script>\n",
              "        const buttonEl =\n",
              "          document.querySelector('#df-cf2af2e7-5b13-46a8-9b22-3a07d47eba38 button.colab-df-convert');\n",
              "        buttonEl.style.display =\n",
              "          google.colab.kernel.accessAllowed ? 'block' : 'none';\n",
              "\n",
              "        async function convertToInteractive(key) {\n",
              "          const element = document.querySelector('#df-cf2af2e7-5b13-46a8-9b22-3a07d47eba38');\n",
              "          const dataTable =\n",
              "            await google.colab.kernel.invokeFunction('convertToInteractive',\n",
              "                                                     [key], {});\n",
              "          if (!dataTable) return;\n",
              "\n",
              "          const docLinkHtml = 'Like what you see? Visit the ' +\n",
              "            '<a target=\"_blank\" href=https://colab.research.google.com/notebooks/data_table.ipynb>data table notebook</a>'\n",
              "            + ' to learn more about interactive tables.';\n",
              "          element.innerHTML = '';\n",
              "          dataTable['output_type'] = 'display_data';\n",
              "          await google.colab.output.renderOutput(dataTable, element);\n",
              "          const docLink = document.createElement('div');\n",
              "          docLink.innerHTML = docLinkHtml;\n",
              "          element.appendChild(docLink);\n",
              "        }\n",
              "      </script>\n",
              "    </div>\n",
              "  </div>\n",
              "  "
            ]
          },
          "metadata": {},
          "execution_count": 27
        }
      ],
      "source": [
        "# Explore basic summary statistics of categorical variables. \n",
        "data.describe(include='category').T"
      ]
    },
    {
      "cell_type": "markdown",
      "metadata": {
        "id": "EaSIWEHUtOSn"
      },
      "source": [
        "**Number of unique observations in each category**"
      ]
    },
    {
      "cell_type": "code",
      "execution_count": null,
      "metadata": {
        "colab": {
          "base_uri": "https://localhost:8080/"
        },
        "id": "IKOWSKhqVL3X",
        "outputId": "1d15d1bb-82ab-4ab2-8cfe-c6359741fc40"
      },
      "outputs": [
        {
          "output_type": "stream",
          "name": "stdout",
          "text": [
            "For column: Name\n",
            "['Maruti Wagon R LXI CNG' 'Hyundai Creta 1.6 CRDi SX Option'\n",
            " 'Honda Jazz V' ... 'Ford EcoSport 1.5 Petrol Ambiente'\n",
            " 'Jeep Compass 1.4 Sport' 'Hyundai Elite i20 Magna Plus']\n",
            "--------------------------------------------------\n",
            "For column: Location\n",
            "['Mumbai' 'Pune' 'Chennai' 'Coimbatore' 'Hyderabad' 'Jaipur' 'Kochi'\n",
            " 'Kolkata' 'Delhi' 'Bangalore' 'Ahmedabad']\n",
            "--------------------------------------------------\n",
            "For column: Fuel_Type\n",
            "['CNG' 'Diesel' 'Petrol' 'LPG' 'Electric']\n",
            "--------------------------------------------------\n",
            "For column: Transmission\n",
            "['Manual' 'Automatic']\n",
            "--------------------------------------------------\n",
            "For column: Owner_Type\n",
            "['First' 'Second' 'Fourth & Above' 'Third']\n",
            "--------------------------------------------------\n"
          ]
        }
      ],
      "source": [
        "cat_cols = data.select_dtypes(include = ['object']).columns\n",
        "\n",
        "for column in cat_cols:\n",
        "    \n",
        "    print(\"For column:\", column)\n",
        "    \n",
        "    print(data[column].unique())\n",
        "    \n",
        "    print('-'*50)"
      ]
    },
    {
      "cell_type": "code",
      "source": [
        "# Checking the count of unique values in each categorical column \n",
        "\n",
        "cat_cols= data.select_dtypes(['category'])\n",
        "\n",
        "for i in cat_cols.columns:\n",
        "    print('Unique values in',i, 'are :')\n",
        "    print(data[i].value_counts(normalize=True))\n",
        "    print('*'*40)"
      ],
      "metadata": {
        "colab": {
          "base_uri": "https://localhost:8080/"
        },
        "id": "mjOgpVv4bIFJ",
        "outputId": "f994f560-70bb-4da3-8bda-2b9dfe11849e"
      },
      "execution_count": null,
      "outputs": [
        {
          "output_type": "stream",
          "name": "stdout",
          "text": [
            "Unique values in Name are :\n",
            "Mahindra XUV500 W8 2WD             0.007583\n",
            "Maruti Swift VDI                   0.006756\n",
            "Maruti Swift Dzire VDI             0.005791\n",
            "Honda City 1.5 S MT                0.005377\n",
            "Maruti Swift VDI BSIV              0.005101\n",
            "                                     ...   \n",
            "Mahindra NuvoSport N8              0.000138\n",
            "Mahindra Logan Petrol 1.4 GLE      0.000138\n",
            "Mahindra Logan Diesel 1.5 DLS      0.000138\n",
            "Mahindra KUV 100 mFALCON G80 K8    0.000138\n",
            "Mahindra Xylo D2 BS III            0.000138\n",
            "Name: Name, Length: 2041, dtype: float64\n",
            "****************************************\n",
            "Unique values in Location are :\n",
            "Mumbai        0.130842\n",
            "Hyderabad     0.120778\n",
            "Coimbatore    0.106439\n",
            "Kochi         0.106439\n",
            "Pune          0.105474\n",
            "Delhi         0.090997\n",
            "Kolkata       0.090170\n",
            "Chennai       0.081484\n",
            "Jaipur        0.068799\n",
            "Bangalore     0.060665\n",
            "Ahmedabad     0.037915\n",
            "Name: Location, dtype: float64\n",
            "****************************************\n",
            "Unique values in Fuel_Type are :\n",
            "Diesel      0.531091\n",
            "Petrol      0.458431\n",
            "CNG         0.008548\n",
            "LPG         0.001654\n",
            "Electric    0.000276\n",
            "Name: Fuel_Type, dtype: float64\n",
            "****************************************\n",
            "Unique values in Transmission are :\n",
            "Manual       0.717496\n",
            "Automatic    0.282504\n",
            "Name: Transmission, dtype: float64\n",
            "****************************************\n",
            "Unique values in Owner_Type are :\n",
            "First             0.820626\n",
            "Second            0.158831\n",
            "Third             0.018889\n",
            "Fourth & Above    0.001654\n",
            "Name: Owner_Type, dtype: float64\n",
            "****************************************\n"
          ]
        }
      ]
    },
    {
      "cell_type": "markdown",
      "metadata": {
        "id": "K8ck0A1ltOSn"
      },
      "source": [
        "#### **Observations and Insights:**\n",
        "* Location contains 11 unique values. 13% of used cars are located in Mumbai, 12% are in hyderabad.\n",
        "* Fuel_Type includes 5 unique values, diesel, petrol, cng, lpg and electic; 53% of used car in India are diesel cars, 45% of them are petrol.\n",
        "* Transmission includes 2 unique values, manual and automatic; 72% of used cars are manual and 28% of them are automatic.\n",
        "* Owner_Type includes 4 unqiue values, first hand, second hands, third hands and four or above. We can find that 82% of used cars are first hand, 16% are second hands."
      ]
    },
    {
      "cell_type": "markdown",
      "metadata": {
        "id": "V5IwjyYstOSn"
      },
      "source": [
        "**Check Kilometers_Driven extreme values**"
      ]
    },
    {
      "cell_type": "code",
      "execution_count": null,
      "metadata": {
        "colab": {
          "base_uri": "https://localhost:8080/",
          "height": 861
        },
        "id": "HqsfH-VFtOSo",
        "outputId": "ad41fa1e-5f20-4739-a5b6-5ffe971b4897"
      },
      "outputs": [
        {
          "output_type": "execute_result",
          "data": {
            "text/plain": [
              "                                                 Name   Location  Year  \\\n",
              "2328                        BMW X5 xDrive 30d M Sport    Chennai  2017   \n",
              "340            Skoda Octavia Ambition Plus 2.0 TDI AT    Kolkata  2013   \n",
              "1860                 Volkswagen Vento Diesel Highline    Chennai  2013   \n",
              "358                             Hyundai i10 Magna 1.2    Chennai  2009   \n",
              "2823  Volkswagen Jetta 2013-2015 2.0L TDI Highline AT    Chennai  2015   \n",
              "3092                             Honda City i VTEC SV    Kolkata  2015   \n",
              "4491                   Hyundai i20 Magna Optional 1.2  Bangalore  2013   \n",
              "6921                      Maruti Swift Dzire Tour LDI     Jaipur  2012   \n",
              "3649                                   Tata Indigo LS     Jaipur  2008   \n",
              "1528      Toyota Innova 2.5 G (Diesel) 8 Seater BS IV  Hyderabad  2005   \n",
              "\n",
              "      Kilometers_Driven Fuel_Type Transmission Owner_Type  Mileage  Engine  \\\n",
              "2328            6500000    Diesel    Automatic      First    15.97  2993.0   \n",
              "340              775000    Diesel    Automatic      First    19.30  1968.0   \n",
              "1860             720000    Diesel       Manual      First    20.54  1598.0   \n",
              "358              620000    Petrol       Manual      First    20.36  1197.0   \n",
              "2823             480000    Diesel    Automatic      First    16.96  1968.0   \n",
              "3092             480000    Petrol       Manual      First    17.40  1497.0   \n",
              "4491             445000    Petrol       Manual      First    18.50  1197.0   \n",
              "6921             350000    Diesel       Manual      First    23.40  1248.0   \n",
              "3649             300000    Diesel       Manual      First    17.00  1405.0   \n",
              "1528             299322    Diesel       Manual      First    12.80  2494.0   \n",
              "\n",
              "       Power  Seats  New_price  Price  \n",
              "2328  258.00    5.0        NaN  65.00  \n",
              "340   141.00    5.0        NaN   7.50  \n",
              "1860  103.60    5.0        NaN   5.90  \n",
              "358    78.90    5.0        NaN   2.70  \n",
              "2823  138.03    5.0        NaN  13.00  \n",
              "3092  117.30    5.0        NaN   5.00  \n",
              "4491   82.90    5.0        NaN   4.45  \n",
              "6921   74.00    5.0        NaN    NaN  \n",
              "3649   70.00    5.0        NaN   1.00  \n",
              "1528  102.00    8.0        NaN   4.00  "
            ],
            "text/html": [
              "\n",
              "  <div id=\"df-fa26d368-3520-4fe1-a72a-f32beaa4387d\">\n",
              "    <div class=\"colab-df-container\">\n",
              "      <div>\n",
              "<style scoped>\n",
              "    .dataframe tbody tr th:only-of-type {\n",
              "        vertical-align: middle;\n",
              "    }\n",
              "\n",
              "    .dataframe tbody tr th {\n",
              "        vertical-align: top;\n",
              "    }\n",
              "\n",
              "    .dataframe thead th {\n",
              "        text-align: right;\n",
              "    }\n",
              "</style>\n",
              "<table border=\"1\" class=\"dataframe\">\n",
              "  <thead>\n",
              "    <tr style=\"text-align: right;\">\n",
              "      <th></th>\n",
              "      <th>Name</th>\n",
              "      <th>Location</th>\n",
              "      <th>Year</th>\n",
              "      <th>Kilometers_Driven</th>\n",
              "      <th>Fuel_Type</th>\n",
              "      <th>Transmission</th>\n",
              "      <th>Owner_Type</th>\n",
              "      <th>Mileage</th>\n",
              "      <th>Engine</th>\n",
              "      <th>Power</th>\n",
              "      <th>Seats</th>\n",
              "      <th>New_price</th>\n",
              "      <th>Price</th>\n",
              "    </tr>\n",
              "  </thead>\n",
              "  <tbody>\n",
              "    <tr>\n",
              "      <th>2328</th>\n",
              "      <td>BMW X5 xDrive 30d M Sport</td>\n",
              "      <td>Chennai</td>\n",
              "      <td>2017</td>\n",
              "      <td>6500000</td>\n",
              "      <td>Diesel</td>\n",
              "      <td>Automatic</td>\n",
              "      <td>First</td>\n",
              "      <td>15.97</td>\n",
              "      <td>2993.0</td>\n",
              "      <td>258.00</td>\n",
              "      <td>5.0</td>\n",
              "      <td>NaN</td>\n",
              "      <td>65.00</td>\n",
              "    </tr>\n",
              "    <tr>\n",
              "      <th>340</th>\n",
              "      <td>Skoda Octavia Ambition Plus 2.0 TDI AT</td>\n",
              "      <td>Kolkata</td>\n",
              "      <td>2013</td>\n",
              "      <td>775000</td>\n",
              "      <td>Diesel</td>\n",
              "      <td>Automatic</td>\n",
              "      <td>First</td>\n",
              "      <td>19.30</td>\n",
              "      <td>1968.0</td>\n",
              "      <td>141.00</td>\n",
              "      <td>5.0</td>\n",
              "      <td>NaN</td>\n",
              "      <td>7.50</td>\n",
              "    </tr>\n",
              "    <tr>\n",
              "      <th>1860</th>\n",
              "      <td>Volkswagen Vento Diesel Highline</td>\n",
              "      <td>Chennai</td>\n",
              "      <td>2013</td>\n",
              "      <td>720000</td>\n",
              "      <td>Diesel</td>\n",
              "      <td>Manual</td>\n",
              "      <td>First</td>\n",
              "      <td>20.54</td>\n",
              "      <td>1598.0</td>\n",
              "      <td>103.60</td>\n",
              "      <td>5.0</td>\n",
              "      <td>NaN</td>\n",
              "      <td>5.90</td>\n",
              "    </tr>\n",
              "    <tr>\n",
              "      <th>358</th>\n",
              "      <td>Hyundai i10 Magna 1.2</td>\n",
              "      <td>Chennai</td>\n",
              "      <td>2009</td>\n",
              "      <td>620000</td>\n",
              "      <td>Petrol</td>\n",
              "      <td>Manual</td>\n",
              "      <td>First</td>\n",
              "      <td>20.36</td>\n",
              "      <td>1197.0</td>\n",
              "      <td>78.90</td>\n",
              "      <td>5.0</td>\n",
              "      <td>NaN</td>\n",
              "      <td>2.70</td>\n",
              "    </tr>\n",
              "    <tr>\n",
              "      <th>2823</th>\n",
              "      <td>Volkswagen Jetta 2013-2015 2.0L TDI Highline AT</td>\n",
              "      <td>Chennai</td>\n",
              "      <td>2015</td>\n",
              "      <td>480000</td>\n",
              "      <td>Diesel</td>\n",
              "      <td>Automatic</td>\n",
              "      <td>First</td>\n",
              "      <td>16.96</td>\n",
              "      <td>1968.0</td>\n",
              "      <td>138.03</td>\n",
              "      <td>5.0</td>\n",
              "      <td>NaN</td>\n",
              "      <td>13.00</td>\n",
              "    </tr>\n",
              "    <tr>\n",
              "      <th>3092</th>\n",
              "      <td>Honda City i VTEC SV</td>\n",
              "      <td>Kolkata</td>\n",
              "      <td>2015</td>\n",
              "      <td>480000</td>\n",
              "      <td>Petrol</td>\n",
              "      <td>Manual</td>\n",
              "      <td>First</td>\n",
              "      <td>17.40</td>\n",
              "      <td>1497.0</td>\n",
              "      <td>117.30</td>\n",
              "      <td>5.0</td>\n",
              "      <td>NaN</td>\n",
              "      <td>5.00</td>\n",
              "    </tr>\n",
              "    <tr>\n",
              "      <th>4491</th>\n",
              "      <td>Hyundai i20 Magna Optional 1.2</td>\n",
              "      <td>Bangalore</td>\n",
              "      <td>2013</td>\n",
              "      <td>445000</td>\n",
              "      <td>Petrol</td>\n",
              "      <td>Manual</td>\n",
              "      <td>First</td>\n",
              "      <td>18.50</td>\n",
              "      <td>1197.0</td>\n",
              "      <td>82.90</td>\n",
              "      <td>5.0</td>\n",
              "      <td>NaN</td>\n",
              "      <td>4.45</td>\n",
              "    </tr>\n",
              "    <tr>\n",
              "      <th>6921</th>\n",
              "      <td>Maruti Swift Dzire Tour LDI</td>\n",
              "      <td>Jaipur</td>\n",
              "      <td>2012</td>\n",
              "      <td>350000</td>\n",
              "      <td>Diesel</td>\n",
              "      <td>Manual</td>\n",
              "      <td>First</td>\n",
              "      <td>23.40</td>\n",
              "      <td>1248.0</td>\n",
              "      <td>74.00</td>\n",
              "      <td>5.0</td>\n",
              "      <td>NaN</td>\n",
              "      <td>NaN</td>\n",
              "    </tr>\n",
              "    <tr>\n",
              "      <th>3649</th>\n",
              "      <td>Tata Indigo LS</td>\n",
              "      <td>Jaipur</td>\n",
              "      <td>2008</td>\n",
              "      <td>300000</td>\n",
              "      <td>Diesel</td>\n",
              "      <td>Manual</td>\n",
              "      <td>First</td>\n",
              "      <td>17.00</td>\n",
              "      <td>1405.0</td>\n",
              "      <td>70.00</td>\n",
              "      <td>5.0</td>\n",
              "      <td>NaN</td>\n",
              "      <td>1.00</td>\n",
              "    </tr>\n",
              "    <tr>\n",
              "      <th>1528</th>\n",
              "      <td>Toyota Innova 2.5 G (Diesel) 8 Seater BS IV</td>\n",
              "      <td>Hyderabad</td>\n",
              "      <td>2005</td>\n",
              "      <td>299322</td>\n",
              "      <td>Diesel</td>\n",
              "      <td>Manual</td>\n",
              "      <td>First</td>\n",
              "      <td>12.80</td>\n",
              "      <td>2494.0</td>\n",
              "      <td>102.00</td>\n",
              "      <td>8.0</td>\n",
              "      <td>NaN</td>\n",
              "      <td>4.00</td>\n",
              "    </tr>\n",
              "  </tbody>\n",
              "</table>\n",
              "</div>\n",
              "      <button class=\"colab-df-convert\" onclick=\"convertToInteractive('df-fa26d368-3520-4fe1-a72a-f32beaa4387d')\"\n",
              "              title=\"Convert this dataframe to an interactive table.\"\n",
              "              style=\"display:none;\">\n",
              "        \n",
              "  <svg xmlns=\"http://www.w3.org/2000/svg\" height=\"24px\"viewBox=\"0 0 24 24\"\n",
              "       width=\"24px\">\n",
              "    <path d=\"M0 0h24v24H0V0z\" fill=\"none\"/>\n",
              "    <path d=\"M18.56 5.44l.94 2.06.94-2.06 2.06-.94-2.06-.94-.94-2.06-.94 2.06-2.06.94zm-11 1L8.5 8.5l.94-2.06 2.06-.94-2.06-.94L8.5 2.5l-.94 2.06-2.06.94zm10 10l.94 2.06.94-2.06 2.06-.94-2.06-.94-.94-2.06-.94 2.06-2.06.94z\"/><path d=\"M17.41 7.96l-1.37-1.37c-.4-.4-.92-.59-1.43-.59-.52 0-1.04.2-1.43.59L10.3 9.45l-7.72 7.72c-.78.78-.78 2.05 0 2.83L4 21.41c.39.39.9.59 1.41.59.51 0 1.02-.2 1.41-.59l7.78-7.78 2.81-2.81c.8-.78.8-2.07 0-2.86zM5.41 20L4 18.59l7.72-7.72 1.47 1.35L5.41 20z\"/>\n",
              "  </svg>\n",
              "      </button>\n",
              "      \n",
              "  <style>\n",
              "    .colab-df-container {\n",
              "      display:flex;\n",
              "      flex-wrap:wrap;\n",
              "      gap: 12px;\n",
              "    }\n",
              "\n",
              "    .colab-df-convert {\n",
              "      background-color: #E8F0FE;\n",
              "      border: none;\n",
              "      border-radius: 50%;\n",
              "      cursor: pointer;\n",
              "      display: none;\n",
              "      fill: #1967D2;\n",
              "      height: 32px;\n",
              "      padding: 0 0 0 0;\n",
              "      width: 32px;\n",
              "    }\n",
              "\n",
              "    .colab-df-convert:hover {\n",
              "      background-color: #E2EBFA;\n",
              "      box-shadow: 0px 1px 2px rgba(60, 64, 67, 0.3), 0px 1px 3px 1px rgba(60, 64, 67, 0.15);\n",
              "      fill: #174EA6;\n",
              "    }\n",
              "\n",
              "    [theme=dark] .colab-df-convert {\n",
              "      background-color: #3B4455;\n",
              "      fill: #D2E3FC;\n",
              "    }\n",
              "\n",
              "    [theme=dark] .colab-df-convert:hover {\n",
              "      background-color: #434B5C;\n",
              "      box-shadow: 0px 1px 3px 1px rgba(0, 0, 0, 0.15);\n",
              "      filter: drop-shadow(0px 1px 2px rgba(0, 0, 0, 0.3));\n",
              "      fill: #FFFFFF;\n",
              "    }\n",
              "  </style>\n",
              "\n",
              "      <script>\n",
              "        const buttonEl =\n",
              "          document.querySelector('#df-fa26d368-3520-4fe1-a72a-f32beaa4387d button.colab-df-convert');\n",
              "        buttonEl.style.display =\n",
              "          google.colab.kernel.accessAllowed ? 'block' : 'none';\n",
              "\n",
              "        async function convertToInteractive(key) {\n",
              "          const element = document.querySelector('#df-fa26d368-3520-4fe1-a72a-f32beaa4387d');\n",
              "          const dataTable =\n",
              "            await google.colab.kernel.invokeFunction('convertToInteractive',\n",
              "                                                     [key], {});\n",
              "          if (!dataTable) return;\n",
              "\n",
              "          const docLinkHtml = 'Like what you see? Visit the ' +\n",
              "            '<a target=\"_blank\" href=https://colab.research.google.com/notebooks/data_table.ipynb>data table notebook</a>'\n",
              "            + ' to learn more about interactive tables.';\n",
              "          element.innerHTML = '';\n",
              "          dataTable['output_type'] = 'display_data';\n",
              "          await google.colab.output.renderOutput(dataTable, element);\n",
              "          const docLink = document.createElement('div');\n",
              "          docLink.innerHTML = docLinkHtml;\n",
              "          element.appendChild(docLink);\n",
              "        }\n",
              "      </script>\n",
              "    </div>\n",
              "  </div>\n",
              "  "
            ]
          },
          "metadata": {},
          "execution_count": 12
        }
      ],
      "source": [
        "# Sort the dataset in 'descending' order using the feature 'Kilometers_Driven'\n",
        "data.sort_values(by='Kilometers_Driven',ascending=False).head(10)"
      ]
    },
    {
      "cell_type": "markdown",
      "metadata": {
        "id": "HxhehTWQtOSo"
      },
      "source": [
        "#### **Observations and Insights: _____**\n",
        "* We can observe that in the 2328 row, for BMW X5 xDrive 30d M Sport, the total kilometers driven in the car by the previous owner are 6,500,000 km, which is not possible. It can be treated as outlier.\n"
      ]
    },
    {
      "cell_type": "markdown",
      "metadata": {
        "id": "rLtq9uqgVL3X"
      },
      "source": [
        "In the first row, a car manufactured as recently as 2017 having been driven 6500000 km is almost impossible. It can be considered as data entry error and so we can remove this value/entry from data."
      ]
    },
    {
      "cell_type": "code",
      "execution_count": null,
      "metadata": {
        "id": "gA65oQhoIrcx"
      },
      "outputs": [],
      "source": [
        "# Removing the 'row' at index 2328 from the data. \n",
        "data.drop([2328], inplace=True)"
      ]
    },
    {
      "cell_type": "markdown",
      "metadata": {
        "id": "fDIBa5OFtOSo"
      },
      "source": [
        "**Check Mileage extreme values**"
      ]
    },
    {
      "cell_type": "code",
      "execution_count": null,
      "metadata": {
        "colab": {
          "base_uri": "https://localhost:8080/",
          "height": 757
        },
        "id": "0zdqBCD-tOSp",
        "outputId": "57f00e64-b946-44c2-e4bd-084a5004edf6"
      },
      "outputs": [
        {
          "output_type": "execute_result",
          "data": {
            "text/plain": [
              "                                      Name    Location  Year  \\\n",
              "2597                Hyundai Santro Xing XP        Pune  2007   \n",
              "2343                     Hyundai Santro AT   Hyderabad  2006   \n",
              "5270                    Honda City 1.5 GXI   Bangalore  2002   \n",
              "424   Volkswagen Jetta 2007-2011 1.9 L TDI   Hyderabad  2010   \n",
              "6857        Land Rover Freelander 2 TD4 SE      Mumbai  2011   \n",
              "443          Hyundai Santro GLS I - Euro I  Coimbatore  2012   \n",
              "5119                Hyundai Santro Xing XP     Kolkata  2008   \n",
              "5022        Land Rover Freelander 2 TD4 SE   Hyderabad  2013   \n",
              "5016       Land Rover Freelander 2 TD4 HSE       Delhi  2013   \n",
              "2542       Hyundai Santro GLS II - Euro II   Bangalore  2011   \n",
              "\n",
              "      Kilometers_Driven Fuel_Type Transmission Owner_Type  Mileage  Engine  \\\n",
              "2597              70000    Petrol       Manual      First      0.0  1086.0   \n",
              "2343              74483    Petrol    Automatic      First      0.0   999.0   \n",
              "5270              53000    Petrol       Manual     Second      0.0     NaN   \n",
              "424               42021    Diesel       Manual      First      0.0  1968.0   \n",
              "6857              87000    Diesel    Automatic      First      0.0  2179.0   \n",
              "443               50243    Petrol       Manual      First      0.0  1086.0   \n",
              "5119              45500    Petrol       Manual     Second      0.0  1086.0   \n",
              "5022              46000    Diesel    Automatic     Second      0.0  2179.0   \n",
              "5016              72000    Diesel    Automatic      First      0.0  2179.0   \n",
              "2542              65000    Petrol       Manual     Second      0.0     NaN   \n",
              "\n",
              "      Power  Seats  New_price  Price  \n",
              "2597    NaN    5.0        NaN   1.12  \n",
              "2343    NaN    5.0        NaN   2.30  \n",
              "5270    NaN    NaN        NaN   1.85  \n",
              "424     NaN    5.0        NaN   5.45  \n",
              "6857  115.0    5.0        NaN    NaN  \n",
              "443     NaN    5.0        NaN   3.35  \n",
              "5119    NaN    5.0        NaN   1.17  \n",
              "5022  115.0    5.0        NaN  26.00  \n",
              "5016  115.0    5.0        NaN  15.50  \n",
              "2542    NaN    NaN        NaN   3.15  "
            ],
            "text/html": [
              "\n",
              "  <div id=\"df-6a94767e-2d4b-4180-9f40-a243f644c2e6\">\n",
              "    <div class=\"colab-df-container\">\n",
              "      <div>\n",
              "<style scoped>\n",
              "    .dataframe tbody tr th:only-of-type {\n",
              "        vertical-align: middle;\n",
              "    }\n",
              "\n",
              "    .dataframe tbody tr th {\n",
              "        vertical-align: top;\n",
              "    }\n",
              "\n",
              "    .dataframe thead th {\n",
              "        text-align: right;\n",
              "    }\n",
              "</style>\n",
              "<table border=\"1\" class=\"dataframe\">\n",
              "  <thead>\n",
              "    <tr style=\"text-align: right;\">\n",
              "      <th></th>\n",
              "      <th>Name</th>\n",
              "      <th>Location</th>\n",
              "      <th>Year</th>\n",
              "      <th>Kilometers_Driven</th>\n",
              "      <th>Fuel_Type</th>\n",
              "      <th>Transmission</th>\n",
              "      <th>Owner_Type</th>\n",
              "      <th>Mileage</th>\n",
              "      <th>Engine</th>\n",
              "      <th>Power</th>\n",
              "      <th>Seats</th>\n",
              "      <th>New_price</th>\n",
              "      <th>Price</th>\n",
              "    </tr>\n",
              "  </thead>\n",
              "  <tbody>\n",
              "    <tr>\n",
              "      <th>2597</th>\n",
              "      <td>Hyundai Santro Xing XP</td>\n",
              "      <td>Pune</td>\n",
              "      <td>2007</td>\n",
              "      <td>70000</td>\n",
              "      <td>Petrol</td>\n",
              "      <td>Manual</td>\n",
              "      <td>First</td>\n",
              "      <td>0.0</td>\n",
              "      <td>1086.0</td>\n",
              "      <td>NaN</td>\n",
              "      <td>5.0</td>\n",
              "      <td>NaN</td>\n",
              "      <td>1.12</td>\n",
              "    </tr>\n",
              "    <tr>\n",
              "      <th>2343</th>\n",
              "      <td>Hyundai Santro AT</td>\n",
              "      <td>Hyderabad</td>\n",
              "      <td>2006</td>\n",
              "      <td>74483</td>\n",
              "      <td>Petrol</td>\n",
              "      <td>Automatic</td>\n",
              "      <td>First</td>\n",
              "      <td>0.0</td>\n",
              "      <td>999.0</td>\n",
              "      <td>NaN</td>\n",
              "      <td>5.0</td>\n",
              "      <td>NaN</td>\n",
              "      <td>2.30</td>\n",
              "    </tr>\n",
              "    <tr>\n",
              "      <th>5270</th>\n",
              "      <td>Honda City 1.5 GXI</td>\n",
              "      <td>Bangalore</td>\n",
              "      <td>2002</td>\n",
              "      <td>53000</td>\n",
              "      <td>Petrol</td>\n",
              "      <td>Manual</td>\n",
              "      <td>Second</td>\n",
              "      <td>0.0</td>\n",
              "      <td>NaN</td>\n",
              "      <td>NaN</td>\n",
              "      <td>NaN</td>\n",
              "      <td>NaN</td>\n",
              "      <td>1.85</td>\n",
              "    </tr>\n",
              "    <tr>\n",
              "      <th>424</th>\n",
              "      <td>Volkswagen Jetta 2007-2011 1.9 L TDI</td>\n",
              "      <td>Hyderabad</td>\n",
              "      <td>2010</td>\n",
              "      <td>42021</td>\n",
              "      <td>Diesel</td>\n",
              "      <td>Manual</td>\n",
              "      <td>First</td>\n",
              "      <td>0.0</td>\n",
              "      <td>1968.0</td>\n",
              "      <td>NaN</td>\n",
              "      <td>5.0</td>\n",
              "      <td>NaN</td>\n",
              "      <td>5.45</td>\n",
              "    </tr>\n",
              "    <tr>\n",
              "      <th>6857</th>\n",
              "      <td>Land Rover Freelander 2 TD4 SE</td>\n",
              "      <td>Mumbai</td>\n",
              "      <td>2011</td>\n",
              "      <td>87000</td>\n",
              "      <td>Diesel</td>\n",
              "      <td>Automatic</td>\n",
              "      <td>First</td>\n",
              "      <td>0.0</td>\n",
              "      <td>2179.0</td>\n",
              "      <td>115.0</td>\n",
              "      <td>5.0</td>\n",
              "      <td>NaN</td>\n",
              "      <td>NaN</td>\n",
              "    </tr>\n",
              "    <tr>\n",
              "      <th>443</th>\n",
              "      <td>Hyundai Santro GLS I - Euro I</td>\n",
              "      <td>Coimbatore</td>\n",
              "      <td>2012</td>\n",
              "      <td>50243</td>\n",
              "      <td>Petrol</td>\n",
              "      <td>Manual</td>\n",
              "      <td>First</td>\n",
              "      <td>0.0</td>\n",
              "      <td>1086.0</td>\n",
              "      <td>NaN</td>\n",
              "      <td>5.0</td>\n",
              "      <td>NaN</td>\n",
              "      <td>3.35</td>\n",
              "    </tr>\n",
              "    <tr>\n",
              "      <th>5119</th>\n",
              "      <td>Hyundai Santro Xing XP</td>\n",
              "      <td>Kolkata</td>\n",
              "      <td>2008</td>\n",
              "      <td>45500</td>\n",
              "      <td>Petrol</td>\n",
              "      <td>Manual</td>\n",
              "      <td>Second</td>\n",
              "      <td>0.0</td>\n",
              "      <td>1086.0</td>\n",
              "      <td>NaN</td>\n",
              "      <td>5.0</td>\n",
              "      <td>NaN</td>\n",
              "      <td>1.17</td>\n",
              "    </tr>\n",
              "    <tr>\n",
              "      <th>5022</th>\n",
              "      <td>Land Rover Freelander 2 TD4 SE</td>\n",
              "      <td>Hyderabad</td>\n",
              "      <td>2013</td>\n",
              "      <td>46000</td>\n",
              "      <td>Diesel</td>\n",
              "      <td>Automatic</td>\n",
              "      <td>Second</td>\n",
              "      <td>0.0</td>\n",
              "      <td>2179.0</td>\n",
              "      <td>115.0</td>\n",
              "      <td>5.0</td>\n",
              "      <td>NaN</td>\n",
              "      <td>26.00</td>\n",
              "    </tr>\n",
              "    <tr>\n",
              "      <th>5016</th>\n",
              "      <td>Land Rover Freelander 2 TD4 HSE</td>\n",
              "      <td>Delhi</td>\n",
              "      <td>2013</td>\n",
              "      <td>72000</td>\n",
              "      <td>Diesel</td>\n",
              "      <td>Automatic</td>\n",
              "      <td>First</td>\n",
              "      <td>0.0</td>\n",
              "      <td>2179.0</td>\n",
              "      <td>115.0</td>\n",
              "      <td>5.0</td>\n",
              "      <td>NaN</td>\n",
              "      <td>15.50</td>\n",
              "    </tr>\n",
              "    <tr>\n",
              "      <th>2542</th>\n",
              "      <td>Hyundai Santro GLS II - Euro II</td>\n",
              "      <td>Bangalore</td>\n",
              "      <td>2011</td>\n",
              "      <td>65000</td>\n",
              "      <td>Petrol</td>\n",
              "      <td>Manual</td>\n",
              "      <td>Second</td>\n",
              "      <td>0.0</td>\n",
              "      <td>NaN</td>\n",
              "      <td>NaN</td>\n",
              "      <td>NaN</td>\n",
              "      <td>NaN</td>\n",
              "      <td>3.15</td>\n",
              "    </tr>\n",
              "  </tbody>\n",
              "</table>\n",
              "</div>\n",
              "      <button class=\"colab-df-convert\" onclick=\"convertToInteractive('df-6a94767e-2d4b-4180-9f40-a243f644c2e6')\"\n",
              "              title=\"Convert this dataframe to an interactive table.\"\n",
              "              style=\"display:none;\">\n",
              "        \n",
              "  <svg xmlns=\"http://www.w3.org/2000/svg\" height=\"24px\"viewBox=\"0 0 24 24\"\n",
              "       width=\"24px\">\n",
              "    <path d=\"M0 0h24v24H0V0z\" fill=\"none\"/>\n",
              "    <path d=\"M18.56 5.44l.94 2.06.94-2.06 2.06-.94-2.06-.94-.94-2.06-.94 2.06-2.06.94zm-11 1L8.5 8.5l.94-2.06 2.06-.94-2.06-.94L8.5 2.5l-.94 2.06-2.06.94zm10 10l.94 2.06.94-2.06 2.06-.94-2.06-.94-.94-2.06-.94 2.06-2.06.94z\"/><path d=\"M17.41 7.96l-1.37-1.37c-.4-.4-.92-.59-1.43-.59-.52 0-1.04.2-1.43.59L10.3 9.45l-7.72 7.72c-.78.78-.78 2.05 0 2.83L4 21.41c.39.39.9.59 1.41.59.51 0 1.02-.2 1.41-.59l7.78-7.78 2.81-2.81c.8-.78.8-2.07 0-2.86zM5.41 20L4 18.59l7.72-7.72 1.47 1.35L5.41 20z\"/>\n",
              "  </svg>\n",
              "      </button>\n",
              "      \n",
              "  <style>\n",
              "    .colab-df-container {\n",
              "      display:flex;\n",
              "      flex-wrap:wrap;\n",
              "      gap: 12px;\n",
              "    }\n",
              "\n",
              "    .colab-df-convert {\n",
              "      background-color: #E8F0FE;\n",
              "      border: none;\n",
              "      border-radius: 50%;\n",
              "      cursor: pointer;\n",
              "      display: none;\n",
              "      fill: #1967D2;\n",
              "      height: 32px;\n",
              "      padding: 0 0 0 0;\n",
              "      width: 32px;\n",
              "    }\n",
              "\n",
              "    .colab-df-convert:hover {\n",
              "      background-color: #E2EBFA;\n",
              "      box-shadow: 0px 1px 2px rgba(60, 64, 67, 0.3), 0px 1px 3px 1px rgba(60, 64, 67, 0.15);\n",
              "      fill: #174EA6;\n",
              "    }\n",
              "\n",
              "    [theme=dark] .colab-df-convert {\n",
              "      background-color: #3B4455;\n",
              "      fill: #D2E3FC;\n",
              "    }\n",
              "\n",
              "    [theme=dark] .colab-df-convert:hover {\n",
              "      background-color: #434B5C;\n",
              "      box-shadow: 0px 1px 3px 1px rgba(0, 0, 0, 0.15);\n",
              "      filter: drop-shadow(0px 1px 2px rgba(0, 0, 0, 0.3));\n",
              "      fill: #FFFFFF;\n",
              "    }\n",
              "  </style>\n",
              "\n",
              "      <script>\n",
              "        const buttonEl =\n",
              "          document.querySelector('#df-6a94767e-2d4b-4180-9f40-a243f644c2e6 button.colab-df-convert');\n",
              "        buttonEl.style.display =\n",
              "          google.colab.kernel.accessAllowed ? 'block' : 'none';\n",
              "\n",
              "        async function convertToInteractive(key) {\n",
              "          const element = document.querySelector('#df-6a94767e-2d4b-4180-9f40-a243f644c2e6');\n",
              "          const dataTable =\n",
              "            await google.colab.kernel.invokeFunction('convertToInteractive',\n",
              "                                                     [key], {});\n",
              "          if (!dataTable) return;\n",
              "\n",
              "          const docLinkHtml = 'Like what you see? Visit the ' +\n",
              "            '<a target=\"_blank\" href=https://colab.research.google.com/notebooks/data_table.ipynb>data table notebook</a>'\n",
              "            + ' to learn more about interactive tables.';\n",
              "          element.innerHTML = '';\n",
              "          dataTable['output_type'] = 'display_data';\n",
              "          await google.colab.output.renderOutput(dataTable, element);\n",
              "          const docLink = document.createElement('div');\n",
              "          docLink.innerHTML = docLinkHtml;\n",
              "          element.appendChild(docLink);\n",
              "        }\n",
              "      </script>\n",
              "    </div>\n",
              "  </div>\n",
              "  "
            ]
          },
          "metadata": {},
          "execution_count": 14
        }
      ],
      "source": [
        "# Sort the dataset in 'ascending' order using the feature 'Mileage'\n",
        "data.sort_values(by='Mileage', ascending=True).head(10)"
      ]
    },
    {
      "cell_type": "markdown",
      "metadata": {
        "id": "FcQR7NMgtOSp"
      },
      "source": [
        "#### **Observations**\n",
        "* Mileage of cars can not be 0, so we should treat 0's as missing values. We will do it in the Feature Engineering part."
      ]
    },
    {
      "cell_type": "markdown",
      "metadata": {
        "id": "7Rwx-1ZuhU3D"
      },
      "source": [
        "## **Univariate Analysis**\n",
        "Univariate analysis is used to explore each variable in a data set, separately. It looks at the range of values, as well as the central tendency of the values. It can be done for both numerical and categorical variables."
      ]
    },
    {
      "cell_type": "markdown",
      "metadata": {
        "id": "XYmSIliuIrcy"
      },
      "source": [
        "## **1. Univariate Analysis - Numerical Data**\n",
        "Histograms and box plots help to visualize and describe numerical data. We use box plot and histogram to analyse the numerical columns."
      ]
    },
    {
      "cell_type": "code",
      "execution_count": null,
      "metadata": {
        "id": "4IvqyxldtOSp"
      },
      "outputs": [],
      "source": [
        "\n",
        "# This function takes the numerical column as the input and returns the boxplots and histograms for the variable.\n",
        "\n",
        "def histogram_boxplot(feature, figsize = (15, 10), bins = None):\n",
        "    \n",
        "    \"\"\" Boxplot and histogram combined\n",
        "    \n",
        "    feature: 1-d feature array\n",
        "    \n",
        "    figsize: size of fig (default (9, 8))\n",
        "    \n",
        "    bins: number of bins (default None / auto)\n",
        "    \n",
        "    \"\"\"\n",
        "    f2, (ax_box2, ax_hist2) = plt.subplots(nrows = 2, # Number of rows of the subplot grid = 2\n",
        "                                           sharex = True, # X-axis will be shared among all subplots\n",
        "                                           gridspec_kw = {\"height_ratios\": (.25, .75)}, \n",
        "                                           figsize = figsize \n",
        "                                           ) # Creating the 2 subplots\n",
        "    \n",
        "    sns.boxplot(feature, ax = ax_box2, showmeans = True, color = 'violet') # Boxplot will be created and a symbol will indicate the mean value of the column\n",
        "    \n",
        "    sns.distplot(feature, kde = F, ax = ax_hist2, bins = bins, palette = \"winter\") if bins else sns.distplot(feature, kde = False, ax = ax_hist2) # For histogram\n",
        "    \n",
        "    ax_hist2.axvline(np.mean(feature), color = 'green', linestyle = '--') # Add mean to the histogram\n",
        "    \n",
        "    ax_hist2.axvline(np.median(feature), color = 'black', linestyle = '-') # Add median to the histogram"
      ]
    },
    {
      "cell_type": "markdown",
      "metadata": {
        "id": "63SJOZqbtOSp"
      },
      "source": [
        "**Plot histogram and box-plot for the feature 'Kilometers_Driven' to understand the distribution and outliers, if any.**"
      ]
    },
    {
      "cell_type": "code",
      "execution_count": null,
      "metadata": {
        "colab": {
          "base_uri": "https://localhost:8080/",
          "height": 606
        },
        "id": "h3oGmDAktOSq",
        "outputId": "8621961a-a321-4a5b-d5e4-18211b5ce313"
      },
      "outputs": [
        {
          "output_type": "display_data",
          "data": {
            "text/plain": [
              "<Figure size 1080x720 with 2 Axes>"
            ],
            "image/png": "[encoded data removed]"
          },
          "metadata": {
            "needs_background": "light"
          }
        }
      ],
      "source": [
        "# Plot histogram and box-plot for 'Kilometers_Driven'\n",
        "histogram_boxplot(data['Kilometers_Driven'])"
      ]
    },
    {
      "cell_type": "code",
      "execution_count": null,
      "metadata": {
        "colab": {
          "base_uri": "https://localhost:8080/",
          "height": 280
        },
        "id": "xvUxKBPetOSq",
        "outputId": "6d01c5bf-e3c5-48c2-f1b0-e5981d2dd436"
      },
      "outputs": [
        {
          "output_type": "display_data",
          "data": {
            "text/plain": [
              "<Figure size 432x288 with 1 Axes>"
            ],
            "image/png": "[encoded data removed]"
          },
          "metadata": {
            "needs_background": "light"
          }
        }
      ],
      "source": [
        "# Log transformation of the feature 'Kilometers_Driven'\n",
        "sns.distplot(np.log(data[\"Kilometers_Driven\"]), axlabel = \"Log(Kilometers_Driven)\");"
      ]
    },
    {
      "cell_type": "markdown",
      "metadata": {
        "id": "RhVfiCG6tOSq"
      },
      "source": [
        "**Observations and Insights: _____**"
      ]
    },
    {
      "cell_type": "code",
      "execution_count": null,
      "metadata": {
        "id": "MSobKz9jtOSr"
      },
      "outputs": [],
      "source": [
        "# We can add a transformed kilometers_driven feature in data\n",
        "data[\"kilometers_driven_log\"] = np.log(data[\"Kilometers_Driven\"])"
      ]
    },
    {
      "cell_type": "markdown",
      "metadata": {
        "id": "5IZEyt7NVL3Z"
      },
      "source": [
        "**Note:** Like Kilometers_Driven, the distribution of Price is also highly skewed, we can use log transformation on this column to see if that helps normalize the distribution. And add the transformed variable into the dataset. You can name the variable as **'price_log'**."
      ]
    },
    {
      "cell_type": "code",
      "execution_count": null,
      "metadata": {
        "colab": {
          "base_uri": "https://localhost:8080/",
          "height": 606
        },
        "id": "bU82nipkVL3Z",
        "outputId": "3a9b4b4a-efbf-40c5-864b-367bb83b7e4e"
      },
      "outputs": [
        {
          "output_type": "display_data",
          "data": {
            "text/plain": [
              "<Figure size 1080x720 with 2 Axes>"
            ],
            "image/png": "[encoded data removed]"
          },
          "metadata": {
            "needs_background": "light"
          }
        }
      ],
      "source": [
        "# Plot histogram and box-plot for 'Price'\n",
        "histogram_boxplot(data['Price'])"
      ]
    },
    {
      "cell_type": "code",
      "execution_count": null,
      "metadata": {
        "colab": {
          "base_uri": "https://localhost:8080/",
          "height": 297
        },
        "id": "s16uiRXFVL3Z",
        "outputId": "272e02d3-bedc-438a-d90c-b076e840c90f"
      },
      "outputs": [
        {
          "output_type": "execute_result",
          "data": {
            "text/plain": [
              "<matplotlib.axes._subplots.AxesSubplot at 0x7fb4aa214e10>"
            ]
          },
          "metadata": {},
          "execution_count": 22
        },
        {
          "output_type": "display_data",
          "data": {
            "text/plain": [
              "<Figure size 432x288 with 1 Axes>"
            ],
            "image/png": "[encoded data removed]"
          },
          "metadata": {
            "needs_background": "light"
          }
        }
      ],
      "source": [
        "# Log transformation of the feature 'Price'\n",
        "sns.distplot(np.log(data[\"Price\"]), axlabel = \"Log(Price)\")"
      ]
    },
    {
      "cell_type": "code",
      "execution_count": null,
      "metadata": {
        "id": "X_8uUAcEVL3Z"
      },
      "outputs": [],
      "source": [
        "# We can Add a transformed Price feature in data\n",
        "data[\"Price_log\"] = np.log(data[\"Price\"])"
      ]
    },
    {
      "cell_type": "markdown",
      "metadata": {
        "id": "HwE0djBTtOSr"
      },
      "source": [
        "**Observations and Insights for all the plots:**\n",
        "* The distribution of PRICE is right-skewed. This suggests that most of the used car are not expensive. The peak distribution shows most of the used cars has been sold about 1M INR.\n",
        "* There are some outliers in the data. Few used cars have been sold about 8M INR, and very few used cars have been sold at 16M INR\n",
        "* THe log transformation of the PRICE is nomal distribution. Most of the used cars have been solved at 2M INR.\n"
      ]
    },
    {
      "cell_type": "markdown",
      "metadata": {
        "id": "vjT3FFoDIrc3"
      },
      "source": [
        "## **2. Univariate analysis - Categorical Data**"
      ]
    },
    {
      "cell_type": "code",
      "execution_count": null,
      "metadata": {
        "id": "MZZW1y_ctOSt"
      },
      "outputs": [],
      "source": [
        "# This function takes the categorical column as the input and returns the barplots for the variable.\n",
        "\n",
        "def perc_on_bar(z):\n",
        "    '''\n",
        "    plot\n",
        "    feature: categorical feature\n",
        "    the function won't work if a column is passed in hue parameter\n",
        "    '''\n",
        "\n",
        "    total = len(data[z]) # Length of the column\n",
        "    \n",
        "    plt.figure(figsize = (15, 5))\n",
        "    \n",
        "    ax = sns.countplot(data[z], palette = 'Paired', order = data[z].value_counts().index)\n",
        "    \n",
        "    for p in ax.patches:\n",
        "        \n",
        "        percentage = '{:.1f}%'.format(100 * p.get_height() / total) # Percentage of each class of the category\n",
        "        \n",
        "        x = p.get_x() + p.get_width() / 2 - 0.05 # Width of the plot\n",
        "        \n",
        "        y = p.get_y() + p.get_height()           # Hieght of the plot\n",
        "        \n",
        "        ax.annotate(percentage, (x, y), size = 12) # Annotate the percantage \n",
        "    \n",
        "    plt.show() # Show the plot"
      ]
    },
    {
      "cell_type": "markdown",
      "metadata": {
        "id": "lY4PNN04tOSt"
      },
      "source": [
        "**Plot barplot for the variable location. It will be helpful to know the number of percentage of cars from each city.**"
      ]
    },
    {
      "cell_type": "code",
      "execution_count": null,
      "metadata": {
        "colab": {
          "base_uri": "https://localhost:8080/",
          "height": 334
        },
        "id": "OOLcER6KtOSu",
        "outputId": "c387f359-5718-4dce-a711-650d99695588"
      },
      "outputs": [
        {
          "output_type": "display_data",
          "data": {
            "text/plain": [
              "<Figure size 1080x360 with 1 Axes>"
            ],
            "image/png": "[encoded data removed]"
          },
          "metadata": {
            "needs_background": "light"
          }
        }
      ],
      "source": [
        "# Bar Plot for 'Location'\n",
        "perc_on_bar('Location')"
      ]
    },
    {
      "cell_type": "markdown",
      "source": [
        "**Observations:**\n",
        "* Location variable contains 11 unique values. 13% of used cars are located in Mumbai, 12% are in hyderabad, Ahmedabad have the fewest number of used cars (3.8%)."
      ],
      "metadata": {
        "id": "Om6e9WlvhVuR"
      }
    },
    {
      "cell_type": "markdown",
      "metadata": {
        "id": "beo_tDmVhU3-"
      },
      "source": [
        "## **Bivariate Analysis**"
      ]
    },
    {
      "cell_type": "code",
      "execution_count": null,
      "metadata": {
        "colab": {
          "base_uri": "https://localhost:8080/",
          "height": 302
        },
        "id": "aB4nfBtqVL3b",
        "outputId": "05e7aae2-9820-4135-fea2-2e11ec1804a3"
      },
      "outputs": [
        {
          "output_type": "execute_result",
          "data": {
            "text/plain": [
              "<matplotlib.axes._subplots.AxesSubplot at 0x7fb4a9feca50>"
            ]
          },
          "metadata": {},
          "execution_count": 26
        },
        {
          "output_type": "display_data",
          "data": {
            "text/plain": [
              "<Figure size 432x288 with 1 Axes>"
            ],
            "image/png": "[encoded data removed]"
          },
          "metadata": {
            "needs_background": "light"
          }
        }
      ],
      "source": [
        "# Plot pair plot for the variables 'year' and 'price_log'\n",
        "data.plot(x = 'Price_log', y = 'Year', style = 'o')"
      ]
    },
    {
      "cell_type": "markdown",
      "metadata": {
        "id": "JipnN20DVL3b"
      },
      "source": [
        "**Observations and Insights from all plots: _____**\n",
        "\n",
        "* There is a strong postivite correlation between the LogPrice and Year.\n",
        "* The used cars price tends to incresase with an increase in the production year. \n",
        "* There are some outliers but it would not impact on the correlation results. \n"
      ]
    },
    {
      "cell_type": "markdown",
      "metadata": {
        "id": "Z8svlVbWtOSy"
      },
      "source": [
        "### **2. Heat map**\n",
        "Heat map shows a 2D correlation matrix between two numerical features."
      ]
    },
    {
      "cell_type": "code",
      "execution_count": null,
      "metadata": {
        "colab": {
          "base_uri": "https://localhost:8080/",
          "height": 532
        },
        "id": "obYRQMiytOSy",
        "outputId": "b048f3ec-4cd4-401e-9ee0-fcc4042b16f9"
      },
      "outputs": [
        {
          "output_type": "display_data",
          "data": {
            "text/plain": [
              "<Figure size 864x504 with 2 Axes>"
            ],
            "image/png": "[encoded data removed]"
          },
          "metadata": {
            "needs_background": "light"
          }
        }
      ],
      "source": [
        "# We can include the log transformation values and drop the original skewed data columns\n",
        "plt.figure(figsize = (12, 7))\n",
        "\n",
        "sns.heatmap(data.drop(['Price'],axis = 1).corr(), annot = True, vmin = -1, vmax = 1)\n",
        "\n",
        "plt.show()"
      ]
    },
    {
      "cell_type": "markdown",
      "metadata": {
        "id": "p8FZxksptOSy"
      },
      "source": [
        "**Observations and Insights: _____**\n",
        "\n",
        "* Price is positively correlated with year, which indicates that the used cars price will increase with the production year increased.\n",
        "* Price and standard mileage offered by the car company are negatively correlated, when the mileage goes up, the price of the used car will go down.\n",
        "* The price of a used car is negatively correlated with total kilometers driven by the previous owners, as the number of miles driven by the previous owner goes up, the price of a used car goes down\n",
        "* The price of a used car is positively correlated with the displacement volume of the engine, when the engine's volume is bigger, the price of the used car is higher  \n",
        "* The price of a used car and the maximum power of the engine are significantly positively correlated, when the engine's power is greater, the price of the used car is higher"
      ]
    },
    {
      "cell_type": "markdown",
      "metadata": {
        "id": "XoilGTkZIrc6"
      },
      "source": [
        "### **3. Box plot**"
      ]
    },
    {
      "cell_type": "code",
      "execution_count": null,
      "metadata": {
        "id": "LqGH0RvCtOSy"
      },
      "outputs": [],
      "source": [
        "# This function takes the categorical column as the input and returns the boxplots for the variable.\n",
        "def boxplot(z):\n",
        "    \n",
        "    plt.figure(figsize = (12, 5)) # Setting size of boxplot\n",
        "    \n",
        "    sns.boxplot(x = z, y = data['Price']) # Defining x and y\n",
        "    \n",
        "    plt.show()\n",
        "    \n",
        "    plt.figure(figsize = (12, 5))\n",
        "    \n",
        "    plt.title('Without Outliers')\n",
        "    \n",
        "    sns.boxplot(x = z, y = data['Price'], showfliers = False) # Turning off the outliers\n",
        "    \n",
        "    plt.show()"
      ]
    },
    {
      "cell_type": "markdown",
      "metadata": {
        "id": "eXvYdYGCVL3b"
      },
      "source": [
        "#### Plot bivariate analysis of target variable with a categorical variable 'Location'"
      ]
    },
    {
      "cell_type": "code",
      "execution_count": null,
      "metadata": {
        "colab": {
          "base_uri": "https://localhost:8080/",
          "height": 667
        },
        "id": "V9Xj3jNntOSz",
        "outputId": "e394c815-f625-4ae8-9d3c-cc33904805ad"
      },
      "outputs": [
        {
          "output_type": "display_data",
          "data": {
            "text/plain": [
              "<Figure size 864x360 with 1 Axes>"
            ],
            "image/png": "[encoded data removed]"
          },
          "metadata": {
            "needs_background": "light"
          }
        },
        {
          "output_type": "display_data",
          "data": {
            "text/plain": [
              "<Figure size 864x360 with 1 Axes>"
            ],
            "image/png": "[encoded data removed]"
          },
          "metadata": {
            "needs_background": "light"
          }
        }
      ],
      "source": [
        "# Box Plot: Price vs Location\n",
        "boxplot(data['Location'])"
      ]
    },
    {
      "cell_type": "markdown",
      "metadata": {
        "id": "hK3wD0GyVL3c"
      },
      "source": [
        "<b>Note: </b> Explore by plotting box-plots for target variable and the other categorical variables like Fuel_Type, transmission, Owner_type."
      ]
    },
    {
      "cell_type": "markdown",
      "metadata": {
        "id": "sMoRw1rStOSz"
      },
      "source": [
        "**Observations and Insights for all plots:__**\n"
      ]
    },
    {
      "cell_type": "markdown",
      "metadata": {
        "id": "70E7M7KJtOS1"
      },
      "source": [
        "### **Feature Engineering**"
      ]
    },
    {
      "cell_type": "markdown",
      "metadata": {
        "id": "2N4fU3TetOS3"
      },
      "source": [
        "### **Missing value treatment**"
      ]
    },
    {
      "cell_type": "code",
      "execution_count": null,
      "metadata": {
        "colab": {
          "base_uri": "https://localhost:8080/"
        },
        "id": "fqZJaxW-tOS4",
        "outputId": "19183296-f58e-47e7-ebff-a7f777e27f39"
      },
      "outputs": [
        {
          "output_type": "execute_result",
          "data": {
            "text/plain": [
              "Name                        0\n",
              "Location                    0\n",
              "Year                        0\n",
              "Kilometers_Driven           0\n",
              "Fuel_Type                   0\n",
              "Transmission                0\n",
              "Owner_Type                  0\n",
              "Mileage                     2\n",
              "Engine                     46\n",
              "Power                     175\n",
              "Seats                      53\n",
              "New_price                6246\n",
              "Price                    1234\n",
              "kilometers_driven_log       0\n",
              "Price_log                1234\n",
              "dtype: int64"
            ]
          },
          "metadata": {},
          "execution_count": 30
        }
      ],
      "source": [
        "# Check the missing values of each column.\n",
        "data.isnull().sum()"
      ]
    },
    {
      "cell_type": "markdown",
      "metadata": {
        "id": "9D0K7dWHtOS4"
      },
      "source": [
        "#### **Observations and Insights: _____**"
      ]
    },
    {
      "cell_type": "markdown",
      "metadata": {
        "id": "0g1JA9HltOS4"
      },
      "source": [
        "**Missing values in Seats**"
      ]
    },
    {
      "cell_type": "code",
      "execution_count": null,
      "metadata": {
        "colab": {
          "base_uri": "https://localhost:8080/"
        },
        "id": "0ygbJcoOtOS4",
        "outputId": "5b06f00b-80f3-441e-a910-e8357e5ecbc0",
        "scrolled": true
      },
      "outputs": [
        {
          "output_type": "execute_result",
          "data": {
            "text/plain": [
              "53"
            ]
          },
          "metadata": {},
          "execution_count": 31
        }
      ],
      "source": [
        "# Checking missing values in the column 'Seats'\n",
        "data.isnull()['Seats'].sum()"
      ]
    },
    {
      "cell_type": "code",
      "execution_count": null,
      "metadata": {
        "id": "mIoatRh9tOS4"
      },
      "outputs": [],
      "source": [
        "# Impute missing values in Seats,you can use fillna method in pandas\n",
        "data['Seats']=data['Seats'].fillna(data['Seats'].median())"
      ]
    },
    {
      "cell_type": "code",
      "execution_count": null,
      "metadata": {
        "colab": {
          "base_uri": "https://localhost:8080/"
        },
        "id": "YS4QIbWPtOS5",
        "outputId": "c1e6ea11-ea28-4ca8-d237-1f068947b2c5"
      },
      "outputs": [
        {
          "output_type": "execute_result",
          "data": {
            "text/plain": [
              "0"
            ]
          },
          "metadata": {},
          "execution_count": 33
        }
      ],
      "source": [
        "# Check total number of missing values of the seat column to verify if they are imputed or not. \n",
        "data.isnull()['Seats'].sum()"
      ]
    },
    {
      "cell_type": "markdown",
      "metadata": {
        "id": "wjaNSFLRtOS5"
      },
      "source": [
        "**Missing values for Mileage**"
      ]
    },
    {
      "cell_type": "code",
      "execution_count": null,
      "metadata": {
        "colab": {
          "base_uri": "https://localhost:8080/"
        },
        "id": "DRXO50mXVL3d",
        "outputId": "e86819f3-bdaa-4db3-a108-5d68b6cf8da0"
      },
      "outputs": [
        {
          "output_type": "execute_result",
          "data": {
            "text/plain": [
              "Name                        0\n",
              "Location                    0\n",
              "Year                        0\n",
              "Kilometers_Driven           0\n",
              "Fuel_Type                   0\n",
              "Transmission                0\n",
              "Owner_Type                  0\n",
              "Mileage                     2\n",
              "Engine                     46\n",
              "Power                     175\n",
              "Seats                       0\n",
              "New_price                6246\n",
              "Price                    1234\n",
              "kilometers_driven_log       0\n",
              "Price_log                1234\n",
              "dtype: int64"
            ]
          },
          "metadata": {},
          "execution_count": 34
        }
      ],
      "source": [
        "# Check missing values of each column. \n",
        "data.isnull().sum()"
      ]
    },
    {
      "cell_type": "code",
      "execution_count": null,
      "metadata": {
        "id": "Etr9nkEKtOS6"
      },
      "outputs": [],
      "source": [
        "# Impute missing Mileage. For example, use can use median or any other methods.\n",
        "data['Mileage']=data['Mileage'].fillna(data['Mileage'].median())"
      ]
    },
    {
      "cell_type": "code",
      "execution_count": 29,
      "metadata": {
        "colab": {
          "base_uri": "https://localhost:8080/"
        },
        "id": "RWH5k6nAtOS6",
        "outputId": "20049b74-c0e5-4f8b-9c90-651bda16a9ab"
      },
      "outputs": [
        {
          "output_type": "execute_result",
          "data": {
            "text/plain": [
              "2"
            ]
          },
          "metadata": {},
          "execution_count": 29
        }
      ],
      "source": [
        "# Check total number of missing values of the seat column to verify if they are imputed or not. \n",
        "data.isnull()['Mileage'].sum()"
      ]
    },
    {
      "cell_type": "markdown",
      "metadata": {
        "id": "SSRXU5m3tOS6"
      },
      "source": [
        "**Missing values for Engine**"
      ]
    },
    {
      "cell_type": "code",
      "execution_count": null,
      "metadata": {
        "colab": {
          "base_uri": "https://localhost:8080/"
        },
        "id": "wy9Gqxg-tOS6",
        "outputId": "3cba2b3c-b400-4324-e7e9-131e9d41e644"
      },
      "outputs": [
        {
          "output_type": "execute_result",
          "data": {
            "text/plain": [
              "0"
            ]
          },
          "metadata": {},
          "execution_count": 37
        }
      ],
      "source": [
        "data['Engine']=data['Engine'].fillna(data['Engine'].median())\n",
        "data.isnull()['Engine'].sum()"
      ]
    },
    {
      "cell_type": "markdown",
      "metadata": {
        "id": "Py_n-7fLtOS6"
      },
      "source": [
        "**Missing values for Power**"
      ]
    },
    {
      "cell_type": "code",
      "execution_count": null,
      "metadata": {
        "colab": {
          "base_uri": "https://localhost:8080/"
        },
        "id": "2WsE1-VftOS7",
        "outputId": "3ffbc066-dff4-4956-d682-8066172893b0"
      },
      "outputs": [
        {
          "output_type": "execute_result",
          "data": {
            "text/plain": [
              "0"
            ]
          },
          "metadata": {},
          "execution_count": 38
        }
      ],
      "source": [
        "data['Power']=data['Power'].fillna(data['Power'].median())\n",
        "data.isnull()['Power'].sum()"
      ]
    },
    {
      "cell_type": "markdown",
      "metadata": {
        "id": "D69-3ZiCtOS7"
      },
      "source": [
        "**Missing values for New_price**"
      ]
    },
    {
      "cell_type": "code",
      "execution_count": null,
      "metadata": {
        "colab": {
          "base_uri": "https://localhost:8080/"
        },
        "id": "53xzbaWzVL3e",
        "outputId": "455df74d-ef0f-4d59-ee8c-61e4ad8944bf"
      },
      "outputs": [
        {
          "output_type": "execute_result",
          "data": {
            "text/plain": [
              "0"
            ]
          },
          "metadata": {},
          "execution_count": 39
        }
      ],
      "source": [
        "data['New_price']=data['New_price'].fillna(data['New_price'].median())\n",
        "data.isnull()['New_price'].sum()"
      ]
    },
    {
      "cell_type": "code",
      "source": [
        "data['Price']=data['Price'].fillna(data['Price'].median())\n"
      ],
      "metadata": {
        "id": "Zgnwv3lZmhkE"
      },
      "execution_count": null,
      "outputs": []
    },
    {
      "cell_type": "code",
      "source": [
        "data['Price_log']=data['Price_log'].fillna(data['Price_log'].median())"
      ],
      "metadata": {
        "id": "wo4CIJaMmqWc"
      },
      "execution_count": null,
      "outputs": []
    },
    {
      "cell_type": "code",
      "execution_count": null,
      "metadata": {
        "colab": {
          "base_uri": "https://localhost:8080/"
        },
        "id": "ALwnrpSz1lcC",
        "outputId": "97f89307-a35e-41be-8d8f-c81f13335d92"
      },
      "outputs": [
        {
          "output_type": "execute_result",
          "data": {
            "text/plain": [
              "Name                     0\n",
              "Location                 0\n",
              "Year                     0\n",
              "Kilometers_Driven        0\n",
              "Fuel_Type                0\n",
              "Transmission             0\n",
              "Owner_Type               0\n",
              "Mileage                  0\n",
              "Engine                   0\n",
              "Power                    0\n",
              "Seats                    0\n",
              "New_price                0\n",
              "Price                    0\n",
              "kilometers_driven_log    0\n",
              "Price_log                0\n",
              "dtype: int64"
            ]
          },
          "metadata": {},
          "execution_count": 42
        }
      ],
      "source": [
        "data.isnull().sum()"
      ]
    },
    {
      "cell_type": "markdown",
      "metadata": {
        "id": "0L-oAMItxLP-"
      },
      "source": [
        "### **Split the Data**"
      ]
    },
    {
      "cell_type": "markdown",
      "metadata": {
        "id": "Aat-Ne-ZVL3e"
      },
      "source": [
        "<li>Step1: Seperating the indepdent variables (X) and the dependent variable (y). \n",
        "<li>Step2: Encode the categorical variables in X using pd.dummies.\n",
        "<li>Step3: Split the data into train and test using train_test_split."
      ]
    },
    {
      "cell_type": "code",
      "execution_count": null,
      "metadata": {
        "id": "NTly1jIxtOS8"
      },
      "outputs": [],
      "source": [
        "# Step-1\n",
        "X = data.drop(['Name','Price','Price_log','Kilometers_Driven'], axis = 1)\n",
        "\n",
        "y = data[[\"Price_log\", \"Price\"]]"
      ]
    },
    {
      "cell_type": "code",
      "execution_count": null,
      "metadata": {
        "id": "vzCLGMzbVL3f"
      },
      "outputs": [],
      "source": [
        "# Step-2 Use pd.get_dummies(drop_first = True)\n",
        "X = pd.get_dummies(X, drop_first = True)"
      ]
    },
    {
      "cell_type": "code",
      "execution_count": null,
      "metadata": {
        "id": "JqVHLEHVRRKK",
        "colab": {
          "base_uri": "https://localhost:8080/"
        },
        "outputId": "84f2ea25-34ac-4d33-acf1-08cc4cbde3e3"
      },
      "outputs": [
        {
          "output_type": "stream",
          "name": "stdout",
          "text": [
            "(5076, 25) (2176, 25)\n"
          ]
        }
      ],
      "source": [
        "# Step-3 Splitting data into training and test set:\n",
        "X_train, X_test, y_train, y_test = train_test_split(X, y, test_size = 0.3, random_state = 1)\n",
        "\n",
        "print(X_train.shape, X_test.shape)"
      ]
    },
    {
      "cell_type": "code",
      "execution_count": null,
      "metadata": {
        "id": "glAH2vMFtOS8"
      },
      "outputs": [],
      "source": [
        "# This function takes model as an input on which we have trained particular algorithm\n",
        "# The categorical column as the input and returns the boxplots and histograms for the variable\n",
        "\n",
        "def get_model_score(model, flag = True):\n",
        "    '''\n",
        "    model : regressor to predict values of X\n",
        "\n",
        "    '''\n",
        "    # Defining an empty list to store train and test results\n",
        "    score_list = [] \n",
        "    \n",
        "    pred_train = model.predict(X_train)\n",
        "    \n",
        "    pred_train_ = np.exp(pred_train)\n",
        "    \n",
        "    pred_test = model.predict(X_test)\n",
        "    \n",
        "    pred_test_ = np.exp(pred_test)\n",
        "    \n",
        "    train_r2 = metrics.r2_score(y_train['Price'], pred_train_)\n",
        "    \n",
        "    test_r2 = metrics.r2_score(y_test['Price'], pred_test_)\n",
        "    \n",
        "    train_rmse = metrics.mean_squared_error(y_train['Price'], pred_train_, squared = False)\n",
        "    \n",
        "    test_rmse = metrics.mean_squared_error(y_test['Price'], pred_test_, squared = False)\n",
        "    \n",
        "    # Adding all scores in the list\n",
        "    score_list.extend((train_r2, test_r2, train_rmse, test_rmse))\n",
        "    \n",
        "    # If the flag is set to True then only the following print statements will be dispayed, the default value is True\n",
        "    if flag == True: \n",
        "        \n",
        "        print(\"R-sqaure on training set : \", metrics.r2_score(y_train['Price'], pred_train_))\n",
        "        \n",
        "        print(\"R-square on test set : \", metrics.r2_score(y_test['Price'], pred_test_))\n",
        "        \n",
        "        print(\"RMSE on training set : \", np.sqrt(metrics.mean_squared_error(y_train['Price'], pred_train_)))\n",
        "        \n",
        "        print(\"RMSE on test set : \", np.sqrt(metrics.mean_squared_error(y_test['Price'], pred_test_)))\n",
        "    \n",
        "    # Returning the list with train and test scores\n",
        "    return score_list"
      ]
    },
    {
      "cell_type": "markdown",
      "metadata": {
        "id": "o8qcI692VL3g"
      },
      "source": [
        "<hr>"
      ]
    },
    {
      "cell_type": "markdown",
      "metadata": {
        "id": "gaj2riZFVL3g"
      },
      "source": [
        "For Regression Problems, some of the algorithms used are :<br>\n",
        "\n",
        "**1) Linear Regression** <br>\n",
        "**2) Ridge / Lasso Regression** <br>\n",
        "**3) Decision Trees** <br>\n",
        "**4) Random Forest** <br>\n",
        "**5) XGBoost**"
      ]
    },
    {
      "cell_type": "markdown",
      "metadata": {
        "id": "xwL33RaztOS9"
      },
      "source": [
        "### **Fitting a linear model**"
      ]
    },
    {
      "cell_type": "code",
      "execution_count": null,
      "metadata": {
        "id": "tABeKbbNVL3h"
      },
      "outputs": [],
      "source": [
        "# Import Linear Regression from sklearn\n",
        "from sklearn.linear_model import LinearRegression"
      ]
    },
    {
      "cell_type": "code",
      "execution_count": null,
      "metadata": {
        "id": "FT3gcKDetOS9"
      },
      "outputs": [],
      "source": [
        "# Create a linear regression model\n",
        "lr = LinearRegression()"
      ]
    },
    {
      "cell_type": "code",
      "source": [
        "data.isnull().sum()"
      ],
      "metadata": {
        "id": "9gbS1VsPlrAX",
        "colab": {
          "base_uri": "https://localhost:8080/"
        },
        "outputId": "00366fdf-6d0d-4d15-f9c0-76d6597eea0d"
      },
      "execution_count": null,
      "outputs": [
        {
          "output_type": "execute_result",
          "data": {
            "text/plain": [
              "Name                     0\n",
              "Location                 0\n",
              "Year                     0\n",
              "Kilometers_Driven        0\n",
              "Fuel_Type                0\n",
              "Transmission             0\n",
              "Owner_Type               0\n",
              "Mileage                  0\n",
              "Engine                   0\n",
              "Power                    0\n",
              "Seats                    0\n",
              "New_price                0\n",
              "Price                    0\n",
              "kilometers_driven_log    0\n",
              "Price_log                0\n",
              "dtype: int64"
            ]
          },
          "metadata": {},
          "execution_count": 53
        }
      ]
    },
    {
      "cell_type": "code",
      "execution_count": null,
      "metadata": {
        "id": "rMmX-FJatOS9",
        "colab": {
          "base_uri": "https://localhost:8080/"
        },
        "outputId": "f4bdc136-7ffa-4331-fac6-62b832cd852a"
      },
      "outputs": [
        {
          "output_type": "execute_result",
          "data": {
            "text/plain": [
              "LinearRegression()"
            ]
          },
          "metadata": {},
          "execution_count": 54
        }
      ],
      "source": [
        "# Fit linear regression model\n",
        "lr.fit(X_train, y_train['Price_log']) "
      ]
    },
    {
      "cell_type": "code",
      "source": [
        "from sklearn import metrics"
      ],
      "metadata": {
        "id": "mCeQBklGpAGZ"
      },
      "execution_count": null,
      "outputs": []
    },
    {
      "cell_type": "code",
      "execution_count": null,
      "metadata": {
        "id": "ABshmMPAtOS9",
        "colab": {
          "base_uri": "https://localhost:8080/"
        },
        "outputId": "d72623b3-142e-4b41-def5-a9476f8e77a8"
      },
      "outputs": [
        {
          "output_type": "stream",
          "name": "stdout",
          "text": [
            "R-sqaure on training set :  0.577415549639032\n",
            "R-square on test set :  0.6969313279331848\n",
            "RMSE on training set :  6.664266955156872\n",
            "RMSE on test set :  5.681136103016527\n"
          ]
        }
      ],
      "source": [
        "# Get score of the model\n",
        "LR_score = get_model_score(lr)"
      ]
    },
    {
      "cell_type": "markdown",
      "metadata": {
        "id": "NgNkZ0HctOS9"
      },
      "source": [
        "**Observations from results: _____**\n",
        "\n",
        "* In general, the low errors given by RMSE represents a positive impression about the model's accuracy.\n",
        "* This suggested further investigation to improve the performance on general data."
      ]
    },
    {
      "cell_type": "markdown",
      "metadata": {
        "id": "RNN1nlPqIrdC"
      },
      "source": [
        "**Important variables of Linear Regression**"
      ]
    },
    {
      "cell_type": "markdown",
      "metadata": {
        "id": "NyKxdVyhVL3i"
      },
      "source": [
        "Building a model using statsmodels."
      ]
    },
    {
      "cell_type": "code",
      "execution_count": null,
      "metadata": {
        "id": "vHyqhuVMIrdC",
        "scrolled": true,
        "colab": {
          "base_uri": "https://localhost:8080/"
        },
        "outputId": "ed726062-ce51-436c-f3dc-520c3e2535ae"
      },
      "outputs": [
        {
          "output_type": "stream",
          "name": "stdout",
          "text": [
            "                            OLS Regression Results                            \n",
            "==============================================================================\n",
            "Dep. Variable:              Price_log   R-squared:                       0.731\n",
            "Model:                            OLS   Adj. R-squared:                  0.729\n",
            "Method:                 Least Squares   F-statistic:                     570.8\n",
            "Date:                Thu, 22 Sep 2022   Prob (F-statistic):               0.00\n",
            "Time:                        02:20:33   Log-Likelihood:                -2706.7\n",
            "No. Observations:                5076   AIC:                             5463.\n",
            "Df Residuals:                    5051   BIC:                             5627.\n",
            "Df Model:                          24                                         \n",
            "Covariance Type:            nonrobust                                         \n",
            "=============================================================================================\n",
            "                                coef    std err          t      P>|t|      [0.025      0.975]\n",
            "---------------------------------------------------------------------------------------------\n",
            "const                      -196.7697      5.320    -36.986      0.000    -207.200    -186.340\n",
            "Year                          0.0987      0.003     37.612      0.000       0.094       0.104\n",
            "Mileage                      -0.0129      0.002     -6.282      0.000      -0.017      -0.009\n",
            "Engine                        0.0002   2.72e-05      7.108      0.000       0.000       0.000\n",
            "Power                         0.0057      0.000     20.267      0.000       0.005       0.006\n",
            "Seats                         0.0008      0.010      0.085      0.932      -0.018       0.020\n",
            "New_price                    -0.0006      0.001     -1.152      0.249      -0.002       0.000\n",
            "kilometers_driven_log        -0.0624      0.011     -5.789      0.000      -0.083      -0.041\n",
            "Location_Bangalore            0.0972      0.038      2.534      0.011       0.022       0.172\n",
            "Location_Chennai              0.0098      0.036      0.270      0.787      -0.061       0.081\n",
            "Location_Coimbatore           0.0605      0.035      1.720      0.086      -0.008       0.129\n",
            "Location_Delhi               -0.0236      0.035     -0.666      0.505      -0.093       0.046\n",
            "Location_Hyderabad            0.0844      0.034      2.474      0.013       0.018       0.151\n",
            "Location_Jaipur              -0.0548      0.037     -1.468      0.142      -0.128       0.018\n",
            "Location_Kochi               -0.0362      0.035     -1.032      0.302      -0.105       0.033\n",
            "Location_Kolkata             -0.1972      0.036     -5.506      0.000      -0.267      -0.127\n",
            "Location_Mumbai              -0.0279      0.034     -0.818      0.414      -0.095       0.039\n",
            "Location_Pune                -0.0333      0.035     -0.953      0.341      -0.102       0.035\n",
            "Fuel_Type_Diesel              0.2069      0.061      3.368      0.001       0.086       0.327\n",
            "Fuel_Type_Electric        -1.743e-17   3.51e-16     -0.050      0.960   -7.05e-16    6.71e-16\n",
            "Fuel_Type_LPG                 0.0190      0.168      0.113      0.910      -0.311       0.349\n",
            "Fuel_Type_Petrol             -0.0480      0.062     -0.774      0.439      -0.170       0.074\n",
            "Transmission_Manual          -0.2540      0.018    -14.401      0.000      -0.289      -0.219\n",
            "Owner_Type_Fourth & Above     0.2699      0.132      2.045      0.041       0.011       0.529\n",
            "Owner_Type_Second            -0.0344      0.017     -1.985      0.047      -0.068      -0.000\n",
            "Owner_Type_Third             -0.1830      0.044     -4.160      0.000      -0.269      -0.097\n",
            "==============================================================================\n",
            "Omnibus:                      728.623   Durbin-Watson:                   2.028\n",
            "Prob(Omnibus):                  0.000   Jarque-Bera (JB):             3800.999\n",
            "Skew:                          -0.585   Prob(JB):                         0.00\n",
            "Kurtosis:                       7.075   Cond. No.                     1.01e+16\n",
            "==============================================================================\n",
            "\n",
            "Notes:\n",
            "[1] Standard Errors assume that the covariance matrix of the errors is correctly specified.\n",
            "[2] The smallest eigenvalue is 3.39e-22. This might indicate that there are\n",
            "strong multicollinearity problems or that the design matrix is singular.\n"
          ]
        }
      ],
      "source": [
        "# Import Statsmodels \n",
        "import statsmodels.api as sm\n",
        "\n",
        "# Statsmodel api does not add a constant by default. We need to add it explicitly\n",
        "x_train = sm.add_constant(X_train)\n",
        "\n",
        "# Add constant to test data\n",
        "x_test = sm.add_constant(X_test)\n",
        "\n",
        "def build_ols_model(train):\n",
        "    \n",
        "    # Create the model\n",
        "    olsmodel = sm.OLS(y_train[\"Price_log\"], train)\n",
        "    \n",
        "    return olsmodel.fit()\n",
        "\n",
        "\n",
        "# Fit linear model on new dataset\n",
        "olsmodel1 = build_ols_model(x_train)\n",
        "\n",
        "print(olsmodel1.summary())"
      ]
    },
    {
      "cell_type": "code",
      "execution_count": null,
      "metadata": {
        "id": "C01l5EucVL3i"
      },
      "outputs": [],
      "source": [
        "# Retrive Coeff values, p-values and store them in the dataframe\n",
        "olsmod = pd.DataFrame(olsmodel1.params, columns = ['coef'])\n",
        "\n",
        "olsmod['pval'] = olsmodel1.pvalues"
      ]
    },
    {
      "cell_type": "code",
      "execution_count": null,
      "metadata": {
        "id": "FbQQZacV9WMm",
        "colab": {
          "base_uri": "https://localhost:8080/",
          "height": 488
        },
        "outputId": "150261c7-6965-4b8f-f171-4fca52ad471d"
      },
      "outputs": [
        {
          "output_type": "execute_result",
          "data": {
            "text/plain": [
              "                                 coef           pval\n",
              "Owner_Type_Second           -0.034413   4.721708e-02\n",
              "Owner_Type_Fourth & Above    0.269942   4.087352e-02\n",
              "Location_Hyderabad           0.084380   1.338210e-02\n",
              "Location_Bangalore           0.097185   1.129573e-02\n",
              "Fuel_Type_Diesel             0.206867   7.623691e-04\n",
              "Owner_Type_Third            -0.183034   3.234403e-05\n",
              "Location_Kolkata            -0.197183   3.852203e-08\n",
              "kilometers_driven_log       -0.062374   7.489004e-09\n",
              "Mileage                     -0.012854   3.611786e-10\n",
              "Engine                       0.000193   1.343730e-12\n",
              "Transmission_Manual         -0.254023   4.105840e-46\n",
              "Power                        0.005656   7.194820e-88\n",
              "const                     -196.769696  3.280578e-265\n",
              "Year                         0.098666  3.633520e-273"
            ],
            "text/html": [
              "\n",
              "  <div id=\"df-10b3da15-66e2-4fbf-acba-cf901fbfc5ac\">\n",
              "    <div class=\"colab-df-container\">\n",
              "      <div>\n",
              "<style scoped>\n",
              "    .dataframe tbody tr th:only-of-type {\n",
              "        vertical-align: middle;\n",
              "    }\n",
              "\n",
              "    .dataframe tbody tr th {\n",
              "        vertical-align: top;\n",
              "    }\n",
              "\n",
              "    .dataframe thead th {\n",
              "        text-align: right;\n",
              "    }\n",
              "</style>\n",
              "<table border=\"1\" class=\"dataframe\">\n",
              "  <thead>\n",
              "    <tr style=\"text-align: right;\">\n",
              "      <th></th>\n",
              "      <th>coef</th>\n",
              "      <th>pval</th>\n",
              "    </tr>\n",
              "  </thead>\n",
              "  <tbody>\n",
              "    <tr>\n",
              "      <th>Owner_Type_Second</th>\n",
              "      <td>-0.034413</td>\n",
              "      <td>4.721708e-02</td>\n",
              "    </tr>\n",
              "    <tr>\n",
              "      <th>Owner_Type_Fourth &amp; Above</th>\n",
              "      <td>0.269942</td>\n",
              "      <td>4.087352e-02</td>\n",
              "    </tr>\n",
              "    <tr>\n",
              "      <th>Location_Hyderabad</th>\n",
              "      <td>0.084380</td>\n",
              "      <td>1.338210e-02</td>\n",
              "    </tr>\n",
              "    <tr>\n",
              "      <th>Location_Bangalore</th>\n",
              "      <td>0.097185</td>\n",
              "      <td>1.129573e-02</td>\n",
              "    </tr>\n",
              "    <tr>\n",
              "      <th>Fuel_Type_Diesel</th>\n",
              "      <td>0.206867</td>\n",
              "      <td>7.623691e-04</td>\n",
              "    </tr>\n",
              "    <tr>\n",
              "      <th>Owner_Type_Third</th>\n",
              "      <td>-0.183034</td>\n",
              "      <td>3.234403e-05</td>\n",
              "    </tr>\n",
              "    <tr>\n",
              "      <th>Location_Kolkata</th>\n",
              "      <td>-0.197183</td>\n",
              "      <td>3.852203e-08</td>\n",
              "    </tr>\n",
              "    <tr>\n",
              "      <th>kilometers_driven_log</th>\n",
              "      <td>-0.062374</td>\n",
              "      <td>7.489004e-09</td>\n",
              "    </tr>\n",
              "    <tr>\n",
              "      <th>Mileage</th>\n",
              "      <td>-0.012854</td>\n",
              "      <td>3.611786e-10</td>\n",
              "    </tr>\n",
              "    <tr>\n",
              "      <th>Engine</th>\n",
              "      <td>0.000193</td>\n",
              "      <td>1.343730e-12</td>\n",
              "    </tr>\n",
              "    <tr>\n",
              "      <th>Transmission_Manual</th>\n",
              "      <td>-0.254023</td>\n",
              "      <td>4.105840e-46</td>\n",
              "    </tr>\n",
              "    <tr>\n",
              "      <th>Power</th>\n",
              "      <td>0.005656</td>\n",
              "      <td>7.194820e-88</td>\n",
              "    </tr>\n",
              "    <tr>\n",
              "      <th>const</th>\n",
              "      <td>-196.769696</td>\n",
              "      <td>3.280578e-265</td>\n",
              "    </tr>\n",
              "    <tr>\n",
              "      <th>Year</th>\n",
              "      <td>0.098666</td>\n",
              "      <td>3.633520e-273</td>\n",
              "    </tr>\n",
              "  </tbody>\n",
              "</table>\n",
              "</div>\n",
              "      <button class=\"colab-df-convert\" onclick=\"convertToInteractive('df-10b3da15-66e2-4fbf-acba-cf901fbfc5ac')\"\n",
              "              title=\"Convert this dataframe to an interactive table.\"\n",
              "              style=\"display:none;\">\n",
              "        \n",
              "  <svg xmlns=\"http://www.w3.org/2000/svg\" height=\"24px\"viewBox=\"0 0 24 24\"\n",
              "       width=\"24px\">\n",
              "    <path d=\"M0 0h24v24H0V0z\" fill=\"none\"/>\n",
              "    <path d=\"M18.56 5.44l.94 2.06.94-2.06 2.06-.94-2.06-.94-.94-2.06-.94 2.06-2.06.94zm-11 1L8.5 8.5l.94-2.06 2.06-.94-2.06-.94L8.5 2.5l-.94 2.06-2.06.94zm10 10l.94 2.06.94-2.06 2.06-.94-2.06-.94-.94-2.06-.94 2.06-2.06.94z\"/><path d=\"M17.41 7.96l-1.37-1.37c-.4-.4-.92-.59-1.43-.59-.52 0-1.04.2-1.43.59L10.3 9.45l-7.72 7.72c-.78.78-.78 2.05 0 2.83L4 21.41c.39.39.9.59 1.41.59.51 0 1.02-.2 1.41-.59l7.78-7.78 2.81-2.81c.8-.78.8-2.07 0-2.86zM5.41 20L4 18.59l7.72-7.72 1.47 1.35L5.41 20z\"/>\n",
              "  </svg>\n",
              "      </button>\n",
              "      \n",
              "  <style>\n",
              "    .colab-df-container {\n",
              "      display:flex;\n",
              "      flex-wrap:wrap;\n",
              "      gap: 12px;\n",
              "    }\n",
              "\n",
              "    .colab-df-convert {\n",
              "      background-color: #E8F0FE;\n",
              "      border: none;\n",
              "      border-radius: 50%;\n",
              "      cursor: pointer;\n",
              "      display: none;\n",
              "      fill: #1967D2;\n",
              "      height: 32px;\n",
              "      padding: 0 0 0 0;\n",
              "      width: 32px;\n",
              "    }\n",
              "\n",
              "    .colab-df-convert:hover {\n",
              "      background-color: #E2EBFA;\n",
              "      box-shadow: 0px 1px 2px rgba(60, 64, 67, 0.3), 0px 1px 3px 1px rgba(60, 64, 67, 0.15);\n",
              "      fill: #174EA6;\n",
              "    }\n",
              "\n",
              "    [theme=dark] .colab-df-convert {\n",
              "      background-color: #3B4455;\n",
              "      fill: #D2E3FC;\n",
              "    }\n",
              "\n",
              "    [theme=dark] .colab-df-convert:hover {\n",
              "      background-color: #434B5C;\n",
              "      box-shadow: 0px 1px 3px 1px rgba(0, 0, 0, 0.15);\n",
              "      filter: drop-shadow(0px 1px 2px rgba(0, 0, 0, 0.3));\n",
              "      fill: #FFFFFF;\n",
              "    }\n",
              "  </style>\n",
              "\n",
              "      <script>\n",
              "        const buttonEl =\n",
              "          document.querySelector('#df-10b3da15-66e2-4fbf-acba-cf901fbfc5ac button.colab-df-convert');\n",
              "        buttonEl.style.display =\n",
              "          google.colab.kernel.accessAllowed ? 'block' : 'none';\n",
              "\n",
              "        async function convertToInteractive(key) {\n",
              "          const element = document.querySelector('#df-10b3da15-66e2-4fbf-acba-cf901fbfc5ac');\n",
              "          const dataTable =\n",
              "            await google.colab.kernel.invokeFunction('convertToInteractive',\n",
              "                                                     [key], {});\n",
              "          if (!dataTable) return;\n",
              "\n",
              "          const docLinkHtml = 'Like what you see? Visit the ' +\n",
              "            '<a target=\"_blank\" href=https://colab.research.google.com/notebooks/data_table.ipynb>data table notebook</a>'\n",
              "            + ' to learn more about interactive tables.';\n",
              "          element.innerHTML = '';\n",
              "          dataTable['output_type'] = 'display_data';\n",
              "          await google.colab.output.renderOutput(dataTable, element);\n",
              "          const docLink = document.createElement('div');\n",
              "          docLink.innerHTML = docLinkHtml;\n",
              "          element.appendChild(docLink);\n",
              "        }\n",
              "      </script>\n",
              "    </div>\n",
              "  </div>\n",
              "  "
            ]
          },
          "metadata": {},
          "execution_count": 59
        }
      ],
      "source": [
        "# Filter by significant p-value (pval <= 0.05) and sort descending by Odds ratio\n",
        "\n",
        "olsmod = olsmod.sort_values(by = \"pval\", ascending = False)\n",
        "\n",
        "pval_filter = olsmod['pval']<= 0.05\n",
        "\n",
        "olsmod[pval_filter]"
      ]
    },
    {
      "cell_type": "code",
      "execution_count": null,
      "metadata": {
        "id": "yjplRhssIrdC",
        "colab": {
          "base_uri": "https://localhost:8080/"
        },
        "outputId": "fad6d200-81f9-4120-ae96-dbda55743bfa"
      },
      "outputs": [
        {
          "output_type": "stream",
          "name": "stdout",
          "text": [
            "\u001b[1mMost overall significant categorical varaibles of LINEAR REGRESSION  are \u001b[95m :\n",
            " ['Owner_Type', 'Location', 'Fuel_Type', 'kilometers_driven_log', 'Mileage', 'Engine', 'Transmission', 'Power', 'Year']\n"
          ]
        }
      ],
      "source": [
        "# We are looking are overall significant varaible\n",
        "\n",
        "pval_filter = olsmod['pval']<= 0.05\n",
        "imp_vars = olsmod[pval_filter].index.tolist()\n",
        "\n",
        "# We are going to get overall varaibles (un-one-hot encoded varables) from categorical varaibles\n",
        "sig_var = []\n",
        "for col in imp_vars:\n",
        "    if '' in col:\n",
        "        first_part = col.split('_')[0]\n",
        "        for c in data.columns:\n",
        "            if first_part in c and c not in sig_var :\n",
        "                sig_var.append(c)\n",
        "\n",
        "                \n",
        "start = '\\033[1m'\n",
        "end = '\\033[95m'\n",
        "print(start+ 'Most overall significant categorical varaibles of LINEAR REGRESSION  are ' +end,':\\n', sig_var)"
      ]
    },
    {
      "cell_type": "markdown",
      "metadata": {
        "id": "5uubmKLlVL3j"
      },
      "source": [
        "**Build Ridge / Lasso Regression similar to Linear Regression:**<br>\n"
      ]
    },
    {
      "cell_type": "code",
      "execution_count": null,
      "metadata": {
        "id": "9--bgDNhVL3j"
      },
      "outputs": [],
      "source": [
        "# Import Ridge/ Lasso Regression from sklearn\n",
        "from sklearn.linear_model import Ridge\n",
        "\n",
        "from sklearn.linear_model import Lasso"
      ]
    },
    {
      "cell_type": "code",
      "execution_count": null,
      "metadata": {
        "id": "TwSuk8Q9VL3j"
      },
      "outputs": [],
      "source": [
        "# Create a Ridge regression model\n",
        "ridge=Ridge()"
      ]
    },
    {
      "cell_type": "code",
      "execution_count": null,
      "metadata": {
        "id": "5cWh1QK0VL3j",
        "colab": {
          "base_uri": "https://localhost:8080/"
        },
        "outputId": "3dbf333b-408a-43d1-a620-808c39ec588e"
      },
      "outputs": [
        {
          "output_type": "execute_result",
          "data": {
            "text/plain": [
              "Ridge()"
            ]
          },
          "metadata": {},
          "execution_count": 63
        }
      ],
      "source": [
        "# Fit Ridge regression model\n",
        "ridge.fit(X_train, y_train['Price_log'])"
      ]
    },
    {
      "cell_type": "code",
      "execution_count": null,
      "metadata": {
        "id": "c2tIACYOVL3j",
        "colab": {
          "base_uri": "https://localhost:8080/"
        },
        "outputId": "ac11047c-d980-481f-c811-58154b074054"
      },
      "outputs": [
        {
          "output_type": "stream",
          "name": "stdout",
          "text": [
            "R-sqaure on training set :  0.5772466051562417\n",
            "R-square on test set :  0.6967916648926751\n",
            "RMSE on training set :  6.6655989713086825\n",
            "RMSE on test set :  5.682444970321453\n"
          ]
        }
      ],
      "source": [
        "# Get score of the model\n",
        "Ridge_model=get_model_score(ridge)"
      ]
    },
    {
      "cell_type": "markdown",
      "metadata": {
        "id": "_kzAm4wdbfjg"
      },
      "source": [
        "**Observations from results:**\n",
        "* We can observe that the R-square on testing data is higher than that on training set, which means the testing set can explain more on variation than training set. Training set in Ridge model can only explain 57% of variation in the dependent variable; testing set can explain 69% of the variation in the dependent variable.\n",
        "* The RMSE value is relatively lower on test set, which means the accuracy on testing set is higher than training set. \n",
        "* The overfitting problem still exists. The ridge regression model performed similiar with the linear regression model. "
      ]
    },
    {
      "cell_type": "markdown",
      "metadata": {
        "id": "owyg5IpstOS9"
      },
      "source": [
        "### **Decision Tree** \n",
        "\n",
        "https://scikit-learn.org/stable/auto_examples/tree/plot_tree_regression.html"
      ]
    },
    {
      "cell_type": "code",
      "execution_count": null,
      "metadata": {
        "id": "GjZeRER6VL3k"
      },
      "outputs": [],
      "source": [
        "# Import Decision tree for Regression from sklearn\n",
        "from sklearn.tree import DecisionTreeRegressor"
      ]
    },
    {
      "cell_type": "code",
      "execution_count": null,
      "metadata": {
        "id": "shBet9WztOS-"
      },
      "outputs": [],
      "source": [
        "# Create a decision tree regression model, use random_state = 1\n",
        "dtree = DecisionTreeRegressor(random_state = 1)"
      ]
    },
    {
      "cell_type": "code",
      "execution_count": null,
      "metadata": {
        "id": "eJxVYVXXtOS-",
        "colab": {
          "base_uri": "https://localhost:8080/"
        },
        "outputId": "1aec3a6a-4bc6-4b66-a573-1dcbcb7e89c9"
      },
      "outputs": [
        {
          "output_type": "execute_result",
          "data": {
            "text/plain": [
              "DecisionTreeRegressor(random_state=1)"
            ]
          },
          "metadata": {},
          "execution_count": 68
        }
      ],
      "source": [
        "# Fit decision tree regression model\n",
        "dtree.fit(X_train, y_train['Price_log'])"
      ]
    },
    {
      "cell_type": "code",
      "execution_count": null,
      "metadata": {
        "id": "vGbEjda0tOS-",
        "colab": {
          "base_uri": "https://localhost:8080/"
        },
        "outputId": "4f3b04c2-cccb-4611-93a2-cbb937f94622"
      },
      "outputs": [
        {
          "output_type": "stream",
          "name": "stdout",
          "text": [
            "R-sqaure on training set :  0.999911010450209\n",
            "R-square on test set :  0.5428271951902941\n",
            "RMSE on training set :  0.0967086084337858\n",
            "RMSE on test set :  6.97758064876294\n"
          ]
        }
      ],
      "source": [
        "# Get score of the model\n",
        "Dtree_model = get_model_score(dtree)"
      ]
    },
    {
      "cell_type": "markdown",
      "metadata": {
        "id": "UrCgLVKwtOS-"
      },
      "source": [
        "**Observations from results:**\n",
        "\n",
        "* The training set in decision tree model can explain 99.9% of variation in the dependent variable. However,the testing set can only explain 54% of variation.\n",
        "* The RMSE value is pretty low on training set, which means the accuracy in training is high. However, in the testing set RMSE increased a lot. We can say the decision tree model does not perform well compared with other models. "
      ]
    },
    {
      "cell_type": "markdown",
      "metadata": {
        "id": "6z2V0IwtVL3k"
      },
      "source": [
        "Print the importance of features in the tree building. The importance of a feature is computed as the (normalized) total reduction of the criterion brought by that feature. It is also known as the Gini importance.\n"
      ]
    },
    {
      "cell_type": "code",
      "execution_count": null,
      "metadata": {
        "id": "E8ro_i9vIrdF",
        "colab": {
          "base_uri": "https://localhost:8080/"
        },
        "outputId": "cdb52470-9ce0-4631-9bd3-a4542ae1198b"
      },
      "outputs": [
        {
          "output_type": "stream",
          "name": "stdout",
          "text": [
            "                                Imp\n",
            "Power                      0.537706\n",
            "Year                       0.209617\n",
            "kilometers_driven_log      0.067192\n",
            "Engine                     0.054386\n",
            "Mileage                    0.039946\n",
            "New_price                  0.017206\n",
            "Transmission_Manual        0.008550\n",
            "Location_Kolkata           0.006714\n",
            "Seats                      0.006694\n",
            "Location_Coimbatore        0.006345\n",
            "Owner_Type_Second          0.005572\n",
            "Location_Hyderabad         0.005274\n",
            "Location_Pune              0.004487\n",
            "Fuel_Type_Diesel           0.004369\n",
            "Location_Delhi             0.004089\n",
            "Location_Mumbai            0.003841\n",
            "Location_Kochi             0.003695\n",
            "Location_Bangalore         0.003644\n",
            "Location_Jaipur            0.003112\n",
            "Location_Chennai           0.002725\n",
            "Fuel_Type_Petrol           0.001981\n",
            "Owner_Type_Third           0.001676\n",
            "Owner_Type_Fourth & Above  0.001165\n",
            "Fuel_Type_LPG              0.000014\n",
            "Fuel_Type_Electric         0.000000\n"
          ]
        }
      ],
      "source": [
        "print(pd.DataFrame(dtree.feature_importances_, columns = [\"Imp\"], index = X_train.columns).sort_values(by = 'Imp', ascending = False))"
      ]
    },
    {
      "cell_type": "markdown",
      "metadata": {
        "id": "m9P0pzHHIrdG"
      },
      "source": [
        "**Observations and insights:**\n",
        "\n",
        "* Power, Year, Kilometers_driven_log, Engine, Mileage are the most important features followed by new_price and transmission.\n",
        "* The rest of variables have no significant impact in decision tree model to predict the used car prices."
      ]
    },
    {
      "cell_type": "markdown",
      "metadata": {
        "id": "q8eFynaNtOS-"
      },
      "source": [
        "### **Random Forest**\n"
      ]
    },
    {
      "cell_type": "code",
      "execution_count": null,
      "metadata": {
        "id": "Jhw-0FsNVL3l"
      },
      "outputs": [],
      "source": [
        "# Import Randomforest for Regression from sklearn\n",
        "from sklearn.ensemble import RandomForestRegressor\n"
      ]
    },
    {
      "cell_type": "code",
      "execution_count": null,
      "metadata": {
        "id": "-4S4FoDXtOS-"
      },
      "outputs": [],
      "source": [
        "# Create a Randomforest regression model \n",
        "random_forest = RandomForestRegressor(n_estimators = 100, random_state = 1)"
      ]
    },
    {
      "cell_type": "code",
      "execution_count": null,
      "metadata": {
        "id": "gBlavhMTtOS-",
        "colab": {
          "base_uri": "https://localhost:8080/"
        },
        "outputId": "b1394a34-bd84-4b65-d2a2-f1d06f316dd3"
      },
      "outputs": [
        {
          "output_type": "execute_result",
          "data": {
            "text/plain": [
              "RandomForestRegressor(random_state=1)"
            ]
          },
          "metadata": {},
          "execution_count": 73
        }
      ],
      "source": [
        "# Fit Randomforest regression model\n",
        "random_forest.fit(X_train, y_train['Price_log'])"
      ]
    },
    {
      "cell_type": "code",
      "execution_count": null,
      "metadata": {
        "id": "VLDDeeAGtOS_",
        "colab": {
          "base_uri": "https://localhost:8080/"
        },
        "outputId": "8f445711-7355-4417-bae4-fd66c16efb8f"
      },
      "outputs": [
        {
          "output_type": "stream",
          "name": "stdout",
          "text": [
            "R-sqaure on training set :  0.9250754655808493\n",
            "R-square on test set :  0.6686668787476377\n",
            "RMSE on training set :  2.806129153680012\n",
            "RMSE on test set :  5.940145687944818\n"
          ]
        }
      ],
      "source": [
        "# Get score of the model\n",
        "random_forest_model = get_model_score(random_forest)"
      ]
    },
    {
      "cell_type": "markdown",
      "metadata": {
        "id": "ZGNTRfaitOS_"
      },
      "source": [
        "**Observations and insights:**\n",
        "\n",
        "* R-squared in training set can explain 93% of variation in dependent variable. However, it is lower in testing set compared with that in training set. It can only explain 67% of the variation in dependent variable.\n",
        "* The RMSE value in test set is higher than that in training set, which means there are more errors in test set compared with training set. \n",
        "* Compared with decision tree model, the performance of the random forest model has improved. Let's see the other models performance. "
      ]
    },
    {
      "cell_type": "markdown",
      "metadata": {
        "id": "pgwyNxUuIrdG"
      },
      "source": [
        "**Feature Importance**"
      ]
    },
    {
      "cell_type": "code",
      "execution_count": null,
      "metadata": {
        "id": "AWRS7zISIrdG",
        "colab": {
          "base_uri": "https://localhost:8080/"
        },
        "outputId": "d2e7721d-391d-44d9-d01a-cac6771be214"
      },
      "outputs": [
        {
          "output_type": "stream",
          "name": "stdout",
          "text": [
            "                                Imp\n",
            "Power                      0.543375\n",
            "Year                       0.204304\n",
            "kilometers_driven_log      0.068297\n",
            "Engine                     0.053042\n",
            "Mileage                    0.040320\n",
            "New_price                  0.015652\n",
            "Seats                      0.007591\n",
            "Transmission_Manual        0.006851\n",
            "Location_Kolkata           0.006361\n",
            "Location_Coimbatore        0.005932\n",
            "Location_Hyderabad         0.005727\n",
            "Owner_Type_Second          0.004967\n",
            "Location_Mumbai            0.004921\n",
            "Location_Kochi             0.004368\n",
            "Location_Delhi             0.004160\n",
            "Location_Pune              0.003967\n",
            "Location_Bangalore         0.003967\n",
            "Fuel_Type_Diesel           0.003470\n",
            "Fuel_Type_Petrol           0.003211\n",
            "Location_Jaipur            0.003107\n",
            "Location_Chennai           0.003091\n",
            "Owner_Type_Third           0.002036\n",
            "Owner_Type_Fourth & Above  0.001226\n",
            "Fuel_Type_LPG              0.000060\n",
            "Fuel_Type_Electric         0.000000\n"
          ]
        }
      ],
      "source": [
        "# Print important features similar to decision trees\n",
        "print(pd.DataFrame(random_forest.feature_importances_, columns = [\"Imp\"], index = X_train.columns).sort_values(by = 'Imp', ascending = False))"
      ]
    },
    {
      "cell_type": "markdown",
      "metadata": {
        "id": "cG9ZD9ozIrdH"
      },
      "source": [
        "**Observations and insights:**\n",
        "\n",
        "* Power, year, kilometers_driven, engine, mileage, new_price are the most important features in the random forest model.\n",
        "* The rest of variables have no significant impact in decision tree model to predict the used car prices."
      ]
    },
    {
      "cell_type": "markdown",
      "metadata": {
        "id": "sw0dMSgetOS_"
      },
      "source": [
        "### **Hyperparameter Tuning: Decision Tree**"
      ]
    },
    {
      "cell_type": "code",
      "source": [
        "from sklearn.metrics import recall_score\n",
        "from sklearn.model_selection import GridSearchCV\n",
        "from sklearn.tree import DecisionTreeRegressor"
      ],
      "metadata": {
        "id": "S1xxkTCE5LHi"
      },
      "execution_count": null,
      "outputs": []
    },
    {
      "cell_type": "code",
      "execution_count": null,
      "metadata": {
        "id": "4eF0aYHHtOS_",
        "colab": {
          "base_uri": "https://localhost:8080/"
        },
        "outputId": "6353f694-d640-444f-fca8-dce4d54bb042"
      },
      "outputs": [
        {
          "output_type": "execute_result",
          "data": {
            "text/plain": [
              "DecisionTreeRegressor(max_depth=6, min_samples_leaf=5, random_state=1)"
            ]
          },
          "metadata": {},
          "execution_count": 82
        }
      ],
      "source": [
        "# Choose the type of estimator \n",
        "dtree_tuned = DecisionTreeRegressor(random_state = 1)\n",
        "\n",
        "# Grid of parameters to choose from\n",
        "# Check documentation for all the parametrs that the model takes and play with those\n",
        "parameters = {'max_depth': np.arange(2, 8), \n",
        "              \n",
        "              'min_samples_leaf': [1, 3, 5, 7],\n",
        "              \n",
        "              'max_leaf_nodes': [2, 5, 7] + [None]\n",
        "             }\n",
        "# Type of scoring used to compare parameter combinations\n",
        "scorer = metrics.make_scorer(metrics.r2_score)\n",
        "\n",
        "# Run the grid search\n",
        "grid_obj = GridSearchCV(dtree_tuned, parameters, scoring = scorer, cv = 5)\n",
        "grid_obj = grid_obj.fit(X_train, y_train['Price_log'])\n",
        "\n",
        "# Set the model to the best combination of parameters\n",
        "dtree_tuned = grid_obj.best_estimator_\n",
        "\n",
        "# Fit the best algorithm to the data\n",
        "dtree_tuned.fit(X_train, y_train['Price_log'])"
      ]
    },
    {
      "cell_type": "code",
      "execution_count": null,
      "metadata": {
        "id": "hctfJIAXtOS_",
        "colab": {
          "base_uri": "https://localhost:8080/"
        },
        "outputId": "b6210f97-ab6b-4af4-b6e9-5c53e8b9c261"
      },
      "outputs": [
        {
          "output_type": "stream",
          "name": "stdout",
          "text": [
            "R-sqaure on training set :  0.6845940730513687\n",
            "R-square on test set :  0.6612778797509016\n",
            "RMSE on training set :  5.75745502879963\n",
            "RMSE on test set :  6.006015523307125\n"
          ]
        }
      ],
      "source": [
        "# Get score of the dtree_tuned\n",
        "dtree_tuned_model = get_model_score(dtree_tuned)"
      ]
    },
    {
      "cell_type": "markdown",
      "metadata": {
        "id": "UsGmvq1StOS_"
      },
      "source": [
        "**Observations and insights:**\n",
        "\n",
        "* The RMSE value on test sets is slightly higher than than on training set, which means the accuracy of test set is lower than that in training set. So we might be get better performance if we increase the complexity of the model.\n",
        "* Compared with the previous model, tuned decison tree model performed well. Let's see the performance of other models."
      ]
    },
    {
      "cell_type": "markdown",
      "metadata": {
        "id": "5jssEF5eIrdH"
      },
      "source": [
        "**Feature Importance**"
      ]
    },
    {
      "cell_type": "code",
      "execution_count": null,
      "metadata": {
        "id": "OdzQWq8WtOTA",
        "colab": {
          "base_uri": "https://localhost:8080/"
        },
        "outputId": "e8c44dc3-6438-40a8-c646-5426443faacf"
      },
      "outputs": [
        {
          "output_type": "stream",
          "name": "stdout",
          "text": [
            "                                Imp\n",
            "Power                      0.675163\n",
            "Year                       0.250392\n",
            "Engine                     0.043708\n",
            "Mileage                    0.010727\n",
            "Transmission_Manual        0.007291\n",
            "kilometers_driven_log      0.005311\n",
            "Fuel_Type_Diesel           0.002064\n",
            "Seats                      0.001733\n",
            "Location_Kolkata           0.001542\n",
            "New_price                  0.001206\n",
            "Owner_Type_Third           0.000863\n",
            "Location_Hyderabad         0.000000\n",
            "Location_Delhi             0.000000\n",
            "Location_Kochi             0.000000\n",
            "Location_Coimbatore        0.000000\n",
            "Location_Mumbai            0.000000\n",
            "Location_Pune              0.000000\n",
            "Location_Chennai           0.000000\n",
            "Fuel_Type_Electric         0.000000\n",
            "Fuel_Type_LPG              0.000000\n",
            "Fuel_Type_Petrol           0.000000\n",
            "Location_Bangalore         0.000000\n",
            "Owner_Type_Fourth & Above  0.000000\n",
            "Owner_Type_Second          0.000000\n",
            "Location_Jaipur            0.000000\n"
          ]
        }
      ],
      "source": [
        "# Print important features of tuned decision tree similar to decision trees\n",
        "print(pd.DataFrame(dtree_tuned.feature_importances_, columns = [\"Imp\"], index = X_train.columns).sort_values(by = 'Imp', ascending = False))"
      ]
    },
    {
      "cell_type": "markdown",
      "metadata": {
        "id": "-r8AR_VotOTB"
      },
      "source": [
        "**Observations and insights:**\n",
        "* Power, year, engine, mileage are the most important features in the tuned decision tree model.\n",
        "* The rest of variables have no significant impact in tuned decision tree model to predict the used car prices."
      ]
    },
    {
      "cell_type": "markdown",
      "metadata": {
        "id": "18uxHTy2tOTB"
      },
      "source": [
        "### **Hyperparameter Tuning: Random Forest**"
      ]
    },
    {
      "cell_type": "code",
      "execution_count": null,
      "metadata": {
        "id": "4P_Mj0JYtOTC",
        "colab": {
          "base_uri": "https://localhost:8080/"
        },
        "outputId": "e181fa62-4591-4312-ab28-cfb54bbd7a59"
      },
      "outputs": [
        {
          "output_type": "execute_result",
          "data": {
            "text/plain": [
              "RandomForestRegressor(max_depth=7, max_features=0.8, n_estimators=110,\n",
              "                      random_state=1)"
            ]
          },
          "metadata": {},
          "execution_count": 87
        }
      ],
      "source": [
        "# Choose the type of Regressor\n",
        "rf_tuned = RandomForestRegressor(random_state = 1)\n",
        "\n",
        "# Define the parameters for Grid to choose from \n",
        "parameters = {\"n_estimators\": [110, 120],\n",
        "              \n",
        "    \"max_depth\": [5, 7],\n",
        "              \n",
        "    \"max_features\": [0.8, 1]}\n",
        "\n",
        "# Check documentation for all the parametrs that the model takes and play with those\n",
        "\n",
        "# Type of scoring used to compare parameter combinations\n",
        "scorer = metrics.make_scorer((metrics.r2_score))\n",
        "\n",
        "# Run the grid search\n",
        "grid_obj = GridSearchCV(rf_tuned, parameters, scoring = scorer, cv = 5)\n",
        "\n",
        "grid_obj = grid_obj.fit(X_train, y_train['Price_log'])\n",
        "\n",
        "# Set the model to the best combination of parameters\n",
        "rf_tuned = grid_obj.best_estimator_\n",
        "\n",
        "# Fit the best algorithm to the data\n",
        "\n",
        "rf_tuned.fit(X_train, y_train['Price_log'])"
      ]
    },
    {
      "cell_type": "code",
      "execution_count": null,
      "metadata": {
        "id": "HSBtYgpctOTC",
        "colab": {
          "base_uri": "https://localhost:8080/"
        },
        "outputId": "4c9f7cd5-42b2-4415-e127-a509b3006af4"
      },
      "outputs": [
        {
          "output_type": "stream",
          "name": "stdout",
          "text": [
            "R-sqaure on training set :  0.7458787569709273\n",
            "R-square on test set :  0.6464209556735199\n",
            "RMSE on training set :  5.167923959419829\n",
            "RMSE on test set :  6.136319014384656\n"
          ]
        }
      ],
      "source": [
        "# Get score of the model\n",
        "rf_tuned_model = get_model_score(rf_tuned)"
      ]
    },
    {
      "cell_type": "markdown",
      "metadata": {
        "id": "a1WHqIX9tOTC"
      },
      "source": [
        "**Observations and insights:**\n",
        "* The RMSE value on test set slightly increased compared with training model, which means the test set have more errors than training set.\n",
        "* Compared with the previous models, tuned random forest does not perform well."
      ]
    },
    {
      "cell_type": "markdown",
      "metadata": {
        "id": "ItsgSUyiIrdI"
      },
      "source": [
        "**Feature Importance**"
      ]
    },
    {
      "cell_type": "code",
      "execution_count": null,
      "metadata": {
        "id": "9khvM2ZhtOTC",
        "colab": {
          "base_uri": "https://localhost:8080/"
        },
        "outputId": "127f916b-0cfb-4298-db3f-dc748a5e8366"
      },
      "outputs": [
        {
          "output_type": "stream",
          "name": "stdout",
          "text": [
            "                                Imp\n",
            "Power                      0.532676\n",
            "Year                       0.222353\n",
            "Engine                     0.157731\n",
            "kilometers_driven_log      0.023514\n",
            "Mileage                    0.017095\n",
            "Transmission_Manual        0.015715\n",
            "New_price                  0.007771\n",
            "Seats                      0.004454\n",
            "Fuel_Type_Diesel           0.003886\n",
            "Location_Kolkata           0.002388\n",
            "Fuel_Type_Petrol           0.002335\n",
            "Location_Coimbatore        0.001444\n",
            "Owner_Type_Third           0.001245\n",
            "Location_Kochi             0.001081\n",
            "Location_Hyderabad         0.001054\n",
            "Location_Pune              0.000888\n",
            "Location_Mumbai            0.000796\n",
            "Location_Bangalore         0.000783\n",
            "Owner_Type_Fourth & Above  0.000762\n",
            "Owner_Type_Second          0.000667\n",
            "Location_Chennai           0.000544\n",
            "Location_Jaipur            0.000455\n",
            "Location_Delhi             0.000363\n",
            "Fuel_Type_Electric         0.000000\n",
            "Fuel_Type_LPG              0.000000\n"
          ]
        }
      ],
      "source": [
        "# Print important features of tuned decision tree similar to decision trees\n",
        "print(pd.DataFrame(rf_tuned.feature_importances_, columns = [\"Imp\"], index = X_train.columns).sort_values(by = 'Imp', ascending = False))"
      ]
    },
    {
      "cell_type": "markdown",
      "metadata": {
        "id": "PBoHEXnjtOTC"
      },
      "source": [
        "**Observations and insights: ______**\n",
        "* Power, year, engine, kilometers_driven, mileage, transmission_manual are the most important features in tuned random forest model.\n",
        "* The rest of variables have no significant impact in tuned random forest model to predict the used car prices."
      ]
    },
    {
      "cell_type": "markdown",
      "source": [
        "**XGBoost**"
      ],
      "metadata": {
        "id": "JlSzpA2fV4gN"
      }
    },
    {
      "cell_type": "code",
      "source": [
        "!pip install xgboost"
      ],
      "metadata": {
        "colab": {
          "base_uri": "https://localhost:8080/"
        },
        "id": "euj85fRdV7tj",
        "outputId": "4697055b-cb5a-490f-af17-f5bd92384198"
      },
      "execution_count": null,
      "outputs": [
        {
          "output_type": "stream",
          "name": "stdout",
          "text": [
            "Looking in indexes: https://pypi.org/simple, https://us-python.pkg.dev/colab-wheels/public/simple/\n",
            "Requirement already satisfied: xgboost in /usr/local/lib/python3.7/dist-packages (0.90)\n",
            "Requirement already satisfied: scipy in /usr/local/lib/python3.7/dist-packages (from xgboost) (1.7.3)\n",
            "Requirement already satisfied: numpy in /usr/local/lib/python3.7/dist-packages (from xgboost) (1.21.6)\n"
          ]
        }
      ]
    },
    {
      "cell_type": "code",
      "source": [
        "import numpy as np\n",
        "import pandas as pd\n",
        "import xgboost as xg\n",
        "from sklearn.model_selection import train_test_split\n",
        "from sklearn.metrics import mean_squared_error as MSE"
      ],
      "metadata": {
        "id": "MOZYXw2LV-3Y"
      },
      "execution_count": null,
      "outputs": []
    },
    {
      "cell_type": "code",
      "source": [
        "from xgboost import XGBRegressor"
      ],
      "metadata": {
        "id": "0R85xa-cXK82"
      },
      "execution_count": null,
      "outputs": []
    },
    {
      "cell_type": "code",
      "source": [
        "xgb = XGBRegressor(random_state = 1)"
      ],
      "metadata": {
        "id": "L3xJtVHBV_BM"
      },
      "execution_count": null,
      "outputs": []
    },
    {
      "cell_type": "code",
      "source": [
        "xgb.fit(X_train, y_train['Price_log'])"
      ],
      "metadata": {
        "colab": {
          "base_uri": "https://localhost:8080/"
        },
        "id": "ixMBED1IV_GN",
        "outputId": "e99aaac6-4a90-475d-e372-c263a53f5740"
      },
      "execution_count": null,
      "outputs": [
        {
          "output_type": "stream",
          "name": "stdout",
          "text": [
            "[02:29:02] WARNING: /workspace/src/objective/regression_obj.cu:152: reg:linear is now deprecated in favor of reg:squarederror.\n"
          ]
        },
        {
          "output_type": "execute_result",
          "data": {
            "text/plain": [
              "XGBRegressor(random_state=1)"
            ]
          },
          "metadata": {},
          "execution_count": 94
        }
      ]
    },
    {
      "cell_type": "code",
      "source": [
        "xgb_model=get_model_score(xgb)"
      ],
      "metadata": {
        "colab": {
          "base_uri": "https://localhost:8080/"
        },
        "id": "9pIrawU1V_Nd",
        "outputId": "188c621c-e6af-4451-e63b-08d584895ea7"
      },
      "execution_count": null,
      "outputs": [
        {
          "output_type": "stream",
          "name": "stdout",
          "text": [
            "R-sqaure on training set :  0.7553106932322378\n",
            "R-square on test set :  0.6903946464921364\n",
            "RMSE on training set :  5.071111091352838\n",
            "RMSE on test set :  5.742075540190911\n"
          ]
        }
      ]
    },
    {
      "cell_type": "markdown",
      "source": [
        "**Observations:**\n",
        "* The train and the test scores are close to each other so we can say the model is not overfitting.\n",
        "* However, the test score is slightly better than train score. Compared with the previous models, the XGB model's performance have increased but it did not perform not that well."
      ],
      "metadata": {
        "id": "QOK4mPt9p1BQ"
      }
    },
    {
      "cell_type": "code",
      "source": [
        "print(pd.DataFrame(xgb.feature_importances_, columns = [\"Imp\"], index = X_train.columns).sort_values(by = 'Imp', ascending = False))"
      ],
      "metadata": {
        "colab": {
          "base_uri": "https://localhost:8080/"
        },
        "id": "T_6gd70HXXFL",
        "outputId": "2c87874b-140f-491a-fb08-3b8be7169dc5"
      },
      "execution_count": null,
      "outputs": [
        {
          "output_type": "stream",
          "name": "stdout",
          "text": [
            "                                Imp\n",
            "Transmission_Manual        0.278910\n",
            "Power                      0.229006\n",
            "Engine                     0.157106\n",
            "Year                       0.122645\n",
            "Fuel_Type_Diesel           0.060854\n",
            "Location_Kolkata           0.017182\n",
            "kilometers_driven_log      0.014051\n",
            "Owner_Type_Third           0.012574\n",
            "Location_Coimbatore        0.012472\n",
            "Seats                      0.011663\n",
            "Location_Kochi             0.011156\n",
            "Owner_Type_Fourth & Above  0.011072\n",
            "Location_Hyderabad         0.010698\n",
            "New_price                  0.010161\n",
            "Mileage                    0.009730\n",
            "Location_Bangalore         0.007382\n",
            "Owner_Type_Second          0.005415\n",
            "Location_Jaipur            0.003734\n",
            "Location_Pune              0.003685\n",
            "Location_Mumbai            0.003446\n",
            "Fuel_Type_Petrol           0.003188\n",
            "Location_Chennai           0.002005\n",
            "Location_Delhi             0.001865\n",
            "Fuel_Type_LPG              0.000000\n",
            "Fuel_Type_Electric         0.000000\n"
          ]
        }
      ]
    },
    {
      "cell_type": "markdown",
      "source": [
        "**Observations:**\n",
        "* Transmission_manual, power, engine, year, fuel_type_diesel are the most important features in the XGB model.\n",
        "* The rest of variables have no significant impact in XGB model to predict the used car prices.\n"
      ],
      "metadata": {
        "id": "MpWn4lKVkN2s"
      }
    },
    {
      "cell_type": "markdown",
      "source": [
        "**Hyperparameter Tuning: XGB**"
      ],
      "metadata": {
        "id": "1Ctb8pMNYS5d"
      }
    },
    {
      "cell_type": "code",
      "source": [
        "xgb_tuned = XGBRegressor(random_state = 1, silent=True)\n",
        "\n",
        "parameters = {'max_depth': np.arange(2, 8), \n",
        "              \n",
        "              'min_child_weight':[1, 3, 5, 7],\n",
        "\n",
        "               'gamma': [0.5, 1, 1.5, 2, 5]\n",
        "             }\n",
        "\n",
        "scorer = metrics.make_scorer((metrics.r2_score))\n",
        "\n",
        "grid_obj = GridSearchCV(xgb_tuned, parameters, scoring = scorer, cv = 5)\n",
        "grid_obj = grid_obj.fit(X_train, y_train['Price_log'])\n",
        "\n",
        "\n",
        "xgb_tuned = grid_obj.best_estimator_\n",
        "\n",
        "\n",
        "xgb_tuned.fit(X_train, y_train['Price_log'])\n"
      ],
      "metadata": {
        "colab": {
          "base_uri": "https://localhost:8080/"
        },
        "id": "7FeWhNrGYdDs",
        "outputId": "1358c1d2-9310-46b9-b0b7-c6fa2d2cfc54"
      },
      "execution_count": null,
      "outputs": [
        {
          "output_type": "execute_result",
          "data": {
            "text/plain": [
              "XGBRegressor(gamma=0.5, max_depth=6, min_child_weight=7, random_state=1,\n",
              "             silent=True)"
            ]
          },
          "metadata": {},
          "execution_count": 98
        }
      ]
    },
    {
      "cell_type": "code",
      "source": [
        "# Get score of the model\n",
        "xgb_tuned_model = get_model_score(xgb_tuned)"
      ],
      "metadata": {
        "colab": {
          "base_uri": "https://localhost:8080/"
        },
        "id": "38pFV-KRYdI5",
        "outputId": "106406bc-e36a-4741-aab9-ddfdd2dfa776"
      },
      "execution_count": null,
      "outputs": [
        {
          "output_type": "stream",
          "name": "stdout",
          "text": [
            "R-sqaure on training set :  0.8264594603544035\n",
            "R-square on test set :  0.7215110695725262\n",
            "RMSE on training set :  4.270670854526254\n",
            "RMSE on test set :  5.4458871719713535\n"
          ]
        }
      ]
    },
    {
      "cell_type": "markdown",
      "source": [
        "**Observations:**\n",
        "* The value of RMSE in tuned XGB model is the lowest we got so far, which means the accuracy of tuned XGB model is the highest, compared with other models.\n",
        "* Besides, the R-square in tuned XGB is the highest compared with other models, which means tuned XGB model is the model that can explain the most variation in dependent variable.\n",
        "* We can say that tuned XGB model is the best model we got so far."
      ],
      "metadata": {
        "id": "_bsQgXQpq7Ds"
      }
    },
    {
      "cell_type": "code",
      "source": [
        "print(pd.DataFrame(xgb_tuned.feature_importances_, columns = [\"Imp\"], index = X_train.columns).sort_values(by = 'Imp', ascending = False))"
      ],
      "metadata": {
        "colab": {
          "base_uri": "https://localhost:8080/"
        },
        "id": "nSlkKRzoYdMy",
        "outputId": "cd1670e8-d09f-4454-d01b-a5c8a0c3d378"
      },
      "execution_count": null,
      "outputs": [
        {
          "output_type": "stream",
          "name": "stdout",
          "text": [
            "                                Imp\n",
            "Power                      0.330437\n",
            "Year                       0.173067\n",
            "Transmission_Manual        0.119200\n",
            "Engine                     0.069096\n",
            "Fuel_Type_Diesel           0.038558\n",
            "Location_Kochi             0.024864\n",
            "Location_Coimbatore        0.021477\n",
            "Owner_Type_Third           0.019520\n",
            "New_price                  0.019246\n",
            "Location_Kolkata           0.019108\n",
            "Seats                      0.018645\n",
            "kilometers_driven_log      0.018046\n",
            "Mileage                    0.017615\n",
            "Location_Hyderabad         0.015270\n",
            "Location_Jaipur            0.013795\n",
            "Location_Bangalore         0.013274\n",
            "Location_Mumbai            0.012786\n",
            "Location_Delhi             0.011558\n",
            "Owner_Type_Second          0.011519\n",
            "Location_Pune              0.010376\n",
            "Location_Chennai           0.009458\n",
            "Fuel_Type_Petrol           0.008333\n",
            "Owner_Type_Fourth & Above  0.004750\n",
            "Fuel_Type_LPG              0.000000\n",
            "Fuel_Type_Electric         0.000000\n"
          ]
        }
      ]
    },
    {
      "cell_type": "markdown",
      "source": [
        "**Observations:**\n",
        "* Power, year, transmission_manual, engine, fuel_type_diesel are the most important features in tuned XGB model.\n",
        "* The rest of variables have no significant impact in tuned XGB model to predict the used car prices."
      ],
      "metadata": {
        "id": "Dse0T5rgkfZG"
      }
    },
    {
      "cell_type": "code",
      "execution_count": null,
      "metadata": {
        "id": "DCInk4Y8tOTC"
      },
      "outputs": [],
      "source": [
        "# Defining list of models you have trained\n",
        "models = [lr, dtree, random_forest, xgb, dtree_tuned, rf_tuned, xgb_tuned]\n",
        "\n",
        "# Defining empty lists to add train and test results\n",
        "r2_train = []\n",
        "r2_test = []\n",
        "rmse_train = []\n",
        "rmse_test = []\n",
        "\n",
        "# Looping through all the models to get the rmse and r2 scores\n",
        "for model in models:\n",
        "    \n",
        "    # Accuracy score\n",
        "    j = get_model_score(model, False)\n",
        "    \n",
        "    r2_train.append(j[0])\n",
        "    \n",
        "    r2_test.append(j[1])\n",
        "    \n",
        "    rmse_train.append(j[2])\n",
        "    \n",
        "    rmse_test.append(j[3])"
      ]
    },
    {
      "cell_type": "code",
      "execution_count": null,
      "metadata": {
        "id": "zuLokC7xtOTD",
        "colab": {
          "base_uri": "https://localhost:8080/",
          "height": 269
        },
        "outputId": "2733d27d-afa5-418e-c2b8-7aff70612639"
      },
      "outputs": [
        {
          "output_type": "execute_result",
          "data": {
            "text/plain": [
              "                 Model  Train_r2   Test_r2  Train_RMSE  Test_RMSE\n",
              "0    Linear Regression  0.577416  0.696931    6.664267   5.681136\n",
              "1        Decision Tree  0.999911  0.542827    0.096709   6.977581\n",
              "2              XGBOOST  0.925075  0.668667    2.806129   5.940146\n",
              "3  Tuned Decision Tree  0.755311  0.690395    5.071111   5.742076\n",
              "4        Random Forest  0.684594  0.661278    5.757455   6.006016\n",
              "5  Tuned Random Forest  0.745879  0.646421    5.167924   6.136319\n",
              "6        Tuned XGBOOST  0.826459  0.721511    4.270671   5.445887"
            ],
            "text/html": [
              "\n",
              "  <div id=\"df-db93a6ab-024f-4318-97a3-40fd3d8cbb58\">\n",
              "    <div class=\"colab-df-container\">\n",
              "      <div>\n",
              "<style scoped>\n",
              "    .dataframe tbody tr th:only-of-type {\n",
              "        vertical-align: middle;\n",
              "    }\n",
              "\n",
              "    .dataframe tbody tr th {\n",
              "        vertical-align: top;\n",
              "    }\n",
              "\n",
              "    .dataframe thead th {\n",
              "        text-align: right;\n",
              "    }\n",
              "</style>\n",
              "<table border=\"1\" class=\"dataframe\">\n",
              "  <thead>\n",
              "    <tr style=\"text-align: right;\">\n",
              "      <th></th>\n",
              "      <th>Model</th>\n",
              "      <th>Train_r2</th>\n",
              "      <th>Test_r2</th>\n",
              "      <th>Train_RMSE</th>\n",
              "      <th>Test_RMSE</th>\n",
              "    </tr>\n",
              "  </thead>\n",
              "  <tbody>\n",
              "    <tr>\n",
              "      <th>0</th>\n",
              "      <td>Linear Regression</td>\n",
              "      <td>0.577416</td>\n",
              "      <td>0.696931</td>\n",
              "      <td>6.664267</td>\n",
              "      <td>5.681136</td>\n",
              "    </tr>\n",
              "    <tr>\n",
              "      <th>1</th>\n",
              "      <td>Decision Tree</td>\n",
              "      <td>0.999911</td>\n",
              "      <td>0.542827</td>\n",
              "      <td>0.096709</td>\n",
              "      <td>6.977581</td>\n",
              "    </tr>\n",
              "    <tr>\n",
              "      <th>2</th>\n",
              "      <td>XGBOOST</td>\n",
              "      <td>0.925075</td>\n",
              "      <td>0.668667</td>\n",
              "      <td>2.806129</td>\n",
              "      <td>5.940146</td>\n",
              "    </tr>\n",
              "    <tr>\n",
              "      <th>3</th>\n",
              "      <td>Tuned Decision Tree</td>\n",
              "      <td>0.755311</td>\n",
              "      <td>0.690395</td>\n",
              "      <td>5.071111</td>\n",
              "      <td>5.742076</td>\n",
              "    </tr>\n",
              "    <tr>\n",
              "      <th>4</th>\n",
              "      <td>Random Forest</td>\n",
              "      <td>0.684594</td>\n",
              "      <td>0.661278</td>\n",
              "      <td>5.757455</td>\n",
              "      <td>6.006016</td>\n",
              "    </tr>\n",
              "    <tr>\n",
              "      <th>5</th>\n",
              "      <td>Tuned Random Forest</td>\n",
              "      <td>0.745879</td>\n",
              "      <td>0.646421</td>\n",
              "      <td>5.167924</td>\n",
              "      <td>6.136319</td>\n",
              "    </tr>\n",
              "    <tr>\n",
              "      <th>6</th>\n",
              "      <td>Tuned XGBOOST</td>\n",
              "      <td>0.826459</td>\n",
              "      <td>0.721511</td>\n",
              "      <td>4.270671</td>\n",
              "      <td>5.445887</td>\n",
              "    </tr>\n",
              "  </tbody>\n",
              "</table>\n",
              "</div>\n",
              "      <button class=\"colab-df-convert\" onclick=\"convertToInteractive('df-db93a6ab-024f-4318-97a3-40fd3d8cbb58')\"\n",
              "              title=\"Convert this dataframe to an interactive table.\"\n",
              "              style=\"display:none;\">\n",
              "        \n",
              "  <svg xmlns=\"http://www.w3.org/2000/svg\" height=\"24px\"viewBox=\"0 0 24 24\"\n",
              "       width=\"24px\">\n",
              "    <path d=\"M0 0h24v24H0V0z\" fill=\"none\"/>\n",
              "    <path d=\"M18.56 5.44l.94 2.06.94-2.06 2.06-.94-2.06-.94-.94-2.06-.94 2.06-2.06.94zm-11 1L8.5 8.5l.94-2.06 2.06-.94-2.06-.94L8.5 2.5l-.94 2.06-2.06.94zm10 10l.94 2.06.94-2.06 2.06-.94-2.06-.94-.94-2.06-.94 2.06-2.06.94z\"/><path d=\"M17.41 7.96l-1.37-1.37c-.4-.4-.92-.59-1.43-.59-.52 0-1.04.2-1.43.59L10.3 9.45l-7.72 7.72c-.78.78-.78 2.05 0 2.83L4 21.41c.39.39.9.59 1.41.59.51 0 1.02-.2 1.41-.59l7.78-7.78 2.81-2.81c.8-.78.8-2.07 0-2.86zM5.41 20L4 18.59l7.72-7.72 1.47 1.35L5.41 20z\"/>\n",
              "  </svg>\n",
              "      </button>\n",
              "      \n",
              "  <style>\n",
              "    .colab-df-container {\n",
              "      display:flex;\n",
              "      flex-wrap:wrap;\n",
              "      gap: 12px;\n",
              "    }\n",
              "\n",
              "    .colab-df-convert {\n",
              "      background-color: #E8F0FE;\n",
              "      border: none;\n",
              "      border-radius: 50%;\n",
              "      cursor: pointer;\n",
              "      display: none;\n",
              "      fill: #1967D2;\n",
              "      height: 32px;\n",
              "      padding: 0 0 0 0;\n",
              "      width: 32px;\n",
              "    }\n",
              "\n",
              "    .colab-df-convert:hover {\n",
              "      background-color: #E2EBFA;\n",
              "      box-shadow: 0px 1px 2px rgba(60, 64, 67, 0.3), 0px 1px 3px 1px rgba(60, 64, 67, 0.15);\n",
              "      fill: #174EA6;\n",
              "    }\n",
              "\n",
              "    [theme=dark] .colab-df-convert {\n",
              "      background-color: #3B4455;\n",
              "      fill: #D2E3FC;\n",
              "    }\n",
              "\n",
              "    [theme=dark] .colab-df-convert:hover {\n",
              "      background-color: #434B5C;\n",
              "      box-shadow: 0px 1px 3px 1px rgba(0, 0, 0, 0.15);\n",
              "      filter: drop-shadow(0px 1px 2px rgba(0, 0, 0, 0.3));\n",
              "      fill: #FFFFFF;\n",
              "    }\n",
              "  </style>\n",
              "\n",
              "      <script>\n",
              "        const buttonEl =\n",
              "          document.querySelector('#df-db93a6ab-024f-4318-97a3-40fd3d8cbb58 button.colab-df-convert');\n",
              "        buttonEl.style.display =\n",
              "          google.colab.kernel.accessAllowed ? 'block' : 'none';\n",
              "\n",
              "        async function convertToInteractive(key) {\n",
              "          const element = document.querySelector('#df-db93a6ab-024f-4318-97a3-40fd3d8cbb58');\n",
              "          const dataTable =\n",
              "            await google.colab.kernel.invokeFunction('convertToInteractive',\n",
              "                                                     [key], {});\n",
              "          if (!dataTable) return;\n",
              "\n",
              "          const docLinkHtml = 'Like what you see? Visit the ' +\n",
              "            '<a target=\"_blank\" href=https://colab.research.google.com/notebooks/data_table.ipynb>data table notebook</a>'\n",
              "            + ' to learn more about interactive tables.';\n",
              "          element.innerHTML = '';\n",
              "          dataTable['output_type'] = 'display_data';\n",
              "          await google.colab.output.renderOutput(dataTable, element);\n",
              "          const docLink = document.createElement('div');\n",
              "          docLink.innerHTML = docLinkHtml;\n",
              "          element.appendChild(docLink);\n",
              "        }\n",
              "      </script>\n",
              "    </div>\n",
              "  </div>\n",
              "  "
            ]
          },
          "metadata": {},
          "execution_count": 102
        }
      ],
      "source": [
        "comparison_frame = pd.DataFrame({'Model':['Linear Regression','Decision Tree', 'XGBOOST','Tuned Decision Tree', 'Random Forest', 'Tuned Random Forest','Tuned XGBOOST'], \n",
        "                                          'Train_r2': r2_train,'Test_r2': r2_test,\n",
        "                                          'Train_RMSE': rmse_train,'Test_RMSE': rmse_test}) \n",
        "comparison_frame"
      ]
    },
    {
      "cell_type": "markdown",
      "metadata": {
        "id": "TZrq2E9VtOTD"
      },
      "source": [
        "**Observations:**\n",
        "\n",
        "* Linear regression model:\n",
        "\n",
        " * In general, the low errors given by RMSE represents a positive impression about the model's accuracy.\n",
        " * This suggested further investigation to improve the performance on general data.\n",
        "\n",
        "* Decision tree model:\n",
        " * The training set in decision tree model can explain 99.9% of variation in the dependent variable. However,the testing set can only explain 54% of variation.\n",
        " * The RMSE value is pretty low on training set, which means the accuracy in training is high. However, in the testing set RMSE increased a lot. We can say the decision tree model does not perform well compared with other models.\n",
        "\n",
        "\n",
        "* Tuned decision tree model:\n",
        " * The RMSE value on test sets is slightly higher than than on training set, which means the accuracy of test set is lower than that in training set. So we might be get better performance if we increase the complexity of the model.\n",
        " * Compared with the previous model, tuned decison tree model performed well. Let's see the performance of other models.\n",
        "\n",
        "* Random forest model:\n",
        " * R-squared in training set can explain 93% of variation in dependent variable. However, it is lower in testing set compared with that in training set. It can only explain 67% of the variation in dependent variable.\n",
        " * The RMSE value in test set is higher than that in training set, which means there are more errors in test set compared with training set. \n",
        " * Compared with decision tree model, the performance of the random forest model has improved. Let's see the other models performance. \n",
        "\n",
        "* Tuned random forest model:\n",
        " * The train and the test scores are close to each other so we can say the model is not overfitting.\n",
        " * However, the test score is slightly better than train score. Compared with the previous models, the XGB model's performance have increased but it did not perform not that well.\n",
        "\n",
        "* XGB:\n",
        " * The train and the test scores are close to each other so we can say the model is not overfitting.\n",
        " * However, the test score is slightly better than train score. Compared with the previous models, the XGB model's performance have increased but it did not perform not that well.\n",
        "\n",
        "\n",
        "* Tuned XGB:\n",
        " * The value of RMSE in tuned XGB model is the lowest we got so far, which means the accuracy of tuned XGB model is the highest, compared with other models.\n",
        " * Besides, the R-square in tuned XGB is the highest compared with other models, which means tuned XGB model is the model that can explain the most variation in dependent variable.\n",
        " * We can say that tuned XGB model is the best model we got so far.\n",
        "\n"
      ]
    },
    {
      "cell_type": "markdown",
      "source": [
        "## Conclusion and Recommendations:\n",
        "\n",
        "\n",
        "* We observed that the most critical variables affecting used car prices are the year the used car was built, horsepower, the desplacement volume of the engine, and the number of miles that have been driven.\n",
        "\n",
        "* As the year of manufacture of a used car gets older and the number of miles driven gets higher, the price of a used car gets lower; while the higher the horsepower and the desplacement volume of the engine, the higher the price of a used car.\n",
        "\n",
        "* The company can focus on the power of the used car. \n",
        "  * For the used car with high power, the company can modify and refurbish it so that it can be resold at a higher price.\n",
        "\n",
        "* At the same time, we found that used cars with automatic transmissions sell for a higher price than those with the manual. \n",
        "  * Common sense analysis suggests that the convenience of automatic cars is the key to this difference. The company could be biased to acquire automatic cars. \n",
        "* In addition, used manual cars have some degree of collector value. \n",
        "  * The company can also categorize its customer base according to the preferences of manual and automatic cars and periodically advertise to its customers.\n",
        "\n"
      ],
      "metadata": {
        "id": "ENFHDgcKxjv_"
      }
    }
  ],
  "metadata": {
    "colab": {
      "collapsed_sections": [
        "63k9imdMtOSi",
        "T0h9uyJNVL3U",
        "foDG3YDDtOSm",
        "HxhehTWQtOSo",
        "8xmd6go2Irc5",
        "XoilGTkZIrc6"
      ],
      "provenance": [],
      "include_colab_link": true
    },
    "kernelspec": {
      "display_name": "Python 3",
      "language": "python",
      "name": "python3"
    },
    "language_info": {
      "codemirror_mode": {
        "name": "ipython",
        "version": 3
      },
      "file_extension": ".py",
      "mimetype": "text/x-python",
      "name": "python",
      "nbconvert_exporter": "python",
      "pygments_lexer": "ipython3",
      "version": "3.8.3"
    }
  },
  "nbformat": 4,
  "nbformat_minor": 0
}