{
  "cells": [
    {
      "cell_type": "markdown",
      "metadata": {
        "id": "view-in-github",
        "colab_type": "text"
      },
      "source": [
        "<a href=\"https://colab.research.google.com/github/KehEatCode/Projects/blob/main/Convolutional%20Neural%20Networks%3A%20Street%20View%20Housing%20Number%20Digit%20Recognition.ipynb\" target=\"_parent\"><img src=\"https://colab.research.google.com/assets/colab-badge.svg\" alt=\"Open In Colab\"/></a>"
      ]
    },
    {
      "cell_type": "markdown",
      "metadata": {
        "id": "Q91KqmCRu64D"
      },
      "source": [
        "# **Convolutional Neural Networks Project: Street View Housing Number Digit Recognition**\n",
        "\n",
        "\n",
        "\n",
        "Welcome to the project on classification using Convolutional Neural Networks. We will continue to work with the Street View Housing Numbers (SVHN) image dataset for this project.\n",
        "\n",
        "--------------\n",
        "## **Context** \n",
        "--------------\n",
        "\n",
        "One of the most interesting tasks in deep learning is to recognize objects in natural scenes. The ability to process visual information using machine learning algorithms can be very useful as demonstrated in various applications.\n",
        "\n",
        "The SVHN dataset contains over 600,000 labeled digits cropped from street-level photos. It is one of the most popular image recognition datasets. It has been used in neural networks created by Google to improve the map quality by automatically transcribing the address numbers from a patch of pixels. The transcribed number with a known street address helps pinpoint the location of the building it represents. \n",
        "\n",
        "----------------\n",
        "## **Objective**\n",
        "----------------\n",
        "\n",
        "To build a CNN model that can recognize the digits in the images.\n",
        "\n",
        "-------------\n",
        "## **Dataset**\n",
        "-------------\n",
        "Here, we will use a subset of the original data to save some computation time. The dataset is provided as a .h5 file. The basic preprocessing steps have been applied on the dataset."
      ]
    },
    {
      "cell_type": "markdown",
      "metadata": {
        "id": "8z2Z7-OAs8QG"
      },
      "source": [
        "## **Mount the drive**\n",
        "\n",
        "Let us start by mounting the Google drive. You can run the below cell to mount the Google drive."
      ]
    },
    {
      "cell_type": "code",
      "execution_count": 129,
      "metadata": {
        "colab": {
          "base_uri": "https://localhost:8080/"
        },
        "id": "03lDyQUuef7z",
        "outputId": "284ff00a-f9ef-4458-a9e5-b8a75015fe10"
      },
      "outputs": [
        {
          "output_type": "stream",
          "name": "stdout",
          "text": [
            "Drive already mounted at /content/drive; to attempt to forcibly remount, call drive.mount(\"/content/drive\", force_remount=True).\n"
          ]
        }
      ],
      "source": [
        "from google.colab import drive\n",
        "\n",
        "drive.mount('/content/drive')"
      ]
    },
    {
      "cell_type": "markdown",
      "metadata": {
        "id": "C8U3DUa3eNsT"
      },
      "source": [
        "## **Importing the necessary libraries**"
      ]
    },
    {
      "cell_type": "code",
      "execution_count": 130,
      "metadata": {
        "id": "-dVzeuF3eQx1"
      },
      "outputs": [],
      "source": [
        "import numpy as np\n",
        "\n",
        "import pandas as pd\n",
        "\n",
        "import matplotlib.pyplot as plt\n",
        "\n",
        "import seaborn as sns\n",
        "\n",
        "from sklearn.model_selection import train_test_split\n",
        "\n",
        "from sklearn.preprocessing import MinMaxScaler\n",
        "\n",
        "import tensorflow as tf\n",
        "\n",
        "from tensorflow.keras.models import Sequential\n",
        "\n",
        "from tensorflow.keras.layers import Dense, Conv2D, MaxPool2D, BatchNormalization, Dropout, Flatten, LeakyReLU\n",
        "\n",
        "from tensorflow.keras.losses import categorical_crossentropy\n",
        "\n",
        "from tensorflow.keras.optimizers import Adam\n",
        "\n",
        "from tensorflow.keras.utils import to_categorical"
      ]
    },
    {
      "cell_type": "markdown",
      "metadata": {
        "id": "ucnevGLoyKf_"
      },
      "source": [
        "**Let us check the version of tensorflow.**"
      ]
    },
    {
      "cell_type": "code",
      "execution_count": 131,
      "metadata": {
        "colab": {
          "base_uri": "https://localhost:8080/"
        },
        "id": "W5as47YxyJVk",
        "outputId": "d58be568-5569-4dd6-da96-e2eb81331804"
      },
      "outputs": [
        {
          "output_type": "stream",
          "name": "stdout",
          "text": [
            "2.8.2\n"
          ]
        }
      ],
      "source": [
        "print(tf.__version__)"
      ]
    },
    {
      "cell_type": "markdown",
      "metadata": {
        "id": "8lsux2ZwyTTR"
      },
      "source": [
        "## **Load the dataset**\n",
        "\n",
        "- Let us now load the dataset that is available as a .h5 file.\n",
        "- Split the data into the train and the test dataset."
      ]
    },
    {
      "cell_type": "code",
      "execution_count": 132,
      "metadata": {
        "id": "BApX9qgNsqV0",
        "scrolled": true
      },
      "outputs": [],
      "source": [
        "import h5py\n",
        "\n",
        "# Open the file as read only\n",
        "# User can make changes in the path as required\n",
        "\n",
        "h5f = h5py.File('/content/drive/MyDrive/SVHN_single_grey1.h5', 'r')\n",
        "\n",
        "# Load the the train and the test dataset\n",
        "\n",
        "X_train = h5f['X_train'][:]\n",
        "\n",
        "y_train = h5f['y_train'][:]\n",
        "\n",
        "X_test = h5f['X_test'][:]\n",
        "\n",
        "y_test = h5f['y_test'][:]\n",
        "\n",
        "\n",
        "# Close this file\n",
        "\n",
        "h5f.close()"
      ]
    },
    {
      "cell_type": "markdown",
      "metadata": {
        "id": "hVe0CYpUgj7w"
      },
      "source": [
        "Let's check the number of images in the training and the testing dataset."
      ]
    },
    {
      "cell_type": "code",
      "execution_count": 133,
      "metadata": {
        "colab": {
          "base_uri": "https://localhost:8080/"
        },
        "id": "y3lwKpOefkpA",
        "outputId": "5685486d-528e-4aa3-8ee1-4c9f7b27abbe"
      },
      "outputs": [
        {
          "output_type": "execute_result",
          "data": {
            "text/plain": [
              "(42000, 18000)"
            ]
          },
          "metadata": {},
          "execution_count": 133
        }
      ],
      "source": [
        "len(X_train), len(X_test)"
      ]
    },
    {
      "cell_type": "markdown",
      "metadata": {
        "id": "akTUOfLlgwoM"
      },
      "source": [
        "**Observation:**\n",
        "- There are 42,000 images in the training data and 18,000 images in the testing data. "
      ]
    },
    {
      "cell_type": "markdown",
      "metadata": {
        "id": "kxODV6HKykuc"
      },
      "source": [
        "## **Visualizing images**\n",
        "\n",
        "- Use X_train to visualize the first 10 images.\n",
        "- Use Y_train to print the first 10 labels."
      ]
    },
    {
      "cell_type": "markdown",
      "metadata": {
        "id": "giALtffZKDNq"
      },
      "source": [
        "### **Complete the below code to visualize the first 10 images in the dataset.**"
      ]
    },
    {
      "cell_type": "code",
      "execution_count": 134,
      "metadata": {
        "colab": {
          "base_uri": "https://localhost:8080/",
          "height": 96
        },
        "id": "Bvsc8ytHsqWD",
        "outputId": "d3096ed7-d9b5-4e02-ca12-a46fce9f910a"
      },
      "outputs": [
        {
          "output_type": "display_data",
          "data": {
            "text/plain": [
              "<Figure size 720x72 with 10 Axes>"
            ],
            "image/png": "[encoded data removed]"
          },
          "metadata": {
            "needs_background": "light"
          }
        },
        {
          "output_type": "stream",
          "name": "stdout",
          "text": [
            "label for each of the above image: [2 6 7 4 4 0 3 0 7 3]\n"
          ]
        }
      ],
      "source": [
        "# Visualizing the first 10 images in the dataset and printing their labels\n",
        "\n",
        "%matplotlib inline\n",
        "\n",
        "import matplotlib.pyplot as plt\n",
        "\n",
        "plt.figure(figsize = (10, 1))\n",
        "\n",
        "for i in range(10):\n",
        "\n",
        "    plt.subplot(1, 10, i+1)\n",
        "    \n",
        "    plt.imshow(X_train[i], cmap = \"gray\")  # Write the function to visualize images\n",
        "\n",
        "    plt.axis('off')\n",
        "\n",
        "plt.show()\n",
        "\n",
        "print('label for each of the above image: %s' % (y_train[0:10]))"
      ]
    },
    {
      "cell_type": "markdown",
      "metadata": {
        "id": "kzoyeXHOy80N"
      },
      "source": [
        "## **Data preparation**\n",
        "\n",
        "- Print the shape and the array of pixels for the first image in the training dataset.\n",
        "- Reshape the train and the test dataset because we always have to give a 4D array as input to CNNs.\n",
        "- Normalize the train and the test dataset by dividing by 255.\n",
        "- Print the new shapes of the train and the test dataset.\n",
        "- One-hot encode the target variable."
      ]
    },
    {
      "cell_type": "code",
      "execution_count": 135,
      "metadata": {
        "colab": {
          "base_uri": "https://localhost:8080/"
        },
        "id": "NqndzQXng9rL",
        "outputId": "98b505fa-fe94-4076-cc6d-adb3d7f217a0"
      },
      "outputs": [
        {
          "output_type": "stream",
          "name": "stdout",
          "text": [
            "Shape: (32, 32)\n",
            "\n",
            "First image:\n",
            " [[ 33.0704  30.2601  26.852  ...  71.4471  58.2204  42.9939]\n",
            " [ 25.2283  25.5533  29.9765 ... 113.0209 103.3639  84.2949]\n",
            " [ 26.2775  22.6137  40.4763 ... 113.3028 121.775  115.4228]\n",
            " ...\n",
            " [ 28.5502  36.212   45.0801 ...  24.1359  25.0927  26.0603]\n",
            " [ 38.4352  26.4733  23.2717 ...  28.1094  29.4683  30.0661]\n",
            " [ 50.2984  26.0773  24.0389 ...  49.6682  50.853   53.0377]]\n"
          ]
        }
      ],
      "source": [
        "# Shape and the array of pixels for the first image\n",
        "\n",
        "print(\"Shape:\", X_train[0].shape)\n",
        "\n",
        "print()\n",
        "\n",
        "print(\"First image:\\n\", X_train[0])"
      ]
    },
    {
      "cell_type": "code",
      "execution_count": 136,
      "metadata": {
        "id": "D9YPwf9ysqWU"
      },
      "outputs": [],
      "source": [
        "# Reshaping the dataset to be able to pass them to CNNs. Remember that we always have to give a 4D array as input to CNNs\n",
        "\n",
        "X_train = X_train.reshape(X_train.shape[0], 32, 32, 1)\n",
        "\n",
        "X_test = X_test.reshape(X_test.shape[0], 32, 32, 1)"
      ]
    },
    {
      "cell_type": "code",
      "execution_count": 137,
      "metadata": {
        "id": "q_yUUTp_mUzB"
      },
      "outputs": [],
      "source": [
        "# Normalize inputs from 0-255 to 0-1\n",
        "\n",
        "X_train = X_train / 255.0\n",
        "\n",
        "X_test = X_test / 255.0"
      ]
    },
    {
      "cell_type": "code",
      "execution_count": 138,
      "metadata": {
        "colab": {
          "base_uri": "https://localhost:8080/"
        },
        "id": "t7FSqOpamWkH",
        "outputId": "310c3b89-e6c1-4bdd-d70a-2cea43712724"
      },
      "outputs": [
        {
          "output_type": "stream",
          "name": "stdout",
          "text": [
            "Training set: (42000, 32, 32, 1) (42000,)\n",
            "Test set: (18000, 32, 32, 1) (18000,)\n"
          ]
        }
      ],
      "source": [
        "# New shape \n",
        "\n",
        "print('Training set:', X_train.shape, y_train.shape)\n",
        "\n",
        "print('Test set:', X_test.shape, y_test.shape)"
      ]
    },
    {
      "cell_type": "markdown",
      "metadata": {
        "id": "10QaOV-xR7Jn"
      },
      "source": [
        "### **One-hot encode the labels in the target variable y_train and y_test.**"
      ]
    },
    {
      "cell_type": "code",
      "execution_count": 139,
      "metadata": {
        "colab": {
          "base_uri": "https://localhost:8080/"
        },
        "id": "zL0lYER4sqWw",
        "outputId": "6f9739f6-891c-436a-c273-ff5641df747c"
      },
      "outputs": [
        {
          "output_type": "execute_result",
          "data": {
            "text/plain": [
              "array([1, 7, 2, ..., 7, 9, 2], dtype=uint8)"
            ]
          },
          "metadata": {},
          "execution_count": 139
        }
      ],
      "source": [
        "# Write the function and appropriate variable name to one-hot encode the output\n",
        "\n",
        "y_train_encoded = tf.keras.utils.to_categorical(y_train)\n",
        "\n",
        "y_test_encoded = tf.keras.utils.to_categorical(y_test)\n",
        "\n",
        "# test labels\n",
        "\n",
        "y_test"
      ]
    },
    {
      "cell_type": "markdown",
      "metadata": {
        "id": "ViqPOTquCF76"
      },
      "source": [
        "**Observation:**\n",
        "- Notice that each entry of the target variable is a one-hot encoded vector instead of a single label."
      ]
    },
    {
      "cell_type": "markdown",
      "metadata": {
        "id": "yH-gVrzuByNA"
      },
      "source": [
        "## **Model Building**\n",
        "\n",
        "Now that we have done data preprocessing, let's build a CNN model."
      ]
    },
    {
      "cell_type": "code",
      "execution_count": 140,
      "metadata": {
        "id": "ZY5pyF4-KDNt"
      },
      "outputs": [],
      "source": [
        "# Fixing the seed for random number generators\n",
        "\n",
        "np.random.seed(42)\n",
        "\n",
        "import random\n",
        "\n",
        "random.seed(42)\n",
        "\n",
        "tf.random.set_seed(42)"
      ]
    },
    {
      "cell_type": "markdown",
      "metadata": {
        "id": "UJDUoaEj1d6e"
      },
      "source": [
        "### **Model Architecture**\n",
        "- **Write a function** that returns a sequential model with the following architecture:\n",
        " - First Convolutional layer with **16 filters and the kernel size of 3x3**. Use the **'same' padding** and provide the **input shape = (32, 32, 1)**\n",
        " - Add a **LeakyRelu layer** with the **slope equal to 0.1**\n",
        " - Second Convolutional layer with **32 filters and the kernel size of 3x3 with 'same' padding**\n",
        " - Another **LeakyRelu** with the **slope equal to 0.1**\n",
        " - A **max-pooling layer** with a **pool size of 2x2**\n",
        " - **Flatten** the output from the previous layer\n",
        " - Add a **dense layer with 32 nodes**\n",
        " - Add a **LeakyRelu layer with the slope equal to 0.1**\n",
        " - Add the final **output layer with nodes equal to the number of classes, i.e., 10** and **'softmax' as the activation function**\n",
        " - Compile the model with the **loss equal to categorical_crossentropy, optimizer equal to Adam(learning_rate = 0.001), and metric equal to 'accuracy'**. Do not fit the model here, just return the compiled model.\n",
        "- Call the function cnn_model_1 and store the output in a new variable.\n",
        "- Print the summary of the model.\n",
        "- Fit the model on the training data with a **validation split of 0.2, batch size = 32, verbose = 1, and epochs = 20**. Store the model building history to use later for visualization."
      ]
    },
    {
      "cell_type": "markdown",
      "metadata": {
        "id": "JWsAd45JKDNu"
      },
      "source": [
        "### **Build and train a CNN model as per the above mentioned architecture.**"
      ]
    },
    {
      "cell_type": "code",
      "execution_count": 144,
      "metadata": {
        "id": "Cmi81Gr5sqW-"
      },
      "outputs": [],
      "source": [
        "#Importing losses and optimizers modules\n",
        "from tensorflow.keras import losses\n",
        "from tensorflow.keras import optimizers\n",
        "\n",
        "# Define the model\n",
        "\n",
        "def cnn_model_1():\n",
        "\n",
        "    model = Sequential() \n",
        "    \n",
        "    # Add layers as per the architecture mentioned above in the same sequence\n",
        "\n",
        "    model.add(Conv2D(filters=16, kernel_size=(3, 3), padding=\"same\", input_shape=(32, 32, 1)))\n",
        "    model.add(LeakyReLU(0.1))\n",
        "    model.add(Conv2D(filters=32, kernel_size=(3, 3), padding=\"same\"))\n",
        "    model.add(LeakyReLU(0.1))\n",
        "    model.add(MaxPool2D(pool_size=(2, 2)))\n",
        "    model.add(BatchNormalization())\n",
        "    model.add(Conv2D(filters=32, kernel_size=(3, 3), padding=\"same\"))\n",
        "    model.add(LeakyReLU(0.1))\n",
        "    model.add(Conv2D(filters=64, kernel_size=(3, 3), padding=\"same\"))\n",
        "    model.add(LeakyReLU(0.1))\n",
        "    model.add(MaxPool2D(pool_size=(2, 2)))\n",
        "    model.add(BatchNormalization())\n",
        "    model.add(Flatten())\n",
        "    model.add(Dense(32))\n",
        "    model.add(LeakyReLU(0.1))\n",
        "    model.add(Dropout(0.5))\n",
        "    model.add(Dense(10, activation='softmax'))\n",
        "\n",
        "    #declare adam optimizer with learning rate of 0.001 \n",
        "    adam = optimizers.Adam(learning_rate = 0.001)\n",
        "    \n",
        "    # Compile the model\n",
        "\n",
        "    model.compile(\n",
        "        loss='categorical_crossentropy', \n",
        "        optimizer=adam, \n",
        "        metrics=['accuracy'])\n",
        "    \n",
        "    return model"
      ]
    },
    {
      "cell_type": "code",
      "execution_count": 145,
      "metadata": {
        "id": "bGCUI_xsImnH"
      },
      "outputs": [],
      "source": [
        "# Build the model\n",
        "\n",
        "model_1 = cnn_model_1()"
      ]
    },
    {
      "cell_type": "code",
      "execution_count": 146,
      "metadata": {
        "colab": {
          "base_uri": "https://localhost:8080/"
        },
        "id": "ckJsLdmdQadZ",
        "outputId": "1ab2d934-d4e6-4f7e-eb20-e6664460e146"
      },
      "outputs": [
        {
          "output_type": "stream",
          "name": "stdout",
          "text": [
            "Model: \"sequential_2\"\n",
            "_________________________________________________________________\n",
            " Layer (type)                Output Shape              Param #   \n",
            "=================================================================\n",
            " conv2d_6 (Conv2D)           (None, 32, 32, 16)        160       \n",
            "                                                                 \n",
            " leaky_re_lu_8 (LeakyReLU)   (None, 32, 32, 16)        0         \n",
            "                                                                 \n",
            " conv2d_7 (Conv2D)           (None, 32, 32, 32)        4640      \n",
            "                                                                 \n",
            " leaky_re_lu_9 (LeakyReLU)   (None, 32, 32, 32)        0         \n",
            "                                                                 \n",
            " max_pooling2d_3 (MaxPooling  (None, 16, 16, 32)       0         \n",
            " 2D)                                                             \n",
            "                                                                 \n",
            " batch_normalization_2 (Batc  (None, 16, 16, 32)       128       \n",
            " hNormalization)                                                 \n",
            "                                                                 \n",
            " conv2d_8 (Conv2D)           (None, 16, 16, 32)        9248      \n",
            "                                                                 \n",
            " leaky_re_lu_10 (LeakyReLU)  (None, 16, 16, 32)        0         \n",
            "                                                                 \n",
            " conv2d_9 (Conv2D)           (None, 16, 16, 64)        18496     \n",
            "                                                                 \n",
            " leaky_re_lu_11 (LeakyReLU)  (None, 16, 16, 64)        0         \n",
            "                                                                 \n",
            " max_pooling2d_4 (MaxPooling  (None, 8, 8, 64)         0         \n",
            " 2D)                                                             \n",
            "                                                                 \n",
            " batch_normalization_3 (Batc  (None, 8, 8, 64)         256       \n",
            " hNormalization)                                                 \n",
            "                                                                 \n",
            " flatten_2 (Flatten)         (None, 4096)              0         \n",
            "                                                                 \n",
            " dense_4 (Dense)             (None, 32)                131104    \n",
            "                                                                 \n",
            " leaky_re_lu_12 (LeakyReLU)  (None, 32)                0         \n",
            "                                                                 \n",
            " dropout_1 (Dropout)         (None, 32)                0         \n",
            "                                                                 \n",
            " dense_5 (Dense)             (None, 10)                330       \n",
            "                                                                 \n",
            "=================================================================\n",
            "Total params: 164,362\n",
            "Trainable params: 164,170\n",
            "Non-trainable params: 192\n",
            "_________________________________________________________________\n"
          ]
        }
      ],
      "source": [
        "# Print the model summary\n",
        "\n",
        "model_1.summary()"
      ]
    },
    {
      "cell_type": "code",
      "execution_count": 147,
      "metadata": {
        "colab": {
          "base_uri": "https://localhost:8080/"
        },
        "id": "3Fy3Dif_zcCk",
        "outputId": "fc2858ad-ae92-400e-edd8-4caa44295217"
      },
      "outputs": [
        {
          "output_type": "stream",
          "name": "stdout",
          "text": [
            "Epoch 1/20\n",
            "1050/1050 [==============================] - 6s 5ms/step - loss: 1.1464 - accuracy: 0.6288 - val_loss: 0.5779 - val_accuracy: 0.8325\n",
            "Epoch 2/20\n",
            "1050/1050 [==============================] - 5s 5ms/step - loss: 0.6271 - accuracy: 0.8106 - val_loss: 0.5360 - val_accuracy: 0.8462\n",
            "Epoch 3/20\n",
            "1050/1050 [==============================] - 5s 5ms/step - loss: 0.5319 - accuracy: 0.8387 - val_loss: 0.4440 - val_accuracy: 0.8736\n",
            "Epoch 4/20\n",
            "1050/1050 [==============================] - 6s 6ms/step - loss: 0.4799 - accuracy: 0.8557 - val_loss: 0.4090 - val_accuracy: 0.8857\n",
            "Epoch 5/20\n",
            "1050/1050 [==============================] - 5s 5ms/step - loss: 0.4391 - accuracy: 0.8665 - val_loss: 0.4198 - val_accuracy: 0.8743\n",
            "Epoch 6/20\n",
            "1050/1050 [==============================] - 5s 5ms/step - loss: 0.4020 - accuracy: 0.8756 - val_loss: 0.3994 - val_accuracy: 0.8907\n",
            "Epoch 7/20\n",
            "1050/1050 [==============================] - 5s 5ms/step - loss: 0.3840 - accuracy: 0.8818 - val_loss: 0.4096 - val_accuracy: 0.8868\n",
            "Epoch 8/20\n",
            "1050/1050 [==============================] - 5s 5ms/step - loss: 0.3541 - accuracy: 0.8901 - val_loss: 0.4265 - val_accuracy: 0.8764\n",
            "Epoch 9/20\n",
            "1050/1050 [==============================] - 5s 5ms/step - loss: 0.3387 - accuracy: 0.8951 - val_loss: 0.3501 - val_accuracy: 0.8992\n",
            "Epoch 10/20\n",
            "1050/1050 [==============================] - 5s 5ms/step - loss: 0.3111 - accuracy: 0.9035 - val_loss: 0.3656 - val_accuracy: 0.8993\n",
            "Epoch 11/20\n",
            "1050/1050 [==============================] - 6s 6ms/step - loss: 0.3004 - accuracy: 0.9066 - val_loss: 0.3707 - val_accuracy: 0.8996\n",
            "Epoch 12/20\n",
            "1050/1050 [==============================] - 5s 5ms/step - loss: 0.2804 - accuracy: 0.9101 - val_loss: 0.3484 - val_accuracy: 0.9080\n",
            "Epoch 13/20\n",
            "1050/1050 [==============================] - 5s 5ms/step - loss: 0.2658 - accuracy: 0.9167 - val_loss: 0.5149 - val_accuracy: 0.8675\n",
            "Epoch 14/20\n",
            "1050/1050 [==============================] - 5s 5ms/step - loss: 0.2623 - accuracy: 0.9189 - val_loss: 0.3977 - val_accuracy: 0.9068\n",
            "Epoch 15/20\n",
            "1050/1050 [==============================] - 6s 5ms/step - loss: 0.2520 - accuracy: 0.9197 - val_loss: 0.4245 - val_accuracy: 0.9036\n",
            "Epoch 16/20\n",
            "1050/1050 [==============================] - 5s 5ms/step - loss: 0.2415 - accuracy: 0.9245 - val_loss: 0.3826 - val_accuracy: 0.9090\n",
            "Epoch 17/20\n",
            "1050/1050 [==============================] - 5s 5ms/step - loss: 0.2282 - accuracy: 0.9265 - val_loss: 0.4249 - val_accuracy: 0.8881\n",
            "Epoch 18/20\n",
            "1050/1050 [==============================] - 5s 5ms/step - loss: 0.2187 - accuracy: 0.9285 - val_loss: 0.3669 - val_accuracy: 0.9129\n",
            "Epoch 19/20\n",
            "1050/1050 [==============================] - 5s 5ms/step - loss: 0.2120 - accuracy: 0.9301 - val_loss: 0.4501 - val_accuracy: 0.9118\n",
            "Epoch 20/20\n",
            "1050/1050 [==============================] - 5s 5ms/step - loss: 0.2063 - accuracy: 0.9323 - val_loss: 0.3781 - val_accuracy: 0.9118\n"
          ]
        }
      ],
      "source": [
        "# Fit the model\n",
        "\n",
        "history_model_1 = model_1.fit(\n",
        "            X_train, y_train_encoded,\n",
        "            epochs=20,\n",
        "            validation_split=0.2,\n",
        "            batch_size = 32,\n",
        "            verbose=1)"
      ]
    },
    {
      "cell_type": "markdown",
      "metadata": {
        "id": "tKOckG-KPyLg"
      },
      "source": [
        "### **Plotting the validation and training accuracies**"
      ]
    },
    {
      "cell_type": "code",
      "execution_count": 148,
      "metadata": {
        "colab": {
          "base_uri": "https://localhost:8080/",
          "height": 497
        },
        "id": "lt77zgGMP4yw",
        "outputId": "f9cb16a1-0e81-451c-c8bf-0b98450f2b4b"
      },
      "outputs": [
        {
          "output_type": "display_data",
          "data": {
            "text/plain": [
              "<Figure size 576x576 with 1 Axes>"
            ],
            "image/png": "[encoded data removed]"
          },
          "metadata": {
            "needs_background": "light"
          }
        }
      ],
      "source": [
        "# Plotting the accuracies\n",
        "\n",
        "dict_hist = history_model_1.history\n",
        "\n",
        "list_ep = [i for i in range(1, 21)]\n",
        "\n",
        "plt.figure(figsize = (8, 8))\n",
        "\n",
        "plt.plot(list_ep, dict_hist['accuracy'], ls = '--', label = 'accuracy')\n",
        "\n",
        "plt.plot(list_ep, dict_hist['val_accuracy'], ls = '--', label = 'val_accuracy')\n",
        "\n",
        "plt.ylabel('Accuracy')\n",
        "\n",
        "plt.xlabel('Epochs')\n",
        "\n",
        "plt.legend()\n",
        "\n",
        "plt.show()"
      ]
    },
    {
      "cell_type": "markdown",
      "metadata": {
        "id": "pGBbQpLONX7k"
      },
      "source": [
        "**Observations:__________**\n",
        "\n",
        "\n",
        "* From the chart above, we can clearly find that the accuracy of both train and validation data in CNN model are higher than that in ANN model. \n",
        "\n",
        "* By comparing the training and validation accuracy, the model is giving a good performance with 95% accuracy on training data and 90% on validation data.\n",
        "\n",
        "* The model has performed poorly on the validation data. \n",
        "\n",
        "* From the above plot, we can find that the training accuracy is coninuously improving. However, the validation accuracy is continuously fluctuating. The validation accuracy started fluctuating after 4 epochs.\n",
        "\n",
        "\n",
        "\n"
      ]
    },
    {
      "cell_type": "markdown",
      "metadata": {
        "id": "z0qgLMBZm5-K"
      },
      "source": [
        "Let's build another model and see if we can get a better model with generalized performance.\n",
        "\n",
        "First, we need to clear the previous model's history from the Keras backend. Also, let's fix the seed again after clearing the backend."
      ]
    },
    {
      "cell_type": "code",
      "execution_count": 149,
      "metadata": {
        "id": "y98BpLxsok_H"
      },
      "outputs": [],
      "source": [
        "# Clearing backend\n",
        "\n",
        "from tensorflow.keras import backend\n",
        "\n",
        "backend.clear_session()"
      ]
    },
    {
      "cell_type": "code",
      "execution_count": 150,
      "metadata": {
        "id": "HbKi93HTolGW"
      },
      "outputs": [],
      "source": [
        "# Fixing the seed for random number generators\n",
        "\n",
        "np.random.seed(42)\n",
        "\n",
        "import random\n",
        "\n",
        "random.seed(42)\n",
        "\n",
        "tf.random.set_seed(42)"
      ]
    },
    {
      "cell_type": "markdown",
      "metadata": {
        "id": "lT6o3TIKuCtk"
      },
      "source": [
        "### **Second Model Architecture**\n",
        "\n",
        "- Write a function that returns a sequential model with the following architecture:\n",
        " - First Convolutional layer with **16 filters and the kernel size of 3x3**. Use the **'same' padding** and provide the **input shape = (32, 32, 1)**\n",
        " - Add a **LeakyRelu layer** with the **slope equal to 0.1**\n",
        " - Second Convolutional layer with **32 filters and the kernel size of 3x3 with 'same' padding**\n",
        " - Add **LeakyRelu** with the **slope equal to 0.1**\n",
        " - Add a **max-pooling layer** with a **pool size of 2x2**\n",
        " - Add a **BatchNormalization layer**\n",
        " - Third Convolutional layer with **32 filters and the kernel size of 3x3 with 'same' padding**\n",
        " - Add a **LeakyRelu layer with the slope equal to 0.1**\n",
        " - Fourth Convolutional layer **64 filters and the kernel size of 3x3 with 'same' padding** \n",
        " - Add a **LeakyRelu layer with the slope equal to 0.1**\n",
        " - Add a **max-pooling layer** with a **pool size of 2x2**\n",
        " - Add a **BatchNormalization layer**\n",
        " - **Flatten** the output from the previous layer\n",
        " - Add a **dense layer with 32 nodes**\n",
        " - Add a **LeakyRelu layer with the slope equal to 0.1**\n",
        " - Add a **dropout layer with the rate equal to 0.5**\n",
        " - Add the final **output layer with nodes equal to the number of classes, i.e., 10** and **'softmax' as the activation function**\n",
        " - Compile the model with the **categorical_crossentropy loss, adam optimizers (learning_rate = 0.001), and metric equal to 'accuracy'**. Do not fit the model here, just return the compiled model.\n",
        "- Call the function cnn_model_2 and store the model in a new variable.\n",
        "- Print the summary of the model.\n",
        "- Fit the model on the train data with a **validation split of 0.2, batch size = 128, verbose = 1, and epochs = 30**. Store the model building history to use later for visualization."
      ]
    },
    {
      "cell_type": "markdown",
      "metadata": {
        "id": "y5IBLS1eKDNy"
      },
      "source": [
        "### **Build and train the second CNN model as per the above mentioned architecture.**"
      ]
    },
    {
      "cell_type": "code",
      "execution_count": 151,
      "metadata": {
        "id": "EEPYLFIPnSDP"
      },
      "outputs": [],
      "source": [
        "# Define the model\n",
        "\n",
        "def cnn_model_2():\n",
        "    \n",
        "    model = Sequential()\n",
        "    \n",
        "    # Add layers as per the architecture mentioned above in the same sequence\n",
        "\n",
        "    model.add(Conv2D(filters=16, kernel_size=(3, 3), padding=\"same\", input_shape=(32, 32, 1)))\n",
        "    model.add(LeakyReLU(0.1))\n",
        "    model.add(Conv2D(filters=32, kernel_size=(3, 3), padding=\"same\"))\n",
        "    model.add(LeakyReLU(0.1))\n",
        "    model.add(MaxPool2D(pool_size=(2, 2)))\n",
        "    model.add(BatchNormalization())\n",
        "    model.add(Conv2D(filters=32, kernel_size=(3, 3), padding=\"same\"))\n",
        "    model.add(LeakyReLU(0.1))\n",
        "    model.add(Conv2D(filters=64, kernel_size=(3, 3), padding=\"same\"))\n",
        "    model.add(LeakyReLU(0.1))\n",
        "    model.add(MaxPool2D(pool_size=(2, 2)))\n",
        "    model.add(BatchNormalization())\n",
        "    model.add(Flatten())\n",
        "    model.add(Dense(32))\n",
        "    model.add(LeakyReLU(0.1))\n",
        "    model.add(Dropout(0.5))\n",
        "    model.add(Dense(10, activation='softmax'))\n",
        "\n",
        "    #declare adam optimizer with learning rate of 0.001 \n",
        "    adam = optimizers.Adam(learning_rate = 0.001)\n",
        "\n",
        "    # Compile the model\n",
        "\n",
        "    model.compile(loss = 'categorical_crossentropy', optimizer=adam, metrics=['accuracy'])\n",
        "    \n",
        "    return model"
      ]
    },
    {
      "cell_type": "code",
      "execution_count": 152,
      "metadata": {
        "id": "AKjDY4plnSFl"
      },
      "outputs": [],
      "source": [
        "# Build the model\n",
        "\n",
        "model_2 = cnn_model_2()"
      ]
    },
    {
      "cell_type": "code",
      "execution_count": 153,
      "metadata": {
        "colab": {
          "base_uri": "https://localhost:8080/"
        },
        "id": "gz_6SVrU2swZ",
        "outputId": "6dd991ac-a5da-40ec-bb81-c27a08239056"
      },
      "outputs": [
        {
          "output_type": "stream",
          "name": "stdout",
          "text": [
            "Model: \"sequential\"\n",
            "_________________________________________________________________\n",
            " Layer (type)                Output Shape              Param #   \n",
            "=================================================================\n",
            " conv2d (Conv2D)             (None, 32, 32, 16)        160       \n",
            "                                                                 \n",
            " leaky_re_lu (LeakyReLU)     (None, 32, 32, 16)        0         \n",
            "                                                                 \n",
            " conv2d_1 (Conv2D)           (None, 32, 32, 32)        4640      \n",
            "                                                                 \n",
            " leaky_re_lu_1 (LeakyReLU)   (None, 32, 32, 32)        0         \n",
            "                                                                 \n",
            " max_pooling2d (MaxPooling2D  (None, 16, 16, 32)       0         \n",
            " )                                                               \n",
            "                                                                 \n",
            " batch_normalization (BatchN  (None, 16, 16, 32)       128       \n",
            " ormalization)                                                   \n",
            "                                                                 \n",
            " conv2d_2 (Conv2D)           (None, 16, 16, 32)        9248      \n",
            "                                                                 \n",
            " leaky_re_lu_2 (LeakyReLU)   (None, 16, 16, 32)        0         \n",
            "                                                                 \n",
            " conv2d_3 (Conv2D)           (None, 16, 16, 64)        18496     \n",
            "                                                                 \n",
            " leaky_re_lu_3 (LeakyReLU)   (None, 16, 16, 64)        0         \n",
            "                                                                 \n",
            " max_pooling2d_1 (MaxPooling  (None, 8, 8, 64)         0         \n",
            " 2D)                                                             \n",
            "                                                                 \n",
            " batch_normalization_1 (Batc  (None, 8, 8, 64)         256       \n",
            " hNormalization)                                                 \n",
            "                                                                 \n",
            " flatten (Flatten)           (None, 4096)              0         \n",
            "                                                                 \n",
            " dense (Dense)               (None, 32)                131104    \n",
            "                                                                 \n",
            " leaky_re_lu_4 (LeakyReLU)   (None, 32)                0         \n",
            "                                                                 \n",
            " dropout (Dropout)           (None, 32)                0         \n",
            "                                                                 \n",
            " dense_1 (Dense)             (None, 10)                330       \n",
            "                                                                 \n",
            "=================================================================\n",
            "Total params: 164,362\n",
            "Trainable params: 164,170\n",
            "Non-trainable params: 192\n",
            "_________________________________________________________________\n"
          ]
        }
      ],
      "source": [
        "# Print the summary\n",
        "\n",
        "model_2.summary()"
      ]
    },
    {
      "cell_type": "code",
      "execution_count": 154,
      "metadata": {
        "colab": {
          "base_uri": "https://localhost:8080/"
        },
        "id": "IQ0Sc4R-y-uu",
        "outputId": "d7500d28-1c37-4920-e7f7-0b6f2c6b2b21"
      },
      "outputs": [
        {
          "output_type": "stream",
          "name": "stdout",
          "text": [
            "Epoch 1/30\n",
            "263/263 [==============================] - 4s 12ms/step - loss: 1.4659 - accuracy: 0.4988 - val_loss: 2.4575 - val_accuracy: 0.2049\n",
            "Epoch 2/30\n",
            "263/263 [==============================] - 3s 10ms/step - loss: 0.6966 - accuracy: 0.7850 - val_loss: 0.6191 - val_accuracy: 0.8204\n",
            "Epoch 3/30\n",
            "263/263 [==============================] - 3s 10ms/step - loss: 0.5630 - accuracy: 0.8276 - val_loss: 0.4726 - val_accuracy: 0.8613\n",
            "Epoch 4/30\n",
            "263/263 [==============================] - 3s 10ms/step - loss: 0.4999 - accuracy: 0.8466 - val_loss: 0.4807 - val_accuracy: 0.8548\n",
            "Epoch 5/30\n",
            "263/263 [==============================] - 3s 10ms/step - loss: 0.4517 - accuracy: 0.8625 - val_loss: 0.4058 - val_accuracy: 0.8849\n",
            "Epoch 6/30\n",
            "263/263 [==============================] - 3s 10ms/step - loss: 0.4180 - accuracy: 0.8724 - val_loss: 0.4336 - val_accuracy: 0.8798\n",
            "Epoch 7/30\n",
            "263/263 [==============================] - 3s 10ms/step - loss: 0.3846 - accuracy: 0.8809 - val_loss: 0.4616 - val_accuracy: 0.8674\n",
            "Epoch 8/30\n",
            "263/263 [==============================] - 3s 10ms/step - loss: 0.3599 - accuracy: 0.8890 - val_loss: 0.4073 - val_accuracy: 0.8811\n",
            "Epoch 9/30\n",
            "263/263 [==============================] - 3s 10ms/step - loss: 0.3401 - accuracy: 0.8961 - val_loss: 0.3570 - val_accuracy: 0.9033\n",
            "Epoch 10/30\n",
            "263/263 [==============================] - 3s 10ms/step - loss: 0.3208 - accuracy: 0.9014 - val_loss: 0.3890 - val_accuracy: 0.8913\n",
            "Epoch 11/30\n",
            "263/263 [==============================] - 3s 10ms/step - loss: 0.3030 - accuracy: 0.9040 - val_loss: 0.4136 - val_accuracy: 0.9024\n",
            "Epoch 12/30\n",
            "263/263 [==============================] - 3s 10ms/step - loss: 0.2867 - accuracy: 0.9098 - val_loss: 0.3996 - val_accuracy: 0.8955\n",
            "Epoch 13/30\n",
            "263/263 [==============================] - 3s 10ms/step - loss: 0.2759 - accuracy: 0.9127 - val_loss: 0.4383 - val_accuracy: 0.9035\n",
            "Epoch 14/30\n",
            "263/263 [==============================] - 3s 10ms/step - loss: 0.2649 - accuracy: 0.9170 - val_loss: 0.4758 - val_accuracy: 0.8738\n",
            "Epoch 15/30\n",
            "263/263 [==============================] - 3s 10ms/step - loss: 0.2566 - accuracy: 0.9186 - val_loss: 0.4263 - val_accuracy: 0.8943\n",
            "Epoch 16/30\n",
            "263/263 [==============================] - 3s 10ms/step - loss: 0.2416 - accuracy: 0.9230 - val_loss: 0.3928 - val_accuracy: 0.9021\n",
            "Epoch 17/30\n",
            "263/263 [==============================] - 3s 10ms/step - loss: 0.2331 - accuracy: 0.9256 - val_loss: 0.4228 - val_accuracy: 0.9010\n",
            "Epoch 18/30\n",
            "263/263 [==============================] - 3s 10ms/step - loss: 0.2189 - accuracy: 0.9287 - val_loss: 0.4253 - val_accuracy: 0.8985\n",
            "Epoch 19/30\n",
            "263/263 [==============================] - 3s 10ms/step - loss: 0.2172 - accuracy: 0.9285 - val_loss: 0.4130 - val_accuracy: 0.9042\n",
            "Epoch 20/30\n",
            "263/263 [==============================] - 3s 10ms/step - loss: 0.2047 - accuracy: 0.9346 - val_loss: 0.3735 - val_accuracy: 0.9112\n",
            "Epoch 21/30\n",
            "263/263 [==============================] - 3s 11ms/step - loss: 0.2013 - accuracy: 0.9343 - val_loss: 0.4111 - val_accuracy: 0.8945\n",
            "Epoch 22/30\n",
            "263/263 [==============================] - 3s 10ms/step - loss: 0.1901 - accuracy: 0.9362 - val_loss: 0.4524 - val_accuracy: 0.8989\n",
            "Epoch 23/30\n",
            "263/263 [==============================] - 3s 10ms/step - loss: 0.1882 - accuracy: 0.9389 - val_loss: 0.4627 - val_accuracy: 0.9043\n",
            "Epoch 24/30\n",
            "263/263 [==============================] - 3s 10ms/step - loss: 0.1868 - accuracy: 0.9385 - val_loss: 0.4346 - val_accuracy: 0.8998\n",
            "Epoch 25/30\n",
            "263/263 [==============================] - 3s 10ms/step - loss: 0.1682 - accuracy: 0.9438 - val_loss: 0.3842 - val_accuracy: 0.9080\n",
            "Epoch 26/30\n",
            "263/263 [==============================] - 3s 10ms/step - loss: 0.1669 - accuracy: 0.9457 - val_loss: 0.5483 - val_accuracy: 0.8823\n",
            "Epoch 27/30\n",
            "263/263 [==============================] - 3s 10ms/step - loss: 0.1672 - accuracy: 0.9433 - val_loss: 0.4226 - val_accuracy: 0.9124\n",
            "Epoch 28/30\n",
            "263/263 [==============================] - 3s 10ms/step - loss: 0.1631 - accuracy: 0.9476 - val_loss: 0.4711 - val_accuracy: 0.9040\n",
            "Epoch 29/30\n",
            "263/263 [==============================] - 3s 10ms/step - loss: 0.1623 - accuracy: 0.9459 - val_loss: 0.4450 - val_accuracy: 0.9051\n",
            "Epoch 30/30\n",
            "263/263 [==============================] - 3s 10ms/step - loss: 0.1587 - accuracy: 0.9476 - val_loss: 0.5478 - val_accuracy: 0.8988\n"
          ]
        }
      ],
      "source": [
        "# Fit the model\n",
        "\n",
        "history_model_2 =  model_2.fit(\n",
        "            X_train, y_train_encoded,\n",
        "            epochs=30,\n",
        "            validation_split=0.2,\n",
        "            batch_size = 128,\n",
        "            verbose=1)"
      ]
    },
    {
      "cell_type": "markdown",
      "metadata": {
        "id": "zKCdy59GKDN1"
      },
      "source": [
        "### **Plotting the validation and training accuracies**"
      ]
    },
    {
      "cell_type": "code",
      "execution_count": 155,
      "metadata": {
        "colab": {
          "base_uri": "https://localhost:8080/",
          "height": 497
        },
        "id": "01ig6BrF1KVy",
        "outputId": "a6f2a02b-dee3-4129-fd5c-0beef708d10a"
      },
      "outputs": [
        {
          "output_type": "display_data",
          "data": {
            "text/plain": [
              "<Figure size 576x576 with 1 Axes>"
            ],
            "image/png": "[encoded data removed]"
          },
          "metadata": {
            "needs_background": "light"
          }
        }
      ],
      "source": [
        "# Plotting the accuracies\n",
        "\n",
        "dict_hist = history_model_2.history\n",
        "\n",
        "list_ep = [i for i in range(1, 31)]\n",
        "\n",
        "plt.figure(figsize = (8, 8))\n",
        "\n",
        "plt.plot(list_ep, dict_hist['accuracy'], ls = '--', label = 'accuracy')\n",
        "\n",
        "plt.plot(list_ep, dict_hist['val_accuracy'], ls = '--', label = 'val_accuracy')\n",
        "\n",
        "plt.ylabel('Accuracy')\n",
        "\n",
        "plt.xlabel('Epochs')\n",
        "\n",
        "plt.legend()\n",
        "\n",
        "plt.show()"
      ]
    },
    {
      "cell_type": "markdown",
      "metadata": {
        "id": "VPW1LlD61RDn"
      },
      "source": [
        "**Observations:________**\n",
        "\n",
        "* The second model performed well and reduce the overfitting compared to the model 1. \n",
        "\n",
        "* The validation accuracy has a slight fluctuation but overall it increased steadly with the extend of epoches.\n",
        "\n",
        "* Model 2 is giving 93% accuracy on the training data and 90% on the validation data until 30 epochs. "
      ]
    },
    {
      "cell_type": "markdown",
      "metadata": {
        "id": "8kuXx9Bvu00f"
      },
      "source": [
        "## **Predictions on the test data**\n",
        "\n",
        "- Make predictions on the test set using the second model.\n",
        "- Print the obtained results using the classification report and the confusion matrix.\n",
        "- Final observations on the obtained results."
      ]
    },
    {
      "cell_type": "markdown",
      "metadata": {
        "id": "eHCRwRbgKDN2"
      },
      "source": [
        "### **Make predictions on the test data using the second model.** "
      ]
    },
    {
      "cell_type": "code",
      "execution_count": 163,
      "metadata": {
        "id": "xbWMEtTj5Ad0"
      },
      "outputs": [],
      "source": [
        "# Make prediction on the test data using model_2 \n",
        "\n",
        "test_pred = model_2.predict(X_test)\n",
        "\n",
        "test_pred = np.argmax(test_pred, axis = -1)"
      ]
    },
    {
      "cell_type": "markdown",
      "metadata": {
        "id": "i3li8Ib08yts"
      },
      "source": [
        "**Note:** Earlier, we noticed that each entry of the target variable is a one-hot encoded vector, but to print the classification report and confusion matrix, we must convert each entry of y_test to a single label."
      ]
    },
    {
      "cell_type": "code",
      "execution_count": 164,
      "metadata": {
        "id": "NByu7uAQ8x9P"
      },
      "outputs": [],
      "source": [
        "# Converting each entry to single label from one-hot encoded vector\n",
        "\n",
        "y_test = np.argmax(y_test_encoded, axis = -1)"
      ]
    },
    {
      "cell_type": "code",
      "execution_count": 165,
      "metadata": {
        "colab": {
          "base_uri": "https://localhost:8080/",
          "height": 638
        },
        "id": "xRddeJ-3EHT1",
        "outputId": "fa716de5-f8b0-4b47-8e45-ead85abb20fe"
      },
      "outputs": [
        {
          "output_type": "stream",
          "name": "stdout",
          "text": [
            "              precision    recall  f1-score   support\n",
            "\n",
            "           0       0.90      0.93      0.92      1814\n",
            "           1       0.88      0.91      0.90      1828\n",
            "           2       0.93      0.92      0.92      1803\n",
            "           3       0.89      0.84      0.87      1719\n",
            "           4       0.91      0.92      0.91      1812\n",
            "           5       0.92      0.88      0.90      1768\n",
            "           6       0.88      0.88      0.88      1832\n",
            "           7       0.91      0.93      0.92      1808\n",
            "           8       0.88      0.89      0.88      1812\n",
            "           9       0.86      0.89      0.88      1804\n",
            "\n",
            "    accuracy                           0.90     18000\n",
            "   macro avg       0.90      0.90      0.90     18000\n",
            "weighted avg       0.90      0.90      0.90     18000\n",
            "\n"
          ]
        },
        {
          "output_type": "display_data",
          "data": {
            "text/plain": [
              "<Figure size 576x360 with 2 Axes>"
            ],
            "image/png": "[encoded data removed]"
          },
          "metadata": {
            "needs_background": "light"
          }
        }
      ],
      "source": [
        "#importing required functions\n",
        "from sklearn.metrics import classification_report\n",
        "from sklearn.metrics import confusion_matrix\n",
        "\n",
        "\n",
        "#Printing the classification report\n",
        "print(classification_report(y_test, test_pred))\n",
        "\n",
        "#Plotting the heatmap using confusion matrix\n",
        "cm = confusion_matrix(y_test, test_pred)\n",
        "\n",
        "plt.figure(figsize=(8,5))\n",
        "\n",
        "sns.heatmap(cm, annot=True,  fmt='.0f')\n",
        "\n",
        "plt.ylabel('Actual')\n",
        "\n",
        "plt.xlabel('Predicted')\n",
        "\n",
        "plt.show()"
      ]
    },
    {
      "cell_type": "markdown",
      "metadata": {
        "id": "DjErl4GA2u9s"
      },
      "source": [
        "**Final Observations:_________**\n",
        "* The model is giving about 90% accuracy on the test data which is comparable to the accuracy of the validation data. This implies that the model is giving a perfect performance. \n",
        "\n",
        "* The recall has a high range from 84% to 93% which represents that the model  can identify the majority of the object. The model can identify 93% of #0 and #7 but have a relative lower chance to identify 84% of #3.\n",
        "\n",
        "* Considering the overall accuracy and f1-score, we can conclude that CNN models can identify the number in images accurately, compared to ANN models."
      ]
    }
  ],
  "metadata": {
    "accelerator": "GPU",
    "colab": {
      "collapsed_sections": [],
      "provenance": [],
      "include_colab_link": true
    },
    "kernelspec": {
      "display_name": "Python 3 (ipykernel)",
      "language": "python",
      "name": "python3"
    },
    "language_info": {
      "codemirror_mode": {
        "name": "ipython",
        "version": 3
      },
      "file_extension": ".py",
      "mimetype": "text/x-python",
      "name": "python",
      "nbconvert_exporter": "python",
      "pygments_lexer": "ipython3",
      "version": "3.9.7"
    }
  },
  "nbformat": 4,
  "nbformat_minor": 0
}