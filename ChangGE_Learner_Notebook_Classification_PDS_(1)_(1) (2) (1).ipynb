{
 "cells": [
  {
   "cell_type": "markdown",
   "id": "tY_jUksJbUum",
   "metadata": {
    "id": "tY_jUksJbUum"
   },
   "source": [
    "# **Decision Trees and Random Forest Project: Predicting Potential Customers**\n"
   ]
  },
  {
   "cell_type": "markdown",
   "id": "UGMsCnD6bUup",
   "metadata": {
    "id": "UGMsCnD6bUup"
   },
   "source": [
    "Welcome to the project on classification using Decision Tree and Random Forest.\n",
    "\n",
    "--------------------------------\n",
    "## **Context** \n",
    "-------------------------------\n",
    "\n",
    "The EdTech industry has been surging in the past decade immensely, and according to a forecast, the Online Education market, would be worth $286.62bn by 2023, with a compound annual growth rate (CAGR) of 10.26% from 2018 to 2023. The modern era of online education has enforced a lot in its growth and expansion beyond any limit. Due to having many dominant features like ease of information sharing, personalized learning experience, transparency of assessment, etc., it is now preferable to traditional education. \n",
    "\n",
    "The online education sector has witnessed rapid growth and is attracting a lot of new customers. Due to this rapid growth, many new companies have emerged in this industry. With the availability and ease of use of digital marketing resources, companies can reach out to a wider audience with their offerings. The customers who show interest in these offerings are termed as **leads**. There are various sources of obtaining leads for Edtech companies, like:\n",
    "\n",
    "* The customer interacts with the marketing front on social media or other online platforms. \n",
    "* The customer browses the website/app and downloads the brochure.\n",
    "* The customer connects through emails for more information.\n",
    "\n",
    "The company then nurtures these leads and tries to convert them to paid customers. For this, the representative from the organization connects with the lead on call or through email to share further details.\n",
    "\n",
    "\n",
    "----------------------------\n",
    "## **Objective**\n",
    "-----------------------------\n",
    "\n",
    "\n",
    "ExtraaLearn is an initial stage startup that offers programs on cutting-edge technologies to students and professionals to help them upskill/reskill. With a large number of leads being generated on a regular basis, one of the issues faced by ExtraaLearn is to identify which of the leads are more likely to convert so that they can allocate the resources accordingly. You, as a data scientist at ExtraaLearn, have been provided the leads data to:\n",
    "* Analyze and build an ML model to help identify which leads are more likely to convert to paid customers. \n",
    "* Find the factors driving the lead conversion process.\n",
    "* Create a profile of the leads which are likely to convert.\n",
    "\n",
    "\n",
    "--------------------------\n",
    "## **Data Description**\n",
    "--------------------------\n",
    "\n",
    "The data contains the different attributes of leads and their interaction details with ExtraaLearn. The detailed data dictionary is given below.\n",
    "\n",
    "* **ID:** ID of the lead\n",
    "* **age:** Age of the lead\n",
    "* **current_occupation:** Current occupation of the lead. Values include 'Professional', 'Unemployed', and 'Student'\n",
    "* **first_interaction:** How did the lead first interact with ExtraaLearn? Values include 'Website' and 'Mobile App'\n",
    "* **profile_completed:** What percentage of the profile has been filled by the lead on the website/mobile app? Values include Low - (0-50%), Medium - (50-75%), High (75-100%)\n",
    "* **website_visits:** The number of times a lead has visited the website\n",
    "* **time_spent_on_website:** Total time (seconds) spent on the website.\n",
    "* **page_views_per_visit:** Average number of pages on the website viewed during the visits\n",
    "* **last_activity:** Last interaction between the lead and ExtraaLearn \n",
    "    * **Email Activity:** Seeking details about the program through email, Representative shared information with a lead like a brochure of the program, etc.\n",
    "    * **Phone Activity:** Had a phone conversation with a representative, had a conversation over SMS with a representative, etc.\n",
    "    * **Website Activity:** Interacted on live chat with a representative, updated profile on the website, etc.\n",
    "\n",
    "* **print_media_type1:** Flag indicating whether the lead had seen the ad of ExtraaLearn in the Newspaper\n",
    "* **print_media_type2:** Flag indicating whether the lead had seen the ad of ExtraaLearn in the Magazine\n",
    "* **digital_media:** Flag indicating whether the lead had seen the ad of ExtraaLearn on the digital platforms\n",
    "* **educational_channels:** Flag indicating whether the lead had heard about ExtraaLearn in the education channels like online forums, discussion threads, educational websites, etc.\n",
    "* **referral:** Flag indicating whether the lead had heard about ExtraaLearn through reference.\n",
    "* **status:** Flag indicating whether the lead was converted to a paid customer or not. The class 1 represents the paid customer and class 0 represents the unpaid customer."
   ]
  },
  {
   "cell_type": "markdown",
   "id": "1m1zkU9tbUur",
   "metadata": {
    "id": "1m1zkU9tbUur"
   },
   "source": [
    "## **Importing the necessary libraries and overview of the dataset**"
   ]
  },
  {
   "cell_type": "code",
   "execution_count": null,
   "id": "-wRLrm3HbUus",
   "metadata": {
    "id": "-wRLrm3HbUus"
   },
   "outputs": [],
   "source": [
    "import warnings\n",
    "warnings.filterwarnings(\"ignore\")\n",
    "\n",
    "# Libraries for data manipulation and visualization\n",
    "import pandas as pd\n",
    "\n",
    "import numpy as np\n",
    "\n",
    "import matplotlib.pyplot as plt\n",
    "\n",
    "import seaborn as sns\n",
    "\n",
    "from sklearn.model_selection import train_test_split\n",
    "\n",
    "# Algorithms to use\n",
    "from sklearn.tree import DecisionTreeClassifier\n",
    "\n",
    "from sklearn import tree\n",
    "\n",
    "from sklearn.ensemble import RandomForestClassifier\n",
    "\n",
    "# Metrics to evaluate the model\n",
    "from sklearn.metrics import confusion_matrix, classification_report, recall_score\n",
    "\n",
    "from sklearn import metrics\n",
    "\n",
    "# For hyperparameter tuning\n",
    "from sklearn.model_selection import GridSearchCV"
   ]
  },
  {
   "cell_type": "markdown",
   "id": "kMNknxsXbUut",
   "metadata": {
    "id": "kMNknxsXbUut"
   },
   "source": [
    "### **Loading the dataset**"
   ]
  },
  {
   "cell_type": "code",
   "execution_count": null,
   "id": "1h_mCTwEbY6g",
   "metadata": {
    "colab": {
     "base_uri": "https://localhost:8080/",
     "height": 74,
     "resources": {
      "http://localhost:8080/nbextensions/google.colab/files.js": {
       "data": "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",
       "headers": [
        [
         "content-type",
         "application/javascript"
        ]
       ],
       "ok": true,
       "status": 200,
       "status_text": ""
      }
     }
    },
    "id": "1h_mCTwEbY6g",
    "outputId": "b6f224ee-8cc3-4ed1-82ea-e9c7fc8cad8f"
   },
   "outputs": [
    {
     "data": {
      "text/html": [
       "\n",
       "     <input type=\"file\" id=\"files-2d0fa7f7-4504-4ebc-a9bb-d1264ad9a5c7\" name=\"files[]\" multiple disabled\n",
       "        style=\"border:none\" />\n",
       "     <output id=\"result-2d0fa7f7-4504-4ebc-a9bb-d1264ad9a5c7\">\n",
       "      Upload widget is only available when the cell has been executed in the\n",
       "      current browser session. Please rerun this cell to enable.\n",
       "      </output>\n",
       "      <script src=\"/nbextensions/google.colab/files.js\"></script> "
      ],
      "text/plain": [
       "<IPython.core.display.HTML object>"
      ]
     },
     "metadata": {},
     "output_type": "display_data"
    },
    {
     "name": "stdout",
     "output_type": "stream",
     "text": [
      "Saving ExtraaLearn.csv to ExtraaLearn.csv\n"
     ]
    }
   ],
   "source": [
    "from google.colab import files\n",
    "upload = files.upload()"
   ]
  },
  {
   "cell_type": "code",
   "execution_count": null,
   "id": "z-4nbqDEbUut",
   "metadata": {
    "id": "z-4nbqDEbUut"
   },
   "outputs": [],
   "source": [
    "learn = pd.read_csv(\"ExtraaLearn.csv\")"
   ]
  },
  {
   "cell_type": "code",
   "execution_count": null,
   "id": "qf4VqmVSbUuu",
   "metadata": {
    "id": "qf4VqmVSbUuu"
   },
   "outputs": [],
   "source": [
    "# Copying data to another variable to avoid any changes to the original data\n",
    "data = learn.copy()"
   ]
  },
  {
   "cell_type": "markdown",
   "id": "Uhg84V0RbUuu",
   "metadata": {
    "id": "Uhg84V0RbUuu"
   },
   "source": [
    "### **View the first and the last 5 rows of the dataset**"
   ]
  },
  {
   "cell_type": "code",
   "execution_count": null,
   "id": "90H_HhRcbUuv",
   "metadata": {
    "colab": {
     "base_uri": "https://localhost:8080/",
     "height": 270
    },
    "id": "90H_HhRcbUuv",
    "outputId": "5856a9e1-2ac8-4caa-89a3-4c86661afa72"
   },
   "outputs": [
    {
     "data": {
      "text/html": [
       "\n",
       "  <div id=\"df-931297ac-0662-48e2-b8e7-163dc07e5dbd\">\n",
       "    <div class=\"colab-df-container\">\n",
       "      <div>\n",
       "<style scoped>\n",
       "    .dataframe tbody tr th:only-of-type {\n",
       "        vertical-align: middle;\n",
       "    }\n",
       "\n",
       "    .dataframe tbody tr th {\n",
       "        vertical-align: top;\n",
       "    }\n",
       "\n",
       "    .dataframe thead th {\n",
       "        text-align: right;\n",
       "    }\n",
       "</style>\n",
       "<table border=\"1\" class=\"dataframe\">\n",
       "  <thead>\n",
       "    <tr style=\"text-align: right;\">\n",
       "      <th></th>\n",
       "      <th>ID</th>\n",
       "      <th>age</th>\n",
       "      <th>current_occupation</th>\n",
       "      <th>first_interaction</th>\n",
       "      <th>profile_completed</th>\n",
       "      <th>website_visits</th>\n",
       "      <th>time_spent_on_website</th>\n",
       "      <th>page_views_per_visit</th>\n",
       "      <th>last_activity</th>\n",
       "      <th>print_media_type1</th>\n",
       "      <th>print_media_type2</th>\n",
       "      <th>digital_media</th>\n",
       "      <th>educational_channels</th>\n",
       "      <th>referral</th>\n",
       "      <th>status</th>\n",
       "    </tr>\n",
       "  </thead>\n",
       "  <tbody>\n",
       "    <tr>\n",
       "      <th>0</th>\n",
       "      <td>EXT001</td>\n",
       "      <td>57</td>\n",
       "      <td>Unemployed</td>\n",
       "      <td>Website</td>\n",
       "      <td>High</td>\n",
       "      <td>7</td>\n",
       "      <td>1639</td>\n",
       "      <td>1.861</td>\n",
       "      <td>Website Activity</td>\n",
       "      <td>Yes</td>\n",
       "      <td>No</td>\n",
       "      <td>Yes</td>\n",
       "      <td>No</td>\n",
       "      <td>No</td>\n",
       "      <td>1</td>\n",
       "    </tr>\n",
       "    <tr>\n",
       "      <th>1</th>\n",
       "      <td>EXT002</td>\n",
       "      <td>56</td>\n",
       "      <td>Professional</td>\n",
       "      <td>Mobile App</td>\n",
       "      <td>Medium</td>\n",
       "      <td>2</td>\n",
       "      <td>83</td>\n",
       "      <td>0.320</td>\n",
       "      <td>Website Activity</td>\n",
       "      <td>No</td>\n",
       "      <td>No</td>\n",
       "      <td>No</td>\n",
       "      <td>Yes</td>\n",
       "      <td>No</td>\n",
       "      <td>0</td>\n",
       "    </tr>\n",
       "    <tr>\n",
       "      <th>2</th>\n",
       "      <td>EXT003</td>\n",
       "      <td>52</td>\n",
       "      <td>Professional</td>\n",
       "      <td>Website</td>\n",
       "      <td>Medium</td>\n",
       "      <td>3</td>\n",
       "      <td>330</td>\n",
       "      <td>0.074</td>\n",
       "      <td>Website Activity</td>\n",
       "      <td>No</td>\n",
       "      <td>No</td>\n",
       "      <td>Yes</td>\n",
       "      <td>No</td>\n",
       "      <td>No</td>\n",
       "      <td>0</td>\n",
       "    </tr>\n",
       "    <tr>\n",
       "      <th>3</th>\n",
       "      <td>EXT004</td>\n",
       "      <td>53</td>\n",
       "      <td>Unemployed</td>\n",
       "      <td>Website</td>\n",
       "      <td>High</td>\n",
       "      <td>4</td>\n",
       "      <td>464</td>\n",
       "      <td>2.057</td>\n",
       "      <td>Website Activity</td>\n",
       "      <td>No</td>\n",
       "      <td>No</td>\n",
       "      <td>No</td>\n",
       "      <td>No</td>\n",
       "      <td>No</td>\n",
       "      <td>1</td>\n",
       "    </tr>\n",
       "    <tr>\n",
       "      <th>4</th>\n",
       "      <td>EXT005</td>\n",
       "      <td>23</td>\n",
       "      <td>Student</td>\n",
       "      <td>Website</td>\n",
       "      <td>High</td>\n",
       "      <td>4</td>\n",
       "      <td>600</td>\n",
       "      <td>16.914</td>\n",
       "      <td>Email Activity</td>\n",
       "      <td>No</td>\n",
       "      <td>No</td>\n",
       "      <td>No</td>\n",
       "      <td>No</td>\n",
       "      <td>No</td>\n",
       "      <td>0</td>\n",
       "    </tr>\n",
       "  </tbody>\n",
       "</table>\n",
       "</div>\n",
       "      <button class=\"colab-df-convert\" onclick=\"convertToInteractive('df-931297ac-0662-48e2-b8e7-163dc07e5dbd')\"\n",
       "              title=\"Convert this dataframe to an interactive table.\"\n",
       "              style=\"display:none;\">\n",
       "        \n",
       "  <svg xmlns=\"http://www.w3.org/2000/svg\" height=\"24px\"viewBox=\"0 0 24 24\"\n",
       "       width=\"24px\">\n",
       "    <path d=\"M0 0h24v24H0V0z\" fill=\"none\"/>\n",
       "    <path d=\"M18.56 5.44l.94 2.06.94-2.06 2.06-.94-2.06-.94-.94-2.06-.94 2.06-2.06.94zm-11 1L8.5 8.5l.94-2.06 2.06-.94-2.06-.94L8.5 2.5l-.94 2.06-2.06.94zm10 10l.94 2.06.94-2.06 2.06-.94-2.06-.94-.94-2.06-.94 2.06-2.06.94z\"/><path d=\"M17.41 7.96l-1.37-1.37c-.4-.4-.92-.59-1.43-.59-.52 0-1.04.2-1.43.59L10.3 9.45l-7.72 7.72c-.78.78-.78 2.05 0 2.83L4 21.41c.39.39.9.59 1.41.59.51 0 1.02-.2 1.41-.59l7.78-7.78 2.81-2.81c.8-.78.8-2.07 0-2.86zM5.41 20L4 18.59l7.72-7.72 1.47 1.35L5.41 20z\"/>\n",
       "  </svg>\n",
       "      </button>\n",
       "      \n",
       "  <style>\n",
       "    .colab-df-container {\n",
       "      display:flex;\n",
       "      flex-wrap:wrap;\n",
       "      gap: 12px;\n",
       "    }\n",
       "\n",
       "    .colab-df-convert {\n",
       "      background-color: #E8F0FE;\n",
       "      border: none;\n",
       "      border-radius: 50%;\n",
       "      cursor: pointer;\n",
       "      display: none;\n",
       "      fill: #1967D2;\n",
       "      height: 32px;\n",
       "      padding: 0 0 0 0;\n",
       "      width: 32px;\n",
       "    }\n",
       "\n",
       "    .colab-df-convert:hover {\n",
       "      background-color: #E2EBFA;\n",
       "      box-shadow: 0px 1px 2px rgba(60, 64, 67, 0.3), 0px 1px 3px 1px rgba(60, 64, 67, 0.15);\n",
       "      fill: #174EA6;\n",
       "    }\n",
       "\n",
       "    [theme=dark] .colab-df-convert {\n",
       "      background-color: #3B4455;\n",
       "      fill: #D2E3FC;\n",
       "    }\n",
       "\n",
       "    [theme=dark] .colab-df-convert:hover {\n",
       "      background-color: #434B5C;\n",
       "      box-shadow: 0px 1px 3px 1px rgba(0, 0, 0, 0.15);\n",
       "      filter: drop-shadow(0px 1px 2px rgba(0, 0, 0, 0.3));\n",
       "      fill: #FFFFFF;\n",
       "    }\n",
       "  </style>\n",
       "\n",
       "      <script>\n",
       "        const buttonEl =\n",
       "          document.querySelector('#df-931297ac-0662-48e2-b8e7-163dc07e5dbd button.colab-df-convert');\n",
       "        buttonEl.style.display =\n",
       "          google.colab.kernel.accessAllowed ? 'block' : 'none';\n",
       "\n",
       "        async function convertToInteractive(key) {\n",
       "          const element = document.querySelector('#df-931297ac-0662-48e2-b8e7-163dc07e5dbd');\n",
       "          const dataTable =\n",
       "            await google.colab.kernel.invokeFunction('convertToInteractive',\n",
       "                                                     [key], {});\n",
       "          if (!dataTable) return;\n",
       "\n",
       "          const docLinkHtml = 'Like what you see? Visit the ' +\n",
       "            '<a target=\"_blank\" href=https://colab.research.google.com/notebooks/data_table.ipynb>data table notebook</a>'\n",
       "            + ' to learn more about interactive tables.';\n",
       "          element.innerHTML = '';\n",
       "          dataTable['output_type'] = 'display_data';\n",
       "          await google.colab.output.renderOutput(dataTable, element);\n",
       "          const docLink = document.createElement('div');\n",
       "          docLink.innerHTML = docLinkHtml;\n",
       "          element.appendChild(docLink);\n",
       "        }\n",
       "      </script>\n",
       "    </div>\n",
       "  </div>\n",
       "  "
      ],
      "text/plain": [
       "       ID  age current_occupation first_interaction profile_completed  \\\n",
       "0  EXT001   57         Unemployed           Website              High   \n",
       "1  EXT002   56       Professional        Mobile App            Medium   \n",
       "2  EXT003   52       Professional           Website            Medium   \n",
       "3  EXT004   53         Unemployed           Website              High   \n",
       "4  EXT005   23            Student           Website              High   \n",
       "\n",
       "   website_visits  time_spent_on_website  page_views_per_visit  \\\n",
       "0               7                   1639                 1.861   \n",
       "1               2                     83                 0.320   \n",
       "2               3                    330                 0.074   \n",
       "3               4                    464                 2.057   \n",
       "4               4                    600                16.914   \n",
       "\n",
       "      last_activity print_media_type1 print_media_type2 digital_media  \\\n",
       "0  Website Activity               Yes                No           Yes   \n",
       "1  Website Activity                No                No            No   \n",
       "2  Website Activity                No                No           Yes   \n",
       "3  Website Activity                No                No            No   \n",
       "4    Email Activity                No                No            No   \n",
       "\n",
       "  educational_channels referral  status  \n",
       "0                   No       No       1  \n",
       "1                  Yes       No       0  \n",
       "2                   No       No       0  \n",
       "3                   No       No       1  \n",
       "4                   No       No       0  "
      ]
     },
     "execution_count": 5,
     "metadata": {},
     "output_type": "execute_result"
    }
   ],
   "source": [
    "data.head()"
   ]
  },
  {
   "cell_type": "code",
   "execution_count": null,
   "id": "iBK0HtDXbUuw",
   "metadata": {
    "colab": {
     "base_uri": "https://localhost:8080/",
     "height": 270
    },
    "id": "iBK0HtDXbUuw",
    "outputId": "58492a27-936c-4547-de65-2eddca7cb038"
   },
   "outputs": [
    {
     "data": {
      "text/html": [
       "\n",
       "  <div id=\"df-630c5826-5c0e-462e-9c5d-ffb1107584b9\">\n",
       "    <div class=\"colab-df-container\">\n",
       "      <div>\n",
       "<style scoped>\n",
       "    .dataframe tbody tr th:only-of-type {\n",
       "        vertical-align: middle;\n",
       "    }\n",
       "\n",
       "    .dataframe tbody tr th {\n",
       "        vertical-align: top;\n",
       "    }\n",
       "\n",
       "    .dataframe thead th {\n",
       "        text-align: right;\n",
       "    }\n",
       "</style>\n",
       "<table border=\"1\" class=\"dataframe\">\n",
       "  <thead>\n",
       "    <tr style=\"text-align: right;\">\n",
       "      <th></th>\n",
       "      <th>ID</th>\n",
       "      <th>age</th>\n",
       "      <th>current_occupation</th>\n",
       "      <th>first_interaction</th>\n",
       "      <th>profile_completed</th>\n",
       "      <th>website_visits</th>\n",
       "      <th>time_spent_on_website</th>\n",
       "      <th>page_views_per_visit</th>\n",
       "      <th>last_activity</th>\n",
       "      <th>print_media_type1</th>\n",
       "      <th>print_media_type2</th>\n",
       "      <th>digital_media</th>\n",
       "      <th>educational_channels</th>\n",
       "      <th>referral</th>\n",
       "      <th>status</th>\n",
       "    </tr>\n",
       "  </thead>\n",
       "  <tbody>\n",
       "    <tr>\n",
       "      <th>4607</th>\n",
       "      <td>EXT4608</td>\n",
       "      <td>35</td>\n",
       "      <td>Unemployed</td>\n",
       "      <td>Mobile App</td>\n",
       "      <td>Medium</td>\n",
       "      <td>15</td>\n",
       "      <td>360</td>\n",
       "      <td>2.170</td>\n",
       "      <td>Phone Activity</td>\n",
       "      <td>No</td>\n",
       "      <td>No</td>\n",
       "      <td>No</td>\n",
       "      <td>Yes</td>\n",
       "      <td>No</td>\n",
       "      <td>0</td>\n",
       "    </tr>\n",
       "    <tr>\n",
       "      <th>4608</th>\n",
       "      <td>EXT4609</td>\n",
       "      <td>55</td>\n",
       "      <td>Professional</td>\n",
       "      <td>Mobile App</td>\n",
       "      <td>Medium</td>\n",
       "      <td>8</td>\n",
       "      <td>2327</td>\n",
       "      <td>5.393</td>\n",
       "      <td>Email Activity</td>\n",
       "      <td>No</td>\n",
       "      <td>No</td>\n",
       "      <td>No</td>\n",
       "      <td>No</td>\n",
       "      <td>No</td>\n",
       "      <td>0</td>\n",
       "    </tr>\n",
       "    <tr>\n",
       "      <th>4609</th>\n",
       "      <td>EXT4610</td>\n",
       "      <td>58</td>\n",
       "      <td>Professional</td>\n",
       "      <td>Website</td>\n",
       "      <td>High</td>\n",
       "      <td>2</td>\n",
       "      <td>212</td>\n",
       "      <td>2.692</td>\n",
       "      <td>Email Activity</td>\n",
       "      <td>No</td>\n",
       "      <td>No</td>\n",
       "      <td>No</td>\n",
       "      <td>No</td>\n",
       "      <td>No</td>\n",
       "      <td>1</td>\n",
       "    </tr>\n",
       "    <tr>\n",
       "      <th>4610</th>\n",
       "      <td>EXT4611</td>\n",
       "      <td>57</td>\n",
       "      <td>Professional</td>\n",
       "      <td>Mobile App</td>\n",
       "      <td>Medium</td>\n",
       "      <td>1</td>\n",
       "      <td>154</td>\n",
       "      <td>3.879</td>\n",
       "      <td>Website Activity</td>\n",
       "      <td>Yes</td>\n",
       "      <td>No</td>\n",
       "      <td>No</td>\n",
       "      <td>No</td>\n",
       "      <td>No</td>\n",
       "      <td>0</td>\n",
       "    </tr>\n",
       "    <tr>\n",
       "      <th>4611</th>\n",
       "      <td>EXT4612</td>\n",
       "      <td>55</td>\n",
       "      <td>Professional</td>\n",
       "      <td>Website</td>\n",
       "      <td>Medium</td>\n",
       "      <td>4</td>\n",
       "      <td>2290</td>\n",
       "      <td>2.075</td>\n",
       "      <td>Phone Activity</td>\n",
       "      <td>No</td>\n",
       "      <td>No</td>\n",
       "      <td>No</td>\n",
       "      <td>No</td>\n",
       "      <td>No</td>\n",
       "      <td>0</td>\n",
       "    </tr>\n",
       "  </tbody>\n",
       "</table>\n",
       "</div>\n",
       "      <button class=\"colab-df-convert\" onclick=\"convertToInteractive('df-630c5826-5c0e-462e-9c5d-ffb1107584b9')\"\n",
       "              title=\"Convert this dataframe to an interactive table.\"\n",
       "              style=\"display:none;\">\n",
       "        \n",
       "  <svg xmlns=\"http://www.w3.org/2000/svg\" height=\"24px\"viewBox=\"0 0 24 24\"\n",
       "       width=\"24px\">\n",
       "    <path d=\"M0 0h24v24H0V0z\" fill=\"none\"/>\n",
       "    <path d=\"M18.56 5.44l.94 2.06.94-2.06 2.06-.94-2.06-.94-.94-2.06-.94 2.06-2.06.94zm-11 1L8.5 8.5l.94-2.06 2.06-.94-2.06-.94L8.5 2.5l-.94 2.06-2.06.94zm10 10l.94 2.06.94-2.06 2.06-.94-2.06-.94-.94-2.06-.94 2.06-2.06.94z\"/><path d=\"M17.41 7.96l-1.37-1.37c-.4-.4-.92-.59-1.43-.59-.52 0-1.04.2-1.43.59L10.3 9.45l-7.72 7.72c-.78.78-.78 2.05 0 2.83L4 21.41c.39.39.9.59 1.41.59.51 0 1.02-.2 1.41-.59l7.78-7.78 2.81-2.81c.8-.78.8-2.07 0-2.86zM5.41 20L4 18.59l7.72-7.72 1.47 1.35L5.41 20z\"/>\n",
       "  </svg>\n",
       "      </button>\n",
       "      \n",
       "  <style>\n",
       "    .colab-df-container {\n",
       "      display:flex;\n",
       "      flex-wrap:wrap;\n",
       "      gap: 12px;\n",
       "    }\n",
       "\n",
       "    .colab-df-convert {\n",
       "      background-color: #E8F0FE;\n",
       "      border: none;\n",
       "      border-radius: 50%;\n",
       "      cursor: pointer;\n",
       "      display: none;\n",
       "      fill: #1967D2;\n",
       "      height: 32px;\n",
       "      padding: 0 0 0 0;\n",
       "      width: 32px;\n",
       "    }\n",
       "\n",
       "    .colab-df-convert:hover {\n",
       "      background-color: #E2EBFA;\n",
       "      box-shadow: 0px 1px 2px rgba(60, 64, 67, 0.3), 0px 1px 3px 1px rgba(60, 64, 67, 0.15);\n",
       "      fill: #174EA6;\n",
       "    }\n",
       "\n",
       "    [theme=dark] .colab-df-convert {\n",
       "      background-color: #3B4455;\n",
       "      fill: #D2E3FC;\n",
       "    }\n",
       "\n",
       "    [theme=dark] .colab-df-convert:hover {\n",
       "      background-color: #434B5C;\n",
       "      box-shadow: 0px 1px 3px 1px rgba(0, 0, 0, 0.15);\n",
       "      filter: drop-shadow(0px 1px 2px rgba(0, 0, 0, 0.3));\n",
       "      fill: #FFFFFF;\n",
       "    }\n",
       "  </style>\n",
       "\n",
       "      <script>\n",
       "        const buttonEl =\n",
       "          document.querySelector('#df-630c5826-5c0e-462e-9c5d-ffb1107584b9 button.colab-df-convert');\n",
       "        buttonEl.style.display =\n",
       "          google.colab.kernel.accessAllowed ? 'block' : 'none';\n",
       "\n",
       "        async function convertToInteractive(key) {\n",
       "          const element = document.querySelector('#df-630c5826-5c0e-462e-9c5d-ffb1107584b9');\n",
       "          const dataTable =\n",
       "            await google.colab.kernel.invokeFunction('convertToInteractive',\n",
       "                                                     [key], {});\n",
       "          if (!dataTable) return;\n",
       "\n",
       "          const docLinkHtml = 'Like what you see? Visit the ' +\n",
       "            '<a target=\"_blank\" href=https://colab.research.google.com/notebooks/data_table.ipynb>data table notebook</a>'\n",
       "            + ' to learn more about interactive tables.';\n",
       "          element.innerHTML = '';\n",
       "          dataTable['output_type'] = 'display_data';\n",
       "          await google.colab.output.renderOutput(dataTable, element);\n",
       "          const docLink = document.createElement('div');\n",
       "          docLink.innerHTML = docLinkHtml;\n",
       "          element.appendChild(docLink);\n",
       "        }\n",
       "      </script>\n",
       "    </div>\n",
       "  </div>\n",
       "  "
      ],
      "text/plain": [
       "           ID  age current_occupation first_interaction profile_completed  \\\n",
       "4607  EXT4608   35         Unemployed        Mobile App            Medium   \n",
       "4608  EXT4609   55       Professional        Mobile App            Medium   \n",
       "4609  EXT4610   58       Professional           Website              High   \n",
       "4610  EXT4611   57       Professional        Mobile App            Medium   \n",
       "4611  EXT4612   55       Professional           Website            Medium   \n",
       "\n",
       "      website_visits  time_spent_on_website  page_views_per_visit  \\\n",
       "4607              15                    360                 2.170   \n",
       "4608               8                   2327                 5.393   \n",
       "4609               2                    212                 2.692   \n",
       "4610               1                    154                 3.879   \n",
       "4611               4                   2290                 2.075   \n",
       "\n",
       "         last_activity print_media_type1 print_media_type2 digital_media  \\\n",
       "4607    Phone Activity                No                No            No   \n",
       "4608    Email Activity                No                No            No   \n",
       "4609    Email Activity                No                No            No   \n",
       "4610  Website Activity               Yes                No            No   \n",
       "4611    Phone Activity                No                No            No   \n",
       "\n",
       "     educational_channels referral  status  \n",
       "4607                  Yes       No       0  \n",
       "4608                   No       No       0  \n",
       "4609                   No       No       1  \n",
       "4610                   No       No       0  \n",
       "4611                   No       No       0  "
      ]
     },
     "execution_count": 6,
     "metadata": {},
     "output_type": "execute_result"
    }
   ],
   "source": [
    "data.tail()"
   ]
  },
  {
   "cell_type": "markdown",
   "id": "rbyfmh5sbUuw",
   "metadata": {
    "id": "rbyfmh5sbUuw"
   },
   "source": [
    "### **Understand the shape of the dataset**"
   ]
  },
  {
   "cell_type": "code",
   "execution_count": null,
   "id": "7HVp_IiLbUuw",
   "metadata": {
    "colab": {
     "base_uri": "https://localhost:8080/"
    },
    "id": "7HVp_IiLbUuw",
    "outputId": "94d871cb-8bdb-4dac-f859-66c7ae35823e"
   },
   "outputs": [
    {
     "data": {
      "text/plain": [
       "(4612, 15)"
      ]
     },
     "execution_count": 7,
     "metadata": {},
     "output_type": "execute_result"
    }
   ],
   "source": [
    "data.shape"
   ]
  },
  {
   "cell_type": "markdown",
   "id": "M8X59XN7bUux",
   "metadata": {
    "id": "M8X59XN7bUux"
   },
   "source": [
    "* The dataset has **4612 rows and 15 columns.** "
   ]
  },
  {
   "cell_type": "markdown",
   "id": "gkQ4BtfKbUux",
   "metadata": {
    "id": "gkQ4BtfKbUux"
   },
   "source": [
    "### **Check the data types of the columns in the dataset**"
   ]
  },
  {
   "cell_type": "code",
   "execution_count": null,
   "id": "F59I8VkSbUux",
   "metadata": {
    "colab": {
     "base_uri": "https://localhost:8080/"
    },
    "id": "F59I8VkSbUux",
    "outputId": "035fdd96-b11b-4ffd-ca31-ea22fec26c39"
   },
   "outputs": [
    {
     "name": "stdout",
     "output_type": "stream",
     "text": [
      "<class 'pandas.core.frame.DataFrame'>\n",
      "RangeIndex: 4612 entries, 0 to 4611\n",
      "Data columns (total 15 columns):\n",
      " #   Column                 Non-Null Count  Dtype  \n",
      "---  ------                 --------------  -----  \n",
      " 0   ID                     4612 non-null   object \n",
      " 1   age                    4612 non-null   int64  \n",
      " 2   current_occupation     4612 non-null   object \n",
      " 3   first_interaction      4612 non-null   object \n",
      " 4   profile_completed      4612 non-null   object \n",
      " 5   website_visits         4612 non-null   int64  \n",
      " 6   time_spent_on_website  4612 non-null   int64  \n",
      " 7   page_views_per_visit   4612 non-null   float64\n",
      " 8   last_activity          4612 non-null   object \n",
      " 9   print_media_type1      4612 non-null   object \n",
      " 10  print_media_type2      4612 non-null   object \n",
      " 11  digital_media          4612 non-null   object \n",
      " 12  educational_channels   4612 non-null   object \n",
      " 13  referral               4612 non-null   object \n",
      " 14  status                 4612 non-null   int64  \n",
      "dtypes: float64(1), int64(4), object(10)\n",
      "memory usage: 540.6+ KB\n"
     ]
    }
   ],
   "source": [
    "data.info()"
   ]
  },
  {
   "cell_type": "markdown",
   "id": "9us0LgvQbUux",
   "metadata": {
    "id": "9us0LgvQbUux"
   },
   "source": [
    "**Observations:**\n",
    "\n",
    "* `age`, `website_visits`, `time_spent_on_website`, `page_views_per_visit`, and `status` are of numeric type while rest of the columns are of object type.\n",
    "\n",
    "* There are **no null values** in the dataset."
   ]
  },
  {
   "cell_type": "code",
   "execution_count": null,
   "id": "aOomH_bmbUux",
   "metadata": {
    "colab": {
     "base_uri": "https://localhost:8080/"
    },
    "id": "aOomH_bmbUux",
    "outputId": "270606bc-eaf3-46ef-9e6e-ed57f921cf80"
   },
   "outputs": [
    {
     "data": {
      "text/plain": [
       "0"
      ]
     },
     "execution_count": 9,
     "metadata": {},
     "output_type": "execute_result"
    }
   ],
   "source": [
    "# Checking for duplicate values\n",
    "data.duplicated().sum()"
   ]
  },
  {
   "cell_type": "markdown",
   "id": "NYBmD_JRbUuy",
   "metadata": {
    "id": "NYBmD_JRbUuy"
   },
   "source": [
    "- There are **no duplicate values** in the data."
   ]
  },
  {
   "cell_type": "markdown",
   "id": "0Dvk_LyubUuy",
   "metadata": {
    "id": "0Dvk_LyubUuy"
   },
   "source": [
    "## **Exploratory Data Analysis**"
   ]
  },
  {
   "cell_type": "markdown",
   "id": "pxpam5UxbUuy",
   "metadata": {
    "id": "pxpam5UxbUuy"
   },
   "source": [
    "### **Univariate Analysis**"
   ]
  },
  {
   "cell_type": "markdown",
   "id": "ENwbQEl_bUuy",
   "metadata": {
    "id": "ENwbQEl_bUuy"
   },
   "source": [
    "### **Part 1:**The summary statistics and observations based on that."
   ]
  },
  {
   "cell_type": "code",
   "execution_count": null,
   "id": "B5Q9inTXbUuy",
   "metadata": {
    "colab": {
     "base_uri": "https://localhost:8080/",
     "height": 520
    },
    "id": "B5Q9inTXbUuy",
    "outputId": "592f2551-c250-4f20-e635-f6346508be89"
   },
   "outputs": [
    {
     "data": {
      "text/html": [
       "\n",
       "  <div id=\"df-33b2d35c-9a5f-4f46-bb77-95e119a2ae79\">\n",
       "    <div class=\"colab-df-container\">\n",
       "      <div>\n",
       "<style scoped>\n",
       "    .dataframe tbody tr th:only-of-type {\n",
       "        vertical-align: middle;\n",
       "    }\n",
       "\n",
       "    .dataframe tbody tr th {\n",
       "        vertical-align: top;\n",
       "    }\n",
       "\n",
       "    .dataframe thead th {\n",
       "        text-align: right;\n",
       "    }\n",
       "</style>\n",
       "<table border=\"1\" class=\"dataframe\">\n",
       "  <thead>\n",
       "    <tr style=\"text-align: right;\">\n",
       "      <th></th>\n",
       "      <th>count</th>\n",
       "      <th>unique</th>\n",
       "      <th>top</th>\n",
       "      <th>freq</th>\n",
       "      <th>mean</th>\n",
       "      <th>std</th>\n",
       "      <th>min</th>\n",
       "      <th>25%</th>\n",
       "      <th>50%</th>\n",
       "      <th>75%</th>\n",
       "      <th>max</th>\n",
       "    </tr>\n",
       "  </thead>\n",
       "  <tbody>\n",
       "    <tr>\n",
       "      <th>ID</th>\n",
       "      <td>4612</td>\n",
       "      <td>4612</td>\n",
       "      <td>EXT001</td>\n",
       "      <td>1</td>\n",
       "      <td>NaN</td>\n",
       "      <td>NaN</td>\n",
       "      <td>NaN</td>\n",
       "      <td>NaN</td>\n",
       "      <td>NaN</td>\n",
       "      <td>NaN</td>\n",
       "      <td>NaN</td>\n",
       "    </tr>\n",
       "    <tr>\n",
       "      <th>age</th>\n",
       "      <td>4612.0</td>\n",
       "      <td>NaN</td>\n",
       "      <td>NaN</td>\n",
       "      <td>NaN</td>\n",
       "      <td>46.201214</td>\n",
       "      <td>13.161454</td>\n",
       "      <td>18.0</td>\n",
       "      <td>36.0</td>\n",
       "      <td>51.0</td>\n",
       "      <td>57.0</td>\n",
       "      <td>63.0</td>\n",
       "    </tr>\n",
       "    <tr>\n",
       "      <th>current_occupation</th>\n",
       "      <td>4612</td>\n",
       "      <td>3</td>\n",
       "      <td>Professional</td>\n",
       "      <td>2616</td>\n",
       "      <td>NaN</td>\n",
       "      <td>NaN</td>\n",
       "      <td>NaN</td>\n",
       "      <td>NaN</td>\n",
       "      <td>NaN</td>\n",
       "      <td>NaN</td>\n",
       "      <td>NaN</td>\n",
       "    </tr>\n",
       "    <tr>\n",
       "      <th>first_interaction</th>\n",
       "      <td>4612</td>\n",
       "      <td>2</td>\n",
       "      <td>Website</td>\n",
       "      <td>2542</td>\n",
       "      <td>NaN</td>\n",
       "      <td>NaN</td>\n",
       "      <td>NaN</td>\n",
       "      <td>NaN</td>\n",
       "      <td>NaN</td>\n",
       "      <td>NaN</td>\n",
       "      <td>NaN</td>\n",
       "    </tr>\n",
       "    <tr>\n",
       "      <th>profile_completed</th>\n",
       "      <td>4612</td>\n",
       "      <td>3</td>\n",
       "      <td>High</td>\n",
       "      <td>2264</td>\n",
       "      <td>NaN</td>\n",
       "      <td>NaN</td>\n",
       "      <td>NaN</td>\n",
       "      <td>NaN</td>\n",
       "      <td>NaN</td>\n",
       "      <td>NaN</td>\n",
       "      <td>NaN</td>\n",
       "    </tr>\n",
       "    <tr>\n",
       "      <th>website_visits</th>\n",
       "      <td>4612.0</td>\n",
       "      <td>NaN</td>\n",
       "      <td>NaN</td>\n",
       "      <td>NaN</td>\n",
       "      <td>3.566782</td>\n",
       "      <td>2.829134</td>\n",
       "      <td>0.0</td>\n",
       "      <td>2.0</td>\n",
       "      <td>3.0</td>\n",
       "      <td>5.0</td>\n",
       "      <td>30.0</td>\n",
       "    </tr>\n",
       "    <tr>\n",
       "      <th>time_spent_on_website</th>\n",
       "      <td>4612.0</td>\n",
       "      <td>NaN</td>\n",
       "      <td>NaN</td>\n",
       "      <td>NaN</td>\n",
       "      <td>724.011275</td>\n",
       "      <td>743.828683</td>\n",
       "      <td>0.0</td>\n",
       "      <td>148.75</td>\n",
       "      <td>376.0</td>\n",
       "      <td>1336.75</td>\n",
       "      <td>2537.0</td>\n",
       "    </tr>\n",
       "    <tr>\n",
       "      <th>page_views_per_visit</th>\n",
       "      <td>4612.0</td>\n",
       "      <td>NaN</td>\n",
       "      <td>NaN</td>\n",
       "      <td>NaN</td>\n",
       "      <td>3.026126</td>\n",
       "      <td>1.968125</td>\n",
       "      <td>0.0</td>\n",
       "      <td>2.07775</td>\n",
       "      <td>2.792</td>\n",
       "      <td>3.75625</td>\n",
       "      <td>18.434</td>\n",
       "    </tr>\n",
       "    <tr>\n",
       "      <th>last_activity</th>\n",
       "      <td>4612</td>\n",
       "      <td>3</td>\n",
       "      <td>Email Activity</td>\n",
       "      <td>2278</td>\n",
       "      <td>NaN</td>\n",
       "      <td>NaN</td>\n",
       "      <td>NaN</td>\n",
       "      <td>NaN</td>\n",
       "      <td>NaN</td>\n",
       "      <td>NaN</td>\n",
       "      <td>NaN</td>\n",
       "    </tr>\n",
       "    <tr>\n",
       "      <th>print_media_type1</th>\n",
       "      <td>4612</td>\n",
       "      <td>2</td>\n",
       "      <td>No</td>\n",
       "      <td>4115</td>\n",
       "      <td>NaN</td>\n",
       "      <td>NaN</td>\n",
       "      <td>NaN</td>\n",
       "      <td>NaN</td>\n",
       "      <td>NaN</td>\n",
       "      <td>NaN</td>\n",
       "      <td>NaN</td>\n",
       "    </tr>\n",
       "    <tr>\n",
       "      <th>print_media_type2</th>\n",
       "      <td>4612</td>\n",
       "      <td>2</td>\n",
       "      <td>No</td>\n",
       "      <td>4379</td>\n",
       "      <td>NaN</td>\n",
       "      <td>NaN</td>\n",
       "      <td>NaN</td>\n",
       "      <td>NaN</td>\n",
       "      <td>NaN</td>\n",
       "      <td>NaN</td>\n",
       "      <td>NaN</td>\n",
       "    </tr>\n",
       "    <tr>\n",
       "      <th>digital_media</th>\n",
       "      <td>4612</td>\n",
       "      <td>2</td>\n",
       "      <td>No</td>\n",
       "      <td>4085</td>\n",
       "      <td>NaN</td>\n",
       "      <td>NaN</td>\n",
       "      <td>NaN</td>\n",
       "      <td>NaN</td>\n",
       "      <td>NaN</td>\n",
       "      <td>NaN</td>\n",
       "      <td>NaN</td>\n",
       "    </tr>\n",
       "    <tr>\n",
       "      <th>educational_channels</th>\n",
       "      <td>4612</td>\n",
       "      <td>2</td>\n",
       "      <td>No</td>\n",
       "      <td>3907</td>\n",
       "      <td>NaN</td>\n",
       "      <td>NaN</td>\n",
       "      <td>NaN</td>\n",
       "      <td>NaN</td>\n",
       "      <td>NaN</td>\n",
       "      <td>NaN</td>\n",
       "      <td>NaN</td>\n",
       "    </tr>\n",
       "    <tr>\n",
       "      <th>referral</th>\n",
       "      <td>4612</td>\n",
       "      <td>2</td>\n",
       "      <td>No</td>\n",
       "      <td>4519</td>\n",
       "      <td>NaN</td>\n",
       "      <td>NaN</td>\n",
       "      <td>NaN</td>\n",
       "      <td>NaN</td>\n",
       "      <td>NaN</td>\n",
       "      <td>NaN</td>\n",
       "      <td>NaN</td>\n",
       "    </tr>\n",
       "    <tr>\n",
       "      <th>status</th>\n",
       "      <td>4612.0</td>\n",
       "      <td>NaN</td>\n",
       "      <td>NaN</td>\n",
       "      <td>NaN</td>\n",
       "      <td>0.298569</td>\n",
       "      <td>0.45768</td>\n",
       "      <td>0.0</td>\n",
       "      <td>0.0</td>\n",
       "      <td>0.0</td>\n",
       "      <td>1.0</td>\n",
       "      <td>1.0</td>\n",
       "    </tr>\n",
       "  </tbody>\n",
       "</table>\n",
       "</div>\n",
       "      <button class=\"colab-df-convert\" onclick=\"convertToInteractive('df-33b2d35c-9a5f-4f46-bb77-95e119a2ae79')\"\n",
       "              title=\"Convert this dataframe to an interactive table.\"\n",
       "              style=\"display:none;\">\n",
       "        \n",
       "  <svg xmlns=\"http://www.w3.org/2000/svg\" height=\"24px\"viewBox=\"0 0 24 24\"\n",
       "       width=\"24px\">\n",
       "    <path d=\"M0 0h24v24H0V0z\" fill=\"none\"/>\n",
       "    <path d=\"M18.56 5.44l.94 2.06.94-2.06 2.06-.94-2.06-.94-.94-2.06-.94 2.06-2.06.94zm-11 1L8.5 8.5l.94-2.06 2.06-.94-2.06-.94L8.5 2.5l-.94 2.06-2.06.94zm10 10l.94 2.06.94-2.06 2.06-.94-2.06-.94-.94-2.06-.94 2.06-2.06.94z\"/><path d=\"M17.41 7.96l-1.37-1.37c-.4-.4-.92-.59-1.43-.59-.52 0-1.04.2-1.43.59L10.3 9.45l-7.72 7.72c-.78.78-.78 2.05 0 2.83L4 21.41c.39.39.9.59 1.41.59.51 0 1.02-.2 1.41-.59l7.78-7.78 2.81-2.81c.8-.78.8-2.07 0-2.86zM5.41 20L4 18.59l7.72-7.72 1.47 1.35L5.41 20z\"/>\n",
       "  </svg>\n",
       "      </button>\n",
       "      \n",
       "  <style>\n",
       "    .colab-df-container {\n",
       "      display:flex;\n",
       "      flex-wrap:wrap;\n",
       "      gap: 12px;\n",
       "    }\n",
       "\n",
       "    .colab-df-convert {\n",
       "      background-color: #E8F0FE;\n",
       "      border: none;\n",
       "      border-radius: 50%;\n",
       "      cursor: pointer;\n",
       "      display: none;\n",
       "      fill: #1967D2;\n",
       "      height: 32px;\n",
       "      padding: 0 0 0 0;\n",
       "      width: 32px;\n",
       "    }\n",
       "\n",
       "    .colab-df-convert:hover {\n",
       "      background-color: #E2EBFA;\n",
       "      box-shadow: 0px 1px 2px rgba(60, 64, 67, 0.3), 0px 1px 3px 1px rgba(60, 64, 67, 0.15);\n",
       "      fill: #174EA6;\n",
       "    }\n",
       "\n",
       "    [theme=dark] .colab-df-convert {\n",
       "      background-color: #3B4455;\n",
       "      fill: #D2E3FC;\n",
       "    }\n",
       "\n",
       "    [theme=dark] .colab-df-convert:hover {\n",
       "      background-color: #434B5C;\n",
       "      box-shadow: 0px 1px 3px 1px rgba(0, 0, 0, 0.15);\n",
       "      filter: drop-shadow(0px 1px 2px rgba(0, 0, 0, 0.3));\n",
       "      fill: #FFFFFF;\n",
       "    }\n",
       "  </style>\n",
       "\n",
       "      <script>\n",
       "        const buttonEl =\n",
       "          document.querySelector('#df-33b2d35c-9a5f-4f46-bb77-95e119a2ae79 button.colab-df-convert');\n",
       "        buttonEl.style.display =\n",
       "          google.colab.kernel.accessAllowed ? 'block' : 'none';\n",
       "\n",
       "        async function convertToInteractive(key) {\n",
       "          const element = document.querySelector('#df-33b2d35c-9a5f-4f46-bb77-95e119a2ae79');\n",
       "          const dataTable =\n",
       "            await google.colab.kernel.invokeFunction('convertToInteractive',\n",
       "                                                     [key], {});\n",
       "          if (!dataTable) return;\n",
       "\n",
       "          const docLinkHtml = 'Like what you see? Visit the ' +\n",
       "            '<a target=\"_blank\" href=https://colab.research.google.com/notebooks/data_table.ipynb>data table notebook</a>'\n",
       "            + ' to learn more about interactive tables.';\n",
       "          element.innerHTML = '';\n",
       "          dataTable['output_type'] = 'display_data';\n",
       "          await google.colab.output.renderOutput(dataTable, element);\n",
       "          const docLink = document.createElement('div');\n",
       "          docLink.innerHTML = docLinkHtml;\n",
       "          element.appendChild(docLink);\n",
       "        }\n",
       "      </script>\n",
       "    </div>\n",
       "  </div>\n",
       "  "
      ],
      "text/plain": [
       "                        count unique             top  freq        mean  \\\n",
       "ID                       4612   4612          EXT001     1         NaN   \n",
       "age                    4612.0    NaN             NaN   NaN   46.201214   \n",
       "current_occupation       4612      3    Professional  2616         NaN   \n",
       "first_interaction        4612      2         Website  2542         NaN   \n",
       "profile_completed        4612      3            High  2264         NaN   \n",
       "website_visits         4612.0    NaN             NaN   NaN    3.566782   \n",
       "time_spent_on_website  4612.0    NaN             NaN   NaN  724.011275   \n",
       "page_views_per_visit   4612.0    NaN             NaN   NaN    3.026126   \n",
       "last_activity            4612      3  Email Activity  2278         NaN   \n",
       "print_media_type1        4612      2              No  4115         NaN   \n",
       "print_media_type2        4612      2              No  4379         NaN   \n",
       "digital_media            4612      2              No  4085         NaN   \n",
       "educational_channels     4612      2              No  3907         NaN   \n",
       "referral                 4612      2              No  4519         NaN   \n",
       "status                 4612.0    NaN             NaN   NaN    0.298569   \n",
       "\n",
       "                              std   min      25%    50%      75%     max  \n",
       "ID                            NaN   NaN      NaN    NaN      NaN     NaN  \n",
       "age                     13.161454  18.0     36.0   51.0     57.0    63.0  \n",
       "current_occupation            NaN   NaN      NaN    NaN      NaN     NaN  \n",
       "first_interaction             NaN   NaN      NaN    NaN      NaN     NaN  \n",
       "profile_completed             NaN   NaN      NaN    NaN      NaN     NaN  \n",
       "website_visits           2.829134   0.0      2.0    3.0      5.0    30.0  \n",
       "time_spent_on_website  743.828683   0.0   148.75  376.0  1336.75  2537.0  \n",
       "page_views_per_visit     1.968125   0.0  2.07775  2.792  3.75625  18.434  \n",
       "last_activity                 NaN   NaN      NaN    NaN      NaN     NaN  \n",
       "print_media_type1             NaN   NaN      NaN    NaN      NaN     NaN  \n",
       "print_media_type2             NaN   NaN      NaN    NaN      NaN     NaN  \n",
       "digital_media                 NaN   NaN      NaN    NaN      NaN     NaN  \n",
       "educational_channels          NaN   NaN      NaN    NaN      NaN     NaN  \n",
       "referral                      NaN   NaN      NaN    NaN      NaN     NaN  \n",
       "status                    0.45768   0.0      0.0    0.0      1.0     1.0  "
      ]
     },
     "execution_count": 10,
     "metadata": {},
     "output_type": "execute_result"
    }
   ],
   "source": [
    "# Write your code\n",
    "data.describe(include='all').T"
   ]
  },
  {
   "cell_type": "markdown",
   "id": "pEtCrF5RbUuy",
   "metadata": {
    "id": "pEtCrF5RbUuy"
   },
   "source": [
    "** Observations:**\n",
    "\n",
    "* There are 4612 leads in the dataset. The average age of leads are 46 years old. The age of leads ranges from 18 to 63. At least 75% of leads are 57 years old. \n",
    " \n",
    "*   The maximum number of visits to the websites are 30 times. At least 75% of leads visit 5 times.\n",
    "\n",
    "* The maximum total times of leads spent on website are 2537 seconds. At least 75% of leads spent 1337 seconds on websites.  \n",
    "\n",
    "* The maximum page views per visit are 18 pages. At least 75% of leads read 4 pages on websites. \n",
    "\n",
    "* At least 75% of leads was converted to a paid customer.\n",
    "\n"
   ]
  },
  {
   "cell_type": "code",
   "execution_count": null,
   "id": "NH6jqnTObUuz",
   "metadata": {
    "colab": {
     "base_uri": "https://localhost:8080/"
    },
    "id": "NH6jqnTObUuz",
    "outputId": "1c9cca3a-4ed2-4eee-a131-8b7c4d17d0c0"
   },
   "outputs": [
    {
     "name": "stdout",
     "output_type": "stream",
     "text": [
      "EXT001     0.000217\n",
      "EXT2884    0.000217\n",
      "EXT3080    0.000217\n",
      "EXT3079    0.000217\n",
      "EXT3078    0.000217\n",
      "             ...   \n",
      "EXT1537    0.000217\n",
      "EXT1536    0.000217\n",
      "EXT1535    0.000217\n",
      "EXT1534    0.000217\n",
      "EXT4612    0.000217\n",
      "Name: ID, Length: 4612, dtype: float64\n",
      "--------------------------------------------------\n",
      "Professional    0.567216\n",
      "Unemployed      0.312446\n",
      "Student         0.120338\n",
      "Name: current_occupation, dtype: float64\n",
      "--------------------------------------------------\n",
      "Website       0.551171\n",
      "Mobile App    0.448829\n",
      "Name: first_interaction, dtype: float64\n",
      "--------------------------------------------------\n",
      "High      0.490893\n",
      "Medium    0.485906\n",
      "Low       0.023200\n",
      "Name: profile_completed, dtype: float64\n",
      "--------------------------------------------------\n",
      "Email Activity      0.493929\n",
      "Phone Activity      0.267563\n",
      "Website Activity    0.238508\n",
      "Name: last_activity, dtype: float64\n",
      "--------------------------------------------------\n",
      "No     0.892238\n",
      "Yes    0.107762\n",
      "Name: print_media_type1, dtype: float64\n",
      "--------------------------------------------------\n",
      "No     0.94948\n",
      "Yes    0.05052\n",
      "Name: print_media_type2, dtype: float64\n",
      "--------------------------------------------------\n",
      "No     0.885733\n",
      "Yes    0.114267\n",
      "Name: digital_media, dtype: float64\n",
      "--------------------------------------------------\n",
      "No     0.847138\n",
      "Yes    0.152862\n",
      "Name: educational_channels, dtype: float64\n",
      "--------------------------------------------------\n",
      "No     0.979835\n",
      "Yes    0.020165\n",
      "Name: referral, dtype: float64\n",
      "--------------------------------------------------\n"
     ]
    }
   ],
   "source": [
    "# Making a list of all categorical variables\n",
    "cat_col = list(data.select_dtypes(\"object\").columns)\n",
    "\n",
    "# Printing count of each unique value in each categorical column\n",
    "for column in cat_col:\n",
    "    print(data[column].value_counts(normalize = True))\n",
    "    print(\"-\" * 50)"
   ]
  },
  {
   "cell_type": "markdown",
   "id": "5a5ZFynubUuz",
   "metadata": {
    "id": "5a5ZFynubUuz"
   },
   "source": [
    "**Observations:**\n",
    "* Most of the leads are working professionals.\n",
    "* As expected, the majority of the leads interacted with ExtraaLearn from the website.\n",
    "* Almost an equal percentage of profile completions are categorized as high and medium that is 49.1% and 48.6%, respectively. Only **2.3%** of the profile completions are categorized as low.\n",
    "* Approx 49.4% of the leads had their last activity over email, followed by 26.8% having phone activity. This implies that the majority of the leads prefer to communicate via email.\n",
    "* We can observe that each ID has an equal percentage of values. Let's check the number of unique values in the ID column."
   ]
  },
  {
   "cell_type": "code",
   "execution_count": null,
   "id": "v04agE9bbUuz",
   "metadata": {
    "colab": {
     "base_uri": "https://localhost:8080/"
    },
    "id": "v04agE9bbUuz",
    "outputId": "fdf60c20-5f71-4f28-9bec-d642159c04d8"
   },
   "outputs": [
    {
     "data": {
      "text/plain": [
       "4612"
      ]
     },
     "execution_count": 12,
     "metadata": {},
     "output_type": "execute_result"
    }
   ],
   "source": [
    "# Checking the number of unique values\n",
    "data[\"ID\"].nunique()"
   ]
  },
  {
   "cell_type": "markdown",
   "id": "TVUTEyhJbUuz",
   "metadata": {
    "id": "TVUTEyhJbUuz"
   },
   "source": [
    "* All the values in the ID column are unique.\n",
    "* We can drop this column as it would not add value to our analysis."
   ]
  },
  {
   "cell_type": "code",
   "execution_count": null,
   "id": "nT9C0lVmbUuz",
   "metadata": {
    "id": "nT9C0lVmbUuz"
   },
   "outputs": [],
   "source": [
    "# Dropping ID column\n",
    "data.drop([\"ID\"], axis = 1, inplace = True)"
   ]
  },
  {
   "cell_type": "code",
   "execution_count": null,
   "id": "I_Si7TdObUuz",
   "metadata": {
    "colab": {
     "base_uri": "https://localhost:8080/",
     "height": 388
    },
    "id": "I_Si7TdObUuz",
    "outputId": "68e62baa-07e2-4ad4-87e3-3058ab466bd1"
   },
   "outputs": [
    {
     "data": {
      "image/png": "[encoded data removed]",
      "text/plain": [
       "<Figure size 720x432 with 1 Axes>"
      ]
     },
     "metadata": {
      "needs_background": "light"
     },
     "output_type": "display_data"
    }
   ],
   "source": [
    "plt.figure(figsize = (10, 6))\n",
    "\n",
    "ax = sns.countplot(x = 'status', data = data)\n",
    "\n",
    "# Annotating the exact count on the top of the bar for each category \n",
    "for p in ax.patches:\n",
    "    ax.annotate('{:.1f}'.format(p.get_height()), (p.get_x(), p.get_height()+ 0.35))"
   ]
  },
  {
   "cell_type": "markdown",
   "id": "bwML4-05bUuz",
   "metadata": {
    "id": "bwML4-05bUuz"
   },
   "source": [
    "- The above plot shows that number of leads converted are significantly less than number of leads not converted which can be expected.\n",
    "- The plot indicates that **~30%** (1377/4612) of leads have been converted."
   ]
  },
  {
   "cell_type": "markdown",
   "id": "E43xLRHXbUu0",
   "metadata": {
    "id": "E43xLRHXbUu0"
   },
   "source": [
    "**Let's check the distribution and outliers for numerical columns in the data**"
   ]
  },
  {
   "cell_type": "markdown",
   "id": "KdmULr78bUu0",
   "metadata": {
    "id": "KdmULr78bUu0"
   },
   "source": [
    "### **Part 2: Provide observations for below distribution plots and box plots.**"
   ]
  },
  {
   "cell_type": "code",
   "execution_count": null,
   "id": "b3JaNu0TbUu0",
   "metadata": {
    "colab": {
     "base_uri": "https://localhost:8080/",
     "height": 1000
    },
    "id": "b3JaNu0TbUu0",
    "outputId": "edca2a2c-d065-44bb-a4d6-bcbd4811349d"
   },
   "outputs": [
    {
     "name": "stdout",
     "output_type": "stream",
     "text": [
      "age\n",
      "Skew : -0.72\n"
     ]
    },
    {
     "data": {
      "image/png": "[encoded data removed]",
      "text/plain": [
       "<Figure size 1080x288 with 2 Axes>"
      ]
     },
     "metadata": {
      "needs_background": "light"
     },
     "output_type": "display_data"
    },
    {
     "name": "stdout",
     "output_type": "stream",
     "text": [
      "website_visits\n",
      "Skew : 2.16\n"
     ]
    },
    {
     "data": {
      "image/png": "[encoded data removed]",
      "text/plain": [
       "<Figure size 1080x288 with 2 Axes>"
      ]
     },
     "metadata": {
      "needs_background": "light"
     },
     "output_type": "display_data"
    },
    {
     "name": "stdout",
     "output_type": "stream",
     "text": [
      "time_spent_on_website\n",
      "Skew : 0.95\n"
     ]
    },
    {
     "data": {
      "image/png": "[encoded data removed]",
      "text/plain": [
       "<Figure size 1080x288 with 2 Axes>"
      ]
     },
     "metadata": {
      "needs_background": "light"
     },
     "output_type": "display_data"
    },
    {
     "name": "stdout",
     "output_type": "stream",
     "text": [
      "page_views_per_visit\n",
      "Skew : 1.27\n"
     ]
    },
    {
     "data": {
      "image/png": "[encoded data removed]",
      "text/plain": [
       "<Figure size 1080x288 with 2 Axes>"
      ]
     },
     "metadata": {
      "needs_background": "light"
     },
     "output_type": "display_data"
    }
   ],
   "source": [
    "for col in ['age', 'website_visits', 'time_spent_on_website', 'page_views_per_visit']:\n",
    "    print(col)\n",
    "    \n",
    "    print('Skew :',round(data[col].skew(), 2))\n",
    "    \n",
    "    plt.figure(figsize = (15, 4))\n",
    "    \n",
    "    plt.subplot(1, 2, 1)\n",
    "    \n",
    "    data[col].hist(bins = 10, grid = False)\n",
    "    \n",
    "    plt.ylabel('count')\n",
    "    \n",
    "    plt.subplot(1, 2, 2)\n",
    "    \n",
    "    sns.boxplot(x = data[col])\n",
    "    \n",
    "    plt.show()"
   ]
  },
  {
   "cell_type": "markdown",
   "id": "VUbB20lrbUu0",
   "metadata": {
    "id": "VUbB20lrbUu0"
   },
   "source": [
    "**Observations:___________**\n",
    "\n",
    "\n",
    "*   The distribution of lead's age is left-skewed implies the majority of lead aged 55-57 years old. The median age of customers are about 51 years old.\n",
    "\n",
    "*   The distribution of website visit is right-skewed. There are many outliers, some customers visited website more than 30 times.\n",
    "\n",
    "* The distribution of time spent on websites is skewed to right. The majority of lead spent 200-400 seconds on website, very few customers spent more than 2500 seconds on website.\n",
    "\n",
    "* The distribution of page viwes per visit is skewed to right. The median page of a visit is about 2.5 pages. There are 2 observations where the page views per visit is more than 17.5 pages. This observation is far away from the rest of the values. We can treat this by clipping the value to the upper whisker(Q3+1.5*IQR)\n",
    "\n"
   ]
  },
  {
   "cell_type": "markdown",
   "id": "Q2u0cw4kbUu0",
   "metadata": {
    "id": "Q2u0cw4kbUu0"
   },
   "source": [
    "### **Bivariate Analysis**"
   ]
  },
  {
   "cell_type": "markdown",
   "id": "7uj4TFN5bUu0",
   "metadata": {
    "id": "7uj4TFN5bUu0"
   },
   "source": [
    "**We are done with univariate analysis and data preprocessing. Let's explore the data a bit more with bivariate analysis.**\n",
    "\n",
    "Leads will have different expectations from the outcome of the course and their current occupation may play a key role for them to take the program. Let's analyze it."
   ]
  },
  {
   "cell_type": "code",
   "execution_count": null,
   "id": "e-dDVWg5bUu0",
   "metadata": {
    "colab": {
     "base_uri": "https://localhost:8080/",
     "height": 389
    },
    "id": "e-dDVWg5bUu0",
    "outputId": "15d54949-c620-4301-c88e-2b789d325de9"
   },
   "outputs": [
    {
     "data": {
      "image/png": "[encoded data removed]",
      "text/plain": [
       "<Figure size 720x432 with 1 Axes>"
      ]
     },
     "metadata": {
      "needs_background": "light"
     },
     "output_type": "display_data"
    }
   ],
   "source": [
    "plt.figure(figsize = (10, 6))\n",
    "\n",
    "sns.countplot(x = 'current_occupation', hue = 'status', data = data)\n",
    "\n",
    "plt.show()"
   ]
  },
  {
   "cell_type": "markdown",
   "id": "f2lZp0-kbUu1",
   "metadata": {
    "id": "f2lZp0-kbUu1"
   },
   "source": [
    "**Observations:**\n",
    "\n",
    "- The plot shows that working professional leads are more likely to opt for a course offered by the organization and the students are least likely to be converted. \n",
    "- This shows that the currently offered programs are more oriented toward working professionals or unemployed personnel. The programs might be suitable for the working professionals who might want to transition to a new role or take up more responsibility in their current role. And also focused on skills that are in high demand making it more suitable for working professionals or currently unemployed leads."
   ]
  },
  {
   "cell_type": "markdown",
   "id": "V2DmFkQ6bUu1",
   "metadata": {
    "id": "V2DmFkQ6bUu1"
   },
   "source": [
    "**Age can also be a good factor to differentiate between such leads. Let's explore this.**"
   ]
  },
  {
   "cell_type": "code",
   "execution_count": null,
   "id": "JoQUE5_8bUu1",
   "metadata": {
    "colab": {
     "base_uri": "https://localhost:8080/",
     "height": 335
    },
    "id": "JoQUE5_8bUu1",
    "outputId": "c38f3433-bc85-43d8-965b-891d2a2dde54"
   },
   "outputs": [
    {
     "data": {
      "image/png": "[encoded data removed]",
      "text/plain": [
       "<Figure size 720x360 with 1 Axes>"
      ]
     },
     "metadata": {
      "needs_background": "light"
     },
     "output_type": "display_data"
    }
   ],
   "source": [
    "plt.figure(figsize = (10, 5))\n",
    "\n",
    "sns.boxplot(data[\"current_occupation\"], data[\"age\"])\n",
    "\n",
    "plt.show()"
   ]
  },
  {
   "cell_type": "code",
   "execution_count": null,
   "id": "Zy_8z90dbUu1",
   "metadata": {
    "colab": {
     "base_uri": "https://localhost:8080/",
     "height": 175
    },
    "id": "Zy_8z90dbUu1",
    "outputId": "3f7d12ed-e488-46fc-f972-cc2386a45f75"
   },
   "outputs": [
    {
     "data": {
      "text/html": [
       "\n",
       "  <div id=\"df-f35d8bf9-2589-48c2-a25c-0a08a85428de\">\n",
       "    <div class=\"colab-df-container\">\n",
       "      <div>\n",
       "<style scoped>\n",
       "    .dataframe tbody tr th:only-of-type {\n",
       "        vertical-align: middle;\n",
       "    }\n",
       "\n",
       "    .dataframe tbody tr th {\n",
       "        vertical-align: top;\n",
       "    }\n",
       "\n",
       "    .dataframe thead th {\n",
       "        text-align: right;\n",
       "    }\n",
       "</style>\n",
       "<table border=\"1\" class=\"dataframe\">\n",
       "  <thead>\n",
       "    <tr style=\"text-align: right;\">\n",
       "      <th></th>\n",
       "      <th>count</th>\n",
       "      <th>mean</th>\n",
       "      <th>std</th>\n",
       "      <th>min</th>\n",
       "      <th>25%</th>\n",
       "      <th>50%</th>\n",
       "      <th>75%</th>\n",
       "      <th>max</th>\n",
       "    </tr>\n",
       "    <tr>\n",
       "      <th>current_occupation</th>\n",
       "      <th></th>\n",
       "      <th></th>\n",
       "      <th></th>\n",
       "      <th></th>\n",
       "      <th></th>\n",
       "      <th></th>\n",
       "      <th></th>\n",
       "      <th></th>\n",
       "    </tr>\n",
       "  </thead>\n",
       "  <tbody>\n",
       "    <tr>\n",
       "      <th>Professional</th>\n",
       "      <td>2616.0</td>\n",
       "      <td>49.347477</td>\n",
       "      <td>9.890744</td>\n",
       "      <td>25.0</td>\n",
       "      <td>42.0</td>\n",
       "      <td>54.0</td>\n",
       "      <td>57.0</td>\n",
       "      <td>60.0</td>\n",
       "    </tr>\n",
       "    <tr>\n",
       "      <th>Student</th>\n",
       "      <td>555.0</td>\n",
       "      <td>21.144144</td>\n",
       "      <td>2.001114</td>\n",
       "      <td>18.0</td>\n",
       "      <td>19.0</td>\n",
       "      <td>21.0</td>\n",
       "      <td>23.0</td>\n",
       "      <td>25.0</td>\n",
       "    </tr>\n",
       "    <tr>\n",
       "      <th>Unemployed</th>\n",
       "      <td>1441.0</td>\n",
       "      <td>50.140180</td>\n",
       "      <td>9.999503</td>\n",
       "      <td>32.0</td>\n",
       "      <td>42.0</td>\n",
       "      <td>54.0</td>\n",
       "      <td>58.0</td>\n",
       "      <td>63.0</td>\n",
       "    </tr>\n",
       "  </tbody>\n",
       "</table>\n",
       "</div>\n",
       "      <button class=\"colab-df-convert\" onclick=\"convertToInteractive('df-f35d8bf9-2589-48c2-a25c-0a08a85428de')\"\n",
       "              title=\"Convert this dataframe to an interactive table.\"\n",
       "              style=\"display:none;\">\n",
       "        \n",
       "  <svg xmlns=\"http://www.w3.org/2000/svg\" height=\"24px\"viewBox=\"0 0 24 24\"\n",
       "       width=\"24px\">\n",
       "    <path d=\"M0 0h24v24H0V0z\" fill=\"none\"/>\n",
       "    <path d=\"M18.56 5.44l.94 2.06.94-2.06 2.06-.94-2.06-.94-.94-2.06-.94 2.06-2.06.94zm-11 1L8.5 8.5l.94-2.06 2.06-.94-2.06-.94L8.5 2.5l-.94 2.06-2.06.94zm10 10l.94 2.06.94-2.06 2.06-.94-2.06-.94-.94-2.06-.94 2.06-2.06.94z\"/><path d=\"M17.41 7.96l-1.37-1.37c-.4-.4-.92-.59-1.43-.59-.52 0-1.04.2-1.43.59L10.3 9.45l-7.72 7.72c-.78.78-.78 2.05 0 2.83L4 21.41c.39.39.9.59 1.41.59.51 0 1.02-.2 1.41-.59l7.78-7.78 2.81-2.81c.8-.78.8-2.07 0-2.86zM5.41 20L4 18.59l7.72-7.72 1.47 1.35L5.41 20z\"/>\n",
       "  </svg>\n",
       "      </button>\n",
       "      \n",
       "  <style>\n",
       "    .colab-df-container {\n",
       "      display:flex;\n",
       "      flex-wrap:wrap;\n",
       "      gap: 12px;\n",
       "    }\n",
       "\n",
       "    .colab-df-convert {\n",
       "      background-color: #E8F0FE;\n",
       "      border: none;\n",
       "      border-radius: 50%;\n",
       "      cursor: pointer;\n",
       "      display: none;\n",
       "      fill: #1967D2;\n",
       "      height: 32px;\n",
       "      padding: 0 0 0 0;\n",
       "      width: 32px;\n",
       "    }\n",
       "\n",
       "    .colab-df-convert:hover {\n",
       "      background-color: #E2EBFA;\n",
       "      box-shadow: 0px 1px 2px rgba(60, 64, 67, 0.3), 0px 1px 3px 1px rgba(60, 64, 67, 0.15);\n",
       "      fill: #174EA6;\n",
       "    }\n",
       "\n",
       "    [theme=dark] .colab-df-convert {\n",
       "      background-color: #3B4455;\n",
       "      fill: #D2E3FC;\n",
       "    }\n",
       "\n",
       "    [theme=dark] .colab-df-convert:hover {\n",
       "      background-color: #434B5C;\n",
       "      box-shadow: 0px 1px 3px 1px rgba(0, 0, 0, 0.15);\n",
       "      filter: drop-shadow(0px 1px 2px rgba(0, 0, 0, 0.3));\n",
       "      fill: #FFFFFF;\n",
       "    }\n",
       "  </style>\n",
       "\n",
       "      <script>\n",
       "        const buttonEl =\n",
       "          document.querySelector('#df-f35d8bf9-2589-48c2-a25c-0a08a85428de button.colab-df-convert');\n",
       "        buttonEl.style.display =\n",
       "          google.colab.kernel.accessAllowed ? 'block' : 'none';\n",
       "\n",
       "        async function convertToInteractive(key) {\n",
       "          const element = document.querySelector('#df-f35d8bf9-2589-48c2-a25c-0a08a85428de');\n",
       "          const dataTable =\n",
       "            await google.colab.kernel.invokeFunction('convertToInteractive',\n",
       "                                                     [key], {});\n",
       "          if (!dataTable) return;\n",
       "\n",
       "          const docLinkHtml = 'Like what you see? Visit the ' +\n",
       "            '<a target=\"_blank\" href=https://colab.research.google.com/notebooks/data_table.ipynb>data table notebook</a>'\n",
       "            + ' to learn more about interactive tables.';\n",
       "          element.innerHTML = '';\n",
       "          dataTable['output_type'] = 'display_data';\n",
       "          await google.colab.output.renderOutput(dataTable, element);\n",
       "          const docLink = document.createElement('div');\n",
       "          docLink.innerHTML = docLinkHtml;\n",
       "          element.appendChild(docLink);\n",
       "        }\n",
       "      </script>\n",
       "    </div>\n",
       "  </div>\n",
       "  "
      ],
      "text/plain": [
       "                     count       mean       std   min   25%   50%   75%   max\n",
       "current_occupation                                                           \n",
       "Professional        2616.0  49.347477  9.890744  25.0  42.0  54.0  57.0  60.0\n",
       "Student              555.0  21.144144  2.001114  18.0  19.0  21.0  23.0  25.0\n",
       "Unemployed          1441.0  50.140180  9.999503  32.0  42.0  54.0  58.0  63.0"
      ]
     },
     "execution_count": 18,
     "metadata": {},
     "output_type": "execute_result"
    }
   ],
   "source": [
    "data.groupby([\"current_occupation\"])[\"age\"].describe()"
   ]
  },
  {
   "cell_type": "markdown",
   "id": "5ClDREbbbUu1",
   "metadata": {
    "id": "5ClDREbbbUu1"
   },
   "source": [
    "**Observations:**\n",
    "\n",
    "* The range of age for students is 18 to 25 years.\n",
    "* The range of age for professionals is 25 to 60 years.\n",
    "* The range of age for unemployed leads is 32 to 63 years.\n",
    "* The average age of working professionals and unemployed leads is almost 50 years."
   ]
  },
  {
   "cell_type": "markdown",
   "id": "8J21-0QrbUu1",
   "metadata": {
    "id": "8J21-0QrbUu1"
   },
   "source": [
    "**The company's first interaction with leads should be compelling and persuasive. Let's see if the channels of the first interaction have an impact on the conversion of leads.**"
   ]
  },
  {
   "cell_type": "code",
   "execution_count": null,
   "id": "Cvg4gNY5bUu1",
   "metadata": {
    "colab": {
     "base_uri": "https://localhost:8080/",
     "height": 389
    },
    "id": "Cvg4gNY5bUu1",
    "outputId": "10dc5d6a-e202-41a5-8d28-586ab902c5e7"
   },
   "outputs": [
    {
     "data": {
      "image/png": "[encoded data removed]",
      "text/plain": [
       "<Figure size 720x432 with 1 Axes>"
      ]
     },
     "metadata": {
      "needs_background": "light"
     },
     "output_type": "display_data"
    }
   ],
   "source": [
    "plt.figure(figsize = (10, 6))\n",
    "\n",
    "sns.countplot(x = 'first_interaction', hue = 'status', data = data)\n",
    "\n",
    "plt.show()"
   ]
  },
  {
   "cell_type": "markdown",
   "id": "oFliHgb5bUu1",
   "metadata": {
    "id": "oFliHgb5bUu1"
   },
   "source": [
    "**Observations:**\n",
    "\n",
    "* The website seems to be doing a good job as compared to mobile app as there is a huge difference in the number of conversions of the leads who first interacted with the company through website and those who interacted through mobile application.\n",
    "* Majority of the leads who interacted through websites were converted to paid customers, while only a small number of leads, who interacted through mobile app, converted."
   ]
  },
  {
   "cell_type": "markdown",
   "id": "laW_OqgKbUu1",
   "metadata": {
    "id": "laW_OqgKbUu1"
   },
   "source": [
    "**We observed earlier that some leads spend more time on websites than others. Let's analyze if spending more time on websites results in conversion.**"
   ]
  },
  {
   "cell_type": "markdown",
   "id": "naH4BaeRbUu1",
   "metadata": {
    "id": "naH4BaeRbUu1"
   },
   "source": [
    "### **Part 3:** \n",
    "- **Create a boxplot for variables 'status' and 'time_spent_on_website' (use sns.boxplot() function)**"
   ]
  },
  {
   "cell_type": "code",
   "execution_count": null,
   "id": "K9DXnl9xbUu1",
   "metadata": {
    "colab": {
     "base_uri": "https://localhost:8080/",
     "height": 334
    },
    "id": "K9DXnl9xbUu1",
    "outputId": "49faebd9-e9af-4d5c-d92f-48166e3e9973"
   },
   "outputs": [
    {
     "data": {
      "image/png": "[encoded data removed]",
      "text/plain": [
       "<Figure size 720x360 with 1 Axes>"
      ]
     },
     "metadata": {
      "needs_background": "light"
     },
     "output_type": "display_data"
    }
   ],
   "source": [
    "plt.figure(figsize = (10, 5))\n",
    "\n",
    "sns.boxplot(data = data, x= 'status', y='time_spent_on_website') # Write your code here\n",
    "\n",
    "plt.show()"
   ]
  },
  {
   "cell_type": "markdown",
   "id": "_0ir0EAKbUu2",
   "metadata": {
    "id": "_0ir0EAKbUu2"
   },
   "source": [
    "**Observations:_______**\n",
    "\n",
    "\n",
    "\n",
    "*   There is a big difference in the median value of time spending on website for leads who convert to paid customer or not. \n",
    "\n",
    "*   The more time the lead spent on website, the more likely to convert to paid customer.\n",
    "\n"
   ]
  },
  {
   "cell_type": "markdown",
   "id": "OsFh96hMbUu2",
   "metadata": {
    "id": "OsFh96hMbUu2"
   },
   "source": [
    "**People browsing the website or the mobile app are generally required to create a profile by sharing their details before they can access more information. Let's see if the profile completion level has an impact on lead coversion**"
   ]
  },
  {
   "cell_type": "markdown",
   "id": "sImjJUz4txSt",
   "metadata": {
    "id": "sImjJUz4txSt"
   },
   "source": []
  },
  {
   "cell_type": "code",
   "execution_count": null,
   "id": "r6WePP3ebUu2",
   "metadata": {
    "colab": {
     "base_uri": "https://localhost:8080/",
     "height": 389
    },
    "id": "r6WePP3ebUu2",
    "outputId": "66ae48fc-113e-46d8-d3c1-502accd2ed2b"
   },
   "outputs": [
    {
     "data": {
      "image/png": "[encoded data removed]",
      "text/plain": [
       "<Figure size 720x432 with 1 Axes>"
      ]
     },
     "metadata": {
      "needs_background": "light"
     },
     "output_type": "display_data"
    }
   ],
   "source": [
    "plt.figure(figsize = (10, 6))\n",
    "\n",
    "sns.countplot(x = 'profile_completed', hue = 'status', data = data)\n",
    "\n",
    "plt.show()"
   ]
  },
  {
   "cell_type": "markdown",
   "id": "IkU72-2_bUu2",
   "metadata": {
    "id": "IkU72-2_bUu2"
   },
   "source": [
    "**Observations:**\n",
    "\n",
    "* The leads whose profile completion level is high converted more in comparison to other levels of profile completion.\n",
    "* The medium and low levels of profile completion saw comparatively very less conversions.\n",
    "* The high level of profile completion might indicate a lead's intent to pursue the course which results in high conversion."
   ]
  },
  {
   "cell_type": "markdown",
   "id": "Xf7-denDbUu2",
   "metadata": {
    "id": "Xf7-denDbUu2"
   },
   "source": [
    "**Referrals from a converted lead can be a good source of income with a very low cost of advertisement. Let's see how referrals impact lead conversion status.**"
   ]
  },
  {
   "cell_type": "code",
   "execution_count": null,
   "id": "JEBAJycsbUu2",
   "metadata": {
    "colab": {
     "base_uri": "https://localhost:8080/",
     "height": 388
    },
    "id": "JEBAJycsbUu2",
    "outputId": "fff2b0f7-6193-45b4-9c9f-05e546caf003"
   },
   "outputs": [
    {
     "data": {
      "image/png": "[encoded data removed]",
      "text/plain": [
       "<Figure size 720x432 with 1 Axes>"
      ]
     },
     "metadata": {
      "needs_background": "light"
     },
     "output_type": "display_data"
    }
   ],
   "source": [
    "plt.figure(figsize = (10, 6))\n",
    "\n",
    "sns.countplot(x = 'referral', hue = 'status', data = data)\n",
    "\n",
    "plt.show()"
   ]
  },
  {
   "cell_type": "markdown",
   "id": "JXlOf4r2bUu2",
   "metadata": {
    "id": "JXlOf4r2bUu2"
   },
   "source": [
    "**Observations:**\n",
    "* There are a very less number of referrals but the conversion is high. \n",
    "* Company should try to get more leads through referrals by promoting rewards for existing customer base when they refer someone."
   ]
  },
  {
   "cell_type": "markdown",
   "id": "blfKjrSjbUu2",
   "metadata": {
    "id": "blfKjrSjbUu2"
   },
   "source": [
    "### **Part 4:** Plot the correlation heatmap and observations based on that."
   ]
  },
  {
   "cell_type": "code",
   "execution_count": null,
   "id": "K9lU2v92bUu2",
   "metadata": {
    "colab": {
     "base_uri": "https://localhost:8080/",
     "height": 512
    },
    "id": "K9lU2v92bUu2",
    "outputId": "baaaeb8e-245f-43b8-db6c-212fd913f08a"
   },
   "outputs": [
    {
     "data": {
      "image/png": "[encoded data removed]",
      "text/plain": [
       "<Figure size 864x504 with 2 Axes>"
      ]
     },
     "metadata": {
      "needs_background": "light"
     },
     "output_type": "display_data"
    }
   ],
   "source": [
    "plt.figure(figsize = (12, 7))\n",
    "\n",
    "sns.heatmap(data.corr(), annot = True, fmt = '.2f')\n",
    "\n",
    "plt.xticks(rotation=45)\n",
    "\n",
    "plt.show()"
   ]
  },
  {
   "cell_type": "markdown",
   "id": "3WcHAkSsbUu2",
   "metadata": {
    "id": "3WcHAkSsbUu2"
   },
   "source": [
    "**Observations:__**\n",
    "\n",
    "\n",
    "\n",
    "*   There is a weak positive correlation between leads' age and their customer status. Older people have more financial support to pay tuition fees than younger.\n",
    "*   There is a weak positive correlation between the time spent on website and whether the lead will convert to paid customer. The more interested peope are in the website, the more time people spend browsing the website. The more time you people browsing the web and the more they know about the site, the easier it is to convert into paid customers.\n",
    "* There is no correlation between the page views per visit and whether the lead will convert to paid customer.\n",
    "\n"
   ]
  },
  {
   "cell_type": "markdown",
   "id": "Xu20DB7rbUu3",
   "metadata": {
    "id": "Xu20DB7rbUu3"
   },
   "source": [
    "## **Data preparation for modeling**\n",
    "\n",
    "- We want to predict which lead is more likely to be converted.\n",
    "- Before we proceed to build a model, we'll have to encode categorical features.\n",
    "- We'll split the data into train and test sets to be able to evaluate the model that we build on the train data."
   ]
  },
  {
   "cell_type": "code",
   "execution_count": null,
   "id": "rzhXaBvnbUu3",
   "metadata": {
    "id": "rzhXaBvnbUu3"
   },
   "outputs": [],
   "source": [
    "# Separating the target variable and other variables\n",
    "X = data.drop(columns = 'status')\n",
    "\n",
    "Y = data['status']"
   ]
  },
  {
   "cell_type": "code",
   "execution_count": null,
   "id": "fJRssuD4bUu3",
   "metadata": {
    "id": "fJRssuD4bUu3"
   },
   "outputs": [],
   "source": [
    "# Creating dummy variables, drop_first=True is used to avoid redundant variables\n",
    "X = pd.get_dummies(X, drop_first = True)"
   ]
  },
  {
   "cell_type": "code",
   "execution_count": null,
   "id": "IhMn9qaubUu3",
   "metadata": {
    "id": "IhMn9qaubUu3"
   },
   "outputs": [],
   "source": [
    "# Splitting the data into train and test sets\n",
    "X_train, X_test, y_train, y_test = train_test_split(X, Y, test_size = 0.30, random_state = 1)"
   ]
  },
  {
   "cell_type": "markdown",
   "id": "pSv_ilUebUu3",
   "metadata": {
    "id": "pSv_ilUebUu3"
   },
   "source": [
    "**Checking the shape of the train and test data**"
   ]
  },
  {
   "cell_type": "code",
   "execution_count": null,
   "id": "RY8Y4W6IbUu3",
   "metadata": {
    "colab": {
     "base_uri": "https://localhost:8080/"
    },
    "id": "RY8Y4W6IbUu3",
    "outputId": "a1f40a98-2189-4115-c0d1-3a63bda02a8d"
   },
   "outputs": [
    {
     "name": "stdout",
     "output_type": "stream",
     "text": [
      "Shape of the training set:  (3228, 16)\n",
      "Shape of the test set:  (1384, 16)\n",
      "Percentage of classes in the training set:\n",
      "0    0.704151\n",
      "1    0.295849\n",
      "Name: status, dtype: float64\n",
      "Percentage of classes in the test set:\n",
      "0    0.695087\n",
      "1    0.304913\n",
      "Name: status, dtype: float64\n"
     ]
    }
   ],
   "source": [
    "print(\"Shape of the training set: \", X_train.shape)   \n",
    "\n",
    "print(\"Shape of the test set: \", X_test.shape)\n",
    "\n",
    "print(\"Percentage of classes in the training set:\")\n",
    "\n",
    "print(y_train.value_counts(normalize = True))\n",
    "\n",
    "print(\"Percentage of classes in the test set:\")\n",
    "\n",
    "print(y_test.value_counts(normalize = True))"
   ]
  },
  {
   "cell_type": "markdown",
   "id": "TomrKbA9bUu3",
   "metadata": {
    "id": "TomrKbA9bUu3"
   },
   "source": [
    "## **Building Classification Models**"
   ]
  },
  {
   "cell_type": "markdown",
   "id": "M_K9sqTnbUu3",
   "metadata": {
    "id": "M_K9sqTnbUu3"
   },
   "source": [
    "**Before training the model, let's choose the appropriate model evaluation criterion as per the problem at hand.**\n",
    "\n",
    "### **Model evaluation criterion**\n",
    "\n",
    "**Model can make wrong predictions as:**\n",
    "\n",
    "1. Predicting a lead will not be converted to a paid customer but, in reality, the lead would have converted to a paid customer.\n",
    "2. Predicting a lead will be converted to a paid customer but, in reality, the lead would have not converted to a paid customer. \n",
    "\n",
    "### **Which case is more important?** \n",
    "\n",
    "* If we predict that a lead will not get converted and the lead would have converted then the company will lose a potential customer. \n",
    "\n",
    "* If we predict that a lead will get converted and the lead doesn't get converted the company might lose resources by nurturing false-positive cases.\n",
    "\n",
    "Losing a potential customer is a greater loss for the organization.\n",
    "\n",
    "### **How to reduce the losses?**\n",
    "\n",
    "* Company would want `Recall` to be maximized. The greater the Recall score, higher the chances of minimizing False Negatives. "
   ]
  },
  {
   "cell_type": "markdown",
   "id": "z2186pgtbUu3",
   "metadata": {
    "id": "z2186pgtbUu3"
   },
   "source": [
    "**Also, let's create a function to calculate and print the classification report and confusion matrix so that we don't have to rewrite the same code repeatedly for each model.**"
   ]
  },
  {
   "cell_type": "code",
   "execution_count": null,
   "id": "SGUO0PbLbUu3",
   "metadata": {
    "id": "SGUO0PbLbUu3"
   },
   "outputs": [],
   "source": [
    "# Function to print the classification report and get confusion matrix in a proper format\n",
    "\n",
    "def metrics_score(actual, predicted):\n",
    "    print(classification_report(actual, predicted))\n",
    "    \n",
    "    cm = confusion_matrix(actual, predicted)\n",
    "    \n",
    "    plt.figure(figsize = (8, 5))\n",
    "    \n",
    "    sns.heatmap(cm, annot = True,  fmt = '.2f', xticklabels = ['Not Converted', 'Converted'], yticklabels = ['Not Converted', 'Converted'])\n",
    "    \n",
    "    plt.ylabel('Actual')\n",
    "    \n",
    "    plt.xlabel('Predicted')\n",
    "    \n",
    "    plt.show()"
   ]
  },
  {
   "cell_type": "markdown",
   "id": "69dtF-I-bUu3",
   "metadata": {
    "id": "69dtF-I-bUu3"
   },
   "source": [
    "### **Decision Tree**"
   ]
  },
  {
   "cell_type": "markdown",
   "id": "MT5WtH5HbUu4",
   "metadata": {
    "id": "MT5WtH5HbUu4"
   },
   "source": [
    "### **Part 5:**\n",
    "\n",
    "- **Fit the decision tree classifier on the training data (use random_state=7)**\n",
    "- **Check the performance on both training and testing datasets (use metrics_score function)**"
   ]
  },
  {
   "cell_type": "code",
   "execution_count": null,
   "id": "HdvbylCWbUu4",
   "metadata": {
    "colab": {
     "base_uri": "https://localhost:8080/"
    },
    "id": "HdvbylCWbUu4",
    "outputId": "48200cb6-10b1-4f88-e402-1fd04f1db091"
   },
   "outputs": [
    {
     "data": {
      "text/plain": [
       "DecisionTreeClassifier(random_state=7)"
      ]
     },
     "execution_count": 45,
     "metadata": {},
     "output_type": "execute_result"
    }
   ],
   "source": [
    "# Fitting the decision tree classifier on the training data\n",
    "d_tree =  tree.DecisionTreeClassifier(random_state=7)\n",
    "\n",
    "d_tree.fit(X_train,y_train)"
   ]
  },
  {
   "cell_type": "markdown",
   "id": "wGgHnKgibUu4",
   "metadata": {
    "id": "wGgHnKgibUu4"
   },
   "source": [
    "**Let's check the performance on the training data**"
   ]
  },
  {
   "cell_type": "code",
   "execution_count": null,
   "id": "WabYMGbAbUu4",
   "metadata": {
    "colab": {
     "base_uri": "https://localhost:8080/",
     "height": 495
    },
    "id": "WabYMGbAbUu4",
    "outputId": "7be21852-5930-49fc-93c2-94c01cd409f1"
   },
   "outputs": [
    {
     "name": "stdout",
     "output_type": "stream",
     "text": [
      "              precision    recall  f1-score   support\n",
      "\n",
      "           0       1.00      1.00      1.00      2273\n",
      "           1       1.00      1.00      1.00       955\n",
      "\n",
      "    accuracy                           1.00      3228\n",
      "   macro avg       1.00      1.00      1.00      3228\n",
      "weighted avg       1.00      1.00      1.00      3228\n",
      "\n"
     ]
    },
    {
     "data": {
      "image/png": "[encoded data removed]",
      "text/plain": [
       "<Figure size 576x360 with 2 Axes>"
      ]
     },
     "metadata": {
      "needs_background": "light"
     },
     "output_type": "display_data"
    }
   ],
   "source": [
    "# Checking performance on the training data\n",
    "y_pred_train1 = d_tree.predict(X_train)\n",
    "\n",
    "metrics_score(y_train,y_pred_train1)"
   ]
  },
  {
   "cell_type": "markdown",
   "id": "JOOSJwWkbUu4",
   "metadata": {
    "id": "JOOSJwWkbUu4"
   },
   "source": [
    "**Observations:_________**\n",
    "\n",
    "\n",
    "\n",
    "*   Both **precision and recall** are equal to **1**, which means there is **no** false negative and false positive in the training data. The model has performed **very well** on the training set. \n",
    "*   A decision tree will continue to grow and classify each data point correctly if no restrictions are applied, as the tree will learn all the patterns in the training set. So, it probably can overfit the training data. \n",
    "\n"
   ]
  },
  {
   "cell_type": "markdown",
   "id": "UxXqibYebUu4",
   "metadata": {
    "id": "UxXqibYebUu4"
   },
   "source": [
    "\n",
    "**Let's check the performance on test data to see if the model is overfitting.**"
   ]
  },
  {
   "cell_type": "code",
   "execution_count": null,
   "id": "QDruVpl2bUu4",
   "metadata": {
    "colab": {
     "base_uri": "https://localhost:8080/",
     "height": 495
    },
    "id": "QDruVpl2bUu4",
    "outputId": "d737166f-0f7b-4886-da8b-c77bb29b3c63",
    "scrolled": false
   },
   "outputs": [
    {
     "name": "stdout",
     "output_type": "stream",
     "text": [
      "              precision    recall  f1-score   support\n",
      "\n",
      "           0       0.87      0.86      0.87       962\n",
      "           1       0.69      0.70      0.70       422\n",
      "\n",
      "    accuracy                           0.81      1384\n",
      "   macro avg       0.78      0.78      0.78      1384\n",
      "weighted avg       0.81      0.81      0.81      1384\n",
      "\n"
     ]
    },
    {
     "data": {
      "image/png": "[encoded data removed]",
      "text/plain": [
       "<Figure size 576x360 with 2 Axes>"
      ]
     },
     "metadata": {
      "needs_background": "light"
     },
     "output_type": "display_data"
    }
   ],
   "source": [
    "# Checking performance on the testing data\n",
    "y_pred_test1 = d_tree.predict(X_test)\n",
    "metrics_score(y_test,y_pred_test1)"
   ]
  },
  {
   "cell_type": "markdown",
   "id": "zJA_C8vvbUu4",
   "metadata": {
    "id": "zJA_C8vvbUu4"
   },
   "source": [
    "✨**Observations:_________**\n",
    "\n",
    "* The decision tree works well on the training data but **not so well** on the test data as the **recall is 0.7** in comparison to 1 for the training data; and the **precision in testing data is 0.69** in comparison to 1 for the training data, which means both false negative and false positive are much **higher** than training data. \n",
    "\n",
    "* As **precision** is low, this model will **not** perform well in **differenting out** leads who can be converted to paid customer, which means it will predict a lead will not get converted even though he/she would. It will probably cause the company **lose** the potential customers. \n",
    "\n",
    "* Besides, compared with the training data, the value of **recall** on the test data is relatively low as well. The value of precision suggests that there is a **30%** chance that the model will predict the lead is going to convert to paid customer even though he/she would not. This error will cause the company **waste** their time and money on these leads who are not going to convert to paid customer.\n",
    "\n",
    "*   As the model gives a higher performance on the **training data** and performs poorly on the **testing data**, it can be said to **overftting** and is not able to generalize well on the test set.\n",
    "\n"
   ]
  },
  {
   "cell_type": "markdown",
   "id": "q1keKGSybUu4",
   "metadata": {
    "id": "q1keKGSybUu4"
   },
   "source": [
    "**Let's try hyperparameter tuning using GridSearchCV to find the optimal max_depth** to reduce overfitting of the model. We can tune some other hyperparameters as well."
   ]
  },
  {
   "cell_type": "markdown",
   "id": "kYLt0upgbUu4",
   "metadata": {
    "id": "kYLt0upgbUu4"
   },
   "source": [
    "### **Decision Tree - Hyperparameter Tuning**\n",
    "\n",
    "We will use the class_weight hyperparameter with the value equal to {0: 0.3, 1: 0.7} which is approximately the opposite of the imbalance in the original data. \n",
    "\n",
    "**This would tell the model that 1 is the important class here.**"
   ]
  },
  {
   "cell_type": "code",
   "execution_count": null,
   "id": "JB32noEcbUu4",
   "metadata": {
    "colab": {
     "base_uri": "https://localhost:8080/"
    },
    "id": "JB32noEcbUu4",
    "outputId": "422a49f0-c6e3-458b-be91-36e3f450bb72"
   },
   "outputs": [
    {
     "data": {
      "text/plain": [
       "DecisionTreeClassifier(class_weight={0: 0.3, 1: 0.7}, criterion='entropy',\n",
       "                       max_depth=3, min_samples_leaf=5, random_state=7)"
      ]
     },
     "execution_count": 56,
     "metadata": {},
     "output_type": "execute_result"
    }
   ],
   "source": [
    "# Choose the type of classifier \n",
    "d_tree_tuned = DecisionTreeClassifier(random_state = 7, class_weight = {0: 0.3, 1: 0.7})\n",
    "\n",
    "# Grid of parameters to choose from\n",
    "parameters = {'max_depth': np.arange(2, 10), \n",
    "              'criterion': ['gini', 'entropy'],\n",
    "              'min_samples_leaf': [5, 10, 20, 25]\n",
    "             }\n",
    "\n",
    "# Type of scoring used to compare parameter combinations - recall score for class 1\n",
    "scorer = metrics.make_scorer(recall_score, pos_label = 1)\n",
    "\n",
    "# Run the grid search\n",
    "grid_obj = GridSearchCV(d_tree_tuned, parameters, scoring = scorer, cv = 5)\n",
    "\n",
    "grid_obj = grid_obj.fit(X_train, y_train)\n",
    "\n",
    "# Set the classifier to the best combination of parameters\n",
    "d_tree_tuned = grid_obj.best_estimator_\n",
    "\n",
    "# Fit the best algorithm to the data\n",
    "d_tree_tuned.fit(X_train, y_train)"
   ]
  },
  {
   "cell_type": "markdown",
   "id": "BHaUqTC4bUu4",
   "metadata": {
    "id": "BHaUqTC4bUu4"
   },
   "source": [
    "We have tuned the model and fit the tuned model on the training data. Now, **let's check the model performance on the training and testing data.**"
   ]
  },
  {
   "cell_type": "markdown",
   "id": "61dpAxe1bUu5",
   "metadata": {
    "id": "61dpAxe1bUu5"
   },
   "source": [
    "### **Part 6:**\n",
    "- **Check the performance on both training and testing datasets**\n",
    "- **Compare the results with the results from the decision tree model with default parameters and write your observations**"
   ]
  },
  {
   "cell_type": "code",
   "execution_count": null,
   "id": "bJVyiToUbUu5",
   "metadata": {
    "colab": {
     "base_uri": "https://localhost:8080/",
     "height": 495
    },
    "id": "bJVyiToUbUu5",
    "outputId": "e9363905-829e-4092-8eaf-1068ffd9149e"
   },
   "outputs": [
    {
     "name": "stdout",
     "output_type": "stream",
     "text": [
      "              precision    recall  f1-score   support\n",
      "\n",
      "           0       0.94      0.77      0.85      2273\n",
      "           1       0.62      0.88      0.73       955\n",
      "\n",
      "    accuracy                           0.80      3228\n",
      "   macro avg       0.78      0.83      0.79      3228\n",
      "weighted avg       0.84      0.80      0.81      3228\n",
      "\n"
     ]
    },
    {
     "data": {
      "image/png": "[encoded data removed]",
      "text/plain": [
       "<Figure size 576x360 with 2 Axes>"
      ]
     },
     "metadata": {
      "needs_background": "light"
     },
     "output_type": "display_data"
    }
   ],
   "source": [
    "# Checking performance on the training data\n",
    "y_pred_train2 = d_tree_tuned.predict(X_train)\n",
    "\n",
    "metrics_score(y_train,y_pred_train2)"
   ]
  },
  {
   "cell_type": "markdown",
   "id": "qWY34YkJbUu5",
   "metadata": {
    "id": "qWY34YkJbUu5"
   },
   "source": [
    "✨**Observations:__________**\n",
    "\n",
    "* Due to the precision is 0.62, the model has a high chance of false positive; the model will predict the leads would not convert to paid customer even though he/she would. In this case, the company will lose potential customers.\n",
    "\n",
    "* The decision tree works not very well on training data after we used the hyperparameter; since the both the percision and recall has decreased, which means the chance of both false positive and false negative are higher than the decision tree model with default parameters. This will not help with company to reduce the losses.\n",
    "\n",
    "*  The performance on the training data has decreased which can be expected as we are trying not to overfit the training dataset."
   ]
  },
  {
   "cell_type": "markdown",
   "id": "dERLojz_bUu5",
   "metadata": {
    "id": "dERLojz_bUu5"
   },
   "source": [
    "**Let's check the model performance on the testing data**"
   ]
  },
  {
   "cell_type": "code",
   "execution_count": null,
   "id": "AjOmZSAHbUu5",
   "metadata": {
    "colab": {
     "base_uri": "https://localhost:8080/",
     "height": 495
    },
    "id": "AjOmZSAHbUu5",
    "outputId": "27106ff9-fa59-4975-be7e-bca4b4392175"
   },
   "outputs": [
    {
     "name": "stdout",
     "output_type": "stream",
     "text": [
      "              precision    recall  f1-score   support\n",
      "\n",
      "           0       0.93      0.77      0.84       962\n",
      "           1       0.62      0.86      0.72       422\n",
      "\n",
      "    accuracy                           0.80      1384\n",
      "   macro avg       0.77      0.82      0.78      1384\n",
      "weighted avg       0.83      0.80      0.80      1384\n",
      "\n"
     ]
    },
    {
     "data": {
      "image/png": "[encoded data removed]",
      "text/plain": [
       "<Figure size 576x360 with 2 Axes>"
      ]
     },
     "metadata": {
      "needs_background": "light"
     },
     "output_type": "display_data"
    }
   ],
   "source": [
    "# Checking performance on the testing data\n",
    "y_pred_test2 = d_tree_tuned.predict(X_test)\n",
    "\n",
    "metrics_score(y_test,y_pred_test2)"
   ]
  },
  {
   "cell_type": "markdown",
   "id": "pKGVQf9AbUu5",
   "metadata": {
    "id": "pKGVQf9AbUu5"
   },
   "source": [
    "**Observations:__________**\n",
    "\n",
    "* The model is giving a similar performance on test and the train data. The overfitting has reduced significantly and the modelis performaing more generlized on both training and testing data.\n",
    "\n",
    "*   We can observe that the recall for the class 1 in the testing data has increased significantly but the precision has decreased slightly compared to the model with default parameters, which is to be expected while using the hyperparameter.\n",
    "\n",
    "*   The average recall and precision for the model are better than the model with default parameters but let's see if we can get even better performance using other algorithms.\n",
    "\n"
   ]
  },
  {
   "cell_type": "markdown",
   "id": "zgXArHTzbUu5",
   "metadata": {
    "id": "zgXArHTzbUu5"
   },
   "source": [
    "**Let's visualize the tuned decision tree** and observe the decision rules:"
   ]
  },
  {
   "cell_type": "markdown",
   "id": "8hbW1IOJbUu5",
   "metadata": {
    "id": "8hbW1IOJbUu5"
   },
   "source": [
    "### **Part 7:** \n",
    "### The observations from the below visualization of the tuned decision tree."
   ]
  },
  {
   "cell_type": "code",
   "execution_count": null,
   "id": "TJC9NjVAbUu5",
   "metadata": {
    "colab": {
     "base_uri": "https://localhost:8080/",
     "height": 1000
    },
    "id": "TJC9NjVAbUu5",
    "outputId": "8a6cae8d-0866-416c-cfe1-cf41f75e3917"
   },
   "outputs": [
    {
     "data": {
      "image/png": "[encoded data removed]",
      "text/plain": [
       "<Figure size 1440x1440 with 1 Axes>"
      ]
     },
     "metadata": {
      "needs_background": "light"
     },
     "output_type": "display_data"
    }
   ],
   "source": [
    "features = list(X.columns)\n",
    "\n",
    "plt.figure(figsize = (20, 20))\n",
    "\n",
    "tree.plot_tree(d_tree_tuned, feature_names = features, filled = True, fontsize = 9, node_ids = True, class_names = True)\n",
    "\n",
    "plt.show()"
   ]
  },
  {
   "cell_type": "markdown",
   "id": "7LN4Ytt0bUu5",
   "metadata": {
    "id": "7LN4Ytt0bUu5"
   },
   "source": [
    "**Note:** Blue leaves represent the converted leads, i.e., **y[1]**, while the orange leaves represent the not converted leads, i.e., **y[0]**. Also, the more the number of observations in a leaf, the darker its color gets.\n",
    "\n",
    "**Observations:**\n",
    "\n",
    "\n",
    "*   The first split in the decision tree is first interaction with websites which implies that is one of the most important factors in deciding whether the lead will pay or not.\n",
    "\n",
    "*   As per decision rules, people who's first interaction is not with websites are less likely to be converted to paid customers.\n",
    "\n",
    "*  People who spent less than 415.5 seconds on website are less likely to convert to paid customer.\n",
    "\n",
    "* People who spent more than 415.5 seconds on website and the last activity is on website (interacted on live chat with a representative, updated profile) are more likey to convert paid customer.\n",
    "\n",
    "* People who's first interaction is with website and spent more than 419.5 seconds on the website and the age is greater than 25 years old are more likely to convert to paid customer.\n",
    "\n",
    "* People who completed more than 75% of profile are less likely to convert to paid customer.\n",
    "\n"
   ]
  },
  {
   "cell_type": "markdown",
   "id": "pJvn-oZCbUu5",
   "metadata": {
    "id": "pJvn-oZCbUu5"
   },
   "source": [
    "**Let's look at the feature importance** of the tuned decision tree model"
   ]
  },
  {
   "cell_type": "markdown",
   "id": "53cvm2DSFy6D",
   "metadata": {
    "id": "53cvm2DSFy6D"
   },
   "source": []
  },
  {
   "cell_type": "code",
   "execution_count": null,
   "id": "XBMsDmUNbUu5",
   "metadata": {
    "colab": {
     "base_uri": "https://localhost:8080/"
    },
    "id": "XBMsDmUNbUu5",
    "outputId": "3c50c8d6-bd05-4b6d-d174-dec844d8e68e"
   },
   "outputs": [
    {
     "name": "stdout",
     "output_type": "stream",
     "text": [
      "                                     Imp\n",
      "time_spent_on_website           0.348142\n",
      "first_interaction_Website       0.327181\n",
      "profile_completed_Medium        0.239274\n",
      "age                             0.063893\n",
      "last_activity_Website Activity  0.021511\n",
      "website_visits                  0.000000\n",
      "page_views_per_visit            0.000000\n",
      "current_occupation_Student      0.000000\n",
      "current_occupation_Unemployed   0.000000\n",
      "profile_completed_Low           0.000000\n",
      "last_activity_Phone Activity    0.000000\n",
      "print_media_type1_Yes           0.000000\n",
      "print_media_type2_Yes           0.000000\n",
      "digital_media_Yes               0.000000\n",
      "educational_channels_Yes        0.000000\n",
      "referral_Yes                    0.000000\n"
     ]
    }
   ],
   "source": [
    "# Importance of features in the tree building\n",
    "\n",
    "print (pd.DataFrame(d_tree_tuned.feature_importances_, columns = [\"Imp\"], index = X_train.columns).sort_values(by = 'Imp', ascending = False))"
   ]
  },
  {
   "cell_type": "code",
   "execution_count": null,
   "id": "1rtz8vEObUu6",
   "metadata": {
    "colab": {
     "base_uri": "https://localhost:8080/",
     "height": 621
    },
    "id": "1rtz8vEObUu6",
    "outputId": "abd255c0-482e-4d2d-dc99-46a715210b1b"
   },
   "outputs": [
    {
     "data": {
      "image/png": "[encoded data removed]",
      "text/plain": [
       "<Figure size 720x720 with 1 Axes>"
      ]
     },
     "metadata": {
      "needs_background": "light"
     },
     "output_type": "display_data"
    }
   ],
   "source": [
    "# Plotting the feature importance\n",
    "importances = d_tree_tuned.feature_importances_\n",
    "\n",
    "indices = np.argsort(importances)\n",
    "\n",
    "plt.figure(figsize = (10, 10))\n",
    "\n",
    "plt.title('Feature Importances')\n",
    "\n",
    "plt.barh(range(len(indices)), importances[indices], color = 'violet', align = 'center')\n",
    "\n",
    "plt.yticks(range(len(indices)), [features[i] for i in indices])\n",
    "\n",
    "plt.xlabel('Relative Importance')\n",
    "\n",
    "plt.show()"
   ]
  },
  {
   "cell_type": "markdown",
   "id": "P-IwmFWobUu6",
   "metadata": {
    "id": "P-IwmFWobUu6"
   },
   "source": [
    "**Observations:**\n",
    "- **Time spent on the website and first_interaction_website are the most important features** **followed by profile_completed, age, and last_activity**.\n",
    "- **The rest of the variables have no impact in this model, while deciding whether a lead will be converted or not**.\n",
    "\n",
    "Now, let's build another model - **a random forest classifier.**"
   ]
  },
  {
   "cell_type": "markdown",
   "id": "KwFSZtL0bUu6",
   "metadata": {
    "id": "KwFSZtL0bUu6"
   },
   "source": [
    "### **Random Forest Classifier**"
   ]
  },
  {
   "cell_type": "markdown",
   "id": "be2hcYpYbUu6",
   "metadata": {
    "id": "be2hcYpYbUu6"
   },
   "source": [
    "### **Part 8:** \n",
    "- **Fit the random forest classifier on the training data (use random_state = 7)**\n",
    "- **Check the performance on both training and testing data (use metrics_score function)**"
   ]
  },
  {
   "cell_type": "code",
   "execution_count": null,
   "id": "6WOeHyvpbUu6",
   "metadata": {
    "colab": {
     "base_uri": "https://localhost:8080/"
    },
    "id": "6WOeHyvpbUu6",
    "outputId": "41cd9a46-468f-4833-eff8-b3ca54044c9c"
   },
   "outputs": [
    {
     "data": {
      "text/plain": [
       "RandomForestClassifier(criterion='entropy', random_state=7)"
      ]
     },
     "execution_count": 65,
     "metadata": {},
     "output_type": "execute_result"
    }
   ],
   "source": [
    "# Fitting the random forest tree classifier on the training data\n",
    "rf_estimator = RandomForestClassifier(random_state=7, criterion='entropy')\n",
    "\n",
    "rf_estimator.fit(X_train,y_train)"
   ]
  },
  {
   "cell_type": "markdown",
   "id": "i_Vsnd3ZbUu6",
   "metadata": {
    "id": "i_Vsnd3ZbUu6"
   },
   "source": [
    "**Let's check the performance of the model on the training data**"
   ]
  },
  {
   "cell_type": "code",
   "execution_count": null,
   "id": "PYjXdwI0bUu6",
   "metadata": {
    "colab": {
     "base_uri": "https://localhost:8080/",
     "height": 495
    },
    "id": "PYjXdwI0bUu6",
    "outputId": "e0e55052-37ae-4a32-8246-62d178296b32"
   },
   "outputs": [
    {
     "name": "stdout",
     "output_type": "stream",
     "text": [
      "              precision    recall  f1-score   support\n",
      "\n",
      "           0       1.00      1.00      1.00      2273\n",
      "           1       1.00      1.00      1.00       955\n",
      "\n",
      "    accuracy                           1.00      3228\n",
      "   macro avg       1.00      1.00      1.00      3228\n",
      "weighted avg       1.00      1.00      1.00      3228\n",
      "\n"
     ]
    },
    {
     "data": {
      "image/png": "[encoded data removed]",
      "text/plain": [
       "<Figure size 576x360 with 2 Axes>"
      ]
     },
     "metadata": {
      "needs_background": "light"
     },
     "output_type": "display_data"
    }
   ],
   "source": [
    "# Checking performance on the training data\n",
    "y_pred_train3 = rf_estimator.predict(X_train)\n",
    "metrics_score(y_train,y_pred_train3)"
   ]
  },
  {
   "cell_type": "markdown",
   "id": "c61n2FE0bUu6",
   "metadata": {
    "id": "c61n2FE0bUu6"
   },
   "source": [
    "**Observations:________**\n",
    "\n",
    "* Similar to the decision tree, both precision and recall are equal to 1, which means there is no false positive and false negative in the training data. The random forest is giving a perfect performance on the training data.\n",
    "\n",
    "* The random forest classifier seems to be overfitting the training data as we observed for the decision tree."
   ]
  },
  {
   "cell_type": "markdown",
   "id": "piYxX7INbUu6",
   "metadata": {
    "id": "piYxX7INbUu6"
   },
   "source": [
    "**Let's check the performance on the testing data**"
   ]
  },
  {
   "cell_type": "code",
   "execution_count": null,
   "id": "LoqbVmZybUu6",
   "metadata": {
    "colab": {
     "base_uri": "https://localhost:8080/",
     "height": 495
    },
    "id": "LoqbVmZybUu6",
    "outputId": "ab8d2e43-7b17-4598-ee94-7e7e7f155a92"
   },
   "outputs": [
    {
     "name": "stdout",
     "output_type": "stream",
     "text": [
      "              precision    recall  f1-score   support\n",
      "\n",
      "           0       0.88      0.93      0.90       962\n",
      "           1       0.81      0.70      0.75       422\n",
      "\n",
      "    accuracy                           0.86      1384\n",
      "   macro avg       0.84      0.81      0.83      1384\n",
      "weighted avg       0.86      0.86      0.86      1384\n",
      "\n"
     ]
    },
    {
     "data": {
      "image/png": "[encoded data removed]",
      "text/plain": [
       "<Figure size 576x360 with 2 Axes>"
      ]
     },
     "metadata": {
      "needs_background": "light"
     },
     "output_type": "display_data"
    }
   ],
   "source": [
    "# Checking performance on the testing data\n",
    "y_pred_test3 = rf_estimator.predict(X_test)\n",
    "metrics_score(y_test,y_pred_test3)"
   ]
  },
  {
   "cell_type": "markdown",
   "id": "X3UVBdIlbUu6",
   "metadata": {
    "id": "X3UVBdIlbUu6"
   },
   "source": [
    "✨**Observations:____**\n",
    "\n",
    "* The random forest works well on the training data but no so well on the testing data as the recall decreased 30% and the precision decreased 19% compared to the training data. Thus, the false negative and false postive are much higher than the training data. \n",
    "\n",
    "* Due to the value of recall in testing data is much lower than the training data. In this case, the company will predict the lead will be converted to a paid customer but, in reality the lead would have not. This will cause the company waste the time and money to some extent.\n",
    "\n",
    "* Even though the performance of the testing data is not as perfect as the training data, the testing accuracy is 86%, we can say the model is performing well and do not get overfitted.\n",
    "\n",
    "* Compared to the decision tree, the results from random forest classifer were decent on the testing data, as the f1-score and the accuracy are higher than the testing data in the decision tree. \n",
    "\n",
    "* Compared to the decision tree, the random forest algorithms reduced the overfitting to some extent. "
   ]
  },
  {
   "cell_type": "markdown",
   "id": "c9kP3C9kbUu6",
   "metadata": {
    "id": "c9kP3C9kbUu6"
   },
   "source": [
    "**Let's see if we can get a better model by tuning the random forest classifier**"
   ]
  },
  {
   "cell_type": "markdown",
   "id": "k9Azx56GbUu6",
   "metadata": {
    "id": "k9Azx56GbUu6"
   },
   "source": [
    "### **Random Forest Classifier - Hyperparameter Tuning**"
   ]
  },
  {
   "cell_type": "markdown",
   "id": "hXy-Tb7xbUu7",
   "metadata": {
    "id": "hXy-Tb7xbUu7"
   },
   "source": [
    "Let's try **tuning some of the important hyperparameters of the Random Forest Classifier**. \n",
    "\n",
    "We will **not** tune the `criterion` hyperparameter as we know from hyperparameter tuning for decision trees that `entropy` is a better splitting criterion for this data."
   ]
  },
  {
   "cell_type": "code",
   "execution_count": null,
   "id": "3bQeJSVYbUu7",
   "metadata": {
    "id": "3bQeJSVYbUu7"
   },
   "outputs": [],
   "source": [
    "# Choose the type of classifier\n",
    "rf_estimator_tuned = RandomForestClassifier(criterion = \"entropy\", random_state = 7)\n",
    "\n",
    "# Grid of parameters to choose from\n",
    "parameters = {\"n_estimators\": [100, 110, 120],\n",
    "    \"max_depth\": [5, 6, 7],\n",
    "    \"max_features\": [0.8, 0.9, 1]\n",
    "             }\n",
    "\n",
    "# Type of scoring used to compare parameter combinations - recall score for class 1\n",
    "scorer = metrics.make_scorer(recall_score, pos_label = 1)\n",
    "\n",
    "# Run the grid search\n",
    "grid_obj = GridSearchCV(rf_estimator_tuned, parameters, scoring = scorer, cv = 5)\n",
    "\n",
    "grid_obj = grid_obj.fit(X_train, y_train)\n",
    "\n",
    "# Set the classifier to the best combination of parameters\n",
    "rf_estimator_tuned = grid_obj.best_estimator_"
   ]
  },
  {
   "cell_type": "code",
   "execution_count": null,
   "id": "u97HCcPMbUu7",
   "metadata": {
    "colab": {
     "base_uri": "https://localhost:8080/"
    },
    "id": "u97HCcPMbUu7",
    "outputId": "abb28a79-c0ea-4503-955e-d368a0e00bdb"
   },
   "outputs": [
    {
     "data": {
      "text/plain": [
       "RandomForestClassifier(criterion='entropy', max_depth=6, max_features=0.8,\n",
       "                       n_estimators=110, random_state=7)"
      ]
     },
     "execution_count": 69,
     "metadata": {},
     "output_type": "execute_result"
    }
   ],
   "source": [
    "# Fitting the best algorithm to the training data\n",
    "rf_estimator_tuned.fit(X_train, y_train)"
   ]
  },
  {
   "cell_type": "code",
   "execution_count": null,
   "id": "Cnd2k48_bUu7",
   "metadata": {
    "colab": {
     "base_uri": "https://localhost:8080/",
     "height": 495
    },
    "id": "Cnd2k48_bUu7",
    "outputId": "00dd171a-4625-40f4-a9ed-36042742c6f2"
   },
   "outputs": [
    {
     "name": "stdout",
     "output_type": "stream",
     "text": [
      "              precision    recall  f1-score   support\n",
      "\n",
      "           0       0.91      0.92      0.91      2273\n",
      "           1       0.80      0.78      0.79       955\n",
      "\n",
      "    accuracy                           0.88      3228\n",
      "   macro avg       0.86      0.85      0.85      3228\n",
      "weighted avg       0.88      0.88      0.88      3228\n",
      "\n"
     ]
    },
    {
     "data": {
      "image/png": "[encoded data removed]",
      "text/plain": [
       "<Figure size 576x360 with 2 Axes>"
      ]
     },
     "metadata": {
      "needs_background": "light"
     },
     "output_type": "display_data"
    }
   ],
   "source": [
    "# Checking performance on the training data\n",
    "y_pred_train4 = rf_estimator_tuned.predict(X_train)\n",
    "\n",
    "metrics_score(y_train, y_pred_train4)"
   ]
  },
  {
   "cell_type": "markdown",
   "id": "13ugULmObUu7",
   "metadata": {
    "id": "13ugULmObUu7"
   },
   "source": [
    "**Observations:**\n",
    "- We can see that if we use entropy method to help us build an appropriate random forest, the precision and recall decreased significantly compared with the random forest classifier. That will increase the losses for company. We can say that the model is performing poorly on the train data.\n",
    "\n",
    "- We can try adding some other hyperparameters and/or changing values of some hyperparameters to tune the model and see if we can get better performance.\n",
    "\n",
    "**Note:** **GridSearchCV can take a long time to run** depending on the number of hyperparameters and the number of values tried for each hyperparameter. **Therefore, we have reduced the number of values passed to each hyperparameter.** "
   ]
  },
  {
   "cell_type": "markdown",
   "id": "QTk9iKukbUu7",
   "metadata": {
    "id": "QTk9iKukbUu7"
   },
   "source": [
    "### **Part 9:**\n",
    "- **Tune the random forest classifier using GridSearchCV**\n",
    "- **Check the performance on both training and testing datasets**\n",
    "- **Compare the results with the results from the random forest model with default parameters**"
   ]
  },
  {
   "cell_type": "markdown",
   "id": "nkv93aOnbUu7",
   "metadata": {
    "id": "nkv93aOnbUu7"
   },
   "source": [
    "**Note:** The below code might take some time to run depending on your system's configuration."
   ]
  },
  {
   "cell_type": "code",
   "execution_count": null,
   "id": "fhO7_cHXbUu7",
   "metadata": {
    "colab": {
     "base_uri": "https://localhost:8080/"
    },
    "id": "fhO7_cHXbUu7",
    "outputId": "28c9a37b-c398-456f-e3e3-7fd2bb6f5f65"
   },
   "outputs": [
    {
     "data": {
      "text/plain": [
       "RandomForestClassifier(class_weight='balanced', criterion='entropy',\n",
       "                       max_depth=6, max_features=0.8, max_samples=0.9,\n",
       "                       min_samples_leaf=25, n_estimators=120, random_state=7)"
      ]
     },
     "execution_count": 71,
     "metadata": {},
     "output_type": "execute_result"
    }
   ],
   "source": [
    "# Choose the type of classifier \n",
    "rf_estimator_tuned = RandomForestClassifier(criterion = \"entropy\", random_state = 7)\n",
    "\n",
    "# Grid of parameters to choose from\n",
    "parameters = {\"n_estimators\": [110, 120],\n",
    "    \"max_depth\": [6, 7],\n",
    "    \"min_samples_leaf\": [20, 25],\n",
    "    \"max_features\": [0.8, 0.9],\n",
    "    \"max_samples\": [0.9, 1],\n",
    "    \"class_weight\": [\"balanced\",{0: 0.3, 1: 0.7}]\n",
    "             }\n",
    "\n",
    "# Type of scoring used to compare parameter combinations - recall score for class 1\n",
    "scorer = metrics.make_scorer(recall_score, pos_label = 1)\n",
    "\n",
    "# Run the grid search on the training data using scorer=scorer and cv=5\n",
    "grid_obj = GridSearchCV(rf_estimator_tuned, parameters, scoring=scorer, cv=5)\n",
    "\n",
    "grid_obj = grid_obj.fit(X_train, y_train)\n",
    "\n",
    "# Save the best estimator to variable rf_estimator_tuned\n",
    "rf_estimator_tuned = grid_obj.best_estimator_\n",
    "\n",
    "#Fit the best estimator to the training data\n",
    "rf_estimator_tuned.fit(X_train,y_train)"
   ]
  },
  {
   "cell_type": "markdown",
   "id": "79_CPByFbUu7",
   "metadata": {
    "id": "79_CPByFbUu7"
   },
   "source": [
    "**Let's check the performance of the tuned model**"
   ]
  },
  {
   "cell_type": "code",
   "execution_count": null,
   "id": "rKaKpXdabUu7",
   "metadata": {
    "colab": {
     "base_uri": "https://localhost:8080/",
     "height": 495
    },
    "id": "rKaKpXdabUu7",
    "outputId": "86b0401c-bfc5-477b-ee92-8000f97e3e24"
   },
   "outputs": [
    {
     "name": "stdout",
     "output_type": "stream",
     "text": [
      "              precision    recall  f1-score   support\n",
      "\n",
      "           0       0.94      0.83      0.88      2273\n",
      "           1       0.68      0.87      0.76       955\n",
      "\n",
      "    accuracy                           0.84      3228\n",
      "   macro avg       0.81      0.85      0.82      3228\n",
      "weighted avg       0.86      0.84      0.84      3228\n",
      "\n"
     ]
    },
    {
     "data": {
      "image/png": "[encoded data removed]",
      "text/plain": [
       "<Figure size 576x360 with 2 Axes>"
      ]
     },
     "metadata": {
      "needs_background": "light"
     },
     "output_type": "display_data"
    }
   ],
   "source": [
    "# Checking performance on the training data\n",
    "y_pred_train5 = rf_estimator_tuned.predict(X_train)\n",
    "\n",
    "metrics_score(y_train,y_pred_train5)"
   ]
  },
  {
   "cell_type": "markdown",
   "id": "UQhzlWFXbUu7",
   "metadata": {
    "id": "UQhzlWFXbUu7"
   },
   "source": [
    "**Observations:________**\n",
    "\n",
    "* The precision and recall of the training data decreased 32% and 13% relatively, compared with the model with default parameters. This means both the chance of false positive and false negative are much higher than the model with default parameters. \n",
    "\n",
    "* As the precision is much lower than the model with fault parameters, we can say that the chance of false positive increased and the company has a high probability to predict a lead will not get converted but, in reality, the lead would. In this case, thee company will lose a potention customer. \n",
    "\n",
    "* The training accuracy is 84% and the f1-score is 76%, compared with the model with default parameters, the performance of tuned model is relatively worse than the model with default paramenters. "
   ]
  },
  {
   "cell_type": "markdown",
   "id": "c64KmabEbUu7",
   "metadata": {
    "id": "c64KmabEbUu7"
   },
   "source": [
    "**Let's check the model performance on the test data**"
   ]
  },
  {
   "cell_type": "code",
   "execution_count": null,
   "id": "9wtRtRdrbUu7",
   "metadata": {
    "colab": {
     "base_uri": "https://localhost:8080/",
     "height": 495
    },
    "id": "9wtRtRdrbUu7",
    "outputId": "b5c34d49-2edd-4b9f-8044-9d65b9195967"
   },
   "outputs": [
    {
     "name": "stdout",
     "output_type": "stream",
     "text": [
      "              precision    recall  f1-score   support\n",
      "\n",
      "           0       0.93      0.83      0.87       962\n",
      "           1       0.68      0.85      0.76       422\n",
      "\n",
      "    accuracy                           0.83      1384\n",
      "   macro avg       0.81      0.84      0.82      1384\n",
      "weighted avg       0.85      0.83      0.84      1384\n",
      "\n"
     ]
    },
    {
     "data": {
      "image/png": "[encoded data removed]",
      "text/plain": [
       "<Figure size 576x360 with 2 Axes>"
      ]
     },
     "metadata": {
      "needs_background": "light"
     },
     "output_type": "display_data"
    }
   ],
   "source": [
    "# Checking performance on the test data\n",
    "y_pred_test5 = rf_estimator_tuned.predict(X_test)\n",
    "\n",
    "metrics_score(y_test,y_pred_test5)"
   ]
  },
  {
   "cell_type": "markdown",
   "id": "9KVrOjLNbUu8",
   "metadata": {
    "id": "9KVrOjLNbUu8"
   },
   "source": [
    "**Observations:___________**\n",
    "\n",
    "* The model is giving a similar performance on test and the train data.\n",
    "\n",
    "\n",
    "* Compared with the model with default parameters, the percision for class 1 has significantly decreased from 0.81 to 0.68 and the recall has slightly increased from 0.7 to 0.76. But the average of recall and percision (f1-score) remained the same. \n",
    "\n",
    "* The f1-score and the accuracy of this model and the model with default parmeters are similar with each other. \n",
    "\n",
    "* Both model can be potential models for identifying the lead who is going to convert to the paid customer.\n",
    "\n"
   ]
  },
  {
   "cell_type": "markdown",
   "id": "FCXFNjNZbUu8",
   "metadata": {
    "id": "FCXFNjNZbUu8"
   },
   "source": [
    "**One of the drawbacks of ensemble models is that we lose the ability to obtain an interpretation of the model. We cannot observe the decision rules for random forests the way we did for decision trees. So, let's just check the feature importance of the model.**"
   ]
  },
  {
   "cell_type": "code",
   "execution_count": null,
   "id": "YU8sIgFpbUu8",
   "metadata": {
    "colab": {
     "base_uri": "https://localhost:8080/",
     "height": 730
    },
    "id": "YU8sIgFpbUu8",
    "outputId": "fb7e0026-437c-4006-9aca-d10c8edb3479"
   },
   "outputs": [
    {
     "data": {
      "image/png": "[encoded data removed]",
      "text/plain": [
       "<Figure size 864x864 with 1 Axes>"
      ]
     },
     "metadata": {
      "needs_background": "light"
     },
     "output_type": "display_data"
    }
   ],
   "source": [
    "importances = rf_estimator_tuned.feature_importances_\n",
    "\n",
    "indices = np.argsort(importances)\n",
    "\n",
    "feature_names = list(X.columns)\n",
    "\n",
    "plt.figure(figsize = (12, 12))\n",
    "\n",
    "plt.title('Feature Importances')\n",
    "\n",
    "plt.barh(range(len(indices)), importances[indices], color = 'violet', align = 'center')\n",
    "\n",
    "plt.yticks(range(len(indices)), [feature_names[i] for i in indices])\n",
    "\n",
    "plt.xlabel('Relative Importance')\n",
    "\n",
    "plt.show()"
   ]
  },
  {
   "cell_type": "markdown",
   "id": "EdkbDa1KbUu8",
   "metadata": {
    "id": "EdkbDa1KbUu8"
   },
   "source": [
    "**Observations:**\n",
    "- Similar to the decision tree model, **time spent on website, first_interaction_website, profile_completed, and age are the top four features** that help distinguish between not converted and converted leads.\n",
    "- Unlike the decision tree, **the random forest gives some importance to other variables like occupation, page_views_per_visit, as well.** This implies that the random forest is giving importance to more factors in comparison to the decision tree."
   ]
  },
  {
   "cell_type": "markdown",
   "id": "hUZypLN4bUu8",
   "metadata": {
    "id": "hUZypLN4bUu8"
   },
   "source": [
    "## **Conclusion and Recommendations**"
   ]
  },
  {
   "cell_type": "markdown",
   "id": "1jMEaFVobUu8",
   "metadata": {
    "id": "1jMEaFVobUu8"
   },
   "source": [
    "### **Part 10:**\n"
   ]
  },
  {
   "cell_type": "markdown",
   "id": "jtGwFMeXbUu8",
   "metadata": {
    "id": "jtGwFMeXbUu8"
   },
   "source": [
    "***Conclusions:________***\n",
    "\n",
    "* We have been able to build tree-based models that can be used by the company to predict and identify lead who are more likely to be converted to paid customer and know the important promotion method accordingly. \n",
    "\n",
    "* The tuned random forest model is the best model we have got so far, which is giving the highest F1 score of 76% and the macro average of 82% on the test data.\n",
    "\n",
    "* Looking at important variables, based on the feature importances, we can say that first_interaction, time_spent_on_website, age, last_activity_website activity and profile_completed, are the major drivers of the model.\n",
    "\n",
    "* The decision tree model is highly overfitting the training data and gives an F1 score of 70% on the test data. For the tuned decision tree model, the overfitting has reduced significantly and the models performing more generlized on both training and testing data.\n",
    "\n",
    "* Using the tuned random forest model which has a 76% F1 score on both test and training data with balanced precision and recall sources, and also solves the overfitting problem. The company will be able to identify the leads who are going to convert to paid customer, and maximize the profits. "
   ]
  },
  {
   "cell_type": "markdown",
   "id": "yXWgHqWgbUu8",
   "metadata": {
    "id": "yXWgHqWgbUu8"
   },
   "source": [
    "### **Business Recommendations_____**\n",
    "\n",
    "1. The way of the first interaction can play a key role in identifying whether a lead will be converted to a paid customer or not. We observed that the lead who's first interact with ExtraLearn is by website are more likely to be converted to paid customer.\n",
    "   * The company can increase the numnber of ads to make more students and professionals aware of the details of the training. For example, put ads on youtube, let more people click on the website to learn about the course, thereby promoting the conversion of potential customers into paying customers. \n",
    "\n",
    "2. The company can add more content and sections to the site (like GreatLearning), to increase the time that people spent on their website. We observed that the more time people spend on the website, the more likelihood to be converted to paid customer. Thereby, it is extremely important to increase the interest of website content. \n",
    "   * ExtraLearn can publish the reviews of previous students on the website, post the recognition by professionals in the tech industry, and add the communitites sector to encourage more communications between lead and paid customers etc.\n",
    "\n",
    "3. The company can give discounts to certain groups of people, to expand the different group of people to be converted to the paid customers.\n",
    "    * We observed that people who are less than 25 years old are less likely to be converted to paid customer. Part of the reason may be that students and new graduate students do not have enough financial support to offord the tuition. \n",
    "    * ExtraLearn could give students and low-income group 20%-40% off, which can help in improving the conversion rate of the young group of people.\n",
    "\n",
    "4. The company should improve the quality and professionalism of its courses.\n",
    "\n",
    "    * Websites can hire more professional and well-known people to act as lecturers, thereby increasing leads' interests and trusts.\n",
    "\n",
    "5. Websites can provide customers with high-quality and professional services by improving customer service attitudes.\n",
    "\n",
    "   *  We found that many customers who convert into paid customers have had experience with customer service on the website, so the professionalism of customer service is particularly important.\n",
    "\n",
    "6. Increasing the stickiness between customers and the website and improve the experience of repeated customers.\n",
    "   *  Although we have not recorded relevant data on referrals, but from a common sense analysis, repeat customers are extremely important to the operation of educational websites, because they can help spread word of mouth, and there is almost no marketing cost.\n"
   ]
  }
 ],
 "metadata": {
  "colab": {
   "collapsed_sections": [
    "pxpam5UxbUuy",
    "69dtF-I-bUu3",
    "KwFSZtL0bUu6",
    "yXWgHqWgbUu8"
   ],
   "provenance": []
  },
  "kernelspec": {
   "display_name": "Python 3 (ipykernel)",
   "language": "python",
   "name": "python3"
  },
  "language_info": {
   "codemirror_mode": {
    "name": "ipython",
    "version": 3
   },
   "file_extension": ".py",
   "mimetype": "text/x-python",
   "name": "python",
   "nbconvert_exporter": "python",
   "pygments_lexer": "ipython3",
   "version": "3.9.12"
  }
 },
 "nbformat": 4,
 "nbformat_minor": 5
}
